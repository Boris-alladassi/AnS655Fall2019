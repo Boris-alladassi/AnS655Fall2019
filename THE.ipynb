{
 "cells": [
  {
   "cell_type": "markdown",
   "metadata": {},
   "source": [
    "1 . For each of the following, a) describe how it is used in general and b) give an example how it was used in this class.\n",
    "\n",
    "    1. boolean expression\n",
    "\n",
    "    2. ternary operator\n",
    "\n",
    "    3. remainder operator\n",
    "\n",
    "    4. sortperm function\n",
    "\n",
    "    5. loops\n",
    "\n",
    "    6. functions\n",
    "\n",
    "    7. sparse matrices\n",
    "\n",
    "    8. dictionaries\n",
    "\n",
    "    9. composite types\n",
    "    \n",
    "    10. list comprehensions\n",
    "    \n",
    "    \n",
    "2. What is multiple dispatch? Give and example from class.\n",
    "\n",
    "3. Give an example from class of a fucntion with optional arguments with a brief explanation of the concept.\n",
    "\n",
    "4. What are keyword arguments? Give an example from class with a brief explanation.\n",
    "\n",
    "5. What is a recursive function. Give an example from class with a brief explanation.\n",
    "\n",
    "5. Explain the output of the two functions given below. Explain why the second function is faster?"
   ]
  },
  {
   "cell_type": "code",
   "execution_count": 15,
   "metadata": {},
   "outputs": [
    {
     "data": {
      "text/plain": [
       "diagMPM1 (generic function with 1 method)"
      ]
     },
     "execution_count": 15,
     "metadata": {},
     "output_type": "execute_result"
    }
   ],
   "source": [
    "M = rand(1_000_000,250);\n",
    "\n",
    "function diagMPM(M)\n",
    "    p = size(M,2)\n",
    "    d = zeros(p)\n",
    "    for i=1:p     \n",
    "        d[i] = M[:,i]'M[:,i]\n",
    "    end\n",
    "    return d\n",
    "end\n",
    "function diagMPM1(M)\n",
    "    p = size(M,2)\n",
    "    d = zeros(p)\n",
    "    for i=1:p\n",
    "        m = @view M[:,i]\n",
    "        d[i] = m'm\n",
    "    end\n",
    "    return d\n",
    "end"
   ]
  },
  {
   "cell_type": "code",
   "execution_count": 18,
   "metadata": {},
   "outputs": [
    {
     "name": "stdout",
     "output_type": "stream",
     "text": [
      "  4.838981 seconds (1.00 k allocations: 3.725 GiB, 14.15% gc time)\n"
     ]
    }
   ],
   "source": [
    "@time diagMPM(M);"
   ]
  },
  {
   "cell_type": "code",
   "execution_count": 19,
   "metadata": {},
   "outputs": [
    {
     "name": "stdout",
     "output_type": "stream",
     "text": [
      "  0.567727 seconds (255 allocations: 14.000 KiB)\n"
     ]
    }
   ],
   "source": [
    "@time diagMPM1(M);"
   ]
  }
 ],
 "metadata": {
  "kernelspec": {
   "display_name": "Julia 1.1.0",
   "language": "julia",
   "name": "julia-1.1"
  },
  "language_info": {
   "file_extension": ".jl",
   "mimetype": "application/julia",
   "name": "julia",
   "version": "1.1.0"
  }
 },
 "nbformat": 4,
 "nbformat_minor": 2
}
