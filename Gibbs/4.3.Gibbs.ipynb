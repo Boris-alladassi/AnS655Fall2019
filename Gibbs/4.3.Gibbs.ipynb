{
 "cells": [
  {
   "cell_type": "code",
   "execution_count": 27,
   "metadata": {},
   "outputs": [
    {
     "name": "stdout",
     "output_type": "stream",
     "text": [
      "\u001b[32m\u001b[1m Resolving\u001b[22m\u001b[39m package versions...\n",
      "\u001b[32m\u001b[1m  Updating\u001b[22m\u001b[39m `/opt/julia/environments/v1.1/Project.toml`\n",
      " \u001b[90m [92933f4c]\u001b[39m\u001b[92m + ProgressMeter v1.1.0\u001b[39m\n",
      "\u001b[32m\u001b[1m  Updating\u001b[22m\u001b[39m `/opt/julia/environments/v1.1/Manifest.toml`\n",
      "\u001b[90m [no changes]\u001b[39m\n"
     ]
    }
   ],
   "source": [
    "using Pkg\n",
    "#Pkg.add(\"NBInclude\")\n",
    "#Pkg.add(\"ProgressMeter\")"
   ]
  },
  {
   "cell_type": "markdown",
   "metadata": {},
   "source": [
    "Latex Macros:\n",
    "$$\n",
    "\\newcommand{\\E}{\\text{E}}\n",
    "\\newcommand{\\mbf}{\\mathbf}\n",
    "\\newcommand{\\bs}{\\boldsymbol}\n",
    "\\newcommand{\\Cov}{\\text{Cov}}\n",
    "\\newcommand{\\Var}{\\text{Var}}\n",
    "\\newcommand{\\Cov}{\\text{Cov}}\n",
    "\\newcommand{\\A}[1]{\\mathbf{A}_{#1}}\n",
    "\\newcommand{\\Ai}[1]{\\mathbf{A}^{#1}}\n",
    "$$"
   ]
  },
  {
   "cell_type": "code",
   "execution_count": 1,
   "metadata": {},
   "outputs": [
    {
     "data": {
      "application/javascript": [
       "    MathJax.Hub.Config({\n",
       "      TeX: { equationNumbers: { autoNumber: \"AMS\" } }\n",
       "    });\n",
       "    MathJax.Hub.Queue( \n",
       "        [\"resetEquationNumbers\",MathJax.InputJax.TeX], \n",
       "        [\"PreProcess\",MathJax.Hub], \n",
       "        [\"Reprocess\",MathJax.Hub] \n",
       "    );\n"
      ]
     },
     "metadata": {},
     "output_type": "display_data"
    }
   ],
   "source": [
    "macro javascript_str(s) display(\"text/javascript\", s); end\n",
    "javascript\"\"\"\n",
    "    MathJax.Hub.Config({\n",
    "      TeX: { equationNumbers: { autoNumber: \"AMS\" } }\n",
    "    });\n",
    "    MathJax.Hub.Queue( \n",
    "        [\"resetEquationNumbers\",MathJax.InputJax.TeX], \n",
    "        [\"PreProcess\",MathJax.Hub], \n",
    "        [\"Reprocess\",MathJax.Hub] \n",
    "    );\n",
    "\"\"\""
   ]
  },
  {
   "cell_type": "markdown",
   "metadata": {},
   "source": [
    "# Gibbs Sampling of Fixed and Random Effects"
   ]
  },
  {
   "cell_type": "markdown",
   "metadata": {},
   "source": [
    "### Extension for SNP Effects\n"
   ]
  },
  {
   "cell_type": "markdown",
   "metadata": {},
   "source": [
    "We will initially consider a univariate mixed linear model of the form:\n",
    "\n",
    "\\begin{equation}\n",
    "\\mathbf{y} = \\mathbf{X}\\boldsymbol{\\beta} + \\mathbf{Zu} + \\mathbf{W}\\boldsymbol{\\alpha} + \\mathbf{e},\n",
    "\\label{eq:model}\n",
    "\\end{equation}"
   ]
  },
  {
   "cell_type": "markdown",
   "metadata": {},
   "source": [
    "where $\\boldsymbol{\\beta}$ is a vector of fixed effects, $\\mathbf{X}$ is an observed matrix that relates $\\boldsymbol{\\beta}$ to $\\mathbf{y}$, $\\mathbf{u}$ is a vector of multivariate normal random effects with null means and covariance matrix $\\mathbf{G}\\sigma^2_u$, $\\mathbf{Z}$ is an observed matrix that relates $\\mathbf{u}$ to $\\mathbf{y}$, $\\boldsymbol{\\alpha}$ is a vector of random SNP effects with null means and covariance matrix $\\mathbf{I}\\sigma^2_{\\alpha}$, $\\mathbf{W}$ is an observed matrix of SNP covariates, and $\\mathbf{e}$ is a vector of multivariate normal residuals with null means and covariance matrix $\\mathbf{R}\\sigma^2_e$. The fixed effects are usually assigned a flat prior distribution, and the matrices $\\mathbf{G}$ and $\\mathbf{R}$ are assumed to be known. It is assumed that vectors $\\mbf{u}$, $\\bs{\\alpha}$ and $\\mbf{e}$ are mutually independent. The variance components $\\sigma^2_u$, $\\sigma^2_{\\alpha}$ and $\\sigma^2_e$ are assigned scaled inverted chi-square prior distributions."
   ]
  },
  {
   "cell_type": "markdown",
   "metadata": {},
   "source": [
    "The MME for this model are:"
   ]
  },
  {
   "cell_type": "markdown",
   "metadata": {},
   "source": [
    "\\begin{equation}\n",
    "\\begin{bmatrix}\n",
    "\\mathbf{X}'\\mathbf{R}^{-1}\\mathbf{X} & \n",
    "\\mathbf{X}'\\mathbf{R}^{-1}\\mathbf{Z} &\n",
    "\\mathbf{X}'\\mathbf{R}^{-1}\\mathbf{W} \\\\\n",
    "\\mathbf{Z}'\\mathbf{R}^{-1}\\mathbf{X} & \n",
    "\\mathbf{Z}'\\mathbf{R}^{-1}\\mathbf{Z} + \\frac{\\sigma_{e}^{2}}{\\sigma_u^2}\\mathbf{G}^{-1}&\n",
    "\\mathbf{Z}'\\mathbf{R}^{-1}\\mathbf{W} \\\\\n",
    "\\mathbf{W}'\\mathbf{R}^{-1}\\mathbf{X} & \n",
    "\\mathbf{W}'\\mathbf{R}^{-1}\\mathbf{Z} &\n",
    "\\mathbf{W}'\\mathbf{R}^{-1}\\mathbf{W} + \\frac{\\sigma_{e}^{2}}{\\sigma_{\\alpha}^2}\\mathbf{I}       \n",
    "\\end{bmatrix}\n",
    "\\begin{bmatrix}\n",
    "\\hat{\\bs{\\beta}}\\\\\n",
    "\\hat{\\mbf{u}} \\\\\n",
    "\\hat{\\bs{\\alpha}}      \n",
    "\\end{bmatrix}\n",
    "=\n",
    "\\begin{bmatrix}\n",
    "\\mathbf{X}'\\mathbf{R}^{-1}\\mathbf{y}\\\\\n",
    "\\mathbf{Z}'\\mathbf{R}^{-1}\\mathbf{y}\\\\\n",
    "\\mathbf{W}'\\mathbf{R}^{-1}\\mathbf{y}        \n",
    "\\end{bmatrix}.\n",
    "\\label{eq:MME}\n",
    "\\end{equation}"
   ]
  },
  {
   "cell_type": "markdown",
   "metadata": {},
   "source": [
    "The rows and columns in (\\ref{eq:MME}) corresponding to $\\hat{\\bs{\\alpha}}$ are dense. Thus, an alternative sampling scheme is described below for sampling the location parameters in (\\ref{eq:model}) without constrcting the MME in (\\ref{eq:MME})."
   ]
  },
  {
   "cell_type": "markdown",
   "metadata": {},
   "source": [
    "In iteration $i$ of the Gibbs sampler, conditional on the sampled values of $\\bs{\\alpha} = \\bs{\\alpha}^{(i-1)}$ in the previous iteration, the model given by (\\ref{eq:model}) can be written as:"
   ]
  },
  {
   "cell_type": "markdown",
   "metadata": {},
   "source": [
    "\\begin{align}\n",
    "\\mathbf{y} - \\mathbf{W}\\boldsymbol{\\alpha}^{(i-1)} &= \\mathbf{X}\\boldsymbol{\\beta} + \\mathbf{Zu} + \\mathbf{e},\n",
    "\\label{eq:model2}\n",
    "\\end{align}"
   ]
  },
  {
   "cell_type": "markdown",
   "metadata": {},
   "source": [
    "where distributions of $\\mbf{u}$, and $\\mbf{e}$  in (\\ref{eq:model2}) are identical to their distibutions in (\\ref{eq:model}), because $\\bs{\\alpha}$ is independent of $\\mbf{u}$, and $\\mbf{e}$. The MME for (\\ref{eq:model2}) will be sparse when $\\mathbf{X}$, $\\mathbf{Z}$ and $\\mathbf{G}^{-1}$ are sparse as in the usual non-genomic models. Thus, the function `sampleLoc!`  can be applied to the sparse MME for (\\ref{eq:model2}) to obtain single-site Gibbs samples of the elements in $\\bs{\\beta}$ and $\\mbf{u}$. Recall that this function can be used for single-trait and multi-trait models.   "
   ]
  },
  {
   "cell_type": "markdown",
   "metadata": {},
   "source": [
    "Similarly, for a single-trait model, to apply single-site Gibbs sampling to element $j$ of $\\bs{\\alpha}$, the model in (\\ref{eq:model}) can be written as\n",
    "\\begin{align}\n",
    "\\mbf{y} - \\mbf{X}\\bs{\\beta}^{(i)} - \\mbf{Z}\\mbf{u}^{(i)} \n",
    "        - \\sum_{l < j}\\mbf{w}_l\\alpha_l^{(i)} - \\sum_{l >j}\\mbf{w}_l\\alpha_l^{(i-1)}\n",
    "                           &=  \\mbf{w}_j\\alpha_j+ \\mathbf{e}\\\\\n",
    "\\mbf{y}_{\\text{adj-j}}^{(j)} &= \\mbf{w}_j\\alpha_j + \\mathbf{e},\n",
    "\\label{eq:model3}\n",
    "\\end{align}"
   ]
  },
  {
   "cell_type": "markdown",
   "metadata": {},
   "source": [
    "where $\\mbf{w}_j$ is column $j$ of $\\mbf{W}$. In this model, $\\alpha_j$ is the only unknown, and the MME corresponding to (\\ref{eq:model3}) is:"
   ]
  },
  {
   "cell_type": "markdown",
   "metadata": {},
   "source": [
    "\\begin{equation}\n",
    "(\\mbf{w}_j'\\mbf{w}_j + \\frac{\\sigma^2_e}{\\sigma^2_{\\alpha}})\\hat{\\alpha}_j = \\mbf{w}_j'\\mbf{y}_{\\text{adj-j}}^{(j)}.\n",
    "\\label{eq:MMEAlpha}\n",
    "\\end{equation}\n",
    "Thus, as we have seen previously, the full-conditional distribution of $\\alpha_j$ can be shown to have a normal distribution with mean $\\hat{\\alpha}_j$ and variance $\\frac{\\sigma^2_e}{\\mbf{w}_j'\\mbf{w}_j + \\frac{\\sigma^2_e}{\\sigma^2_{\\alpha}}}$."
   ]
  },
  {
   "cell_type": "markdown",
   "metadata": {},
   "source": [
    "To compute the right-hand-side (RHS) of (\\ref{eq:MMEAlpha}) efficiently, before sammpling $\\alpha_j$, let "
   ]
  },
  {
   "cell_type": "markdown",
   "metadata": {},
   "source": [
    "$$\n",
    "\\mbf{y}_{\\text{adj}}^{(j-1)} = \\mbf{y} - \\mbf{X}\\bs{\\beta}^{(i)} - \\mbf{Z}\\mbf{u}^{(i)} \n",
    "                               - \\sum_{l < j}\\mbf{w}_l\\alpha_l^{(i)} - \\mbf{w}_j\\alpha_j^{(i-1)} - \\sum_{l > j}\\mbf{w}_l\\alpha_l^{(i-1)},\n",
    "$$"
   ]
  },
  {
   "cell_type": "markdown",
   "metadata": {},
   "source": [
    "where $\\mbf{y}$ has been adjusted for all the effects in the model with their sampled values, including $\\alpha_j = \\alpha_j^{(i-1)}$. Then, the RHS of (\\ref{eq:MMEAlpha}) can be written as\n",
    "\n",
    "$$\n",
    "\\mbf{w}_j'\\mbf{y}_{\\text{adj-j}}^{(j)} = \\mbf{w}_j'\\mbf{y}_{\\text{adj}}^{(j)} + \\mbf{w}_j'\\mbf{w}_j\\alpha_j^{(i-1)}.\n",
    "$$"
   ]
  },
  {
   "cell_type": "markdown",
   "metadata": {},
   "source": [
    "After sampling $\\alpha_j$, $\\mbf{y}_{\\text{adj}}^{{j}}$ is obtained efficiently as"
   ]
  },
  {
   "cell_type": "markdown",
   "metadata": {},
   "source": [
    "\\begin{align}\n",
    "\\mbf{y}_{\\text{adj}}^{(j)} &= \n",
    "   \\mbf{y} - \\mbf{X}\\bs{\\beta}^{(i)} - \\mbf{Z}\\mbf{u}^{(i)} \n",
    "           - \\sum_{l < j}\\mbf{w}_l\\alpha_l^{(i)} - \\mbf{w}_j\\alpha_j^{(i)} - \\sum_{l > j}\\mbf{w}_l\\alpha_l^{(i-1)}\\\\\n",
    "   &= \\mbf{y}_{\\text{adj}}^{(j-1)} +  \\mbf{w}_j\\alpha_j^{(i-1)} - \\mbf{w}_j\\alpha_j^{(i)} \\\\\n",
    "   &= \\mbf{y}_{\\text{adj}}^{(j-1)} +  \\mbf{w}_j(\\alpha_j^{(i-1)} - \\alpha_j^{(i)}).\n",
    "\\end{align}"
   ]
  },
  {
   "cell_type": "markdown",
   "metadata": {},
   "source": [
    "After all elements of $\\bs{\\alpha}$ have been sampled, adding $\\mbf{X}\\bs{\\beta}^{(i)} + \\mbf{Z}\\mbf{u}^{(i)}$ to $\\mbf{y}_{\\text{adj}}^{{k}}$ gives:"
   ]
  },
  {
   "cell_type": "markdown",
   "metadata": {},
   "source": [
    "$$\n",
    "\\mathbf{y} - \\mathbf{W}\\boldsymbol{\\alpha}^{(i)} = \\mbf{y}_{\\text{adj}}^{{k}} + \\mbf{X}\\bs{\\beta}^{(i)} + \\mbf{Z}\\mbf{u}^{(i)},\n",
    "$$"
   ]
  },
  {
   "cell_type": "markdown",
   "metadata": {},
   "source": [
    "which will be used in the next round of the Gibbs sampler for obtaining samples of $\\bs{\\beta}$ and $\\mbf{u}$."
   ]
  },
  {
   "cell_type": "markdown",
   "metadata": {},
   "source": [
    "Consider now a two-trait model, where, to simplify the notation, we will denote $\\mbf{y}_{\\text{adj-j}}^{{j}}$ by $\\mbf{y}_1$ for the first trait and by $\\mbf{y}_2$ for the second trait. Then, the model for sampling the effects for locus $j$ can be written as:    "
   ]
  },
  {
   "cell_type": "markdown",
   "metadata": {},
   "source": [
    "\\begin{align}\n",
    "\\begin{bmatrix}\n",
    "\\mbf{y}_1\\\\\n",
    "\\mbf{y}_2\n",
    "\\end{bmatrix}\n",
    "&=\n",
    "\\begin{bmatrix}\n",
    "\\mbf{w}_j & \\mbf{0}\\\\\n",
    "\\mbf{0}   & \\mbf{w}_j\n",
    "\\end{bmatrix}\n",
    "\\begin{bmatrix}\n",
    "\\hat{\\alpha}_{j1}\\\\\n",
    "\\hat{\\alpha}_{j2}\n",
    "\\end{bmatrix}\n",
    "+\n",
    "\\begin{bmatrix}\n",
    "\\mbf{e}_1\\\\\n",
    "\\mbf{e}_2\n",
    "\\end{bmatrix}\\\\\n",
    "&= (\\mbf{I}_2\\otimes \\mbf{w}_j)\\hat{\\bs{\\alpha}}_j \n",
    "+ \n",
    "\\mbf{e},\n",
    "\\label{eq:MME2Trait}\n",
    "\\end{align}"
   ]
  },
  {
   "cell_type": "markdown",
   "metadata": {},
   "source": [
    "where $\\bs{\\alpha}_j \\sim \\text{N}(\\mbf{0},\\bs{\\Sigma})$, and $\\mbf{e} \\sim \\text{N}(\\mbf{0},\\mbf{R}_0\\otimes\\mbf{I}_n)$. The MME for this model is: "
   ]
  },
  {
   "cell_type": "markdown",
   "metadata": {},
   "source": [
    "\\begin{align}\n",
    "[(\\mbf{I}_2\\otimes \\mbf{w}'_j)(\\mbf{R}_0^{-1}\\otimes\\mbf{I}_n)(\\mbf{I}_2\\otimes \\mbf{w}_j) + \\bs{\\Sigma}^{-1}]\\hat{\\bs{\\alpha}}_j &=  \n",
    "(\\mbf{I}_2\\otimes \\mbf{w}'_j)(\\mbf{R}_0^{-1}\\otimes\\mbf{I}_n)\\mbf{y} \\\\ \n",
    "(\\begin{bmatrix}\n",
    "\\mbf{w}'_j & \\mbf{0}\\\\\n",
    "\\mbf{0}    & \\mbf{w}'_j\n",
    "\\end{bmatrix}\n",
    "\\begin{bmatrix}\n",
    "r_0^{11}\\mbf{I} & r_0^{12}\\mbf{I}\\\\\n",
    "r_0^{21}\\mbf{I} & r_0^{22}\\mbf{I}\n",
    "\\end{bmatrix}\n",
    "\\begin{bmatrix}\n",
    "\\mbf{w}_j & \\mbf{0}\\\\\n",
    "\\mbf{0}   & \\mbf{w}_j\n",
    "\\end{bmatrix}\n",
    "+ \n",
    "\\bs{\\Sigma}^{-1})\n",
    "\\hat{\\bs{\\alpha}}_j\n",
    "&=\n",
    "(\\begin{bmatrix}\n",
    "\\mbf{w}'_j & \\mbf{0}\\\\\n",
    "\\mbf{0}    & \\mbf{w}'_j\n",
    "\\end{bmatrix}\n",
    "\\begin{bmatrix}\n",
    "r_0^{11}\\mbf{I} & r_0^{12}\\mbf{I}\\\\\n",
    "r_0^{21}\\mbf{I} & r_0^{22}\\mbf{I}\n",
    "\\end{bmatrix}\n",
    "\\begin{bmatrix}\n",
    "\\mbf{y}_1\\\\\n",
    "\\mbf{y}_2\n",
    "\\end{bmatrix} \\\\\n",
    "(\\mbf{w}'_j\\mbf{w}_j\\mbf{R}_0^{-1} + \\bs{\\Sigma}^{-1})\\hat{\\bs{\\alpha}}_j \n",
    "&= \n",
    "\\begin{bmatrix}\n",
    "r_0^{11}\\mbf{w}' & r_0^{12}\\mbf{w}'\\\\\n",
    "r_0^{21}\\mbf{w}' & r_0^{22}\\mbf{w}'\n",
    "\\end{bmatrix}\n",
    "\\begin{bmatrix}\n",
    "\\mbf{y}_1\\\\\n",
    "\\mbf{y}_2\n",
    "\\end{bmatrix} \\\\\n",
    "(\\mbf{w}'_j\\mbf{w}_j\\mbf{R}_0^{-1} + \\bs{\\Sigma}^{-1})\\hat{\\bs{\\alpha}}_j \n",
    "&= \n",
    "\\mbf{R}_0^{-1}\n",
    "\\begin{bmatrix}\n",
    "\\mbf{w}'_j\\mbf{y}_1\\\\\n",
    "\\mbf{w}'_j\\mbf{y}_2\n",
    "\\end{bmatrix} \n",
    "\\label{eq:MME2Trait}\n",
    "\\end{align}"
   ]
  },
  {
   "cell_type": "markdown",
   "metadata": {},
   "source": [
    "When the multi-trait model is for $m$ traits, the coefficient matrix of the MME in (\\ref{eq:MME2Trait}) expands to an $m\\times m$ matrix and the RHS to an $m\\times 1$ vector. Then, the `sampleLoc!` function can be applied to this MME to obtain single-site Gibbs samples of the elements in $\\bs{\\alpha}_j$.  "
   ]
  },
  {
   "cell_type": "code",
   "execution_count": 3,
   "metadata": {},
   "outputs": [
    {
     "data": {
      "text/plain": [
       "updateLhsRhs! (generic function with 1 method)"
      ]
     },
     "execution_count": 3,
     "metadata": {},
     "output_type": "execute_result"
    }
   ],
   "source": [
    "using NBInclude\n",
    "@nbinclude(\"../MME/3.7.2.BuildMME.ipynb\"; regex=r\"#\\s*EXECUTE\")"
   ]
  },
  {
   "cell_type": "code",
   "execution_count": 4,
   "metadata": {},
   "outputs": [
    {
     "name": "stdout",
     "output_type": "stream",
     "text": [
      "\u001b[32mThe delimiter in simData.ped is ','.\u001b[39m\n"
     ]
    },
    {
     "name": "stderr",
     "output_type": "stream",
     "text": [
      "\u001b[32mcoding pedigree... 100%|████████████████████████████████| Time: 0:00:00\u001b[39m\n",
      "\u001b[32mcalculating inbreeding... 100%|█████████████████████████| Time: 0:00:00\u001b[39m\n"
     ]
    },
    {
     "name": "stdout",
     "output_type": "stream",
     "text": [
      "Finished!\n"
     ]
    }
   ],
   "source": [
    "pedigree = get_pedigree(\"simData.ped\",separator=\",\",header=false);"
   ]
  },
  {
   "cell_type": "code",
   "execution_count": 5,
   "metadata": {},
   "outputs": [],
   "source": [
    "data = CSV.read(\"data.phen\");"
   ]
  },
  {
   "cell_type": "code",
   "execution_count": 6,
   "metadata": {},
   "outputs": [],
   "source": [
    "using Statistics"
   ]
  },
  {
   "cell_type": "code",
   "execution_count": 7,
   "metadata": {},
   "outputs": [
    {
     "data": {
      "text/plain": [
       "27.49455811886987"
      ]
     },
     "execution_count": 7,
     "metadata": {},
     "output_type": "execute_result"
    }
   ],
   "source": [
    "var(data[:,3])"
   ]
  },
  {
   "cell_type": "code",
   "execution_count": 8,
   "metadata": {},
   "outputs": [],
   "source": [
    "varGen = 10.0\n",
    "varRes = 10.0\n",
    "mme = initMME(\"y = intercept + Ind\",varRes);\n",
    "setRandom!(mme,\"Ind\",varGen,pedigree,estimate=true);"
   ]
  },
  {
   "cell_type": "code",
   "execution_count": 12,
   "metadata": {},
   "outputs": [],
   "source": [
    "lhs,rhs,names = getLhsRhs!(mme,data);"
   ]
  },
  {
   "cell_type": "code",
   "execution_count": 9,
   "metadata": {},
   "outputs": [
    {
     "data": {
      "text/plain": [
       "sampleLoc! (generic function with 1 method)"
      ]
     },
     "execution_count": 9,
     "metadata": {},
     "output_type": "execute_result"
    }
   ],
   "source": [
    "function sampleLoc!(mme)\n",
    "    A = mme.mmeLhs\n",
    "    b = mme.mmeRhs\n",
    "    x = mme.mmeSpl\n",
    "    n = size(x,1)\n",
    "    for i=1:n\n",
    "        cVarInv = 1.0/A[i,i]\n",
    "        cMean   = cVarInv*(b[i] - A[:,i]'x) + x[i]\n",
    "        x[i]    = randn()*sqrt(cVarInv) + cMean\n",
    "    end\n",
    "end"
   ]
  }
 ],
 "metadata": {
  "kernelspec": {
   "display_name": "Julia 1.1.0",
   "language": "julia",
   "name": "julia-1.1"
  },
  "language_info": {
   "file_extension": ".jl",
   "mimetype": "application/julia",
   "name": "julia",
   "version": "1.1.0"
  }
 },
 "nbformat": 4,
 "nbformat_minor": 2
}
