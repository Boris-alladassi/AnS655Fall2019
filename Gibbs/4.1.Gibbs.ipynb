{
 "cells": [
  {
   "cell_type": "markdown",
   "metadata": {},
   "source": [
    "Latex Macros:\n",
    "$$\n",
    "\\newcommand{\\E}{\\text{E}}\n",
    "\\newcommand{\\mbf}{\\mathbf}\n",
    "\\newcommand{\\bs}{\\boldsymbol}\n",
    "\\newcommand{\\Cov}{\\text{Cov}}\n",
    "\\newcommand{\\Var}{\\text{Var}}\n",
    "\\newcommand{\\Cov}{\\text{Cov}}\n",
    "\\newcommand{\\A}[1]{\\mathbf{A}_{#1}}\n",
    "\\newcommand{\\Ai}[1]{\\mathbf{A}^{#1}}\n",
    "$$"
   ]
  },
  {
   "cell_type": "code",
   "execution_count": 9,
   "metadata": {},
   "outputs": [
    {
     "data": {
      "application/javascript": [
       "    MathJax.Hub.Config({\n",
       "      TeX: { equationNumbers: { autoNumber: \"AMS\" } }\n",
       "    });\n",
       "    MathJax.Hub.Queue( \n",
       "        [\"resetEquationNumbers\",MathJax.InputJax.TeX], \n",
       "        [\"PreProcess\",MathJax.Hub], \n",
       "        [\"Reprocess\",MathJax.Hub] \n",
       "    );\n"
      ]
     },
     "metadata": {},
     "output_type": "display_data"
    }
   ],
   "source": [
    "macro javascript_str(s) display(\"text/javascript\", s); end\n",
    "javascript\"\"\"\n",
    "    MathJax.Hub.Config({\n",
    "      TeX: { equationNumbers: { autoNumber: \"AMS\" } }\n",
    "    });\n",
    "    MathJax.Hub.Queue( \n",
    "        [\"resetEquationNumbers\",MathJax.InputJax.TeX], \n",
    "        [\"PreProcess\",MathJax.Hub], \n",
    "        [\"Reprocess\",MathJax.Hub] \n",
    "    );\n",
    "\"\"\""
   ]
  },
  {
   "cell_type": "markdown",
   "metadata": {},
   "source": [
    "# Gibbs Sampling of Fixed and Random Effects"
   ]
  },
  {
   "cell_type": "markdown",
   "metadata": {},
   "source": [
    "Consider the mixed linear model\n",
    "\n",
    "\\begin{equation}\n",
    "\\mathbf{y} = \\mathbf{X}\\boldsymbol{\\beta} + \\mathbf{Zu} + \\mathbf{e}, \n",
    "\\end{equation}"
   ]
  },
  {
   "cell_type": "markdown",
   "metadata": {},
   "source": [
    "where $\\boldsymbol{\\beta}$ is a vector of fixed effects, $\\mathbf{X}$ is an observed matrix that relates $\\boldsymbol{\\beta}$ to $\\mathbf{y}$, $\\mathbf{u}$ is a vector of multivariate normal random effects with null means and covariance matrix $\\mathbf{G}\\sigma^2_u$, and $\\mathbf{e}$ is a vector of multivariate normal residuals with null means and covariance matrix $\\mathbf{R}\\sigma^2_e$. The fixed effects are usually assigned a flat prior distribution, and the matrices $\\mathbf{G}$ and $\\mathbf{R}$ are assumed to be known. The variance components $\\sigma^2_u$ and $\\sigma^2_e$ will be assigned scaled inverted chi-square prior distributions with scale parameter $S_{u}^{2}$ and degrees of freedom $\\nu_{u}$ for $\\sigma^2_u$ and parameters $S_{e}^{2}$ and $\\nu_{e}$ for $\\sigma^2_e$."
   ]
  },
  {
   "cell_type": "markdown",
   "metadata": {},
   "source": [
    "If we denote the location parameters ($\\bs{\\beta}, \\mbf{u}$) of the model by $\\bs{\\theta}$, as we have seen before, the posteior distribution of $\\bs{\\theta}$ is multivariate normal with mean given by the solution to"
   ]
  },
  {
   "cell_type": "markdown",
   "metadata": {},
   "source": [
    "$$\n",
    "\\mbf{C}\\hat{\\bs{\\theta}} = \\mbf{r}\n",
    "$$\n",
    "\n",
    "and the variance is $\\mbf{C}^{-1}\\sigma^2_e$,\n",
    "where $\\mbf{C}$ and $\\mbf{r}$ are the coefficient matrix and right-hand-side of the MME. so, the quadratic in the exponent of this normal distribution is:\n",
    "\n"
   ]
  },
  {
   "cell_type": "markdown",
   "metadata": {},
   "source": [
    "\\begin{equation}\n",
    "Q = \\frac{-1}{2\\sigma^2_e}(\\bs{\\theta} - \\hat{\\bs{\\theta}})'\\mathbf{C}(\\bs{\\theta} - \\hat{\\bs{\\theta}}).\n",
    "\\label{eq:Q1}\n",
    "\\end{equation}"
   ]
  },
  {
   "cell_type": "markdown",
   "metadata": {},
   "source": [
    "In order to use the single-site Gibbs sampler to construct a Markov chain for $\\bs{\\theta}$, we need to derive the full-conditional posterior distribution for $(\\theta_i|\\text{ELSE})$, where $\\text{ELSE}$ stands for all other variables in the model other than $\\theta_i$. To simplify this derivation, $\\bs{\\theta}$ is partitioned as:\n",
    "$$\n",
    "\\bs{\\theta} = [\\bs{\\theta}_1, \\bs{\\theta}_2],\n",
    "$$\n",
    "where $\\bs{\\theta}_1 = \\theta_i$ and $\\bs{\\theta}_2$ contains the remaining elements of $\\bs{\\theta}$. Now, the quadratic (\\ref{eq:Q1}) can be written as:"
   ]
  },
  {
   "cell_type": "markdown",
   "metadata": {},
   "source": [
    "\\begin{equation}\n",
    "Q = \\frac{-1}{2\\sigma^2_e}\n",
    "\\begin{bmatrix}\n",
    "(\\bs{\\theta}_1 - \\hat{\\bs{\\theta}}_1) & (\\bs{\\theta}_2 - \\hat{\\bs{\\theta}}_2)\n",
    "\\end{bmatrix}\n",
    "\\begin{bmatrix}\n",
    "\\mathbf{C}_{11} & \\mathbf{C}_{12} \\\\\n",
    "\\mathbf{C}_{21} & \\mathbf{C}_{22}\n",
    "\\end{bmatrix}\n",
    "\\begin{bmatrix}\n",
    "(\\bs{\\theta}_1 - \\hat{\\bs{\\theta}}_1) \\\\ \n",
    "(\\bs{\\theta}_2 - \\hat{\\bs{\\theta}}_2)\n",
    "\\end{bmatrix},\n",
    "\\label{eq:Q2}\n",
    "\\end{equation}"
   ]
  },
  {
   "cell_type": "markdown",
   "metadata": {},
   "source": [
    "where the coefficient matrix $\\mbf{C}$ has also been partitioned to correspond to the partitioning of $\\bs{\\theta}$."
   ]
  },
  {
   "cell_type": "markdown",
   "metadata": {},
   "source": [
    "To derive the distribution of $(\\bs{\\theta}_1|\\bs{\\theta}_2)$, we need to only consider the terms in (\\ref{eq:Q2}) that involve $\\bs{\\theta}_1$. These terms are (after dropping $\\frac{-1}{2\\sigma^2_e}$):\n"
   ]
  },
  {
   "cell_type": "markdown",
   "metadata": {},
   "source": [
    "\\begin{align}\n",
    "Q_1 &=  \\bs{\\theta}_1'\\mbf{C}_{11}\\bs{\\theta}_1 - 2\\bs{\\theta}_1'\\mbf{C}_{11}\\hat{\\bs{\\theta}}_1\n",
    "    + 2\\bs{\\theta}_1'\\mbf{C}_{12}\\bs{\\theta}_2 - 2\\bs{\\theta}_1'\\mbf{C}_{12}\\hat{\\bs{\\theta}}_2 \\label{eq:Q_11} \\\\ \n",
    "    &= (\\bs{\\theta}_1 - \\tilde{\\bs{\\theta}}_1)'\\mbf{C}_{11}(\\bs{\\theta}_1 - \\tilde{\\bs{\\theta}}_1) \n",
    "       - \\tilde{\\bs{\\theta}}_1'\\mbf{C}_{11}\\tilde{\\bs{\\theta}}_1,\n",
    "       \\label{eq:Q_12}\n",
    "\\end{align}"
   ]
  },
  {
   "cell_type": "markdown",
   "metadata": {},
   "source": [
    "where (\\ref{eq:Q_11}) will equal (\\ref{eq:Q_12}) if \n",
    "$$\n",
    "\\bs{\\theta}_1'\\mbf{C}_{11}\\tilde{\\bs{\\theta}}_1 = \\bs{\\theta}_1'\\mbf{C}_{11}\\hat{\\bs{\\theta}}_1 \n",
    "                                                       + \\bs{\\theta}_1'\\mbf{C}_{12}\\hat{\\bs{\\theta}}_2 \n",
    "                                                       - \\bs{\\theta}_1'\\mbf{C}_{12}\\bs{\\theta}_2.\n",
    "$$\n",
    "This equlity must hold for all $\\bs{\\theta}_1$, and so\n",
    "\\begin{align}\n",
    "\\mbf{C}_{11}\\tilde{\\bs{\\theta}}_1 &= \\mbf{C}_{11}\\hat{\\bs{\\theta}}_1 \n",
    "                                  + \\mbf{C}_{12}\\hat{\\bs{\\theta}}_2\n",
    "                                  - \\mbf{C}_{12}\\bs{\\theta}_2 \\\\\n",
    "\\mbf{C}_{11}\\tilde{\\bs{\\theta}}_1 &= \\mbf{r}_1 - \\mbf{C}_{12}\\bs{\\theta}_2,                                                                    \n",
    "\\end{align}\n",
    "because the right-hand-side of the MME corresponding to $\\hat{\\bs{\\theta}}_1$ is equal to "
   ]
  },
  {
   "cell_type": "markdown",
   "metadata": {},
   "source": [
    "$$\n",
    "\\mbf{C}_{11}\\hat{\\bs{\\theta}}_1 + \\mbf{C}_{12}\\hat{\\bs{\\theta}}_2 = \\mbf{r}_1.\n",
    "$$"
   ]
  },
  {
   "cell_type": "markdown",
   "metadata": {},
   "source": [
    "Thus, $(\\bs{\\theta}_1|\\bs{\\theta}_2) \\sim \\text{N}(\\tilde{\\bs{\\theta}},\\mbf{C}_{11}^{-1}\\sigma^2_e)$."
   ]
  },
  {
   "cell_type": "code",
   "execution_count": 1,
   "metadata": {},
   "outputs": [
    {
     "data": {
      "text/plain": [
       "Gibbs (generic function with 1 method)"
      ]
     },
     "execution_count": 1,
     "metadata": {},
     "output_type": "execute_result"
    }
   ],
   "source": [
    "function Gibbs(A,x,b,varRes::Float64,nIter::Int64;outFreq=100)\n",
    "    n = size(x,1)\n",
    "    xMean = zeros(n)\n",
    "    for iter = 1:nIter\n",
    "        if iter%outFreq==0\n",
    "            println(\"at sample: \",iter)\n",
    "        end\n",
    "        for i=1:n\n",
    "            cVarInv = 1.0/A[i,i]\n",
    "            cMean   = cVarInv*(b[i] - A[:,i]'x) + x[i]\n",
    "            x[i]    = randn()*sqrt(cVarInv*varRes) + cMean\n",
    "        end\n",
    "        xMean += (x - xMean)/iter\n",
    "    end\n",
    "    return xMean\n",
    "end"
   ]
  }
 ],
 "metadata": {
  "kernelspec": {
   "display_name": "Julia 1.1.0",
   "language": "julia",
   "name": "julia-1.1"
  },
  "language_info": {
   "file_extension": ".jl",
   "mimetype": "application/julia",
   "name": "julia",
   "version": "1.1.0"
  }
 },
 "nbformat": 4,
 "nbformat_minor": 2
}
