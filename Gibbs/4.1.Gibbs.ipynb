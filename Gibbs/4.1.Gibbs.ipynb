{
 "cells": [
  {
   "cell_type": "code",
   "execution_count": 7,
   "metadata": {},
   "outputs": [],
   "source": [
    "using Pkg\n",
    "#Pkg.add(\"NBInclude\")"
   ]
  },
  {
   "cell_type": "markdown",
   "metadata": {},
   "source": [
    "Latex Macros:\n",
    "$$\n",
    "\\newcommand{\\E}{\\text{E}}\n",
    "\\newcommand{\\mbf}{\\mathbf}\n",
    "\\newcommand{\\bs}{\\boldsymbol}\n",
    "\\newcommand{\\Cov}{\\text{Cov}}\n",
    "\\newcommand{\\Var}{\\text{Var}}\n",
    "\\newcommand{\\Cov}{\\text{Cov}}\n",
    "\\newcommand{\\A}[1]{\\mathbf{A}_{#1}}\n",
    "\\newcommand{\\Ai}[1]{\\mathbf{A}^{#1}}\n",
    "$$"
   ]
  },
  {
   "cell_type": "code",
   "execution_count": 4,
   "metadata": {},
   "outputs": [
    {
     "data": {
      "application/javascript": [
       "    MathJax.Hub.Config({\n",
       "      TeX: { equationNumbers: { autoNumber: \"AMS\" } }\n",
       "    });\n",
       "    MathJax.Hub.Queue( \n",
       "        [\"resetEquationNumbers\",MathJax.InputJax.TeX], \n",
       "        [\"PreProcess\",MathJax.Hub], \n",
       "        [\"Reprocess\",MathJax.Hub] \n",
       "    );\n"
      ]
     },
     "metadata": {},
     "output_type": "display_data"
    }
   ],
   "source": [
    "macro javascript_str(s) display(\"text/javascript\", s); end\n",
    "javascript\"\"\"\n",
    "    MathJax.Hub.Config({\n",
    "      TeX: { equationNumbers: { autoNumber: \"AMS\" } }\n",
    "    });\n",
    "    MathJax.Hub.Queue( \n",
    "        [\"resetEquationNumbers\",MathJax.InputJax.TeX], \n",
    "        [\"PreProcess\",MathJax.Hub], \n",
    "        [\"Reprocess\",MathJax.Hub] \n",
    "    );\n",
    "\"\"\""
   ]
  },
  {
   "cell_type": "markdown",
   "metadata": {},
   "source": [
    "# Gibbs Sampling of Fixed and Random Effects"
   ]
  },
  {
   "cell_type": "markdown",
   "metadata": {},
   "source": [
    "Consider the mixed linear model\n",
    "\n",
    "\\begin{equation}\n",
    "\\mathbf{y} = \\mathbf{X}\\boldsymbol{\\beta} + \\mathbf{Zu} + \\mathbf{e}, \n",
    "\\end{equation}"
   ]
  },
  {
   "cell_type": "markdown",
   "metadata": {},
   "source": [
    "where $\\boldsymbol{\\beta}$ is a vector of fixed effects, $\\mathbf{X}$ is an observed matrix that relates $\\boldsymbol{\\beta}$ to $\\mathbf{y}$, $\\mathbf{u}$ is a vector of multivariate normal random effects with null means and covariance matrix $\\mathbf{G}\\sigma^2_u$, and $\\mathbf{e}$ is a vector of multivariate normal residuals with null means and covariance matrix $\\mathbf{R}\\sigma^2_e$. The fixed effects are usually assigned a flat prior distribution, and the matrices $\\mathbf{G}$ and $\\mathbf{R}$ are assumed to be known. The variance components $\\sigma^2_u$ and $\\sigma^2_e$ will be assigned scaled inverted chi-square prior distributions with scale parameter $S_{u}^{2}$ and degrees of freedom $\\nu_{u}$ for $\\sigma^2_u$ and parameters $S_{e}^{2}$ and $\\nu_{e}$ for $\\sigma^2_e$."
   ]
  },
  {
   "cell_type": "markdown",
   "metadata": {},
   "source": [
    "If we denote the location parameters ($\\bs{\\beta}, \\mbf{u}$) of the model by $\\bs{\\theta}$, as we have seen before, the posteior distribution of $\\bs{\\theta}$ is multivariate normal with mean given by the solution to"
   ]
  },
  {
   "cell_type": "markdown",
   "metadata": {},
   "source": [
    "$$\n",
    "\\mbf{C}\\hat{\\bs{\\theta}} = \\mbf{r}\n",
    "$$\n",
    "\n",
    "and the variance is $\\mbf{C}^{-1}\\sigma^2_e$,\n",
    "where $\\mbf{C}$ and $\\mbf{r}$ are the coefficient matrix and right-hand-side of the MME. So, the quadratic in the exponent of this normal distribution is:\n",
    "\n"
   ]
  },
  {
   "cell_type": "markdown",
   "metadata": {},
   "source": [
    "\\begin{equation}\n",
    "Q = \\frac{-1}{2\\sigma^2_e}(\\bs{\\theta} - \\hat{\\bs{\\theta}})'\\mathbf{C}(\\bs{\\theta} - \\hat{\\bs{\\theta}}).\n",
    "\\label{eq:Q1}\n",
    "\\end{equation}"
   ]
  },
  {
   "cell_type": "markdown",
   "metadata": {},
   "source": [
    "In order to use the single-site Gibbs sampler to construct a Markov chain for $\\bs{\\theta}$, we need to derive the full-conditional posterior distribution for $(\\theta_i|\\text{ELSE})$, where $\\text{ELSE}$ stands for all other variables in the model other than $\\theta_i$. To simplify this derivation, $\\bs{\\theta}$ is partitioned as:\n",
    "$$\n",
    "\\bs{\\theta} = [\\bs{\\theta}_1, \\bs{\\theta}_2],\n",
    "$$\n",
    "where $\\bs{\\theta}_1 = \\theta_i$ and $\\bs{\\theta}_2$ contains the remaining elements of $\\bs{\\theta}$. Now, the quadratic (\\ref{eq:Q1}) can be written as:"
   ]
  },
  {
   "cell_type": "markdown",
   "metadata": {},
   "source": [
    "\\begin{equation}\n",
    "Q = \\frac{-1}{2\\sigma^2_e}\n",
    "\\begin{bmatrix}\n",
    "(\\bs{\\theta}_1 - \\hat{\\bs{\\theta}}_1) & (\\bs{\\theta}_2 - \\hat{\\bs{\\theta}}_2)\n",
    "\\end{bmatrix}\n",
    "\\begin{bmatrix}\n",
    "\\mathbf{C}_{11} & \\mathbf{C}_{12} \\\\\n",
    "\\mathbf{C}_{21} & \\mathbf{C}_{22}\n",
    "\\end{bmatrix}\n",
    "\\begin{bmatrix}\n",
    "(\\bs{\\theta}_1 - \\hat{\\bs{\\theta}}_1) \\\\ \n",
    "(\\bs{\\theta}_2 - \\hat{\\bs{\\theta}}_2)\n",
    "\\end{bmatrix},\n",
    "\\label{eq:Q2}\n",
    "\\end{equation}"
   ]
  },
  {
   "cell_type": "markdown",
   "metadata": {},
   "source": [
    "where the coefficient matrix $\\mbf{C}$ has also been partitioned to correspond to the partitioning of $\\bs{\\theta}$."
   ]
  },
  {
   "cell_type": "markdown",
   "metadata": {},
   "source": [
    "To derive the distribution of $(\\bs{\\theta}_1|\\bs{\\theta}_2)$, we need to only consider the terms in (\\ref{eq:Q2}) that involve $\\bs{\\theta}_1$. These terms are (after dropping $\\frac{-1}{2\\sigma^2_e}$):\n"
   ]
  },
  {
   "cell_type": "markdown",
   "metadata": {},
   "source": [
    "\\begin{align}\n",
    "Q_1 &=  \\bs{\\theta}_1'\\mbf{C}_{11}\\bs{\\theta}_1 - 2\\bs{\\theta}_1'\\mbf{C}_{11}\\hat{\\bs{\\theta}}_1\n",
    "    + 2\\bs{\\theta}_1'\\mbf{C}_{12}\\bs{\\theta}_2 - 2\\bs{\\theta}_1'\\mbf{C}_{12}\\hat{\\bs{\\theta}}_2 \\label{eq:Q_11} \\\\ \n",
    "    &= (\\bs{\\theta}_1 - \\tilde{\\bs{\\theta}}_1)'\\mbf{C}_{11}(\\bs{\\theta}_1 - \\tilde{\\bs{\\theta}}_1) \n",
    "       - \\tilde{\\bs{\\theta}}_1'\\mbf{C}_{11}\\tilde{\\bs{\\theta}}_1,\n",
    "       \\label{eq:Q_12}\n",
    "\\end{align}"
   ]
  },
  {
   "cell_type": "markdown",
   "metadata": {},
   "source": [
    "where for (\\ref{eq:Q_11}) to equal (\\ref{eq:Q_12}), $\\tilde{\\bs{\\theta}}_1$ must satisfy the equality: \n",
    "$$\n",
    "\\bs{\\theta}_1'\\mbf{C}_{11}\\tilde{\\bs{\\theta}}_1 = \\bs{\\theta}_1'\\mbf{C}_{11}\\hat{\\bs{\\theta}}_1 \n",
    "                                                       + \\bs{\\theta}_1'\\mbf{C}_{12}\\hat{\\bs{\\theta}}_2 \n",
    "                                                       - \\bs{\\theta}_1'\\mbf{C}_{12}\\bs{\\theta}_2.\n",
    "$$\n",
    "This equlity must hold for all $\\bs{\\theta}_1$, and so\n",
    "\\begin{align}\n",
    "\\mbf{C}_{11}\\tilde{\\bs{\\theta}}_1 &= \\mbf{C}_{11}\\hat{\\bs{\\theta}}_1 \n",
    "                                  + \\mbf{C}_{12}\\hat{\\bs{\\theta}}_2\n",
    "                                  - \\mbf{C}_{12}\\bs{\\theta}_2 \\\\\n",
    "\\mbf{C}_{11}\\tilde{\\bs{\\theta}}_1 &= \\mbf{r}_1 - \\mbf{C}_{12}\\bs{\\theta}_2, \\label{eq:singleSiteGibbs}                                                                   \n",
    "\\end{align}\n",
    "because the right-hand-side of the MME corresponding to $\\hat{\\bs{\\theta}}_1$ is equal to "
   ]
  },
  {
   "cell_type": "markdown",
   "metadata": {},
   "source": [
    "$$\n",
    "\\mbf{C}_{11}\\hat{\\bs{\\theta}}_1 + \\mbf{C}_{12}\\hat{\\bs{\\theta}}_2 = \\mbf{r}_1.\n",
    "$$"
   ]
  },
  {
   "cell_type": "markdown",
   "metadata": {},
   "source": [
    "Thus, $(\\bs{\\theta}_1|\\bs{\\theta}_2) \\sim \\text{N}(\\tilde{\\bs{\\theta}},\\mbf{C}_{11}^{-1}\\sigma^2_e)$."
   ]
  },
  {
   "cell_type": "code",
   "execution_count": 8,
   "metadata": {},
   "outputs": [
    {
     "data": {
      "text/plain": [
       "Gibbs! (generic function with 1 method)"
      ]
     },
     "execution_count": 8,
     "metadata": {},
     "output_type": "execute_result"
    }
   ],
   "source": [
    "function Gibbs!(A,x,b,varRes::Float64,nIter::Int64;outFreq=100)\n",
    "    n = size(x,1)\n",
    "    xMean = zeros(n)\n",
    "    for iter = 1:nIter\n",
    "        if iter%outFreq==0\n",
    "            println(\"at sample: \",iter)\n",
    "        end\n",
    "        for i=1:n\n",
    "            cVarInv = 1.0/A[i,i]\n",
    "            cMean   = cVarInv*(b[i] - A[:,i]'x) + x[i]\n",
    "            x[i]    = randn()*sqrt(cVarInv*varRes) + cMean\n",
    "        end\n",
    "        xMean += (x - xMean)/iter\n",
    "    end\n",
    "    return xMean\n",
    "end"
   ]
  },
  {
   "cell_type": "code",
   "execution_count": 15,
   "metadata": {},
   "outputs": [
    {
     "data": {
      "text/plain": [
       "getLhsRhs (generic function with 1 method)"
      ]
     },
     "execution_count": 15,
     "metadata": {},
     "output_type": "execute_result"
    }
   ],
   "source": [
    "using NBInclude\n",
    "@nbinclude(\"../MME/3.7.BuildMME.ipynb\"; regex=r\"#\\s*EXECUTE\")"
   ]
  },
  {
   "cell_type": "code",
   "execution_count": 16,
   "metadata": {},
   "outputs": [
    {
     "name": "stdout",
     "output_type": "stream",
     "text": [
      "\u001b[32mThe delimiter in simData.ped is ','.\u001b[39m\n",
      "Finished!\n"
     ]
    }
   ],
   "source": [
    "pedigree = get_pedigree(\"simData.ped\",separator=\",\",header=false);"
   ]
  },
  {
   "cell_type": "code",
   "execution_count": 17,
   "metadata": {},
   "outputs": [
    {
     "data": {
      "text/html": [
       "<table class=\"data-frame\"><thead><tr><th></th><th>Ind</th><th>Mat</th><th>y</th></tr><tr><th></th><th>Int64</th><th>Int64</th><th>Float64</th></tr></thead><tbody><p>100 rows × 3 columns</p><tr><th>1</th><td>26</td><td>12</td><td>7.434</td></tr><tr><th>2</th><td>27</td><td>10</td><td>10.367</td></tr><tr><th>3</th><td>28</td><td>19</td><td>5.996</td></tr><tr><th>4</th><td>29</td><td>15</td><td>10.084</td></tr><tr><th>5</th><td>30</td><td>23</td><td>2.567</td></tr><tr><th>6</th><td>31</td><td>8</td><td>-0.198</td></tr><tr><th>7</th><td>32</td><td>21</td><td>12.163</td></tr><tr><th>8</th><td>33</td><td>16</td><td>0.833</td></tr><tr><th>9</th><td>34</td><td>17</td><td>2.39</td></tr><tr><th>10</th><td>35</td><td>9</td><td>1.721</td></tr><tr><th>11</th><td>36</td><td>24</td><td>2.795</td></tr><tr><th>12</th><td>37</td><td>7</td><td>9.977</td></tr><tr><th>13</th><td>38</td><td>18</td><td>6.323</td></tr><tr><th>14</th><td>39</td><td>25</td><td>-6.202</td></tr><tr><th>15</th><td>40</td><td>25</td><td>6.525</td></tr><tr><th>16</th><td>41</td><td>19</td><td>5.972</td></tr><tr><th>17</th><td>42</td><td>14</td><td>2.852</td></tr><tr><th>18</th><td>43</td><td>19</td><td>6.72</td></tr><tr><th>19</th><td>44</td><td>11</td><td>5.181</td></tr><tr><th>20</th><td>45</td><td>13</td><td>6.895</td></tr><tr><th>21</th><td>46</td><td>22</td><td>4.801</td></tr><tr><th>22</th><td>47</td><td>18</td><td>7.296</td></tr><tr><th>23</th><td>48</td><td>16</td><td>4.887</td></tr><tr><th>24</th><td>49</td><td>12</td><td>-0.621</td></tr><tr><th>25</th><td>50</td><td>24</td><td>-0.999</td></tr><tr><th>26</th><td>51</td><td>6</td><td>8.324</td></tr><tr><th>27</th><td>52</td><td>18</td><td>14.244</td></tr><tr><th>28</th><td>53</td><td>14</td><td>7.919</td></tr><tr><th>29</th><td>54</td><td>20</td><td>6.115</td></tr><tr><th>30</th><td>55</td><td>25</td><td>3.293</td></tr><tr><th>&vellip;</th><td>&vellip;</td><td>&vellip;</td><td>&vellip;</td></tr></tbody></table>"
      ],
      "text/latex": [
       "\\begin{tabular}{r|ccc}\n",
       "\t& Ind & Mat & y\\\\\n",
       "\t\\hline\n",
       "\t& Int64 & Int64 & Float64\\\\\n",
       "\t\\hline\n",
       "\t1 & 26 & 12 & 7.434 \\\\\n",
       "\t2 & 27 & 10 & 10.367 \\\\\n",
       "\t3 & 28 & 19 & 5.996 \\\\\n",
       "\t4 & 29 & 15 & 10.084 \\\\\n",
       "\t5 & 30 & 23 & 2.567 \\\\\n",
       "\t6 & 31 & 8 & -0.198 \\\\\n",
       "\t7 & 32 & 21 & 12.163 \\\\\n",
       "\t8 & 33 & 16 & 0.833 \\\\\n",
       "\t9 & 34 & 17 & 2.39 \\\\\n",
       "\t10 & 35 & 9 & 1.721 \\\\\n",
       "\t11 & 36 & 24 & 2.795 \\\\\n",
       "\t12 & 37 & 7 & 9.977 \\\\\n",
       "\t13 & 38 & 18 & 6.323 \\\\\n",
       "\t14 & 39 & 25 & -6.202 \\\\\n",
       "\t15 & 40 & 25 & 6.525 \\\\\n",
       "\t16 & 41 & 19 & 5.972 \\\\\n",
       "\t17 & 42 & 14 & 2.852 \\\\\n",
       "\t18 & 43 & 19 & 6.72 \\\\\n",
       "\t19 & 44 & 11 & 5.181 \\\\\n",
       "\t20 & 45 & 13 & 6.895 \\\\\n",
       "\t21 & 46 & 22 & 4.801 \\\\\n",
       "\t22 & 47 & 18 & 7.296 \\\\\n",
       "\t23 & 48 & 16 & 4.887 \\\\\n",
       "\t24 & 49 & 12 & -0.621 \\\\\n",
       "\t25 & 50 & 24 & -0.999 \\\\\n",
       "\t26 & 51 & 6 & 8.324 \\\\\n",
       "\t27 & 52 & 18 & 14.244 \\\\\n",
       "\t28 & 53 & 14 & 7.919 \\\\\n",
       "\t29 & 54 & 20 & 6.115 \\\\\n",
       "\t30 & 55 & 25 & 3.293 \\\\\n",
       "\t$\\dots$ & $\\dots$ & $\\dots$ & $\\dots$ \\\\\n",
       "\\end{tabular}\n"
      ],
      "text/plain": [
       "100×3 DataFrame\n",
       "│ Row │ Ind   │ Mat   │ y       │\n",
       "│     │ \u001b[90mInt64\u001b[39m │ \u001b[90mInt64\u001b[39m │ \u001b[90mFloat64\u001b[39m │\n",
       "├─────┼───────┼───────┼─────────┤\n",
       "│ 1   │ 26    │ 12    │ 7.434   │\n",
       "│ 2   │ 27    │ 10    │ 10.367  │\n",
       "│ 3   │ 28    │ 19    │ 5.996   │\n",
       "│ 4   │ 29    │ 15    │ 10.084  │\n",
       "│ 5   │ 30    │ 23    │ 2.567   │\n",
       "│ 6   │ 31    │ 8     │ -0.198  │\n",
       "│ 7   │ 32    │ 21    │ 12.163  │\n",
       "│ 8   │ 33    │ 16    │ 0.833   │\n",
       "│ 9   │ 34    │ 17    │ 2.39    │\n",
       "│ 10  │ 35    │ 9     │ 1.721   │\n",
       "⋮\n",
       "│ 90  │ 115   │ 19    │ 8.142   │\n",
       "│ 91  │ 116   │ 18    │ 9.591   │\n",
       "│ 92  │ 117   │ 6     │ 4.42    │\n",
       "│ 93  │ 118   │ 22    │ 0.195   │\n",
       "│ 94  │ 119   │ 6     │ 4.248   │\n",
       "│ 95  │ 120   │ 10    │ 8.382   │\n",
       "│ 96  │ 121   │ 18    │ 1.041   │\n",
       "│ 97  │ 122   │ 11    │ 6.551   │\n",
       "│ 98  │ 123   │ 17    │ 3.832   │\n",
       "│ 99  │ 124   │ 25    │ -9.592  │\n",
       "│ 100 │ 125   │ 15    │ -1.219  │"
      ]
     },
     "execution_count": 17,
     "metadata": {},
     "output_type": "execute_result"
    }
   ],
   "source": [
    "data = CSV.read(\"data.phen\")"
   ]
  },
  {
   "cell_type": "code",
   "execution_count": 18,
   "metadata": {},
   "outputs": [],
   "source": [
    "using Statistics"
   ]
  },
  {
   "cell_type": "code",
   "execution_count": 19,
   "metadata": {},
   "outputs": [
    {
     "data": {
      "text/plain": [
       "21.821335541313132"
      ]
     },
     "execution_count": 19,
     "metadata": {},
     "output_type": "execute_result"
    }
   ],
   "source": [
    "var(data[:,3])"
   ]
  },
  {
   "cell_type": "code",
   "execution_count": 20,
   "metadata": {},
   "outputs": [],
   "source": [
    "varGen = 10.0\n",
    "varRes = 10.0\n",
    "mme = initMME(\"y = intercept + Ind\",varRes);\n",
    "setRandom(mme,\"Ind\",varGen,pedigree);"
   ]
  },
  {
   "cell_type": "code",
   "execution_count": 21,
   "metadata": {},
   "outputs": [],
   "source": [
    "lhs,rhs,names = getLhsRhs(mme,data);"
   ]
  },
  {
   "cell_type": "code",
   "execution_count": 22,
   "metadata": {},
   "outputs": [],
   "source": [
    "x = zero(rhs);"
   ]
  },
  {
   "cell_type": "code",
   "execution_count": 25,
   "metadata": {},
   "outputs": [
    {
     "name": "stdout",
     "output_type": "stream",
     "text": [
      "at sample: 1000\n",
      "at sample: 2000\n",
      "at sample: 3000\n",
      "at sample: 4000\n",
      "at sample: 5000\n",
      "at sample: 6000\n",
      "at sample: 7000\n",
      "at sample: 8000\n",
      "at sample: 9000\n",
      "at sample: 10000\n",
      "at sample: 11000\n",
      "at sample: 12000\n",
      "at sample: 13000\n",
      "at sample: 14000\n",
      "at sample: 15000\n",
      "at sample: 16000\n",
      "at sample: 17000\n",
      "at sample: 18000\n",
      "at sample: 19000\n",
      "at sample: 20000\n",
      "at sample: 21000\n",
      "at sample: 22000\n",
      "at sample: 23000\n",
      "at sample: 24000\n",
      "at sample: 25000\n",
      "at sample: 26000\n",
      "at sample: 27000\n",
      "at sample: 28000\n",
      "at sample: 29000\n",
      "at sample: 30000\n",
      "at sample: 31000\n",
      "at sample: 32000\n",
      "at sample: 33000\n",
      "at sample: 34000\n",
      "at sample: 35000\n",
      "at sample: 36000\n",
      "at sample: 37000\n",
      "at sample: 38000\n",
      "at sample: 39000\n",
      "at sample: 40000\n",
      "at sample: 41000\n",
      "at sample: 42000\n",
      "at sample: 43000\n",
      "at sample: 44000\n",
      "at sample: 45000\n",
      "at sample: 46000\n",
      "at sample: 47000\n",
      "at sample: 48000\n",
      "at sample: 49000\n",
      "at sample: 50000\n"
     ]
    }
   ],
   "source": [
    "nIter = 50000\n",
    "solGibbs = Gibbs!(lhs,x,rhs,varRes,nIter;outFreq=1000);"
   ]
  },
  {
   "cell_type": "code",
   "execution_count": 26,
   "metadata": {},
   "outputs": [
    {
     "data": {
      "text/plain": [
       "126×3 Array{Any,2}:\n",
       " \"intercept\"   5.3121       5.31345  \n",
       " \"Ind: 5\"      2.35044      2.37165  \n",
       " \"Ind: 21\"     1.64543      1.61821  \n",
       " \"Ind: 32\"     3.61474      3.61314  \n",
       " \"Ind: 15\"     0.572928     0.571631 \n",
       " \"Ind: 29\"     2.56382      2.57128  \n",
       " \"Ind: 1\"     -1.80097     -1.82355  \n",
       " \"Ind: 4\"      0.882558     0.891078 \n",
       " \"Ind: 20\"     3.25091      3.24584  \n",
       " \"Ind: 54\"     1.64348      1.64616  \n",
       " \"Ind: 22\"    -3.25768     -3.22863  \n",
       " \"Ind: 78\"    -0.635763    -0.621334 \n",
       " \"Ind: 81\"    -0.675892    -0.696458 \n",
       " ⋮                                   \n",
       " \"Ind: 45\"     2.53564      2.54842  \n",
       " \"Ind: 68\"    -2.28953     -2.30608  \n",
       " \"Ind: 56\"    -0.215254    -0.212933 \n",
       " \"Ind: 116\"    1.72992      1.70612  \n",
       " \"Ind: 36\"    -2.67832     -2.67382  \n",
       " \"Ind: 66\"    -1.14836     -1.14998  \n",
       " \"Ind: 76\"    -5.09805     -5.10858  \n",
       " \"Ind: 95\"     0.00718447   0.0174043\n",
       " \"Ind: 85\"     3.20232      3.19323  \n",
       " \"Ind: 48\"    -0.812982    -0.814834 \n",
       " \"Ind: 103\"    1.14704      1.1539   \n",
       " \"Ind: 30\"    -0.119004    -0.107576 "
      ]
     },
     "execution_count": 26,
     "metadata": {},
     "output_type": "execute_result"
    }
   ],
   "source": [
    "QRLhs = qr(lhs) \n",
    "sol = QRLhs\\rhs\n",
    "[names solGibbs sol]"
   ]
  },
  {
   "cell_type": "code",
   "execution_count": 27,
   "metadata": {},
   "outputs": [
    {
     "data": {
      "text/plain": [
       "2×2 Array{Float64,2}:\n",
       " 1.0       0.999988\n",
       " 0.999988  1.0     "
      ]
     },
     "execution_count": 27,
     "metadata": {},
     "output_type": "execute_result"
    }
   ],
   "source": [
    "cor(ans[:,2:3])"
   ]
  }
 ],
 "metadata": {
  "kernelspec": {
   "display_name": "Julia 1.1.0",
   "language": "julia",
   "name": "julia-1.1"
  },
  "language_info": {
   "file_extension": ".jl",
   "mimetype": "application/julia",
   "name": "julia",
   "version": "1.1.0"
  }
 },
 "nbformat": 4,
 "nbformat_minor": 2
}
