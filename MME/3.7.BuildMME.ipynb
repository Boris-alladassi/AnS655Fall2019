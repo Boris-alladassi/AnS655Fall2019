{
 "cells": [
  {
   "cell_type": "markdown",
   "metadata": {},
   "source": [
    "## Mixed Model Equations(MME) from Data and Model\n",
    "\n",
    "Here, we will see how the MME can be constructed from the Data in a DataFrame and a model given as a string. In the previous [notebook](3.6.DesignMatrix.ipynb), we constructed the left-hand-side (LHS) and the right-hand-side (RHS)  of the normal equations for a fixed-effects model. In order to construct the MME for a mixed model, we need to identify the random effects in the model and also determine the row and column positions for these random effects in the LHS of the MME. In order to store this information needed to construct the MME, we will use the following stuctures (composite types). \n",
    "\n",
    "### Structures for Building MME"
   ]
  },
  {
   "cell_type": "code",
   "execution_count": 1,
   "metadata": {},
   "outputs": [],
   "source": [
    "using DataFrames, SparseArrays, LinearAlgebra, Random, JWAS, CSV"
   ]
  },
  {
   "cell_type": "code",
   "execution_count": 2,
   "metadata": {},
   "outputs": [],
   "source": [
    "mutable struct ModelTerm\n",
    "    trmString::AbstractString\n",
    "    startPos::Int64\n",
    "    endPos::Int64\n",
    "    randomType::String\n",
    "    var::Float64\n",
    "end\n",
    "\n",
    "mutable struct MME\n",
    "    modelEquation::AbstractString           #\"y = A + B + A*B\"\n",
    "    covVec::Array{String}                   #[\"age\",\"age*age\"]\n",
    "    modelTermVec::Array{ModelTerm,1}        #[modelTerm(\"A\") , modelTerm(\"A*B\")]\n",
    "    modelTermDict::Dict{AbstractString,ModelTerm} \n",
    "    depVar::Symbol                          #:y \n",
    "    X::SparseMatrixCSC{Float64,Int64}       #design matrix\n",
    "    mmeLhs::SparseMatrixCSC{Float64,Int64}  #left-hand side for MME\n",
    "    mmeRhs::Array{Float64,1}                #right-hand side for MME\n",
    "    mmeSol::Array{Float64,1}                #a solution of the MME \n",
    "    varRes::Float64                         \n",
    "end  \n",
    "  "
   ]
  },
  {
   "cell_type": "markdown",
   "metadata": {},
   "source": [
    "### Functions for Building MME"
   ]
  },
  {
   "cell_type": "code",
   "execution_count": 18,
   "metadata": {},
   "outputs": [
    {
     "data": {
      "text/plain": [
       "ModelTerm"
      ]
     },
     "execution_count": 18,
     "metadata": {},
     "output_type": "execute_result"
    }
   ],
   "source": [
    "function ModelTerm(str::AbstractString)\n",
    "    ModelTerm(str,0,0,\"fixed\",1.0)\n",
    "end"
   ]
  },
  {
   "cell_type": "code",
   "execution_count": 4,
   "metadata": {},
   "outputs": [
    {
     "data": {
      "text/plain": [
       "initMME (generic function with 1 method)"
      ]
     },
     "execution_count": 4,
     "metadata": {},
     "output_type": "execute_result"
    }
   ],
   "source": [
    "function initMME(modelEquation::AbstractString,varRes)  # \"y = A + A*B\"\n",
    "    if modelEquation==\"\"\n",
    "        error(\"modelEquation is empty\\n\")\n",
    "    end\n",
    "    leftRight  = split(modelEquation,\"=\")       # \"y\", \"A+A*B\"\n",
    "    depVar     = Symbol(strip(leftRight[1]))    # :y\n",
    "    modelParts = strip(leftRight[2])            #\"A+A*B\" \n",
    "    termsVec   = split(modelParts,\"+\")          #\"A\",\"A*B\"\n",
    "    modelTermVec = [ModelTerm(strip(trmStr)) for trmStr in termsVec]\n",
    "    modelTermDict = Dict{AbstractString,ModelTerm}()\n",
    "    for i in modelTermVec\n",
    "        modelTermDict[i.trmString] = i\n",
    "    end\n",
    "    covVec = []\n",
    "    X = spzeros(0,0)\n",
    "    mmeLhs = spzeros(0,0)\n",
    "    mmeRhs = []\n",
    "    mmeSol = []\n",
    "    return MME(modelEquation,covVec,modelTermVec,modelTermDict,depVar,X,mmeLhs,mmeRhs,mmeSol,varRes)\n",
    "end "
   ]
  },
  {
   "cell_type": "code",
   "execution_count": 5,
   "metadata": {},
   "outputs": [],
   "source": [
    "varRes = 1.0\n",
    "mme = initMME(\"y = sex + breed + age\",varRes)\n",
    "mme.covVec = [\"age\"];"
   ]
  },
  {
   "cell_type": "code",
   "execution_count": 6,
   "metadata": {},
   "outputs": [
    {
     "data": {
      "text/plain": [
       "\"y = sex + breed + age\""
      ]
     },
     "execution_count": 6,
     "metadata": {},
     "output_type": "execute_result"
    }
   ],
   "source": [
    "mme.modelEquation"
   ]
  },
  {
   "cell_type": "code",
   "execution_count": 7,
   "metadata": {},
   "outputs": [
    {
     "data": {
      "text/plain": [
       "3-element Array{ModelTerm,1}:\n",
       " ModelTerm(\"sex\", 0, 0, \"\", 1.0)  \n",
       " ModelTerm(\"breed\", 0, 0, \"\", 1.0)\n",
       " ModelTerm(\"age\", 0, 0, \"\", 1.0)  "
      ]
     },
     "execution_count": 7,
     "metadata": {},
     "output_type": "execute_result"
    }
   ],
   "source": [
    "mme.modelTermVec"
   ]
  },
  {
   "cell_type": "code",
   "execution_count": 8,
   "metadata": {},
   "outputs": [
    {
     "data": {
      "text/plain": [
       ":y"
      ]
     },
     "execution_count": 8,
     "metadata": {},
     "output_type": "execute_result"
    }
   ],
   "source": [
    "mme.depVar"
   ]
  },
  {
   "cell_type": "code",
   "execution_count": 9,
   "metadata": {},
   "outputs": [
    {
     "data": {
      "text/plain": [
       "getX (generic function with 1 method)"
      ]
     },
     "execution_count": 9,
     "metadata": {},
     "output_type": "execute_result"
    }
   ],
   "source": [
    "# This function returns a dictionary with the unique values in the vector \"a\" as the keys and their \n",
    "# sequential numbers as the associated values\n",
    "# It also returns vector with the keys in sequential order. \n",
    "function mkDict(a)\n",
    "  aUnique = unique(a)\n",
    "  d = Dict()\n",
    "  names = Array{String}(undef,size(aUnique,1))\n",
    "  for (i,s) in enumerate(aUnique)\n",
    "    names[i] = s\n",
    "    d[s] = i\n",
    "  end\n",
    "  return d,names\n",
    "end\n",
    "\n",
    "function getX(modelTerm,covariables,df)\n",
    "    n = size(df,1)\n",
    "    if modelTerm == \"intercept\"\n",
    "        X = ones(n,1)\n",
    "        colNames = [\"intercept\"]\n",
    "        return X,colNames\n",
    "    end\n",
    "    factors = strip.(split(modelTerm,\"*\"))\n",
    "    covs = [i in covariables for i in factors]\n",
    "    \n",
    "    if covs[1] == false\n",
    "        str = df[:,Symbol(factors[1])]\n",
    "        val = 1.0\n",
    "    else\n",
    "        str = fill(factors[1],n) \n",
    "        val = df[:,Symbol(factors[1])]    \n",
    "    end       \n",
    "\n",
    "    for i in 2:length(factors)\n",
    "        if covs[i] == false\n",
    "            str = str .*\" x \".*df[:,Symbol(factors[i])]\n",
    "            val = val .* 1.0 \n",
    "        else\n",
    "            str = str .*\" x \".*fill(factors[i],n) \n",
    "            val = val .* df[:,Symbol(factors[i])]    \n",
    "        end \n",
    "    end \n",
    "    dict,colNames   = mkDict(str)\n",
    "    ii = 1:n                     # row numbers \n",
    "    jj = [dict[i] for i in str]  # column numbers\n",
    "    X  = sparse(ii,jj,val)\n",
    "    return X, strip(modelTerm)*\": \".*colNames   \n",
    "end"
   ]
  },
  {
   "cell_type": "code",
   "execution_count": 10,
   "metadata": {},
   "outputs": [
    {
     "data": {
      "text/plain": [
       "getLhsRhs (generic function with 1 method)"
      ]
     },
     "execution_count": 10,
     "metadata": {},
     "output_type": "execute_result"
    }
   ],
   "source": [
    "function getLhsRhs(mme,df)\n",
    "    X,colNames = getX(mme.modelTermVec[1].trmString,mme.covVec,df)\n",
    "    mme.modelTermVec[1].startPos = 1\n",
    "    mme.modelTermVec[1].endPos  = mme.modelTermVec[1].startPos + size(X,2) - 1\n",
    "    for i = 2:size(mme.modelTermVec,1)\n",
    "        Xi,namesi = getX(mme.modelTermVec[i].trmString,mme.covVec,df)\n",
    "        X = [X Xi]\n",
    "        mme.modelTermVec[i].startPos = mme.modelTermVec[i-1].endPos + 1\n",
    "        mme.modelTermVec[i].endPos   = mme.modelTermVec[i].startPos + size(Xi,2) - 1\n",
    "        colNames = [colNames; namesi]\n",
    "    end\n",
    "    y = df[:,mme.depVar]\n",
    "    return X'X,X'y,colNames\n",
    "end"
   ]
  },
  {
   "cell_type": "code",
   "execution_count": 11,
   "metadata": {},
   "outputs": [
    {
     "data": {
      "text/html": [
       "<table class=\"data-frame\"><thead><tr><th></th><th>animal</th><th>sex</th><th>breed</th><th>age</th><th>y</th></tr><tr><th></th><th>String</th><th>String</th><th>String</th><th>Int64</th><th>Float64</th></tr></thead><tbody><p>6 rows × 5 columns</p><tr><th>1</th><td>animal1</td><td>m</td><td>Angus</td><td>40</td><td>-0.859</td></tr><tr><th>2</th><td>animal2</td><td>f</td><td>Angus</td><td>36</td><td>0.631</td></tr><tr><th>3</th><td>animal3</td><td>f</td><td>Hereford</td><td>38</td><td>1.775</td></tr><tr><th>4</th><td>animal4</td><td>m</td><td>Hereford</td><td>42</td><td>-0.17</td></tr><tr><th>5</th><td>animal5</td><td>f</td><td>Angus</td><td>40</td><td>-0.561</td></tr><tr><th>6</th><td>animal6</td><td>f</td><td>Angus</td><td>36</td><td>0.214</td></tr></tbody></table>"
      ],
      "text/latex": [
       "\\begin{tabular}{r|ccccc}\n",
       "\t& animal & sex & breed & age & y\\\\\n",
       "\t\\hline\n",
       "\t& String & String & String & Int64 & Float64\\\\\n",
       "\t\\hline\n",
       "\t1 & animal1 & m & Angus & 40 & -0.859 \\\\\n",
       "\t2 & animal2 & f & Angus & 36 & 0.631 \\\\\n",
       "\t3 & animal3 & f & Hereford & 38 & 1.775 \\\\\n",
       "\t4 & animal4 & m & Hereford & 42 & -0.17 \\\\\n",
       "\t5 & animal5 & f & Angus & 40 & -0.561 \\\\\n",
       "\t6 & animal6 & f & Angus & 36 & 0.214 \\\\\n",
       "\\end{tabular}\n"
      ],
      "text/plain": [
       "6×5 DataFrame\n",
       "│ Row │ animal  │ sex    │ breed    │ age   │ y       │\n",
       "│     │ \u001b[90mString\u001b[39m  │ \u001b[90mString\u001b[39m │ \u001b[90mString\u001b[39m   │ \u001b[90mInt64\u001b[39m │ \u001b[90mFloat64\u001b[39m │\n",
       "├─────┼─────────┼────────┼──────────┼───────┼─────────┤\n",
       "│ 1   │ animal1 │ m      │ Angus    │ 40    │ -0.859  │\n",
       "│ 2   │ animal2 │ f      │ Angus    │ 36    │ 0.631   │\n",
       "│ 3   │ animal3 │ f      │ Hereford │ 38    │ 1.775   │\n",
       "│ 4   │ animal4 │ m      │ Hereford │ 42    │ -0.17   │\n",
       "│ 5   │ animal5 │ f      │ Angus    │ 40    │ -0.561  │\n",
       "│ 6   │ animal6 │ f      │ Angus    │ 36    │ 0.214   │"
      ]
     },
     "execution_count": 11,
     "metadata": {},
     "output_type": "execute_result"
    }
   ],
   "source": [
    "Random.seed!(31415)\n",
    "animal= [\"animal1\",\"animal2\",\"animal3\",\"animal4\",\"animal5\",\"animal6\"]\n",
    "sex   = [\"m\",\"f\",\"f\",\"m\",\"f\",\"f\"]\n",
    "breed = [\"Angus\",\"Angus\",\"Hereford\",\"Hereford\",\"Angus\",\"Angus\"]\n",
    "age   = [40,36,38,42,40,36]\n",
    "df    = DataFrame(animal=animal,sex=sex,breed=breed,age=age,y=round.(randn(6),digits=3))"
   ]
  },
  {
   "cell_type": "code",
   "execution_count": 12,
   "metadata": {},
   "outputs": [
    {
     "data": {
      "text/plain": [
       "6×8 Array{Any,2}:\n",
       " \"intercept\"          6.0   2.0    4.0    4.0   2.0   232.0   1.03 \n",
       " \"sex: m\"             2.0   2.0    0.0    1.0   1.0    82.0  -1.029\n",
       " \"sex: f\"             4.0   0.0    4.0    3.0   1.0   150.0   2.059\n",
       " \"breed: Angus\"       4.0   1.0    3.0    4.0   0.0   152.0  -0.575\n",
       " \"breed: Hereford\"    2.0   1.0    1.0    0.0   2.0    80.0   1.605\n",
       " \"age: age\"         232.0  82.0  150.0  152.0  80.0  9000.0  33.93 "
      ]
     },
     "execution_count": 12,
     "metadata": {},
     "output_type": "execute_result"
    }
   ],
   "source": [
    "mme = initMME(\"y = intercept + sex + breed + age\",varRes)\n",
    "mme.covVec = [\"age\"];\n",
    "lhs,rhs,names = getLhsRhs(mme,df)\n",
    "[names Matrix(lhs) rhs]"
   ]
  },
  {
   "cell_type": "code",
   "execution_count": 13,
   "metadata": {},
   "outputs": [
    {
     "data": {
      "text/plain": [
       "4-element Array{ModelTerm,1}:\n",
       " ModelTerm(\"intercept\", 1, 1, \"\", 1.0)\n",
       " ModelTerm(\"sex\", 2, 3, \"\", 1.0)      \n",
       " ModelTerm(\"breed\", 4, 5, \"\", 1.0)    \n",
       " ModelTerm(\"age\", 6, 6, \"\", 1.0)      "
      ]
     },
     "execution_count": 13,
     "metadata": {},
     "output_type": "execute_result"
    }
   ],
   "source": [
    "mme.modelTermVec"
   ]
  },
  {
   "cell_type": "code",
   "execution_count": 14,
   "metadata": {},
   "outputs": [
    {
     "name": "stdout",
     "output_type": "stream",
     "text": [
      "\u001b[32mThe delimiter in pedFile is ','.\u001b[39m\n"
     ]
    },
    {
     "name": "stderr",
     "output_type": "stream",
     "text": [
      "\u001b[32mcoding pedigree... 100%|████████████████████████████████| Time: 0:00:00\u001b[39m\n",
      "\u001b[32mcalculating inbreeding... 100%|█████████████████████████| Time: 0:00:00\u001b[39m\n"
     ]
    },
    {
     "name": "stdout",
     "output_type": "stream",
     "text": [
      "Finished!\n"
     ]
    }
   ],
   "source": [
    "pedigree   = get_pedigree(\"pedFile\",separator=\",\",header=false);"
   ]
  },
  {
   "cell_type": "code",
   "execution_count": 15,
   "metadata": {},
   "outputs": [
    {
     "data": {
      "text/html": [
       "<table class=\"data-frame\"><thead><tr><th></th><th>Ind</th><th>Mat</th><th>y1</th><th>y2</th></tr><tr><th></th><th>Int64</th><th>Int64</th><th>Float64</th><th>Float64</th></tr></thead><tbody><p>3 rows × 4 columns</p><tr><th>1</th><td>3</td><td>2</td><td>8.9</td><td>11.9</td></tr><tr><th>2</th><td>4</td><td>2</td><td>9.7</td><td>10.8</td></tr><tr><th>3</th><td>5</td><td>4</td><td>8.8</td><td>11.9</td></tr></tbody></table>"
      ],
      "text/latex": [
       "\\begin{tabular}{r|cccc}\n",
       "\t& Ind & Mat & y1 & y2\\\\\n",
       "\t\\hline\n",
       "\t& Int64 & Int64 & Float64 & Float64\\\\\n",
       "\t\\hline\n",
       "\t1 & 3 & 2 & 8.9 & 11.9 \\\\\n",
       "\t2 & 4 & 2 & 9.7 & 10.8 \\\\\n",
       "\t3 & 5 & 4 & 8.8 & 11.9 \\\\\n",
       "\\end{tabular}\n"
      ],
      "text/plain": [
       "3×4 DataFrame\n",
       "│ Row │ Ind   │ Mat   │ y1      │ y2      │\n",
       "│     │ \u001b[90mInt64\u001b[39m │ \u001b[90mInt64\u001b[39m │ \u001b[90mFloat64\u001b[39m │ \u001b[90mFloat64\u001b[39m │\n",
       "├─────┼───────┼───────┼─────────┼─────────┤\n",
       "│ 1   │ 3     │ 2     │ 8.9     │ 11.9    │\n",
       "│ 2   │ 4     │ 2     │ 9.7     │ 10.8    │\n",
       "│ 3   │ 5     │ 4     │ 8.8     │ 11.9    │"
      ]
     },
     "execution_count": 15,
     "metadata": {},
     "output_type": "execute_result"
    }
   ],
   "source": [
    "data = CSV.read(\"twoTraitMaternal.phen\")"
   ]
  },
  {
   "cell_type": "code",
   "execution_count": 19,
   "metadata": {},
   "outputs": [
    {
     "data": {
      "text/plain": [
       "MME(\"y1 = intercept + Ind\", String[], ModelTerm[ModelTerm(\"intercept\", 0, 0, \"fixed\", 1.0), ModelTerm(\"Ind\", 0, 0, \"fixed\", 1.0)], Dict{AbstractString,ModelTerm}(\"intercept\"=>ModelTerm(\"intercept\", 0, 0, \"fixed\", 1.0),\"Ind\"=>ModelTerm(\"Ind\", 0, 0, \"fixed\", 1.0)), :y1, 0×0 SparseMatrixCSC{Float64,Int64} with 0 stored entries, 0×0 SparseMatrixCSC{Float64,Int64} with 0 stored entries, Float64[], Float64[], 1.0)"
      ]
     },
     "execution_count": 19,
     "metadata": {},
     "output_type": "execute_result"
    }
   ],
   "source": [
    "varRes = 1.0\n",
    "mme = initMME(\"y1 = intercept + Ind\",varRes);"
   ]
  },
  {
   "cell_type": "code",
   "execution_count": 21,
   "metadata": {},
   "outputs": [
    {
     "data": {
      "text/plain": [
       "2-element Array{ModelTerm,1}:\n",
       " ModelTerm(\"intercept\", 0, 0, \"fixed\", 1.0)\n",
       " ModelTerm(\"Ind\", 0, 0, \"fixed\", 1.0)      "
      ]
     },
     "execution_count": 21,
     "metadata": {},
     "output_type": "execute_result"
    }
   ],
   "source": [
    "mme.modelTermVec"
   ]
  },
  {
   "cell_type": "code",
   "execution_count": 26,
   "metadata": {},
   "outputs": [
    {
     "data": {
      "text/plain": [
       "setRandom (generic function with 2 methods)"
      ]
     },
     "execution_count": 26,
     "metadata": {},
     "output_type": "execute_result"
    }
   ],
   "source": [
    "function setRandom(mme::MME,trmString::String,var::Float64)\n",
    "    modelTerm = mme.modelTermDict[trmString]\n",
    "    modelTerm.randomType = \"I\"\n",
    "    modelTerm.var = var\n",
    "end"
   ]
  },
  {
   "cell_type": "code",
   "execution_count": 29,
   "metadata": {},
   "outputs": [
    {
     "data": {
      "text/plain": [
       "1.5"
      ]
     },
     "execution_count": 29,
     "metadata": {},
     "output_type": "execute_result"
    }
   ],
   "source": [
    "setRandom(mme,\"Ind\",1.5)"
   ]
  },
  {
   "cell_type": "code",
   "execution_count": 30,
   "metadata": {},
   "outputs": [
    {
     "data": {
      "text/plain": [
       "2-element Array{ModelTerm,1}:\n",
       " ModelTerm(\"intercept\", 0, 0, \"fixed\", 1.0)\n",
       " ModelTerm(\"Ind\", 0, 0, \"I\", 1.5)          "
      ]
     },
     "execution_count": 30,
     "metadata": {},
     "output_type": "execute_result"
    }
   ],
   "source": [
    "mme.modelTermVec"
   ]
  }
 ],
 "metadata": {
  "kernelspec": {
   "display_name": "Julia 1.1.0",
   "language": "julia",
   "name": "julia-1.1"
  },
  "language_info": {
   "file_extension": ".jl",
   "mimetype": "application/julia",
   "name": "julia",
   "version": "1.1.0"
  }
 },
 "nbformat": 4,
 "nbformat_minor": 2
}
