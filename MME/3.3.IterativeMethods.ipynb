{
 "cells": [
  {
   "cell_type": "markdown",
   "metadata": {},
   "source": [
    "### Latex macros:\n",
    "$$\n",
    "\\newcommand{\\E}{\\text{E}}\n",
    "\\newcommand{\\mbf}{\\mathbf}\n",
    "\\newcommand{\\bo}{\\mathbf}\n",
    "\\newcommand{\\bs}{\\boldsymbol}\n",
    "\\newcommand{\\Var}{\\text{Var}}\n",
    "\\newcommand{\\Cov}{\\text{Cov}}\n",
    "\\newcommand{\\e}{\\frac{1}{\\sigma^2_e}}\n",
    "\\newcommand{\\f}{\\frac{1}{\\sigma^2_{\\alpha}}}\n",
    "$$"
   ]
  },
  {
   "cell_type": "code",
   "execution_count": 7,
   "metadata": {},
   "outputs": [
    {
     "data": {
      "application/javascript": [
       "    MathJax.Hub.Config({\n",
       "      TeX: { equationNumbers: { autoNumber: \"AMS\" } }\n",
       "    });\n",
       "    MathJax.Hub.Queue( \n",
       "        [\"resetEquationNumbers\",MathJax.InputJax.TeX], \n",
       "        [\"PreProcess\",MathJax.Hub], \n",
       "        [\"Reprocess\",MathJax.Hub] \n",
       "    );\n"
      ]
     },
     "metadata": {},
     "output_type": "display_data"
    }
   ],
   "source": [
    "macro javascript_str(s) display(\"text/javascript\", s); end\n",
    "javascript\"\"\"\n",
    "    MathJax.Hub.Config({\n",
    "      TeX: { equationNumbers: { autoNumber: \"AMS\" } }\n",
    "    });\n",
    "    MathJax.Hub.Queue( \n",
    "        [\"resetEquationNumbers\",MathJax.InputJax.TeX], \n",
    "        [\"PreProcess\",MathJax.Hub], \n",
    "        [\"Reprocess\",MathJax.Hub] \n",
    "    );\n",
    "\"\"\""
   ]
  },
  {
   "cell_type": "markdown",
   "metadata": {
    "slideshow": {
     "slide_type": "slide"
    }
   },
   "source": [
    "# Iterative methods for solving linear systems"
   ]
  },
  {
   "cell_type": "markdown",
   "metadata": {
    "slideshow": {
     "slide_type": "slide"
    }
   },
   "source": [
    "Consider the system of consistent linear equations: \n",
    "\n",
    "\\begin{equation}\n",
    "\\label{eq:Axb}\n",
    "\\mathbf{Ax} = \\mathbf{b},\n",
    "\\end{equation}\n",
    "* Three iterative methods that we will use for solving the linear systems are the Jacobi method, the Gauss-Seidel Methods, and the Preconditioned Conjugate Gradient (PCCG) method. \n",
    "* These methods can be used to solve normal equations shown in the previous section and Mixed Model Equations (MME) we will covered later. \n",
    "* Consider MME, the left-hand-side (LHS) of the MME is represented by $\\mathbf{A}$ and the right-hand-side (RHS) by $\\mathbf{b}$. \n",
    "* The LHS of the MME is often too large to store in memory as a “fully-stored” matrix. However, $\\mathbf{A}$ is often very sparse. Thus, it is may be possible to store only the non-zero elements of $\\mathbf{A}$ and compute $\\mathbf{Ax_n}$, using sparse matrix methods."
   ]
  },
  {
   "cell_type": "markdown",
   "metadata": {
    "slideshow": {
     "slide_type": "slide"
    }
   },
   "source": [
    "### The Jacobi method"
   ]
  },
  {
   "cell_type": "markdown",
   "metadata": {
    "slideshow": {
     "slide_type": "fragment"
    }
   },
   "source": [
    "In the Jacobi method, the solution at iteration $t+1$ can be written as: \n",
    "\\begin{equation}\n",
    "  \\label{eq:jacobi}\n",
    "\\mathbf{x}^{t+1} = \\mathbf{D}^{−1}(\\mathbf{b} − \\mathbf{A}\\mathbf{x}^t) + \\mathbf{x}^t,\n",
    "\\end{equation}\n",
    "where $\\mathbf{D}$ is the diagonal component of $\\mathbf{A}$.\n",
    "\n",
    "#### Weighted Jacobi algorithm\n",
    "\n",
    "Convergence can often be improved by using a weighted Jacobi approach:\n",
    "\\begin{equation}\n",
    "\\mathbf{x}^{t+1*} = \\alpha\\mathbf{x}^{t+1} + (1 − \\alpha)\\mathbf{x}^{t*}   \\label{eq:jacobi_modified}\n",
    "\\end{equation}\n",
    "for $0 < \\alpha < 1$.\n",
    "\n",
    "Straightforward application of the Jacobi method to solve the normal equations or mixed model equations\n",
    "would require first computing the left-hand-side (LHS) and right-hand-side (RHS) of the normal equations or mixed model equations, and then using (\\ref{eq:jacobi_modified}) until convergence."
   ]
  },
  {
   "cell_type": "markdown",
   "metadata": {
    "slideshow": {
     "slide_type": "slide"
    }
   },
   "source": [
    "#### Numerical Example"
   ]
  },
  {
   "cell_type": "code",
   "execution_count": 56,
   "metadata": {
    "slideshow": {
     "slide_type": "fragment"
    }
   },
   "outputs": [],
   "source": [
    "using LinearAlgebra, Distributions, DataFrames"
   ]
  },
  {
   "cell_type": "code",
   "execution_count": 57,
   "metadata": {
    "slideshow": {
     "slide_type": "fragment"
    }
   },
   "outputs": [],
   "source": [
    "data = DataFrame(x=[1,1,2,2,2,2,3,3,4,1],y=[1.1,1.2,1.9,1.2,2.0,1.7,1.0,1.7,1.1,1.7])\n",
    "n = size(data,1)\n",
    "p = length(unique(data[:,:x]))\n",
    "X = zeros(n,p);\n",
    "for i = 1:n\n",
    "    j = data[:,:x][i]\n",
    "    X[i,j] = 1.0\n",
    "end\n",
    "X = [ones(n) X];\n",
    "y = data[:,:y];\n",
    "lhs = X'X;\n",
    "rhs = X'y;"
   ]
  },
  {
   "cell_type": "code",
   "execution_count": 58,
   "metadata": {},
   "outputs": [
    {
     "data": {
      "text/plain": [
       "5×5 Array{Float64,2}:\n",
       " 10.0  3.0  4.0  2.0  1.0\n",
       "  3.0  3.0  0.0  0.0  0.0\n",
       "  4.0  0.0  4.0  0.0  0.0\n",
       "  2.0  0.0  0.0  2.0  0.0\n",
       "  1.0  0.0  0.0  0.0  1.0"
      ]
     },
     "execution_count": 58,
     "metadata": {},
     "output_type": "execute_result"
    }
   ],
   "source": [
    "lhs"
   ]
  },
  {
   "cell_type": "code",
   "execution_count": 71,
   "metadata": {
    "slideshow": {
     "slide_type": "slide"
    }
   },
   "outputs": [
    {
     "name": "stdout",
     "output_type": "stream",
     "text": [
      "[0.46, 0.333333, 0.7, 0.35, 0.1]\n",
      "[1.0, 0.873333, 1.24, 0.89, 0.64]\n",
      "[0.46, 0.333333, 0.7, 0.35, 0.1]\n",
      "[1.0, 0.873333, 1.24, 0.89, 0.64]\n",
      "[0.46, 0.333333, 0.7, 0.35, 0.1]\n",
      "[1.0, 0.873333, 1.24, 0.89, 0.64]\n",
      "[0.46, 0.333333, 0.7, 0.35, 0.1]\n",
      "[1.0, 0.873333, 1.24, 0.89, 0.64]\n",
      "[0.46, 0.333333, 0.7, 0.35, 0.1]\n",
      "[1.0, 0.873333, 1.24, 0.89, 0.64]\n",
      "[0.46, 0.333333, 0.7, 0.35, 0.1]\n",
      "[1.0, 0.873333, 1.24, 0.89, 0.64]\n",
      "[0.46, 0.333333, 0.7, 0.35, 0.1]\n",
      "[1.0, 0.873333, 1.24, 0.89, 0.64]\n",
      "[0.46, 0.333333, 0.7, 0.35, 0.1]\n",
      "[1.0, 0.873333, 1.24, 0.89, 0.64]\n",
      "[0.46, 0.333333, 0.7, 0.35, 0.1]\n",
      "[1.0, 0.873333, 1.24, 0.89, 0.64]\n",
      "[0.46, 0.333333, 0.7, 0.35, 0.1]\n",
      "[1.0, 0.873333, 1.24, 0.89, 0.64]\n"
     ]
    }
   ],
   "source": [
    "D = Diagonal(lhs)\n",
    "A = lhs + I*0.0\n",
    "b = rhs\n",
    "x = ones(5)\n",
    "for i = 1:20\n",
    "    x=inv(D)*(b-A*x)+x\n",
    "    println(x)\n",
    "end"
   ]
  },
  {
   "cell_type": "code",
   "execution_count": 11,
   "metadata": {},
   "outputs": [
    {
     "data": {
      "text/plain": [
       "5×2 Array{Float64,2}:\n",
       " 20.0   14.6\n",
       "  5.62   4.0\n",
       "  8.96   6.8\n",
       "  3.78   2.7\n",
       "  1.64   1.1"
      ]
     },
     "execution_count": 11,
     "metadata": {},
     "output_type": "execute_result"
    }
   ],
   "source": [
    "[A*x b]"
   ]
  },
  {
   "cell_type": "markdown",
   "metadata": {
    "slideshow": {
     "slide_type": "slide"
    }
   },
   "source": [
    "#### Function for Weighed Jacobi Iteration"
   ]
  },
  {
   "cell_type": "code",
   "execution_count": 13,
   "metadata": {
    "slideshow": {
     "slide_type": "slide"
    }
   },
   "outputs": [
    {
     "data": {
      "text/plain": [
       "WJacobi (generic function with 2 methods)"
      ]
     },
     "execution_count": 13,
     "metadata": {},
     "output_type": "execute_result"
    }
   ],
   "source": [
    "function WJacobi(A,x,b,p=0.7;tolerance=0.000001,printout_frequency=10,maxiter=1000) #optional arguments keyword arguments\n",
    "    n       = size(A,1)        #number of linear equations\n",
    "    D       = diag(A)\n",
    "    error   = b - A*x\n",
    "    diff    = sum(error.^2)/n\n",
    "    \n",
    "    iter    = 0\n",
    "    while (diff > tolerance) && (iter < maxiter)\n",
    "        iter   += 1\n",
    "        error   = b - A*x\n",
    "        x_temp  = error./D + x\n",
    "        x       = p*x_temp + (1-p)*x\n",
    "        diff    = sum(error.^2)/n\n",
    "        \n",
    "        if iter%printout_frequency == 0\n",
    "            println(iter,\" \",diff)\n",
    "        end\n",
    "    end\n",
    "    return x\n",
    "end"
   ]
  },
  {
   "cell_type": "code",
   "execution_count": 15,
   "metadata": {
    "slideshow": {
     "slide_type": "slide"
    }
   },
   "outputs": [
    {
     "name": "stdout",
     "output_type": "stream",
     "text": [
      "10 3.8029144498142352e-6\n"
     ]
    },
    {
     "data": {
      "text/plain": [
       "5×2 Array{Float64,2}:\n",
       " 14.6006   14.6\n",
       "  4.00018   4.0\n",
       "  6.80024   6.8\n",
       "  2.70012   2.7\n",
       "  1.10006   1.1"
      ]
     },
     "execution_count": 15,
     "metadata": {},
     "output_type": "execute_result"
    }
   ],
   "source": [
    "starting_value = zeros(size(lhs,2))\n",
    "sol=WJacobi(lhs,starting_value,rhs,0.7)\n",
    "[A*sol A*(lhs\\rhs)]"
   ]
  },
  {
   "cell_type": "markdown",
   "metadata": {},
   "source": [
    "#### Why does weighted Jacobi work better?"
   ]
  },
  {
   "cell_type": "markdown",
   "metadata": {},
   "source": [
    "Equation (\\ref{eq:Axb}) can be rearranged as follows to get "
   ]
  },
  {
   "cell_type": "markdown",
   "metadata": {},
   "source": [
    "\\begin{align}\n",
    "\\bo{Ax} &= \\bo{b} \\\\\n",
    "(\\bo{D} + \\bo{E})\\bo{x} &= \\bo{b}\\\\\n",
    "\\bo{D}\\bo{x} &= -\\bo{E}\\bo{x} + \\bo{b}\\\\\n",
    "\\bo{x} &= -\\bo{D}^{-1}\\bo{E}\\bo{x} + \\bo{D}^{-1}\\bo{b}\\\\\n",
    "\\bo{x} &= \\bo{B}\\bo{x} + \\bo{z}, \n",
    "\\label{eq:xBXz}\n",
    "\\end{align}"
   ]
  },
  {
   "cell_type": "markdown",
   "metadata": {},
   "source": [
    "where $\\bo{B} = -\\bo{D}^{-1}\\bo{E}$ and $\\bo{z} = \\bo{D}^{-1}\\bo{b}$. Functional iteration using (\\ref{eq:xBXz}) results in the Jacobi method:"
   ]
  },
  {
   "cell_type": "markdown",
   "metadata": {},
   "source": [
    "\\begin{equation}\n",
    "\\label{eq:Jacobi1}\n",
    "\\bo{x}^{(t+1)} = \\bo{B}\\bo{x}^{t} + \\bo{z}, \n",
    "\\end{equation}\n",
    "\n",
    "Let $\\bo{x}$ be a solution for (\\ref{eq:Axb}). Then, (\\ref{eq:Jacobi1}) can be written as"
   ]
  },
  {
   "cell_type": "markdown",
   "metadata": {},
   "source": [
    "\\begin{equation}\n",
    "\\label{eq:Jacobi2}\n",
    "\\bo{x}^{(t+1)} = \\bo{B}(\\bo{x} + \\bo{e}^{t}) + \\bo{z}, \n",
    "\\end{equation}"
   ]
  },
  {
   "cell_type": "markdown",
   "metadata": {},
   "source": [
    "where $\\bo{e}^{t} = \\bo{x}^t - \\bo{x}$. But, from (\\ref{eq:xBXz}), $\\bo{x} = \\bo{B}\\bo{x} + \\bo{z}$, and therefore (\\ref{eq:Jacobi2}) can be written as\n",
    "\\begin{equation}\n",
    "\\label{eq:Jacobi3}\n",
    "\\bo{x}^{(t+1)} = \\bo{x} + \\bo{B}\\bo{e}^{t}, \n",
    "\\end{equation}\n",
    "or\n",
    "\\begin{equation}\n",
    "\\label{eq:Jacobi4}\n",
    "\\bo{e}^{(t+1)} = \\bo{B}\\bo{e}^{t},\n",
    "\\end{equation}"
   ]
  },
  {
   "cell_type": "markdown",
   "metadata": {},
   "source": [
    "which implies \n",
    "\\begin{equation}\n",
    "\\label{eq:Jacobi5}\n",
    "\\bo{e}^{(t+1)} = \\bo{B}^{t+1}\\bo{e}^{0}.\n",
    "\\end{equation}"
   ]
  },
  {
   "cell_type": "markdown",
   "metadata": {},
   "source": [
    "For the matrix $\\bo{B}$ in (\\ref{eq:Jacobi4}), let $\\bs{\\Lambda}$ be a diagonal matrix with its eigen values and $\\bo{R}$ a matrix with the corresponding eigen vectors. Provided that the matrix $\\bo{R}$ is non-singular, it can be shown that $\\bo{B}^t = \\bo{R}\\bo{\\Lambda}^{t}\\bo{R}^{-1}$, and thus\n",
    "\\begin{equation}\n",
    "\\label{eq:Jacobi6}\n",
    "\\bo{e}^{(t)} = \\bo{R}\\bo{\\Lambda}^{t}\\bo{R}^{-1}\\bo{e}^{0}.\n",
    "\\end{equation}"
   ]
  },
  {
   "cell_type": "markdown",
   "metadata": {},
   "source": [
    "#### Eigen values and Eigen vectors of $\\bo{B}$"
   ]
  },
  {
   "cell_type": "markdown",
   "metadata": {},
   "source": [
    "Can see below that $\\bo{B}$ has two non-zero eigen values equal to 1 and -1. Thus, (\\ref{eq:Jacobi6}) does not converge.  "
   ]
  },
  {
   "cell_type": "code",
   "execution_count": 16,
   "metadata": {},
   "outputs": [
    {
     "data": {
      "text/plain": [
       "5×5 Array{Float64,2}:\n",
       " 10.0  3.0  4.0  2.0  1.0\n",
       "  3.0  3.0  0.0  0.0  0.0\n",
       "  4.0  0.0  4.0  0.0  0.0\n",
       "  2.0  0.0  0.0  2.0  0.0\n",
       "  1.0  0.0  0.0  0.0  1.0"
      ]
     },
     "execution_count": 16,
     "metadata": {},
     "output_type": "execute_result"
    }
   ],
   "source": [
    "A"
   ]
  },
  {
   "cell_type": "code",
   "execution_count": 17,
   "metadata": {},
   "outputs": [
    {
     "data": {
      "text/plain": [
       "5×5 Array{Float64,2}:\n",
       " 0.0  3.0  4.0  2.0  1.0\n",
       " 3.0  0.0  0.0  0.0  0.0\n",
       " 4.0  0.0  0.0  0.0  0.0\n",
       " 2.0  0.0  0.0  0.0  0.0\n",
       " 1.0  0.0  0.0  0.0  0.0"
      ]
     },
     "execution_count": 17,
     "metadata": {},
     "output_type": "execute_result"
    }
   ],
   "source": [
    "E = A - D"
   ]
  },
  {
   "cell_type": "code",
   "execution_count": 18,
   "metadata": {},
   "outputs": [
    {
     "data": {
      "text/plain": [
       "true"
      ]
     },
     "execution_count": 18,
     "metadata": {},
     "output_type": "execute_result"
    }
   ],
   "source": [
    "E + D == A"
   ]
  },
  {
   "cell_type": "code",
   "execution_count": 19,
   "metadata": {},
   "outputs": [
    {
     "data": {
      "text/plain": [
       "5×5 Array{Float64,2}:\n",
       " -0.0  -0.3  -0.4  -0.2  -0.1\n",
       " -1.0  -0.0  -0.0  -0.0  -0.0\n",
       " -1.0  -0.0  -0.0  -0.0  -0.0\n",
       " -1.0  -0.0  -0.0  -0.0  -0.0\n",
       " -1.0  -0.0  -0.0  -0.0  -0.0"
      ]
     },
     "execution_count": 19,
     "metadata": {},
     "output_type": "execute_result"
    }
   ],
   "source": [
    "B = -inv(D)*E"
   ]
  },
  {
   "cell_type": "code",
   "execution_count": 20,
   "metadata": {},
   "outputs": [
    {
     "data": {
      "text/plain": [
       "Eigen{Float64,Float64,Array{Float64,2},Array{Float64,1}}\n",
       "eigenvalues:\n",
       "5-element Array{Float64,1}:\n",
       "  1.0               \n",
       " -1.0000000000000002\n",
       " -0.0               \n",
       " -0.0               \n",
       " -0.0               \n",
       "eigenvectors:\n",
       "5×5 Array{Float64,2}:\n",
       "  0.447214  -0.447214  -1.16153e-17   1.34094e-17  -3.20829e-18\n",
       " -0.447214  -0.447214  -0.621287     -0.440536     -0.171607   \n",
       " -0.447214  -0.447214   0.676061     -0.0910583    -0.0773749  \n",
       " -0.447214  -0.447214  -0.280128      0.888451     -0.0773749  \n",
       " -0.447214  -0.447214  -0.280128     -0.0910583     0.97907    "
      ]
     },
     "execution_count": 20,
     "metadata": {},
     "output_type": "execute_result"
    }
   ],
   "source": [
    "d,R = eigen(B)"
   ]
  },
  {
   "cell_type": "code",
   "execution_count": 21,
   "metadata": {},
   "outputs": [
    {
     "data": {
      "text/plain": [
       "5×5 Array{Float64,2}:\n",
       " 1.0   0.0  0.0  0.0  0.0\n",
       " 0.0  -1.0  0.0  0.0  0.0\n",
       " 0.0   0.0  0.0  0.0  0.0\n",
       " 0.0   0.0  0.0  0.0  0.0\n",
       " 0.0   0.0  0.0  0.0  0.0"
      ]
     },
     "execution_count": 21,
     "metadata": {},
     "output_type": "execute_result"
    }
   ],
   "source": [
    "Λ = diagm(0=>d)"
   ]
  },
  {
   "cell_type": "code",
   "execution_count": 22,
   "metadata": {},
   "outputs": [
    {
     "data": {
      "text/plain": [
       "5×5 Array{Float64,2}:\n",
       "  1.11803      -0.33541   -0.447214  -0.223607  -0.111803 \n",
       " -1.11803      -0.33541   -0.447214  -0.223607  -0.111803 \n",
       " -7.20078e-17  -0.580115   0.838839  -0.206979  -0.0517447\n",
       " -7.02935e-17  -0.566304  -0.202051   0.818869  -0.0505128\n",
       " -6.51744e-17  -0.525063  -0.187337  -0.187337   0.899737 "
      ]
     },
     "execution_count": 22,
     "metadata": {},
     "output_type": "execute_result"
    }
   ],
   "source": [
    "Ri = inv(R)"
   ]
  },
  {
   "cell_type": "code",
   "execution_count": 23,
   "metadata": {},
   "outputs": [
    {
     "data": {
      "text/plain": [
       "5-element Array{Float64,1}:\n",
       "  1.118033988749895    \n",
       " -1.1180339887498951   \n",
       " -7.200778190572192e-17\n",
       " -7.029350243045226e-17\n",
       " -6.517437471516372e-17"
      ]
     },
     "execution_count": 23,
     "metadata": {},
     "output_type": "execute_result"
    }
   ],
   "source": [
    "e0 = [1,0,0,0,0]\n",
    "Ri*e0"
   ]
  },
  {
   "cell_type": "code",
   "execution_count": 24,
   "metadata": {},
   "outputs": [
    {
     "data": {
      "text/plain": [
       "5×5 Array{Float64,2}:\n",
       "  0.447214  0.447214  0.0  0.0  0.0\n",
       " -0.447214  0.447214  0.0  0.0  0.0\n",
       " -0.447214  0.447214  0.0  0.0  0.0\n",
       " -0.447214  0.447214  0.0  0.0  0.0\n",
       " -0.447214  0.447214  0.0  0.0  0.0"
      ]
     },
     "execution_count": 24,
     "metadata": {},
     "output_type": "execute_result"
    }
   ],
   "source": [
    "R*Λ"
   ]
  },
  {
   "cell_type": "code",
   "execution_count": 25,
   "metadata": {},
   "outputs": [
    {
     "data": {
      "text/plain": [
       "5×5 Array{Float64,2}:\n",
       "  0.447214  -0.447214  0.0  0.0  0.0\n",
       " -0.447214  -0.447214  0.0  0.0  0.0\n",
       " -0.447214  -0.447214  0.0  0.0  0.0\n",
       " -0.447214  -0.447214  0.0  0.0  0.0\n",
       " -0.447214  -0.447214  0.0  0.0  0.0"
      ]
     },
     "execution_count": 25,
     "metadata": {},
     "output_type": "execute_result"
    }
   ],
   "source": [
    "R*Λ^2"
   ]
  },
  {
   "cell_type": "code",
   "execution_count": 26,
   "metadata": {},
   "outputs": [
    {
     "data": {
      "text/plain": [
       "5-element Array{Float64,1}:\n",
       " 1.0000000000000113    \n",
       " 1.1108967702578393e-14\n",
       " 1.1213437802440985e-14\n",
       " 1.1213437802440985e-14\n",
       " 1.1213437802440985e-14"
      ]
     },
     "execution_count": 26,
     "metadata": {},
     "output_type": "execute_result"
    }
   ],
   "source": [
    "R*Λ^100*Ri*e0"
   ]
  },
  {
   "cell_type": "code",
   "execution_count": 27,
   "metadata": {},
   "outputs": [
    {
     "data": {
      "text/plain": [
       "5-element Array{Float64,1}:\n",
       " -1.1523754571596893e-14\n",
       " -1.0000000000000115    \n",
       " -1.0000000000000113    \n",
       " -1.0000000000000113    \n",
       " -1.0000000000000113    "
      ]
     },
     "execution_count": 27,
     "metadata": {},
     "output_type": "execute_result"
    }
   ],
   "source": [
    "R*Λ^101*Ri*e0"
   ]
  },
  {
   "cell_type": "code",
   "execution_count": 28,
   "metadata": {},
   "outputs": [
    {
     "data": {
      "text/plain": [
       "5-element Array{Float64,1}:\n",
       " 1.0000000000000115    \n",
       " 1.1295157764071938e-14\n",
       " 1.1399627863934529e-14\n",
       " 1.1399627863934529e-14\n",
       " 1.1399627863934529e-14"
      ]
     },
     "execution_count": 28,
     "metadata": {},
     "output_type": "execute_result"
    }
   ],
   "source": [
    "R*Λ^102*Ri*e0"
   ]
  },
  {
   "cell_type": "markdown",
   "metadata": {},
   "source": [
    "### Weighted Jacobi"
   ]
  },
  {
   "cell_type": "markdown",
   "metadata": {},
   "source": [
    "The weighted Jacobi algorithm can be obtained by writing $\\bo{x}$ as"
   ]
  },
  {
   "cell_type": "markdown",
   "metadata": {},
   "source": [
    "$$\n",
    "\\bo{x} = \\alpha\\bo{x} + (1-\\alpha)\\bo{x},\n",
    "$$\n",
    "and substituting (\\ref{eq:xBXz}) for the first term on right to get"
   ]
  },
  {
   "cell_type": "markdown",
   "metadata": {},
   "source": [
    "$$\n",
    "\\bo{x} = \\alpha(\\bo{B}\\bo{x} + \\bo{z}) + (1-\\alpha)\\bo{x}.\n",
    "$$"
   ]
  },
  {
   "cell_type": "markdown",
   "metadata": {},
   "source": [
    "Using this equation for functional iteration, the weighted Jacobi algorithm can be written as:"
   ]
  },
  {
   "cell_type": "markdown",
   "metadata": {},
   "source": [
    "\\begin{align}\n",
    "\\bo{x}^{(t+1)} &= \\alpha(\\bo{B}\\bo{x}^t + \\bo{z}) + (1-\\alpha)\\bo{x}^t \\\\\n",
    "               &= [(1-\\alpha)\\bo{I} + \\alpha\\bo{B}]\\bo{x}^t + \\alpha\\bo{z}\\\\\n",
    "               &= \\bo{C}\\bo{x}^t + \\alpha\\bo{z},\n",
    "\\label{eq:wjacobi1}               \n",
    "\\end{align} \n",
    "where $\\bo{C} = (1-\\alpha)\\bo{I} + \\alpha\\bo{B}$."
   ]
  },
  {
   "cell_type": "markdown",
   "metadata": {},
   "source": [
    "As reasoned before, (\\ref{eq:wjacobi1}) can be written as"
   ]
  },
  {
   "cell_type": "markdown",
   "metadata": {},
   "source": [
    "\\begin{equation}\n",
    "\\label{eq:Cte0}\n",
    "\\bo{x}^{(t+1)} = \\bo{x} + \\bo{C}\\bo{e}^{t}, \n",
    "\\end{equation}\n",
    "or\n",
    "\\begin{align}\n",
    "\\bo{e}^{(t+1)} &= \\bo{C}\\bo{e}^{t}\\\\\n",
    "               &= \\bo{R}\\bs{\\Lambda}^{t+1}\\bo{R}^{-1}\\bo{e}^0,\n",
    "\\end{align}\n",
    "where $\\bs{\\Lambda}$ and $\\bo{R}$ contain the eigen values and eigen vectors of $\\bo{C}$.  "
   ]
  },
  {
   "cell_type": "markdown",
   "metadata": {},
   "source": [
    "Can see below that the largest eigen value of $\\bo{C}$ is 1.0, and the rest, in absolute value, are smaller than 1. This implies that the system of equations given by (\\ref{eq:Axb}) is singular and has an infinite number of solutions."
   ]
  },
  {
   "cell_type": "markdown",
   "metadata": {},
   "source": [
    "### Exercise 1\n",
    "\n",
    "1. Use the `WJocobi` function given above to get a solution to the system (\\ref{eq:Axb}) for the Matrix $\\bo{A}$ and the vector $\\bo{b}$ of this numerical example. \n",
    "\n",
    "2. Using the solution obtained above in equation (\\ref{eq:Cte0}), obtain two other solutions to (\\ref{eq:Axb}). "
   ]
  },
  {
   "cell_type": "markdown",
   "metadata": {},
   "source": [
    "#### Eigen values and Eigen vectors of $\\bo{C}$"
   ]
  },
  {
   "cell_type": "code",
   "execution_count": 29,
   "metadata": {},
   "outputs": [
    {
     "data": {
      "text/plain": [
       "5×5 Array{Float64,2}:\n",
       "  0.3  -0.21  -0.28  -0.14  -0.07\n",
       " -0.7   0.3   -0.0   -0.0   -0.0 \n",
       " -0.7  -0.0    0.3   -0.0   -0.0 \n",
       " -0.7  -0.0   -0.0    0.3   -0.0 \n",
       " -0.7  -0.0   -0.0   -0.0    0.3 "
      ]
     },
     "execution_count": 29,
     "metadata": {},
     "output_type": "execute_result"
    }
   ],
   "source": [
    "α = 0.7\n",
    "C = I*(1-α) + B*α "
   ]
  },
  {
   "cell_type": "code",
   "execution_count": 30,
   "metadata": {},
   "outputs": [
    {
     "data": {
      "text/plain": [
       "5×5 Array{Float64,2}:\n",
       " 1.0   0.0  0.0  0.0  0.0\n",
       " 0.0  -0.4  0.0  0.0  0.0\n",
       " 0.0   0.0  0.3  0.0  0.0\n",
       " 0.0   0.0  0.0  0.3  0.0\n",
       " 0.0   0.0  0.0  0.0  0.3"
      ]
     },
     "execution_count": 30,
     "metadata": {},
     "output_type": "execute_result"
    }
   ],
   "source": [
    "d,R = eigen(C)\n",
    "Λ = diagm(0=>d)"
   ]
  },
  {
   "cell_type": "code",
   "execution_count": 31,
   "metadata": {},
   "outputs": [
    {
     "data": {
      "text/plain": [
       "5×5 Array{Float64,2}:\n",
       "  1.11803      -0.33541  -0.447214   -0.223607  -0.111803\n",
       " -1.11803      -0.33541  -0.447214   -0.223607  -0.111803\n",
       " -2.22045e-16   0.87178  -0.0484322  -0.621391  -0.201956\n",
       "  0.0           0.0      -0.904379    0.452189   0.452189\n",
       "  0.0           0.0       0.0        -0.747524   0.747524"
      ]
     },
     "execution_count": 31,
     "metadata": {},
     "output_type": "execute_result"
    }
   ],
   "source": [
    "Ri = inv(R)"
   ]
  },
  {
   "cell_type": "code",
   "execution_count": 32,
   "metadata": {},
   "outputs": [
    {
     "data": {
      "text/plain": [
       "5-element Array{Float64,1}:\n",
       "  1.1180339887498945   \n",
       " -1.1180339887498947   \n",
       " -2.220446049250313e-16\n",
       "  0.0                  \n",
       "  0.0                  "
      ]
     },
     "execution_count": 32,
     "metadata": {},
     "output_type": "execute_result"
    }
   ],
   "source": [
    "e0 = [1,0,0,0,0]\n",
    "h = Ri*e0"
   ]
  },
  {
   "cell_type": "code",
   "execution_count": 33,
   "metadata": {},
   "outputs": [
    {
     "data": {
      "text/plain": [
       "5×5 Array{Float64,2}:\n",
       "  0.447214  -7.18645e-41  -1.04142e-69  -3.06489e-69  -7.14908e-70\n",
       " -0.447214  -7.18645e-41   4.13825e-53   2.05786e-53  -8.16261e-54\n",
       " -0.447214  -7.18645e-41  -1.77354e-53  -3.32424e-53   8.42287e-54\n",
       " -0.447214  -7.18645e-41  -1.77354e-53   2.37445e-53  -2.60494e-53\n",
       " -0.447214  -7.18645e-41  -1.77354e-53   2.37445e-53   4.28952e-53"
      ]
     },
     "execution_count": 33,
     "metadata": {},
     "output_type": "execute_result"
    }
   ],
   "source": [
    "R*Λ^100"
   ]
  },
  {
   "cell_type": "code",
   "execution_count": 34,
   "metadata": {},
   "outputs": [
    {
     "data": {
      "text/plain": [
       "5-element Array{Float64,1}:\n",
       "  0.5                \n",
       " -0.4999999999999996 \n",
       " -0.49999999999999983\n",
       " -0.49999999999999983\n",
       " -0.49999999999999983"
      ]
     },
     "execution_count": 34,
     "metadata": {},
     "output_type": "execute_result"
    }
   ],
   "source": [
    "R*Λ^100*Ri*e0"
   ]
  },
  {
   "cell_type": "code",
   "execution_count": 35,
   "metadata": {},
   "outputs": [
    {
     "data": {
      "text/plain": [
       "5-element Array{Float64,1}:\n",
       "  0.5                \n",
       " -0.4999999999999996 \n",
       " -0.49999999999999983\n",
       " -0.49999999999999983\n",
       " -0.49999999999999983"
      ]
     },
     "execution_count": 35,
     "metadata": {},
     "output_type": "execute_result"
    }
   ],
   "source": [
    "R*Λ^101*Ri*e0"
   ]
  },
  {
   "cell_type": "code",
   "execution_count": 36,
   "metadata": {},
   "outputs": [
    {
     "data": {
      "text/plain": [
       "5-element Array{Float64,1}:\n",
       "  0.5                \n",
       " -0.4999999999999996 \n",
       " -0.49999999999999983\n",
       " -0.49999999999999983\n",
       " -0.49999999999999983"
      ]
     },
     "execution_count": 36,
     "metadata": {},
     "output_type": "execute_result"
    }
   ],
   "source": [
    "R[:,1]*h[1]"
   ]
  },
  {
   "cell_type": "markdown",
   "metadata": {
    "slideshow": {
     "slide_type": "slide"
    }
   },
   "source": [
    "### The Gauss–Seidel method\n",
    "\n",
    "The Gauss–Seidel method can be obtained by first writing (\\ref{eq:Axb}) as\n",
    "\n",
    "\\begin{align} \n",
    "\\bo{Ax} &= \\bo{b} \\\\\n",
    "(\\bo{L}+\\bo{D}+\\bo{U})\\bo{x} &= \\bo{b} \\\\\n",
    "\\bo{D}\\bo{x} &= \\bo{b} - \\bo{L}\\bo{x} - \\bo{U}\\bo{x} \\\\\n",
    "\\bo{x} &= \\bo{D}^{-1}(\\bo{b} - \\bo{L}\\bo{x} - \\bo{U}\\bo{x}), \n",
    "\\label{gs}\n",
    "\\end{align}\n",
    "where $\\mathbf{D}$ is a diagonal matrix with the diagonal elements of $\\mathbf{A}$, and  $\\mathbf{L}$ and $\\mathbf{U}$ are matrices with the strictly lower and upper triangular components of $\\mathbf{A}$."
   ]
  },
  {
   "cell_type": "markdown",
   "metadata": {},
   "source": [
    "Functional iteration using (\\ref{gs}) as:"
   ]
  },
  {
   "cell_type": "markdown",
   "metadata": {},
   "source": [
    "\\begin{equation}\n",
    "\\label{eq:GS}\n",
    "\\bo{x}^{(t+1)} = \\bo{D}^{-1}(\\bo{b} - \\bo{L}\\bo{x}^{(t+1)} - \\bo{U}\\bo{x}^t)\n",
    "\\end{equation}\n",
    "\n",
    "is the Gauss-Seidel algorithm, which is equivalent to"
   ]
  },
  {
   "cell_type": "markdown",
   "metadata": {},
   "source": [
    "\\begin{equation}\n",
    "\\label{eq:GS1}\n",
    "\\bo{x}^{(t+1)} = (\\bo{D + L})^{-1}(\\bo{b} - \\bo{U}\\bo{x}^t).\n",
    "\\end{equation}"
   ]
  },
  {
   "cell_type": "markdown",
   "metadata": {},
   "source": [
    "The Gauss-Seidel algorithm given by (eq:GS) only requires the inverse of a diagonal matrix, and thus it is used for iteration. As we will see below, the second form given by (\\ref{eq:GS1}) is useful to study the convergence properties of the algorithm."
   ]
  },
  {
   "cell_type": "markdown",
   "metadata": {},
   "source": [
    "To study the convergence of Gauss-Seidel, (\\ref{eq:GS1}) can be written as"
   ]
  },
  {
   "cell_type": "markdown",
   "metadata": {},
   "source": [
    "\\begin{equation}\n",
    "\\label{eq:GS2}\n",
    "\\bo{x}^{(t+1)} = \\bo{B}\\bo{x}^t + \\bo{z},\n",
    "\\end{equation}"
   ]
  },
  {
   "cell_type": "markdown",
   "metadata": {},
   "source": [
    "for $\\bo{B} = -(\\bo{D + L})^{-1}\\bo{U}$ and $\\bo{z} = (\\bo{D + L})^{-1}\\bo{b}$. Given $\\bo{x}$ is a solution to (\\ref{eq:Axb}) and $\\bo{e}^t = \\bo{x}^t - \\bo{x}$, (\\ref{eq:GS2}) can be written as:"
   ]
  },
  {
   "cell_type": "markdown",
   "metadata": {},
   "source": [
    "\\begin{align}\n",
    "\\label{eq:GS3}\n",
    "\\bo{x}^{(t+1)} &= \\bo{x} + \\bo{B}\\bo{e}^{t}   \\\\\n",
    "               &= \\bo{x} + \\bo{B}^t\\bo{e}^{0} \\\\\n",
    "               &= \\bo{x} + \\bo{R}\\bs{\\Lambda}^t\\bo{R}^{-1}\\bo{e}^{0}\n",
    "\\end{align}"
   ]
  },
  {
   "cell_type": "markdown",
   "metadata": {},
   "source": [
    "Can see below that the matrix $\\bo{B}$ for Gauss-Seidel in this example has only one non-zero eigen value, which is equal to 1.0. Thus, in this example, Gauss-Seidel will converge in one iteration.  "
   ]
  },
  {
   "cell_type": "code",
   "execution_count": 73,
   "metadata": {},
   "outputs": [
    {
     "data": {
      "text/plain": [
       "5×5 Array{Float64,2}:\n",
       " 0.0  -0.3  -0.4  -0.2  -0.1\n",
       " 0.0   0.3   0.4   0.2   0.1\n",
       " 0.0   0.3   0.4   0.2   0.1\n",
       " 0.0   0.3   0.4   0.2   0.1\n",
       " 0.0   0.3   0.4   0.2   0.1"
      ]
     },
     "execution_count": 73,
     "metadata": {},
     "output_type": "execute_result"
    }
   ],
   "source": [
    "L = LowerTriangular(A-D)\n",
    "U = UpperTriangular(A-D)\n",
    "B = -inv(D+L)*U"
   ]
  },
  {
   "cell_type": "code",
   "execution_count": 74,
   "metadata": {},
   "outputs": [
    {
     "data": {
      "text/plain": [
       "Eigen{Float64,Float64,Array{Float64,2},Array{Float64,1}}\n",
       "eigenvalues:\n",
       "5-element Array{Float64,1}:\n",
       "  0.0                   \n",
       "  1.1102230246251565e-16\n",
       "  1.0000000000000002    \n",
       " -2.6020852139652106e-17\n",
       "  1.5407439555097887e-33\n",
       "eigenvectors:\n",
       "5×5 Array{Float64,2}:\n",
       " 1.0  -0.430735  -0.447214  -0.662932   -1.0        \n",
       " 0.0  -0.72465    0.447214   0.0710403   4.76929e-18\n",
       " 0.0   0.310564   0.447214  -0.390077   -5.34648e-17\n",
       " 0.0   0.310564   0.447214   0.449062   -8.47158e-18\n",
       " 0.0   0.310564   0.447214   0.449062    2.16494e-16"
      ]
     },
     "execution_count": 74,
     "metadata": {},
     "output_type": "execute_result"
    }
   ],
   "source": [
    "d,R = eigen(B)"
   ]
  },
  {
   "cell_type": "code",
   "execution_count": 75,
   "metadata": {},
   "outputs": [
    {
     "data": {
      "text/plain": [
       "5×5 Diagonal{Float64,Array{Float64,1}}:\n",
       " 0.0   ⋅            ⋅     ⋅            ⋅         \n",
       "  ⋅   1.11022e-16   ⋅     ⋅            ⋅         \n",
       "  ⋅    ⋅           1.0    ⋅            ⋅         \n",
       "  ⋅    ⋅            ⋅   -2.60209e-17   ⋅         \n",
       "  ⋅    ⋅            ⋅     ⋅           1.54074e-33"
      ]
     },
     "execution_count": 75,
     "metadata": {},
     "output_type": "execute_result"
    }
   ],
   "source": [
    "Λ = Diagonal(d) "
   ]
  },
  {
   "cell_type": "code",
   "execution_count": 76,
   "metadata": {},
   "outputs": [
    {
     "data": {
      "text/plain": [
       "5-element Array{Float64,1}:\n",
       "  1.4600000000000002 \n",
       " -0.12666666666666693\n",
       "  0.23999999999999977\n",
       " -0.1100000000000001 \n",
       " -0.3600000000000001 "
      ]
     },
     "execution_count": 76,
     "metadata": {},
     "output_type": "execute_result"
    }
   ],
   "source": [
    "x0 = zeros(5)\n",
    "x1 = B*x0 + inv(D+L)*b"
   ]
  },
  {
   "cell_type": "code",
   "execution_count": 77,
   "metadata": {},
   "outputs": [
    {
     "data": {
      "text/plain": [
       "5×2 Array{Float64,2}:\n",
       " 14.6  14.6\n",
       "  4.0   4.0\n",
       "  6.8   6.8\n",
       "  2.7   2.7\n",
       "  1.1   1.1"
      ]
     },
     "execution_count": 77,
     "metadata": {},
     "output_type": "execute_result"
    }
   ],
   "source": [
    "[A*x1 b]"
   ]
  },
  {
   "cell_type": "markdown",
   "metadata": {
    "slideshow": {
     "slide_type": "slide"
    }
   },
   "source": [
    "### Function for Gauss-Seidel Iteration"
   ]
  },
  {
   "cell_type": "code",
   "execution_count": 43,
   "metadata": {
    "slideshow": {
     "slide_type": "slide"
    }
   },
   "outputs": [
    {
     "data": {
      "text/plain": [
       "GaussSeidel (generic function with 1 method)"
      ]
     },
     "execution_count": 43,
     "metadata": {},
     "output_type": "execute_result"
    }
   ],
   "source": [
    "function GaussSeidel(A,x,b;tolerance=0.000001,printout_frequency=10,maxiter=1000)\n",
    "    n = size(A,1)\n",
    "    for i = 1:n\n",
    "        x[i] = (b[i] - A[:,i]'x)/A[i,i] + x[i]\n",
    "    end\n",
    "    error = b - A*x\n",
    "    diff  = sum(error.^2)/n\n",
    "    \n",
    "    iter  = 0\n",
    "    while (diff > tolerance) & (iter < maxiter)\n",
    "        iter += 1\n",
    "        for i = 1:n\n",
    "            x[i] = (b[i] - A[:,i]'x)/A[i,i] + x[i]\n",
    "        end\n",
    "        \n",
    "        error = b - A*x\n",
    "        diff  = sum(error.^2)/n\n",
    "        if iter%printout_frequency == 0\n",
    "            println(iter,\" \",diff)\n",
    "        end\n",
    "    end\n",
    "    return x\n",
    "end"
   ]
  },
  {
   "cell_type": "code",
   "execution_count": 78,
   "metadata": {},
   "outputs": [],
   "source": [
    "n,p = 10_000, 1_000\n",
    "M = randn(n,p)\n",
    "A = M'M \n",
    "b = M'randn(n);"
   ]
  },
  {
   "cell_type": "code",
   "execution_count": 79,
   "metadata": {},
   "outputs": [
    {
     "name": "stdout",
     "output_type": "stream",
     "text": [
      "1 15.5423898672392\n",
      "2 0.747481922735545\n",
      "3 0.042802378680376875\n",
      "4 0.0026518250989305573\n",
      "5 0.00017253928476386742\n",
      "6 1.140861459528081e-5\n",
      "7 7.558592067752963e-7\n"
     ]
    },
    {
     "data": {
      "text/plain": [
       "1000-element Array{Float64,1}:\n",
       " -0.014016639896975741  \n",
       "  0.0031046974915040857 \n",
       " -0.009291592858652975  \n",
       " -0.01097627788553268   \n",
       "  0.010980688316261922  \n",
       " -0.013317530832179868  \n",
       " -0.02011604124110173   \n",
       "  0.009936201758740795  \n",
       " -0.0009044914866329442 \n",
       "  0.0010000821501196671 \n",
       "  0.011620713871942889  \n",
       " -0.00337877937744122   \n",
       " -0.015115308956675736  \n",
       "  ⋮                     \n",
       " -0.010537567017081681  \n",
       " -0.004648442208199943  \n",
       "  0.020448021411020513  \n",
       "  0.00438536858329927   \n",
       "  0.009505758870220626  \n",
       "  0.008073089662709018  \n",
       " -0.005254177518928358  \n",
       "  0.00013618210633380685\n",
       "  0.009275968123015241  \n",
       " -0.009806557425979332  \n",
       " -0.00584873465131198   \n",
       " -0.007261014099933419  "
      ]
     },
     "execution_count": 79,
     "metadata": {},
     "output_type": "execute_result"
    }
   ],
   "source": [
    "x = zeros(p)\n",
    "sol = GaussSeidel(A,x,b,printout_frequency=1)"
   ]
  },
  {
   "cell_type": "code",
   "execution_count": 47,
   "metadata": {},
   "outputs": [
    {
     "data": {
      "text/plain": [
       "1000×2 Array{Float64,2}:\n",
       "   24.6146     24.6139 \n",
       "  -54.303     -54.3033 \n",
       " -132.881    -132.881  \n",
       "   59.4318     59.4321 \n",
       "  -26.7313    -26.7315 \n",
       "  -86.9356    -86.9359 \n",
       " -251.904    -251.904  \n",
       "  -83.6643    -83.6639 \n",
       "  -42.8851    -42.8847 \n",
       "    3.04585     3.04535\n",
       "   -6.59614    -6.59645\n",
       "  -81.3532    -81.352  \n",
       "   17.3088     17.3082 \n",
       "    ⋮                  \n",
       "   27.8247     27.8247 \n",
       "  -65.5744    -65.5744 \n",
       "  168.099     168.099  \n",
       "   59.6568     59.6568 \n",
       " -105.059    -105.059  \n",
       "  121.764     121.764  \n",
       "   -5.90031    -5.90032\n",
       "  -32.8158    -32.8158 \n",
       "  -46.6275    -46.6275 \n",
       "  -18.1414    -18.1414 \n",
       "  -52.2655    -52.2655 \n",
       "  -70.7796    -70.7796 "
      ]
     },
     "execution_count": 47,
     "metadata": {},
     "output_type": "execute_result"
    }
   ],
   "source": [
    "[A*sol b] "
   ]
  },
  {
   "cell_type": "markdown",
   "metadata": {},
   "source": [
    "### Exercise 2\n",
    "\n",
    "Modify the Gauss-Seidel function given above to for a weighted Gauss-Seidel algorithm. Compare convergence of the new algorithm with that given above for a range of weights between 0 and 1."
   ]
  },
  {
   "cell_type": "code",
   "execution_count": 80,
   "metadata": {},
   "outputs": [],
   "source": [
    "D = Diagonal(A)\n",
    "L = LowerTriangular(A-D)\n",
    "U = UpperTriangular(A-D)\n",
    "B = -inv(D+L)*U\n",
    "d,R = eigen(B)\n",
    "Λ = Diagonal(d);"
   ]
  },
  {
   "cell_type": "code",
   "execution_count": 90,
   "metadata": {},
   "outputs": [
    {
     "data": {
      "text/plain": [
       "3.0184378539825316e-7"
      ]
     },
     "execution_count": 90,
     "metadata": {},
     "output_type": "execute_result"
    }
   ],
   "source": [
    "maximum(B^10)"
   ]
  },
  {
   "cell_type": "markdown",
   "metadata": {},
   "source": [
    "### [Conjugate Gradient Method](3.4.ConjugateGradient.ipynb)"
   ]
  }
 ],
 "metadata": {
  "@webio": {
   "lastCommId": null,
   "lastKernelId": null
  },
  "celltoolbar": "Slideshow",
  "kernelspec": {
   "display_name": "Julia 1.1.0",
   "language": "julia",
   "name": "julia-1.1"
  },
  "language_info": {
   "file_extension": ".jl",
   "mimetype": "application/julia",
   "name": "julia",
   "version": "1.1.0"
  }
 },
 "nbformat": 4,
 "nbformat_minor": 2
}
