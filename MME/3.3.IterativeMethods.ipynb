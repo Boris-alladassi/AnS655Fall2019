{
 "cells": [
  {
   "cell_type": "markdown",
   "metadata": {},
   "source": [
    "### Latex macros:\n",
    "$$\n",
    "\\newcommand{\\E}{\\text{E}}\n",
    "\\newcommand{\\mbf}{\\mathbf}\n",
    "\\newcommand{\\bo}{\\mathbf}\n",
    "\\newcommand{\\bs}{\\boldsymbol}\n",
    "\\newcommand{\\Var}{\\text{Var}}\n",
    "\\newcommand{\\Cov}{\\text{Cov}}\n",
    "\\newcommand{\\e}{\\frac{1}{\\sigma^2_e}}\n",
    "\\newcommand{\\f}{\\frac{1}{\\sigma^2_{\\alpha}}}\n",
    "$$"
   ]
  },
  {
   "cell_type": "code",
   "execution_count": 1,
   "metadata": {},
   "outputs": [
    {
     "data": {
      "application/javascript": [
       "    MathJax.Hub.Config({\n",
       "      TeX: { equationNumbers: { autoNumber: \"AMS\" } }\n",
       "    });\n",
       "    MathJax.Hub.Queue( \n",
       "        [\"resetEquationNumbers\",MathJax.InputJax.TeX], \n",
       "        [\"PreProcess\",MathJax.Hub], \n",
       "        [\"Reprocess\",MathJax.Hub] \n",
       "    );\n"
      ]
     },
     "metadata": {},
     "output_type": "display_data"
    }
   ],
   "source": [
    "macro javascript_str(s) display(\"text/javascript\", s); end\n",
    "javascript\"\"\"\n",
    "    MathJax.Hub.Config({\n",
    "      TeX: { equationNumbers: { autoNumber: \"AMS\" } }\n",
    "    });\n",
    "    MathJax.Hub.Queue( \n",
    "        [\"resetEquationNumbers\",MathJax.InputJax.TeX], \n",
    "        [\"PreProcess\",MathJax.Hub], \n",
    "        [\"Reprocess\",MathJax.Hub] \n",
    "    );\n",
    "\"\"\""
   ]
  },
  {
   "cell_type": "markdown",
   "metadata": {
    "slideshow": {
     "slide_type": "slide"
    }
   },
   "source": [
    "# Iterative methods for solving linear systems"
   ]
  },
  {
   "cell_type": "markdown",
   "metadata": {
    "slideshow": {
     "slide_type": "slide"
    }
   },
   "source": [
    "Consider the system of consistent linear equations: \n",
    "\n",
    "$$\n",
    "\\mathbf{Ax} = \\mathbf{b},\n",
    "$$\n",
    "* Three iterative methods that we will use for solving the linear systems are the Jacobi method, the Gauss-Seidel Methods, and the Preconditioned Conjugate Gradient (PCCG) method. \n",
    "* These methods can be used to solve normal equations shown in the previous section and Mixed Model Equations (MME) we will covered later. \n",
    "* Consider MME, the left-hand-side (LHS) of the MME is represented by $\\mathbf{A}$ and the right-hand-side (RHS) by $\\mathbf{b}$. \n",
    "* The LHS of the MME is often too large to store in memory as a “fully-stored” matrix. However, $\\mathbf{A}$ is often very sparse. Thus, it is may be possible to store only the non-zero elements of $\\mathbf{A}$ and compute $\\mathbf{Ax_n}$, using sparse matrix methods."
   ]
  },
  {
   "cell_type": "markdown",
   "metadata": {
    "slideshow": {
     "slide_type": "slide"
    }
   },
   "source": [
    "### The Jacobi method"
   ]
  },
  {
   "cell_type": "markdown",
   "metadata": {
    "slideshow": {
     "slide_type": "fragment"
    }
   },
   "source": [
    "In the Jacobi method, the solution at iteration $t+1$ can be written as: \n",
    "\\begin{equation}\n",
    "  \\label{eq:jacobi}\n",
    "\\mathbf{x}^{t+1} = \\mathbf{D}^{−1}(\\mathbf{b} − \\mathbf{A}\\mathbf{x}^t) + \\mathbf{x}^t,\n",
    "\\end{equation}\n",
    "where $\\mathbf{D}$ is the diagonal component of $\\mathbf{A}$.\n",
    "\n",
    "Convergence can often be improved by modifying (\\ref{eq:jacobi}) as:\n",
    "\\begin{equation}\n",
    "\\mathbf{x}^{t+1*} = \\alpha\\mathbf{x}^{t+1} + (1 − \\alpha)\\mathbf{x}^{t*}   \\label{eq:jacobi_modified}\n",
    "\\end{equation}\n",
    "for $0 < \\alpha < 1$.\n",
    "\n",
    "Straightforward application of the Jacobi method to solve the normal equations or mixed model equations\n",
    "would require first computing the left-hand-side (LHS) and right-hand-side (RHS) of the normal equations or mixed model equations, and then using (\\ref{eq:jacobi_modified}) until convergence."
   ]
  },
  {
   "cell_type": "markdown",
   "metadata": {
    "slideshow": {
     "slide_type": "slide"
    }
   },
   "source": [
    "### Exercise"
   ]
  },
  {
   "cell_type": "markdown",
   "metadata": {
    "slideshow": {
     "slide_type": "fragment"
    }
   },
   "source": [
    "1. Consider the left-hand-side (LHS) and right-hand-side (RHS) of the normal equations given below. Take $\\mathbf{x}^{0}$ as a vector of zeros, compute $\\mathbf{x}^{1}$ using equation (1). How can you check the convergence of this iterative method?\n",
    "2. Use equation (1) again to compute $\\mathbf{x}^{2}$ from $\\mathbf{x}^{1}$ computed previously and check convergence.\n",
    "3. Write a loop to compute $\\mathbf{x}^{100}$. How many iterations are required to reach convergence?"
   ]
  },
  {
   "cell_type": "markdown",
   "metadata": {
    "slideshow": {
     "slide_type": "slide"
    }
   },
   "source": [
    "#### Data"
   ]
  },
  {
   "cell_type": "code",
   "execution_count": 2,
   "metadata": {
    "slideshow": {
     "slide_type": "fragment"
    }
   },
   "outputs": [],
   "source": [
    "using LinearAlgebra, Distributions, DataFrames"
   ]
  },
  {
   "cell_type": "code",
   "execution_count": 3,
   "metadata": {
    "slideshow": {
     "slide_type": "fragment"
    }
   },
   "outputs": [],
   "source": [
    "data = DataFrame(x=[1,1,2,2,2,2,3,3,4,1],y=[1.1,1.2,1.9,1.2,2.0,1.7,1.0,1.7,1.1,1.7])\n",
    "n = size(data,1)\n",
    "p = length(unique(data[:x]))\n",
    "X = zeros(n,p);\n",
    "for i = 1:n\n",
    "    j = data[:x][i]\n",
    "    X[i,j] = 1.0\n",
    "end\n",
    "X = [ones(n) X];\n",
    "y = data[:y];\n",
    "lhs = X'X;\n",
    "rhs = X'y;"
   ]
  },
  {
   "cell_type": "code",
   "execution_count": 4,
   "metadata": {},
   "outputs": [
    {
     "data": {
      "text/plain": [
       "5×5 Array{Float64,2}:\n",
       " 10.0  3.0  4.0  2.0  1.0\n",
       "  3.0  3.0  0.0  0.0  0.0\n",
       "  4.0  0.0  4.0  0.0  0.0\n",
       "  2.0  0.0  0.0  2.0  0.0\n",
       "  1.0  0.0  0.0  0.0  1.0"
      ]
     },
     "execution_count": 4,
     "metadata": {},
     "output_type": "execute_result"
    }
   ],
   "source": [
    "lhs"
   ]
  },
  {
   "cell_type": "code",
   "execution_count": 5,
   "metadata": {
    "slideshow": {
     "slide_type": "slide"
    }
   },
   "outputs": [
    {
     "name": "stdout",
     "output_type": "stream",
     "text": [
      "approach 1\n",
      "[0.46, 0.333333, 0.7, 0.35, 0.1]\n",
      "[1.0, 0.873333, 1.24, 0.89, 0.64]\n",
      "[0.46, 0.333333, 0.7, 0.35, 0.1]\n",
      "[1.0, 0.873333, 1.24, 0.89, 0.64]\n",
      "approach 2\n",
      "[0.46, 0.333333, 0.7, 0.35, 0.1]\n",
      "[1.0, 0.873333, 1.24, 0.89, 0.64]\n",
      "[0.46, 0.333333, 0.7, 0.35, 0.1]\n",
      "[1.0, 0.873333, 1.24, 0.89, 0.64]\n"
     ]
    }
   ],
   "source": [
    "D = Diagonal(lhs)\n",
    "A = lhs\n",
    "b = rhs\n",
    "#approach 1\n",
    "println(\"approach 1\")\n",
    "x = ones(5)\n",
    "for i = 1:4\n",
    "    x=inv(D)*(b-A*x)+x\n",
    "    println(x)\n",
    "end\n",
    "\n",
    "#approach 2\n",
    "println(\"approach 2\")\n",
    "x = ones(5)\n",
    "x=inv(D)*(b-A*x)+x\n",
    "println(x)\n",
    "x=inv(D)*(b-A*x)+x\n",
    "println(x)\n",
    "x=inv(D)*(b-A*x)+x\n",
    "println(x)\n",
    "x=inv(D)*(b-A*x)+x\n",
    "println(x)"
   ]
  },
  {
   "cell_type": "markdown",
   "metadata": {
    "slideshow": {
     "slide_type": "slide"
    }
   },
   "source": [
    "#### solution"
   ]
  },
  {
   "cell_type": "code",
   "execution_count": 6,
   "metadata": {
    "slideshow": {
     "slide_type": "slide"
    }
   },
   "outputs": [
    {
     "data": {
      "text/plain": [
       "Jacobi (generic function with 2 methods)"
      ]
     },
     "execution_count": 6,
     "metadata": {},
     "output_type": "execute_result"
    }
   ],
   "source": [
    "function Jacobi(A,x,b,p=0.7;tolerance=0.000001,printout_frequency=10,maxiter=1000) #optional arguments keyword arguments\n",
    "    n       = size(A,1)        #number of linear equations\n",
    "    D       = diag(A)\n",
    "    error   = b - A*x\n",
    "    diff    = sum(error.^2)/n\n",
    "    \n",
    "    iter    = 0\n",
    "    while (diff > tolerance) && (iter < maxiter)\n",
    "        iter   += 1\n",
    "        error   = b - A*x\n",
    "        x_temp  = error./D + x\n",
    "        x       = p*x_temp + (1-p)*x\n",
    "        diff    = sum(error.^2)/n\n",
    "        \n",
    "        if iter%printout_frequency == 0\n",
    "            println(iter,\" \",diff)\n",
    "        end\n",
    "    end\n",
    "    return x\n",
    "end"
   ]
  },
  {
   "cell_type": "code",
   "execution_count": 7,
   "metadata": {
    "slideshow": {
     "slide_type": "slide"
    }
   },
   "outputs": [
    {
     "name": "stdout",
     "output_type": "stream",
     "text": [
      "10 3.8029144498142352e-6\n"
     ]
    },
    {
     "data": {
      "text/plain": [
       "10×2 Array{Float64,2}:\n",
       " 1.33339  1.33333\n",
       " 1.33339  1.33333\n",
       " 1.70006  1.7    \n",
       " 1.70006  1.7    \n",
       " 1.70006  1.7    \n",
       " 1.70006  1.7    \n",
       " 1.35006  1.35   \n",
       " 1.35006  1.35   \n",
       " 1.10006  1.1    \n",
       " 1.33339  1.33333"
      ]
     },
     "execution_count": 7,
     "metadata": {},
     "output_type": "execute_result"
    }
   ],
   "source": [
    "starting_value = zeros(size(lhs,2))\n",
    "sol=Jacobi(lhs,starting_value,rhs,0.7)\n",
    "[X*sol X*(lhs\\rhs)]"
   ]
  },
  {
   "cell_type": "markdown",
   "metadata": {
    "slideshow": {
     "slide_type": "slide"
    }
   },
   "source": [
    "### The Gauss–Seidel method\n",
    "\n",
    "In the Gauss–Seidel method, the solution at iteration $t + 1$ can be written as: \n",
    "\n",
    "\\begin{equation}\n",
    "\\mathbf{x}^{t+1} = \\mathbf{L}^{−1}(\\mathbf{b} − \\mathbf{U}\\mathbf{x}^t), \\label{gs} \n",
    "\\end{equation}\n",
    "\n",
    "where $\\mathbf{L}$ and $\\mathbf{U}$ are lower triangular component and strictly upper triangular component of $\\mathbf{A}$.\n",
    "\n",
    "This can also be computed as:\n",
    "$$\n",
    "x^{t+1}_{i} = \\frac{1}{A_{ii}}(b_i − \\mathbf{A}_{i,1:(i-1)}\\mathbf{x}^{t+1}_{1:(i-1)}-\n",
    "\\mathbf{A}_{i,(i+1):n}\\mathbf{x}^{t}_{(i+1):n}),\n",
    "$$\n",
    "where $n$ is the number of linear equations."
   ]
  },
  {
   "cell_type": "markdown",
   "metadata": {
    "slideshow": {
     "slide_type": "slide"
    }
   },
   "source": [
    "### Exercise"
   ]
  },
  {
   "cell_type": "markdown",
   "metadata": {
    "slideshow": {
     "slide_type": "slide"
    }
   },
   "source": [
    "1. Take $\\mathbf{x}^{0}$ as a vector of zeros, compute $\\mathbf{x}^{1}$ using equation (3).\n",
    "2. Modify the Jacobi function for Gauss-Seidel iteration."
   ]
  },
  {
   "cell_type": "code",
   "execution_count": 8,
   "metadata": {
    "slideshow": {
     "slide_type": "slide"
    }
   },
   "outputs": [
    {
     "data": {
      "text/plain": [
       "GaussSeidel (generic function with 1 method)"
      ]
     },
     "execution_count": 8,
     "metadata": {},
     "output_type": "execute_result"
    }
   ],
   "source": [
    "function GaussSeidel(A,x,b;tolerance=0.000001,printout_frequency=10,maxiter=1000)\n",
    "    n = size(A,1)\n",
    "    for i = 1:n\n",
    "        x[i] = (b[i] - A[:,i]'x)/A[i,i] + x[i]\n",
    "    end\n",
    "    error = b - A*x\n",
    "    diff  = sum(error.^2)/n\n",
    "    \n",
    "    iter  = 0\n",
    "    while (diff > tolerance) & (iter < maxiter)\n",
    "        iter += 1\n",
    "        for i = 1:n\n",
    "            x[i] = (b[i] - A[:,i]'x)/A[i,i] + x[i]\n",
    "        end\n",
    "        \n",
    "        error = b - A*x\n",
    "        diff  = sum(error.^2)/n\n",
    "        if iter%printout_frequency == 0\n",
    "            println(iter,\" \",diff)\n",
    "        end\n",
    "    end\n",
    "    return x\n",
    "end"
   ]
  },
  {
   "cell_type": "code",
   "execution_count": 9,
   "metadata": {
    "slideshow": {
     "slide_type": "slide"
    }
   },
   "outputs": [
    {
     "data": {
      "text/plain": [
       "10×2 Array{Float64,2}:\n",
       " 1.33333  1.33333\n",
       " 1.33333  1.33333\n",
       " 1.7      1.7    \n",
       " 1.7      1.7    \n",
       " 1.7      1.7    \n",
       " 1.7      1.7    \n",
       " 1.35     1.35   \n",
       " 1.35     1.35   \n",
       " 1.1      1.1    \n",
       " 1.33333  1.33333"
      ]
     },
     "execution_count": 9,
     "metadata": {},
     "output_type": "execute_result"
    }
   ],
   "source": [
    "starting_value = zeros(size(lhs,2))\n",
    "sol = GaussSeidel(lhs,starting_value,rhs)\n",
    "[X*sol X*(lhs\\rhs)]"
   ]
  },
  {
   "cell_type": "markdown",
   "metadata": {},
   "source": [
    "### [Conjugate Gradient Method](3.4.ConjugateGradient.ipynb)"
   ]
  }
 ],
 "metadata": {
  "@webio": {
   "lastCommId": null,
   "lastKernelId": null
  },
  "celltoolbar": "Slideshow",
  "kernelspec": {
   "display_name": "Julia 1.1.0",
   "language": "julia",
   "name": "julia-1.1"
  },
  "language_info": {
   "file_extension": ".jl",
   "mimetype": "application/julia",
   "name": "julia",
   "version": "1.1.0"
  }
 },
 "nbformat": 4,
 "nbformat_minor": 2
}
