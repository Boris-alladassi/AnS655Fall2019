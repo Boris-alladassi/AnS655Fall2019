{
 "cells": [
  {
   "cell_type": "markdown",
   "metadata": {},
   "source": [
    "## Computing full-stored or sparse-stored X'X without matrix multiplication"
   ]
  },
  {
   "cell_type": "markdown",
   "metadata": {},
   "source": [
    "Consider the following data from a hypothetical one-way experiment with four levels of a treatment."
   ]
  },
  {
   "cell_type": "markdown",
   "metadata": {},
   "source": [
    "### Data"
   ]
  },
  {
   "cell_type": "code",
   "execution_count": 1,
   "metadata": {},
   "outputs": [
    {
     "data": {
      "text/html": [
       "<table class=\"data-frame\"><thead><tr><th></th><th>x</th><th>y</th></tr><tr><th></th><th>Int64</th><th>Float64</th></tr></thead><tbody><p>10 rows × 2 columns</p><tr><th>1</th><td>1</td><td>1.1</td></tr><tr><th>2</th><td>1</td><td>1.2</td></tr><tr><th>3</th><td>2</td><td>1.9</td></tr><tr><th>4</th><td>2</td><td>1.2</td></tr><tr><th>5</th><td>2</td><td>2.0</td></tr><tr><th>6</th><td>2</td><td>1.7</td></tr><tr><th>7</th><td>3</td><td>1.0</td></tr><tr><th>8</th><td>3</td><td>1.7</td></tr><tr><th>9</th><td>4</td><td>1.1</td></tr><tr><th>10</th><td>1</td><td>1.7</td></tr></tbody></table>"
      ],
      "text/latex": [
       "\\begin{tabular}{r|cc}\n",
       "\t& x & y\\\\\n",
       "\t\\hline\n",
       "\t& Int64 & Float64\\\\\n",
       "\t\\hline\n",
       "\t1 & 1 & 1.1 \\\\\n",
       "\t2 & 1 & 1.2 \\\\\n",
       "\t3 & 2 & 1.9 \\\\\n",
       "\t4 & 2 & 1.2 \\\\\n",
       "\t5 & 2 & 2.0 \\\\\n",
       "\t6 & 2 & 1.7 \\\\\n",
       "\t7 & 3 & 1.0 \\\\\n",
       "\t8 & 3 & 1.7 \\\\\n",
       "\t9 & 4 & 1.1 \\\\\n",
       "\t10 & 1 & 1.7 \\\\\n",
       "\\end{tabular}\n"
      ],
      "text/plain": [
       "10×2 DataFrame\n",
       "│ Row │ x     │ y       │\n",
       "│     │ \u001b[90mInt64\u001b[39m │ \u001b[90mFloat64\u001b[39m │\n",
       "├─────┼───────┼─────────┤\n",
       "│ 1   │ 1     │ 1.1     │\n",
       "│ 2   │ 1     │ 1.2     │\n",
       "│ 3   │ 2     │ 1.9     │\n",
       "│ 4   │ 2     │ 1.2     │\n",
       "│ 5   │ 2     │ 2.0     │\n",
       "│ 6   │ 2     │ 1.7     │\n",
       "│ 7   │ 3     │ 1.0     │\n",
       "│ 8   │ 3     │ 1.7     │\n",
       "│ 9   │ 4     │ 1.1     │\n",
       "│ 10  │ 1     │ 1.7     │"
      ]
     },
     "execution_count": 1,
     "metadata": {},
     "output_type": "execute_result"
    }
   ],
   "source": [
    "using DataFrames\n",
    "data = DataFrame(x=[1,1,2,2,2,2,3,3,4,1],y=[1.1,1.2,1.9,1.2,2.0,1.7,1.0,1.7,1.1,1.7])"
   ]
  },
  {
   "cell_type": "markdown",
   "metadata": {},
   "source": [
    "The $\\mathbf{X}$ matrix for the one way model\n",
    "\n",
    "$$\n",
    "y_{ij} = \\mu + \\alpha_i + e_{ij}\n",
    "$$\n",
    "\n",
    "is\n",
    "\n",
    "$$\n",
    "\\mathbf{X} = \n",
    "\\begin{bmatrix}\n",
    "1 & 1 & 0 & 0 & 0 \\\\\n",
    "1 & 1 & 0 & 0 & 0 \\\\\n",
    "1 & 0 & 1 & 0 & 0 \\\\\n",
    "1 & 0 & 1 & 0 & 0 \\\\\n",
    "1 & 0 & 1 & 0 & 0 \\\\\n",
    "1 & 0 & 1 & 0 & 0 \\\\\n",
    "1 & 0 & 0 & 1 & 0 \\\\\n",
    "1 & 0 & 0 & 1 & 0 \\\\\n",
    "1 & 0 & 0 & 0 & 1 \\\\\n",
    "1 & 1 & 0 & 0 & 0 \\\\\n",
    "\\end{bmatrix}\n",
    "$$\n"
   ]
  },
  {
   "cell_type": "markdown",
   "metadata": {},
   "source": [
    "Note that any row of $\\mathbf{X}$ contains only two non-zero elements. These correspond to $\\mu$ and $\\alpha_i$ in the model. Recall that $\\mathbf{x}_i$ denotes row $i$ of $\\mathbf{X}$. The first element of $\\mathbf{x}_i$ corresponds to $\\mu$. Thus, all $\\mathbf{x}_i$ will contain a \"1\" in this position. The second element of $\\mathbf{x}_i$ corresponds to $\\alpha_1$. Thus, $\\mathbf{x}_1$, $\\mathbf{x}_2$ and $\\mathbf{x}_{10}$ contain a \"1\" in this position because observations 1, 2 and 10 are from treatment 1. So, the contribution from the first observation, for example,  to the $\\mathbf{X'X}$ matrix is"
   ]
  },
  {
   "cell_type": "markdown",
   "metadata": {},
   "source": [
    "$$\n",
    "\\mathbf{x}_1\\mathbf{x}'_1 = \n",
    "\\begin{bmatrix}\n",
    "1 \\\\\n",
    "1 \\\\\n",
    "0 \\\\\n",
    "0 \\\\\n",
    "0\n",
    "\\end{bmatrix} \n",
    "\\begin{bmatrix}\n",
    "1 & 1 & 0 & 0 & 0 \n",
    "\\end{bmatrix} = \n",
    "\\begin{bmatrix}\n",
    "1 & 1 & 0 & 0 & 0 \\\\\n",
    "1 & 1 & 0 & 0 & 0 \\\\\n",
    "0 & 0 & 0 & 0 & 0 \\\\\n",
    "0 & 0 & 0 & 0 & 0 \\\\\n",
    "0 & 0 & 0 & 0 & 0 \n",
    "\\end{bmatrix}\n",
    "$$"
   ]
  },
  {
   "cell_type": "markdown",
   "metadata": {},
   "source": [
    "The contributions from observations 2 and 10 would be identical to this because $\\mathbf{x}_2$ and $\\mathbf{x}_{10}$ are identical to $\\mathbf{x}_1$. In general, set $pos\\_\\mu = 1$, which is the column position of the \"1\" in any $\\mathbf{x}_i'$ corresponding to $\\mu$, and set $pos\\_\\alpha$ equal to the column position for the \"1\" in any $\\mathbf{x}_i'$ corresponding to $\\alpha_i$. Then, the positions of the contributions to $\\mathbf{X'X}$ from any observations are: ($pos\\_\\mu$,$pos\\_\\mu$), ($pos\\_\\mu$,$pos\\_\\alpha$), ($pos\\_\\alpha$,$pos\\_\\mu$) and ($pos\\_\\alpha$,$pos\\_\\alpha$). Further, in the one-way model, the contribution to each of these positions is a \"1\". So, $\\mathbf{X'X}$ can be constructed efficiently by setting $pos\\_\\alpha=1+ilevel$, where ilevel is the level of the factor A for observation $i$, and adding \"1\" to positions ($pos\\_\\mu$,$pos\\_\\mu$), ($pos\\_\\mu$,$pos\\_\\alpha$), ($pos\\_\\alpha$,$pos\\_\\mu$) and ($pos\\_\\alpha$,$pos\\_\\alpha$) in $\\mathbf{X'X}$ for each observation in the data file. Similarly, $\\mathbf{X'y}$ can be constructed efficiently by adding $\\mathbf{y}_i$ to positions $pos\\_\\mu$ and $pos\\_\\alpha$ in $\\mathbf{X'y}$. This strategy is used in the program given below."
   ]
  },
  {
   "cell_type": "markdown",
   "metadata": {},
   "source": [
    "#### Number of levels for $\\alpha$"
   ]
  },
  {
   "cell_type": "code",
   "execution_count": 2,
   "metadata": {},
   "outputs": [
    {
     "name": "stderr",
     "output_type": "stream",
     "text": [
      "┌ Warning: `getindex(df::DataFrame, col_ind::ColumnIndex)` is deprecated, use `df[!, col_ind]` instead.\n",
      "│   caller = top-level scope at In[2]:1\n",
      "└ @ Core In[2]:1\n"
     ]
    }
   ],
   "source": [
    "nlevels = length(unique(data[:x]));"
   ]
  },
  {
   "cell_type": "markdown",
   "metadata": {},
   "source": [
    "#### Make X'X and X'y"
   ]
  },
  {
   "cell_type": "code",
   "execution_count": 3,
   "metadata": {},
   "outputs": [],
   "source": [
    "p = nlevels + 1\n",
    "lhs = fill(0.0,p,p)\n",
    "rhs = fill(0.0,p);\n",
    "for i in 1:size(data,1)\n",
    "    pos_μ              = 1\n",
    "    pos_α              = 1 + data[i,:x]\n",
    "    lhs[pos_μ,pos_μ]  += 1.0\n",
    "    lhs[pos_μ,pos_α]  += 1.0\n",
    "    lhs[pos_α,pos_μ]  += 1.0\n",
    "    lhs[pos_α,pos_α]  += 1.0\n",
    "    \n",
    "    y            = data[i,:y]\n",
    "    rhs[pos_μ]  += y\n",
    "    rhs[pos_α]  += y   \n",
    "end"
   ]
  },
  {
   "cell_type": "code",
   "execution_count": 4,
   "metadata": {},
   "outputs": [
    {
     "data": {
      "text/plain": [
       "5×5 Array{Float64,2}:\n",
       " 10.0  3.0  4.0  2.0  1.0\n",
       "  3.0  3.0  0.0  0.0  0.0\n",
       "  4.0  0.0  4.0  0.0  0.0\n",
       "  2.0  0.0  0.0  2.0  0.0\n",
       "  1.0  0.0  0.0  0.0  1.0"
      ]
     },
     "execution_count": 4,
     "metadata": {},
     "output_type": "execute_result"
    }
   ],
   "source": [
    "lhs"
   ]
  },
  {
   "cell_type": "code",
   "execution_count": 5,
   "metadata": {},
   "outputs": [
    {
     "data": {
      "text/plain": [
       "5-element Array{Float64,1}:\n",
       " 14.599999999999998\n",
       "  4.0              \n",
       "  6.8              \n",
       "  2.7              \n",
       "  1.1              "
      ]
     },
     "execution_count": 5,
     "metadata": {},
     "output_type": "execute_result"
    }
   ],
   "source": [
    "rhs"
   ]
  },
  {
   "cell_type": "markdown",
   "metadata": {},
   "source": [
    "#### Solution\n",
    "Note $\\mathbf{X'X}$ is singular, but a solution can be obtained as follows. "
   ]
  },
  {
   "cell_type": "code",
   "execution_count": 6,
   "metadata": {},
   "outputs": [
    {
     "data": {
      "text/plain": [
       "5-element Array{Float64,1}:\n",
       "  1.7458333333333331 \n",
       " -0.4125000000000002 \n",
       " -0.04583333333333354\n",
       " -0.3958333333333334 \n",
       " -0.6458333333333334 "
      ]
     },
     "execution_count": 6,
     "metadata": {},
     "output_type": "execute_result"
    }
   ],
   "source": [
    "sol = lhs\\rhs"
   ]
  },
  {
   "cell_type": "markdown",
   "metadata": {},
   "source": [
    "#### Verify solution "
   ]
  },
  {
   "cell_type": "code",
   "execution_count": 7,
   "metadata": {},
   "outputs": [
    {
     "data": {
      "text/plain": [
       "5×2 Array{Float64,2}:\n",
       " 14.6  14.6\n",
       "  4.0   4.0\n",
       "  6.8   6.8\n",
       "  2.7   2.7\n",
       "  1.1   1.1"
      ]
     },
     "execution_count": 7,
     "metadata": {},
     "output_type": "execute_result"
    }
   ],
   "source": [
    "[lhs*sol rhs]"
   ]
  },
  {
   "cell_type": "markdown",
   "metadata": {},
   "source": [
    "### comparison of efficiencies of different ways to calculate X'X"
   ]
  },
  {
   "cell_type": "markdown",
   "metadata": {},
   "source": [
    "### Big Example"
   ]
  },
  {
   "cell_type": "code",
   "execution_count": 8,
   "metadata": {},
   "outputs": [],
   "source": [
    "using Distributions"
   ]
  },
  {
   "cell_type": "markdown",
   "metadata": {},
   "source": [
    "#### Generate data"
   ]
  },
  {
   "cell_type": "code",
   "execution_count": 9,
   "metadata": {},
   "outputs": [],
   "source": [
    "n       = 1000000\n",
    "p       = 1000\n",
    "levels  = sample(1:p,n)\n",
    "α       = randn(p)\n",
    "y       = [α[i] .+ randn() for i in levels];"
   ]
  },
  {
   "cell_type": "markdown",
   "metadata": {},
   "source": [
    "### Computing X'X as product of full-stored (X' and X)"
   ]
  },
  {
   "cell_type": "code",
   "execution_count": 10,
   "metadata": {},
   "outputs": [],
   "source": [
    "X = fill(0.0,(n,p));"
   ]
  },
  {
   "cell_type": "code",
   "execution_count": 11,
   "metadata": {},
   "outputs": [
    {
     "name": "stdout",
     "output_type": "stream",
     "text": [
      "  0.506515 seconds (3.49 M allocations: 68.471 MiB, 22.61% gc time)\n"
     ]
    }
   ],
   "source": [
    "@time for i = 1:n\n",
    "    j      = levels[i]\n",
    "    X[i,j] = 1.0\n",
    "end"
   ]
  },
  {
   "cell_type": "code",
   "execution_count": 12,
   "metadata": {},
   "outputs": [
    {
     "name": "stdout",
     "output_type": "stream",
     "text": [
      " 11.761367 seconds (907.64 k allocations: 51.126 MiB, 0.50% gc time)\n"
     ]
    }
   ],
   "source": [
    "@time lhs = X'X;"
   ]
  },
  {
   "cell_type": "markdown",
   "metadata": {},
   "source": [
    "### Computing full-stored X'X without matrix multiplication"
   ]
  },
  {
   "cell_type": "code",
   "execution_count": 13,
   "metadata": {},
   "outputs": [],
   "source": [
    "lhs = fill(0.0,p,p);"
   ]
  },
  {
   "cell_type": "code",
   "execution_count": 14,
   "metadata": {},
   "outputs": [
    {
     "name": "stdout",
     "output_type": "stream",
     "text": [
      "  0.175713 seconds (5.49 M allocations: 98.989 MiB, 4.61% gc time)\n"
     ]
    }
   ],
   "source": [
    "@time for i in 1:length(levels)\n",
    "    pos_α               = levels[i]\n",
    "    lhs[pos_α,pos_α]   += 1.0\n",
    "end"
   ]
  },
  {
   "cell_type": "markdown",
   "metadata": {},
   "source": [
    "### Computing sparse-stored X'X as product of sparse-stored (X' and X) "
   ]
  },
  {
   "cell_type": "code",
   "execution_count": 15,
   "metadata": {},
   "outputs": [
    {
     "name": "stdout",
     "output_type": "stream",
     "text": [
      "  0.164986 seconds (344.10 k allocations: 62.499 MiB, 4.96% gc time)\n"
     ]
    }
   ],
   "source": [
    "using SparseArrays\n",
    "ii = 1:n\n",
    "@time X = sparse(ii,levels,1.0);"
   ]
  },
  {
   "cell_type": "code",
   "execution_count": 16,
   "metadata": {},
   "outputs": [
    {
     "name": "stdout",
     "output_type": "stream",
     "text": [
      "  0.355140 seconds (290.65 k allocations: 48.351 MiB, 2.13% gc time)\n"
     ]
    }
   ],
   "source": [
    "@time lhs = X'X;"
   ]
  },
  {
   "cell_type": "markdown",
   "metadata": {},
   "source": [
    "### Computing sparse-stored X'X without matrix multiplication"
   ]
  },
  {
   "cell_type": "code",
   "execution_count": 17,
   "metadata": {},
   "outputs": [
    {
     "data": {
      "text/plain": [
       "1000×1000 SparseMatrixCSC{Float64,Int64} with 0 stored entries"
      ]
     },
     "execution_count": 17,
     "metadata": {},
     "output_type": "execute_result"
    }
   ],
   "source": [
    "lhs = spzeros(p,p)"
   ]
  },
  {
   "cell_type": "code",
   "execution_count": 18,
   "metadata": {},
   "outputs": [
    {
     "name": "stdout",
     "output_type": "stream",
     "text": [
      "  0.176475 seconds (5.56 M allocations: 102.706 MiB, 6.28% gc time)\n"
     ]
    }
   ],
   "source": [
    "@time for i in 1:length(levels)\n",
    "    pos_α  = levels[i]\n",
    "    lhs[pos_α,pos_α]   += 1.0\n",
    "end"
   ]
  },
  {
   "cell_type": "code",
   "execution_count": 20,
   "metadata": {},
   "outputs": [],
   "source": [
    "#varinfo()"
   ]
  }
 ],
 "metadata": {
  "@webio": {
   "lastCommId": null,
   "lastKernelId": null
  },
  "kernelspec": {
   "display_name": "Julia 1.1.0",
   "language": "julia",
   "name": "julia-1.1"
  },
  "language_info": {
   "file_extension": ".jl",
   "mimetype": "application/julia",
   "name": "julia",
   "version": "1.1.0"
  }
 },
 "nbformat": 4,
 "nbformat_minor": 2
}
