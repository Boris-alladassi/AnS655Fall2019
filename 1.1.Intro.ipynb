{
 "cells": [
  {
   "cell_type": "markdown",
   "metadata": {},
   "source": [
    "# Course Objectives"
   ]
  },
  {
   "cell_type": "markdown",
   "metadata": {},
   "source": [
    "In this course we will learn how computational methods and strategies can be used to build software for mixed linear model analyses of large data sets. These analyses will include prediction of breeding values and estimation of genetic parameters based on large pedigrees with complete or incomplete genomic information. \n",
    "\n",
    "Until 2016, this course was based on C++ when Julia programming was used for the first time. The Julia programs that were used in 2016 were developed into a public-domain package called [JWAS](https://github.com/reworkhow/JWAS.jl) for Bayesian, mixed linear model analyses of whole genomic data. We will start by looking at how JWAS is used for mixed linear model analyses to get an idea of what we are trying to build.  \n",
    "\n",
    "The concepts that you learn here should be useful for developing programs for other purposes in different languages."
   ]
  },
  {
   "cell_type": "markdown",
   "metadata": {},
   "source": [
    "## Some Notes on Bayesian Analysis of Mixed Linear Models\n",
    "\n",
    "* [Bayes Theorem](Bayes/6.1.BayesTheorem.ipynb)\n",
    "* [Bayesian Inference](Bayes/6.2.BayesInference.ipynb)\n",
    "* [MCMC](Bayes/6.3.MCMC.ipynb)\n",
    "* [Mixed Linear Model](Bayes/6.5.2.BayesMixedLinearModel.ipynb)"
   ]
  }
 ],
 "metadata": {
  "kernelspec": {
   "display_name": "Julia 1.1.0",
   "language": "julia",
   "name": "julia-1.1"
  },
  "language_info": {
   "file_extension": ".jl",
   "mimetype": "application/julia",
   "name": "julia",
   "version": "1.1.0"
  }
 },
 "nbformat": 4,
 "nbformat_minor": 2
}
