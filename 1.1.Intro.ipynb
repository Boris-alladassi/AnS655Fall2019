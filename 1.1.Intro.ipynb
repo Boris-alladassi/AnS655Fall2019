{
 "cells": [
  {
   "cell_type": "markdown",
   "metadata": {},
   "source": [
    "In this course we will learn how computational methods and strategies can be used to build software for mixed linear model analyses of large data sets. These analyses will include prediction of breeding values and estimation of genetic parameters based on large pedigrees with complete or incomplete genomic information. \n",
    "\n",
    "Until 2016, this course was based on C++ when Julia programming was used for the first time. The Julia programs that were used in 2016 were developed into a public-domain package called [JWAS](https://github.com/reworkhow/JWAS.jl) for Bayesian, mixed linear model analyses of whole genomic data. \n",
    "\n",
    "The concepts that you learn here should be useful for developing programs for other purposes in different languages."
   ]
  }
 ],
 "metadata": {
  "kernelspec": {
   "display_name": "Julia 1.1.0",
   "language": "julia",
   "name": "julia-1.1"
  },
  "language_info": {
   "file_extension": ".jl",
   "mimetype": "application/julia",
   "name": "julia",
   "version": "1.1.0"
  }
 },
 "nbformat": 4,
 "nbformat_minor": 2
}
