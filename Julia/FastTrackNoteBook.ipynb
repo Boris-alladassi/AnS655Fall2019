{
 "cells": [
  {
   "cell_type": "markdown",
   "metadata": {},
   "source": [
    "# Fast Track to Julia NoteBook\n",
    "\n",
    "Expanding on parts of [Fast Track to Julia](https://juliadocs.github.io/Julia-Cheat-Sheet/)"
   ]
  },
  {
   "cell_type": "markdown",
   "metadata": {},
   "source": [
    "## Basics"
   ]
  },
  {
   "cell_type": "code",
   "execution_count": 50,
   "metadata": {},
   "outputs": [
    {
     "data": {
      "text/plain": [
       "12.5"
      ]
     },
     "execution_count": 50,
     "metadata": {},
     "output_type": "execute_result"
    }
   ],
   "source": [
    "a = 2.5\n",
    "5a"
   ]
  },
  {
   "cell_type": "code",
   "execution_count": 51,
   "metadata": {},
   "outputs": [
    {
     "data": {
      "text/plain": [
       "12.5"
      ]
     },
     "execution_count": 51,
     "metadata": {},
     "output_type": "execute_result"
    }
   ],
   "source": [
    "5*a"
   ]
  },
  {
   "cell_type": "markdown",
   "metadata": {},
   "source": [
    "`ans` has the result from the last calculation:"
   ]
  },
  {
   "cell_type": "code",
   "execution_count": 52,
   "metadata": {},
   "outputs": [
    {
     "data": {
      "text/plain": [
       "12.5"
      ]
     },
     "execution_count": 52,
     "metadata": {},
     "output_type": "execute_result"
    }
   ],
   "source": [
    "ans"
   ]
  },
  {
   "cell_type": "markdown",
   "metadata": {},
   "source": [
    "### Two types of comments \n",
    "\n",
    "#### Frist type:"
   ]
  },
  {
   "cell_type": "code",
   "execution_count": 53,
   "metadata": {},
   "outputs": [
    {
     "data": {
      "text/plain": [
       "22.5"
      ]
     },
     "execution_count": 53,
     "metadata": {},
     "output_type": "execute_result"
    }
   ],
   "source": [
    "# this is a one line comment\n",
    "9a # comment can be at the end of a line too"
   ]
  },
  {
   "cell_type": "markdown",
   "metadata": {},
   "source": [
    "#### Second type:"
   ]
  },
  {
   "cell_type": "code",
   "execution_count": 54,
   "metadata": {},
   "outputs": [],
   "source": [
    "#= This is the first line of a comment block\n",
    "9a # comment can be at the end of a line too\n",
    "This is the last line of the block =# "
   ]
  },
  {
   "cell_type": "markdown",
   "metadata": {},
   "source": [
    "### Julia allows simple way to swap values of variables"
   ]
  },
  {
   "cell_type": "code",
   "execution_count": 55,
   "metadata": {},
   "outputs": [
    {
     "data": {
      "text/plain": [
       "2-element Array{Int64,1}:\n",
       " 1\n",
       " 2"
      ]
     },
     "execution_count": 55,
     "metadata": {},
     "output_type": "execute_result"
    }
   ],
   "source": [
    "a,b = 1,2\n",
    "[a,b]"
   ]
  },
  {
   "cell_type": "code",
   "execution_count": 56,
   "metadata": {},
   "outputs": [
    {
     "data": {
      "text/plain": [
       "2-element Array{Int64,1}:\n",
       " 2\n",
       " 1"
      ]
     },
     "execution_count": 56,
     "metadata": {},
     "output_type": "execute_result"
    }
   ],
   "source": [
    "# easy swapping of values\n",
    "a,b = b,a\n",
    "[a,b]"
   ]
  },
  {
   "cell_type": "code",
   "execution_count": 57,
   "metadata": {},
   "outputs": [
    {
     "data": {
      "text/plain": [
       "2-element Array{Int64,1}:\n",
       " 2\n",
       " 1"
      ]
     },
     "execution_count": 57,
     "metadata": {},
     "output_type": "execute_result"
    }
   ],
   "source": [
    "# in most languages you have to do\n",
    "a = 1\n",
    "b = 2\n",
    "temp = a\n",
    "a = b\n",
    "b = temp\n",
    "[a,b]"
   ]
  },
  {
   "cell_type": "markdown",
   "metadata": {},
   "source": [
    "### Julia allows simple boolean expressions"
   ]
  },
  {
   "cell_type": "code",
   "execution_count": 58,
   "metadata": {},
   "outputs": [
    {
     "data": {
      "text/plain": [
       "true"
      ]
     },
     "execution_count": 58,
     "metadata": {},
     "output_type": "execute_result"
    }
   ],
   "source": [
    "# Example\n",
    "1 < a < 3"
   ]
  },
  {
   "cell_type": "code",
   "execution_count": 59,
   "metadata": {},
   "outputs": [
    {
     "data": {
      "text/plain": [
       "true"
      ]
     },
     "execution_count": 59,
     "metadata": {},
     "output_type": "execute_result"
    }
   ],
   "source": [
    "# In many languages this has to be written as\n",
    "1 < a && a < 3"
   ]
  },
  {
   "cell_type": "markdown",
   "metadata": {},
   "source": [
    "### Ternary Operator"
   ]
  },
  {
   "cell_type": "code",
   "execution_count": 60,
   "metadata": {},
   "outputs": [
    {
     "data": {
      "text/plain": [
       "1"
      ]
     },
     "execution_count": 60,
     "metadata": {},
     "output_type": "execute_result"
    }
   ],
   "source": [
    "a = 1\n",
    "b = 1\n",
    "c = 2\n",
    "\n",
    "res = a==b ? a : b"
   ]
  },
  {
   "cell_type": "code",
   "execution_count": 61,
   "metadata": {},
   "outputs": [
    {
     "data": {
      "text/plain": [
       "2"
      ]
     },
     "execution_count": 61,
     "metadata": {},
     "output_type": "execute_result"
    }
   ],
   "source": [
    "a==c ? a : c"
   ]
  },
  {
   "cell_type": "code",
   "execution_count": 62,
   "metadata": {},
   "outputs": [
    {
     "data": {
      "text/plain": [
       "10"
      ]
     },
     "execution_count": 62,
     "metadata": {},
     "output_type": "execute_result"
    }
   ],
   "source": [
    "a==c ? 1 : 10"
   ]
  },
  {
   "cell_type": "code",
   "execution_count": 63,
   "metadata": {},
   "outputs": [
    {
     "data": {
      "text/plain": [
       "1"
      ]
     },
     "execution_count": 63,
     "metadata": {},
     "output_type": "execute_result"
    }
   ],
   "source": [
    "a==c-b ? 1 : 10"
   ]
  },
  {
   "cell_type": "markdown",
   "metadata": {},
   "source": [
    "### Remainder"
   ]
  },
  {
   "cell_type": "code",
   "execution_count": 64,
   "metadata": {},
   "outputs": [
    {
     "data": {
      "text/plain": [
       "9"
      ]
     },
     "execution_count": 64,
     "metadata": {},
     "output_type": "execute_result"
    }
   ],
   "source": [
    "99 % 10"
   ]
  },
  {
   "cell_type": "code",
   "execution_count": 65,
   "metadata": {},
   "outputs": [
    {
     "data": {
      "text/plain": [
       "0"
      ]
     },
     "execution_count": 65,
     "metadata": {},
     "output_type": "execute_result"
    }
   ],
   "source": [
    "100 % 10"
   ]
  },
  {
   "cell_type": "code",
   "execution_count": 66,
   "metadata": {},
   "outputs": [
    {
     "data": {
      "text/plain": [
       "0"
      ]
     },
     "execution_count": 66,
     "metadata": {},
     "output_type": "execute_result"
    }
   ],
   "source": [
    "90 % 10"
   ]
  },
  {
   "cell_type": "markdown",
   "metadata": {},
   "source": [
    "## Arrays (Vectors and Matricies)"
   ]
  },
  {
   "cell_type": "markdown",
   "metadata": {},
   "source": [
    "### Declaration and Initialization of arrays"
   ]
  },
  {
   "cell_type": "code",
   "execution_count": 67,
   "metadata": {},
   "outputs": [
    {
     "data": {
      "text/plain": [
       "0-element Array{Float64,1}"
      ]
     },
     "execution_count": 67,
     "metadata": {},
     "output_type": "execute_result"
    }
   ],
   "source": [
    "# empty vector of double precision floats\n",
    "v = Array{Float64,1}()"
   ]
  },
  {
   "cell_type": "code",
   "execution_count": 68,
   "metadata": {},
   "outputs": [
    {
     "data": {
      "text/plain": [
       "1-element Array{Float64,1}:\n",
       " 2.0"
      ]
     },
     "execution_count": 68,
     "metadata": {},
     "output_type": "execute_result"
    }
   ],
   "source": [
    "push!(v,2.0)\n",
    "v"
   ]
  },
  {
   "cell_type": "code",
   "execution_count": 69,
   "metadata": {},
   "outputs": [
    {
     "data": {
      "text/plain": [
       "5-element Array{Float64,1}:\n",
       " 2.54639494965e-313\n",
       " 2.75859452875e-313\n",
       " 1.27319747527e-313\n",
       " 6.5781869533e-313 \n",
       " 2.1219958073e-314 "
      ]
     },
     "execution_count": 69,
     "metadata": {},
     "output_type": "execute_result"
    }
   ],
   "source": [
    "# vector of size 5, double precision floats\n",
    "u =  Array{Float64,1}(undef, 5)"
   ]
  },
  {
   "cell_type": "code",
   "execution_count": 70,
   "metadata": {},
   "outputs": [
    {
     "data": {
      "text/plain": [
       "3×5 Array{Float64,2}:\n",
       " 0.0  0.0  0.0  0.0  0.0\n",
       " 0.0  0.0  0.0  0.0  0.0\n",
       " 0.0  0.0  0.0  0.0  0.0"
      ]
     },
     "execution_count": 70,
     "metadata": {},
     "output_type": "execute_result"
    }
   ],
   "source": [
    "# matrix of size 3x5, double precision floats\n",
    "U =  Array{Float64,2}(undef, 3,5)"
   ]
  },
  {
   "cell_type": "code",
   "execution_count": 71,
   "metadata": {},
   "outputs": [
    {
     "data": {
      "text/plain": [
       "5-element Array{Float64,1}:\n",
       " 2.2\n",
       " 2.2\n",
       " 2.2\n",
       " 2.2\n",
       " 2.2"
      ]
     },
     "execution_count": 71,
     "metadata": {},
     "output_type": "execute_result"
    }
   ],
   "source": [
    "# vector of size 5, of 2.2\n",
    "u =  fill(2.2,5)"
   ]
  },
  {
   "cell_type": "code",
   "execution_count": 72,
   "metadata": {},
   "outputs": [
    {
     "data": {
      "text/plain": [
       "5-element Array{Float64,1}:\n",
       " 0.0\n",
       " 0.0\n",
       " 0.0\n",
       " 0.0\n",
       " 0.0"
      ]
     },
     "execution_count": 72,
     "metadata": {},
     "output_type": "execute_result"
    }
   ],
   "source": [
    "zeros(5)"
   ]
  },
  {
   "cell_type": "code",
   "execution_count": 73,
   "metadata": {},
   "outputs": [
    {
     "data": {
      "text/plain": [
       "3×5 Array{Float64,2}:\n",
       " 0.0  0.0  0.0  0.0  0.0\n",
       " 0.0  0.0  0.0  0.0  0.0\n",
       " 0.0  0.0  0.0  0.0  0.0"
      ]
     },
     "execution_count": 73,
     "metadata": {},
     "output_type": "execute_result"
    }
   ],
   "source": [
    "zeros(3,5)"
   ]
  },
  {
   "cell_type": "code",
   "execution_count": 74,
   "metadata": {},
   "outputs": [
    {
     "data": {
      "text/plain": [
       "3×5 Array{Float64,2}:\n",
       " 0.0  0.0  0.0  0.0  0.0\n",
       " 0.0  0.0  0.0  0.0  0.0\n",
       " 0.0  0.0  0.0  0.0  0.0"
      ]
     },
     "execution_count": 74,
     "metadata": {},
     "output_type": "execute_result"
    }
   ],
   "source": [
    "zero(U)"
   ]
  },
  {
   "cell_type": "code",
   "execution_count": 75,
   "metadata": {},
   "outputs": [
    {
     "data": {
      "text/plain": [
       "3×5 Array{Float64,2}:\n",
       " 1.0  1.0  1.0  1.0  1.0\n",
       " 1.0  1.0  1.0  1.0  1.0\n",
       " 1.0  1.0  1.0  1.0  1.0"
      ]
     },
     "execution_count": 75,
     "metadata": {},
     "output_type": "execute_result"
    }
   ],
   "source": [
    "ones(3,5)"
   ]
  },
  {
   "cell_type": "code",
   "execution_count": 76,
   "metadata": {},
   "outputs": [],
   "source": [
    "using Random, Statistics"
   ]
  },
  {
   "cell_type": "code",
   "execution_count": 77,
   "metadata": {},
   "outputs": [
    {
     "data": {
      "text/plain": [
       "3×5 Array{Float64,2}:\n",
       " 0.166479  0.268334  0.269063  0.605399  0.642119\n",
       " 0.722327  0.67564   0.882251  0.183593  0.70494 \n",
       " 0.810225  0.798755  0.806262  0.593992  0.201726"
      ]
     },
     "execution_count": 77,
     "metadata": {},
     "output_type": "execute_result"
    }
   ],
   "source": [
    "rand(3,5) # uniform(0,1)"
   ]
  },
  {
   "cell_type": "code",
   "execution_count": 78,
   "metadata": {},
   "outputs": [
    {
     "data": {
      "text/plain": [
       "3×5 Array{Float64,2}:\n",
       " 0.788536  -0.309659    0.81292   1.5094     0.717494\n",
       " 0.289554  -0.00780053  1.25038   0.881649  -0.765373\n",
       " 1.15377   -1.83402     0.132648  0.254369  -2.46029 "
      ]
     },
     "execution_count": 78,
     "metadata": {},
     "output_type": "execute_result"
    }
   ],
   "source": [
    "randn(3,5) # standard normal"
   ]
  },
  {
   "cell_type": "code",
   "execution_count": 79,
   "metadata": {},
   "outputs": [
    {
     "data": {
      "text/plain": [
       "-0.0005147259950349833"
      ]
     },
     "execution_count": 79,
     "metadata": {},
     "output_type": "execute_result"
    }
   ],
   "source": [
    "mean(randn(1_000_000))"
   ]
  },
  {
   "cell_type": "code",
   "execution_count": 80,
   "metadata": {},
   "outputs": [
    {
     "data": {
      "text/plain": [
       "0.9986005256080187"
      ]
     },
     "execution_count": 80,
     "metadata": {},
     "output_type": "execute_result"
    }
   ],
   "source": [
    "var(randn(1_000_000))"
   ]
  },
  {
   "cell_type": "code",
   "execution_count": 81,
   "metadata": {},
   "outputs": [],
   "source": [
    "using Distributions, LinearAlgebra"
   ]
  },
  {
   "cell_type": "code",
   "execution_count": 82,
   "metadata": {},
   "outputs": [
    {
     "data": {
      "text/plain": [
       "10×20 Array{Int64,2}:\n",
       " 1  1  1  0  1  0  0  1  0  1  0  0  1  2  1  1  1  1  1  0\n",
       " 1  2  2  2  2  1  1  1  2  1  1  1  0  1  2  1  0  2  0  1\n",
       " 0  2  2  0  1  1  0  2  0  1  0  2  1  1  2  1  0  2  2  2\n",
       " 0  2  1  0  0  1  0  1  2  0  2  0  0  1  1  0  2  2  1  2\n",
       " 1  1  2  1  1  0  2  1  1  1  0  1  2  1  2  0  1  0  0  1\n",
       " 2  0  2  1  0  1  0  1  2  1  1  0  1  1  1  0  2  2  0  1\n",
       " 1  0  1  2  1  1  1  1  1  1  1  0  1  0  2  1  1  2  1  1\n",
       " 1  1  2  1  1  1  1  2  1  1  1  0  1  0  2  1  0  1  1  2\n",
       " 0  1  2  0  1  1  1  1  0  2  1  1  0  1  2  1  0  0  2  1\n",
       " 1  0  0  0  0  0  0  0  1  1  0  0  1  1  1  1  0  1  2  0"
      ]
     },
     "execution_count": 82,
     "metadata": {},
     "output_type": "execute_result"
    }
   ],
   "source": [
    "M = rand(Binomial(2,0.5),10,20)"
   ]
  },
  {
   "cell_type": "markdown",
   "metadata": {},
   "source": [
    "#### Get first column as one dimensionsal array"
   ]
  },
  {
   "cell_type": "code",
   "execution_count": 83,
   "metadata": {},
   "outputs": [
    {
     "data": {
      "text/plain": [
       "10-element Array{Int64,1}:\n",
       " 1\n",
       " 1\n",
       " 0\n",
       " 0\n",
       " 1\n",
       " 2\n",
       " 1\n",
       " 1\n",
       " 0\n",
       " 1"
      ]
     },
     "execution_count": 83,
     "metadata": {},
     "output_type": "execute_result"
    }
   ],
   "source": [
    "M[:,1]"
   ]
  },
  {
   "cell_type": "markdown",
   "metadata": {},
   "source": [
    "#### Get first row as one dimensionsal array¶"
   ]
  },
  {
   "cell_type": "code",
   "execution_count": 84,
   "metadata": {},
   "outputs": [
    {
     "data": {
      "text/plain": [
       "20-element Array{Int64,1}:\n",
       " 1\n",
       " 1\n",
       " 1\n",
       " 0\n",
       " 1\n",
       " 0\n",
       " 0\n",
       " 1\n",
       " 0\n",
       " 1\n",
       " 0\n",
       " 0\n",
       " 1\n",
       " 2\n",
       " 1\n",
       " 1\n",
       " 1\n",
       " 1\n",
       " 1\n",
       " 0"
      ]
     },
     "execution_count": 84,
     "metadata": {},
     "output_type": "execute_result"
    }
   ],
   "source": [
    "M[1,:]"
   ]
  },
  {
   "cell_type": "markdown",
   "metadata": {},
   "source": [
    "#### Transposing and array gives a row vector "
   ]
  },
  {
   "cell_type": "code",
   "execution_count": 85,
   "metadata": {},
   "outputs": [
    {
     "data": {
      "text/plain": [
       "1×20 Adjoint{Int64,Array{Int64,1}}:\n",
       " 1  1  1  0  1  0  0  1  0  1  0  0  1  2  1  1  1  1  1  0"
      ]
     },
     "execution_count": 85,
     "metadata": {},
     "output_type": "execute_result"
    }
   ],
   "source": [
    "M[1,:]'"
   ]
  },
  {
   "cell_type": "markdown",
   "metadata": {},
   "source": [
    "#### Sum of squares of elements in first row"
   ]
  },
  {
   "cell_type": "code",
   "execution_count": 86,
   "metadata": {},
   "outputs": [
    {
     "data": {
      "text/plain": [
       "16"
      ]
     },
     "execution_count": 86,
     "metadata": {},
     "output_type": "execute_result"
    }
   ],
   "source": [
    "M[1,:]'M[1,:]"
   ]
  },
  {
   "cell_type": "code",
   "execution_count": 87,
   "metadata": {},
   "outputs": [
    {
     "data": {
      "text/plain": [
       "16"
      ]
     },
     "execution_count": 87,
     "metadata": {},
     "output_type": "execute_result"
    }
   ],
   "source": [
    "M[1,:]'*M[1,:]"
   ]
  },
  {
   "cell_type": "code",
   "execution_count": 88,
   "metadata": {},
   "outputs": [
    {
     "data": {
      "text/plain": [
       "16"
      ]
     },
     "execution_count": 88,
     "metadata": {},
     "output_type": "execute_result"
    }
   ],
   "source": [
    "dot(M[1,:],M[1,:])"
   ]
  },
  {
   "cell_type": "code",
   "execution_count": 89,
   "metadata": {},
   "outputs": [
    {
     "data": {
      "text/plain": [
       "20-element Array{Int64,1}:\n",
       " 1\n",
       " 1\n",
       " 1\n",
       " 0\n",
       " 1\n",
       " 0\n",
       " 0\n",
       " 1\n",
       " 0\n",
       " 1\n",
       " 0\n",
       " 0\n",
       " 1\n",
       " 4\n",
       " 1\n",
       " 1\n",
       " 1\n",
       " 1\n",
       " 1\n",
       " 0"
      ]
     },
     "execution_count": 89,
     "metadata": {},
     "output_type": "execute_result"
    }
   ],
   "source": [
    "M[1,:].^2"
   ]
  },
  {
   "cell_type": "code",
   "execution_count": 90,
   "metadata": {},
   "outputs": [
    {
     "data": {
      "text/plain": [
       "16"
      ]
     },
     "execution_count": 90,
     "metadata": {},
     "output_type": "execute_result"
    }
   ],
   "source": [
    "sum(M[1,:].^2)"
   ]
  },
  {
   "cell_type": "markdown",
   "metadata": {},
   "source": [
    "#### Matrix transpose and product "
   ]
  },
  {
   "cell_type": "code",
   "execution_count": 91,
   "metadata": {},
   "outputs": [
    {
     "data": {
      "text/plain": [
       "true"
      ]
     },
     "execution_count": 91,
     "metadata": {},
     "output_type": "execute_result"
    }
   ],
   "source": [
    "M'M == M'*M"
   ]
  },
  {
   "cell_type": "markdown",
   "metadata": {},
   "source": [
    "### Identity Matrix"
   ]
  },
  {
   "cell_type": "markdown",
   "metadata": {},
   "source": [
    "#### In general"
   ]
  },
  {
   "cell_type": "code",
   "execution_count": 92,
   "metadata": {},
   "outputs": [
    {
     "data": {
      "text/plain": [
       "3×3 Array{Float64,2}:\n",
       " 1.0  0.0  0.0\n",
       " 0.0  1.0  0.0\n",
       " 0.0  0.0  1.0"
      ]
     },
     "execution_count": 92,
     "metadata": {},
     "output_type": "execute_result"
    }
   ],
   "source": [
    "Matrix{Float64}(I,3,3)"
   ]
  },
  {
   "cell_type": "code",
   "execution_count": 93,
   "metadata": {},
   "outputs": [
    {
     "data": {
      "text/plain": [
       "3×4 Array{Float64,2}:\n",
       " 1.0  0.0  0.0  0.0\n",
       " 0.0  1.0  0.0  0.0\n",
       " 0.0  0.0  1.0  0.0"
      ]
     },
     "execution_count": 93,
     "metadata": {},
     "output_type": "execute_result"
    }
   ],
   "source": [
    "Matrix{Float64}(I,3,4)"
   ]
  },
  {
   "cell_type": "code",
   "execution_count": 94,
   "metadata": {},
   "outputs": [
    {
     "data": {
      "text/plain": [
       "4×3 Array{Float64,2}:\n",
       " 1.0  0.0  0.0\n",
       " 0.0  1.0  0.0\n",
       " 0.0  0.0  1.0\n",
       " 0.0  0.0  0.0"
      ]
     },
     "execution_count": 94,
     "metadata": {},
     "output_type": "execute_result"
    }
   ],
   "source": [
    "Matrix{Float64}(I,4,3)"
   ]
  },
  {
   "cell_type": "markdown",
   "metadata": {},
   "source": [
    "#### When dimensions can be inferred"
   ]
  },
  {
   "cell_type": "code",
   "execution_count": 95,
   "metadata": {},
   "outputs": [
    {
     "data": {
      "text/plain": [
       "20×20 Array{Int64,2}:\n",
       " 11   5  12   8   6   5   5   8  10  …   2   8   7  12   5   7  11   5   7\n",
       "  5  17  17   6  10   8   6  13  10      8   6  10  17   7   6  14  10  14\n",
       " 12  17  28  12  14  12  11  19  15     10  12  13  26  10  10  19  13  19\n",
       "  8   6  12  12   8   6   7   8  10      3   6   4  13   5   5  11   3   8\n",
       "  6  10  14   8  11   6   7  10   7      6   6   7  15   7   3  10   7   9\n",
       "  5   8  12   6   6   8   4   9   8  …   4   4   5  12   5   5  11   7  10\n",
       "  5   6  11   7   7   4   9   7   6      4   6   4  12   4   3   5   4   7\n",
       "  8  13  19   8  10   9   7  16  10      7   9   9  19   8   7  15  11  15\n",
       " 10  10  15  10   7   8   6  10  17      3   7   8  15   5  10  16   6  12\n",
       "  8   9  16   7   9   7   7  11   8      6   8   9  17   8   5  11  11  10\n",
       "  5   8  11   6   5   7   4   8  10  …   2   3   5  11   4   7  11   6  10\n",
       "  2   8  10   3   6   4   4   7   3      8   4   5  10   4   1   6   6   7\n",
       "  8   6  12   6   6   4   6   9   7      4  11   7  13   5   6   9   7   8\n",
       "  7  10  13   4   7   5   4   9   8      5   7  12  13   6   7  11   9   8\n",
       " 12  17  26  13  15  12  12  19  15     10  13  13  29  12   9  20  16  19\n",
       "  5   7  10   5   7   5   4   8   5  …   4   5   6  12   8   2   9   9   7\n",
       "  7   6  10   5   3   5   3   7  10      1   6   7   9   2  12  11   4   8\n",
       " 11  14  19  11  10  11   5  15  16      6   9  11  20   9  11  24  12  16\n",
       "  5  10  13   3   7   7   4  11   6      6   7   9  16   9   4  12  17  11\n",
       "  7  14  19   8   9  10   7  15  12      7   8   8  19   7   8  16  11  18"
      ]
     },
     "execution_count": 95,
     "metadata": {},
     "output_type": "execute_result"
    }
   ],
   "source": [
    "A = M'M + I"
   ]
  },
  {
   "cell_type": "markdown",
   "metadata": {},
   "source": [
    "### Subset of Matrix"
   ]
  },
  {
   "cell_type": "code",
   "execution_count": 96,
   "metadata": {},
   "outputs": [
    {
     "data": {
      "text/plain": [
       "2×2 Array{Int64,2}:\n",
       " 12  8\n",
       " 17  6"
      ]
     },
     "execution_count": 96,
     "metadata": {},
     "output_type": "execute_result"
    }
   ],
   "source": [
    "B = A[1:2,3:4]"
   ]
  },
  {
   "cell_type": "code",
   "execution_count": 97,
   "metadata": {},
   "outputs": [
    {
     "data": {
      "text/plain": [
       "2×10 Array{Int64,2}:\n",
       " 5  2  8   7  12  5  7  11   5   7\n",
       " 8  8  6  10  17  7  6  14  10  14"
      ]
     },
     "execution_count": 97,
     "metadata": {},
     "output_type": "execute_result"
    }
   ],
   "source": [
    "C = A[1:2,11:end]"
   ]
  },
  {
   "cell_type": "markdown",
   "metadata": {},
   "source": [
    "### Concatenation\n",
    "#### Horizontal"
   ]
  },
  {
   "cell_type": "code",
   "execution_count": 98,
   "metadata": {},
   "outputs": [
    {
     "data": {
      "text/plain": [
       "2×12 Array{Int64,2}:\n",
       " 12  8  5  2  8   7  12  5  7  11   5   7\n",
       " 17  6  8  8  6  10  17  7  6  14  10  14"
      ]
     },
     "execution_count": 98,
     "metadata": {},
     "output_type": "execute_result"
    }
   ],
   "source": [
    "[B C]"
   ]
  },
  {
   "cell_type": "code",
   "execution_count": 99,
   "metadata": {},
   "outputs": [
    {
     "data": {
      "text/plain": [
       "2×12 Array{Int64,2}:\n",
       " 12  8  5  2  8   7  12  5  7  11   5   7\n",
       " 17  6  8  8  6  10  17  7  6  14  10  14"
      ]
     },
     "execution_count": 99,
     "metadata": {},
     "output_type": "execute_result"
    }
   ],
   "source": [
    "hcat(B,C)"
   ]
  },
  {
   "cell_type": "markdown",
   "metadata": {},
   "source": [
    "#### Vertical"
   ]
  },
  {
   "cell_type": "code",
   "execution_count": 100,
   "metadata": {},
   "outputs": [
    {
     "data": {
      "text/plain": [
       "12×20 Array{Int64,2}:\n",
       " 11   5  12   8   6   5   5   8  10  …   2   8   7  12   5   7  11   5   7\n",
       "  5  17  17   6  10   8   6  13  10      8   6  10  17   7   6  14  10  14\n",
       "  5   8  11   6   5   7   4   8  10      2   3   5  11   4   7  11   6  10\n",
       "  2   8  10   3   6   4   4   7   3      8   4   5  10   4   1   6   6   7\n",
       "  8   6  12   6   6   4   6   9   7      4  11   7  13   5   6   9   7   8\n",
       "  7  10  13   4   7   5   4   9   8  …   5   7  12  13   6   7  11   9   8\n",
       " 12  17  26  13  15  12  12  19  15     10  13  13  29  12   9  20  16  19\n",
       "  5   7  10   5   7   5   4   8   5      4   5   6  12   8   2   9   9   7\n",
       "  7   6  10   5   3   5   3   7  10      1   6   7   9   2  12  11   4   8\n",
       " 11  14  19  11  10  11   5  15  16      6   9  11  20   9  11  24  12  16\n",
       "  5  10  13   3   7   7   4  11   6  …   6   7   9  16   9   4  12  17  11\n",
       "  7  14  19   8   9  10   7  15  12      7   8   8  19   7   8  16  11  18"
      ]
     },
     "execution_count": 100,
     "metadata": {},
     "output_type": "execute_result"
    }
   ],
   "source": [
    "[ \n",
    "A[1:2,:]\n",
    "A[11:end,:]\n",
    "]"
   ]
  },
  {
   "cell_type": "code",
   "execution_count": 101,
   "metadata": {},
   "outputs": [
    {
     "data": {
      "text/plain": [
       "12×20 Array{Int64,2}:\n",
       " 11   5  12   8   6   5   5   8  10  …   2   8   7  12   5   7  11   5   7\n",
       "  5  17  17   6  10   8   6  13  10      8   6  10  17   7   6  14  10  14\n",
       "  5   8  11   6   5   7   4   8  10      2   3   5  11   4   7  11   6  10\n",
       "  2   8  10   3   6   4   4   7   3      8   4   5  10   4   1   6   6   7\n",
       "  8   6  12   6   6   4   6   9   7      4  11   7  13   5   6   9   7   8\n",
       "  7  10  13   4   7   5   4   9   8  …   5   7  12  13   6   7  11   9   8\n",
       " 12  17  26  13  15  12  12  19  15     10  13  13  29  12   9  20  16  19\n",
       "  5   7  10   5   7   5   4   8   5      4   5   6  12   8   2   9   9   7\n",
       "  7   6  10   5   3   5   3   7  10      1   6   7   9   2  12  11   4   8\n",
       " 11  14  19  11  10  11   5  15  16      6   9  11  20   9  11  24  12  16\n",
       "  5  10  13   3   7   7   4  11   6  …   6   7   9  16   9   4  12  17  11\n",
       "  7  14  19   8   9  10   7  15  12      7   8   8  19   7   8  16  11  18"
      ]
     },
     "execution_count": 101,
     "metadata": {},
     "output_type": "execute_result"
    }
   ],
   "source": [
    "vcat(A[1:2,:],A[11:end,:])"
   ]
  },
  {
   "cell_type": "markdown",
   "metadata": {},
   "source": [
    "### Sorting"
   ]
  },
  {
   "cell_type": "code",
   "execution_count": 102,
   "metadata": {},
   "outputs": [
    {
     "data": {
      "text/plain": [
       "10-element Array{Int64,1}:\n",
       " 0\n",
       " 0\n",
       " 0\n",
       " 1\n",
       " 1\n",
       " 1\n",
       " 1\n",
       " 1\n",
       " 1\n",
       " 2"
      ]
     },
     "execution_count": 102,
     "metadata": {},
     "output_type": "execute_result"
    }
   ],
   "source": [
    "sort(M[:,1])"
   ]
  },
  {
   "cell_type": "code",
   "execution_count": 103,
   "metadata": {},
   "outputs": [
    {
     "data": {
      "text/plain": [
       "10-element Array{Int64,1}:\n",
       "  3\n",
       "  4\n",
       "  9\n",
       "  1\n",
       "  2\n",
       "  5\n",
       "  7\n",
       "  8\n",
       " 10\n",
       "  6"
      ]
     },
     "execution_count": 103,
     "metadata": {},
     "output_type": "execute_result"
    }
   ],
   "source": [
    "index = sortperm(M[:,1])"
   ]
  },
  {
   "cell_type": "code",
   "execution_count": 104,
   "metadata": {},
   "outputs": [
    {
     "data": {
      "text/plain": [
       "10-element Array{Int64,1}:\n",
       " 0\n",
       " 0\n",
       " 0\n",
       " 1\n",
       " 1\n",
       " 1\n",
       " 1\n",
       " 1\n",
       " 1\n",
       " 2"
      ]
     },
     "execution_count": 104,
     "metadata": {},
     "output_type": "execute_result"
    }
   ],
   "source": [
    "M[index,1]"
   ]
  },
  {
   "cell_type": "markdown",
   "metadata": {},
   "source": [
    "### Sorting the entire matrix by the first column"
   ]
  },
  {
   "cell_type": "code",
   "execution_count": 105,
   "metadata": {},
   "outputs": [
    {
     "data": {
      "text/plain": [
       "10×20 Array{Int64,2}:\n",
       " 0  2  2  0  1  1  0  2  0  1  0  2  1  1  2  1  0  2  2  2\n",
       " 0  2  1  0  0  1  0  1  2  0  2  0  0  1  1  0  2  2  1  2\n",
       " 0  1  2  0  1  1  1  1  0  2  1  1  0  1  2  1  0  0  2  1\n",
       " 1  1  1  0  1  0  0  1  0  1  0  0  1  2  1  1  1  1  1  0\n",
       " 1  2  2  2  2  1  1  1  2  1  1  1  0  1  2  1  0  2  0  1\n",
       " 1  1  2  1  1  0  2  1  1  1  0  1  2  1  2  0  1  0  0  1\n",
       " 1  0  1  2  1  1  1  1  1  1  1  0  1  0  2  1  1  2  1  1\n",
       " 1  1  2  1  1  1  1  2  1  1  1  0  1  0  2  1  0  1  1  2\n",
       " 1  0  0  0  0  0  0  0  1  1  0  0  1  1  1  1  0  1  2  0\n",
       " 2  0  2  1  0  1  0  1  2  1  1  0  1  1  1  0  2  2  0  1"
      ]
     },
     "execution_count": 105,
     "metadata": {},
     "output_type": "execute_result"
    }
   ],
   "source": [
    "M[index,:]"
   ]
  },
  {
   "cell_type": "markdown",
   "metadata": {},
   "source": [
    "### Sorting matrix by the sum of columns 1 and 2"
   ]
  },
  {
   "cell_type": "code",
   "execution_count": 106,
   "metadata": {},
   "outputs": [
    {
     "data": {
      "text/plain": [
       "10×20 Array{Int64,2}:\n",
       " 1  0  1  2  1  1  1  1  1  1  1  0  1  0  2  1  1  2  1  1\n",
       " 0  1  2  0  1  1  1  1  0  2  1  1  0  1  2  1  0  0  2  1\n",
       " 1  0  0  0  0  0  0  0  1  1  0  0  1  1  1  1  0  1  2  0\n",
       " 1  1  1  0  1  0  0  1  0  1  0  0  1  2  1  1  1  1  1  0\n",
       " 0  2  2  0  1  1  0  2  0  1  0  2  1  1  2  1  0  2  2  2\n",
       " 0  2  1  0  0  1  0  1  2  0  2  0  0  1  1  0  2  2  1  2\n",
       " 1  1  2  1  1  0  2  1  1  1  0  1  2  1  2  0  1  0  0  1\n",
       " 2  0  2  1  0  1  0  1  2  1  1  0  1  1  1  0  2  2  0  1\n",
       " 1  1  2  1  1  1  1  2  1  1  1  0  1  0  2  1  0  1  1  2\n",
       " 1  2  2  2  2  1  1  1  2  1  1  1  0  1  2  1  0  2  0  1"
      ]
     },
     "execution_count": 106,
     "metadata": {},
     "output_type": "execute_result"
    }
   ],
   "source": [
    "M[sortperm( M[:,1]+M[:,2] ),:]"
   ]
  },
  {
   "cell_type": "markdown",
   "metadata": {},
   "source": [
    "### Selecting rows or columns of matrix"
   ]
  },
  {
   "cell_type": "markdown",
   "metadata": {},
   "source": [
    "#### Select rows where row sum is > 19"
   ]
  },
  {
   "cell_type": "code",
   "execution_count": 107,
   "metadata": {},
   "outputs": [
    {
     "data": {
      "text/plain": [
       "10-element BitArray{1}:\n",
       " false\n",
       "  true\n",
       "  true\n",
       " false\n",
       " false\n",
       " false\n",
       "  true\n",
       "  true\n",
       " false\n",
       " false"
      ]
     },
     "execution_count": 107,
     "metadata": {},
     "output_type": "execute_result"
    }
   ],
   "source": [
    "vec(sum(M,dims=2) .> 19)"
   ]
  },
  {
   "cell_type": "code",
   "execution_count": 108,
   "metadata": {},
   "outputs": [
    {
     "data": {
      "text/plain": [
       "4×20 Array{Int64,2}:\n",
       " 1  2  2  2  2  1  1  1  2  1  1  1  0  1  2  1  0  2  0  1\n",
       " 0  2  2  0  1  1  0  2  0  1  0  2  1  1  2  1  0  2  2  2\n",
       " 1  0  1  2  1  1  1  1  1  1  1  0  1  0  2  1  1  2  1  1\n",
       " 1  1  2  1  1  1  1  2  1  1  1  0  1  0  2  1  0  1  1  2"
      ]
     },
     "execution_count": 108,
     "metadata": {},
     "output_type": "execute_result"
    }
   ],
   "source": [
    "M[vec(sum(M,dims=2) .> 19), :]"
   ]
  },
  {
   "cell_type": "markdown",
   "metadata": {},
   "source": [
    "#### Get random subset of 5 columns from M"
   ]
  },
  {
   "cell_type": "code",
   "execution_count": 109,
   "metadata": {},
   "outputs": [
    {
     "data": {
      "text/plain": [
       "5-element Array{Int64,1}:\n",
       "  5\n",
       "  6\n",
       " 12\n",
       "  2\n",
       " 19"
      ]
     },
     "execution_count": 109,
     "metadata": {},
     "output_type": "execute_result"
    }
   ],
   "source": [
    "sel = sample(1:size(M,2),5,replace=false)"
   ]
  },
  {
   "cell_type": "code",
   "execution_count": 110,
   "metadata": {},
   "outputs": [
    {
     "data": {
      "text/plain": [
       "10×5 Array{Int64,2}:\n",
       " 1  0  0  1  1\n",
       " 2  1  1  2  0\n",
       " 1  1  2  2  2\n",
       " 0  1  0  2  1\n",
       " 1  0  1  1  0\n",
       " 0  1  0  0  0\n",
       " 1  1  0  0  1\n",
       " 1  1  0  1  1\n",
       " 1  1  1  1  2\n",
       " 0  0  0  0  2"
      ]
     },
     "execution_count": 110,
     "metadata": {},
     "output_type": "execute_result"
    }
   ],
   "source": [
    "M[:,sel]"
   ]
  },
  {
   "cell_type": "markdown",
   "metadata": {},
   "source": [
    "#### Get the remaining columns: \n",
    "#### M[:,-sel] does not work in Julia"
   ]
  },
  {
   "cell_type": "code",
   "execution_count": 111,
   "metadata": {},
   "outputs": [
    {
     "data": {
      "text/plain": [
       "15-element Array{Int64,1}:\n",
       "  1\n",
       "  3\n",
       "  4\n",
       "  7\n",
       "  8\n",
       "  9\n",
       " 10\n",
       " 11\n",
       " 13\n",
       " 14\n",
       " 15\n",
       " 16\n",
       " 17\n",
       " 18\n",
       " 20"
      ]
     },
     "execution_count": 111,
     "metadata": {},
     "output_type": "execute_result"
    }
   ],
   "source": [
    "setdiff(1:size(M,2),sel)"
   ]
  },
  {
   "cell_type": "code",
   "execution_count": 112,
   "metadata": {},
   "outputs": [
    {
     "data": {
      "text/plain": [
       "10×15 Array{Int64,2}:\n",
       " 1  1  0  0  1  0  1  0  1  2  1  1  1  1  0\n",
       " 1  2  2  1  1  2  1  1  0  1  2  1  0  2  1\n",
       " 0  2  0  0  2  0  1  0  1  1  2  1  0  2  2\n",
       " 0  1  0  0  1  2  0  2  0  1  1  0  2  2  2\n",
       " 1  2  1  2  1  1  1  0  2  1  2  0  1  0  1\n",
       " 2  2  1  0  1  2  1  1  1  1  1  0  2  2  1\n",
       " 1  1  2  1  1  1  1  1  1  0  2  1  1  2  1\n",
       " 1  2  1  1  2  1  1  1  1  0  2  1  0  1  2\n",
       " 0  2  0  1  1  0  2  1  0  1  2  1  0  0  1\n",
       " 1  0  0  0  0  1  1  0  1  1  1  1  0  1  0"
      ]
     },
     "execution_count": 112,
     "metadata": {},
     "output_type": "execute_result"
    }
   ],
   "source": [
    "M[:,setdiff(1:size(M,2),sel)] # not as nice as M[:,-sel]"
   ]
  },
  {
   "cell_type": "markdown",
   "metadata": {},
   "source": [
    "### Copy of array"
   ]
  },
  {
   "cell_type": "code",
   "execution_count": 113,
   "metadata": {},
   "outputs": [
    {
     "data": {
      "text/plain": [
       "3-element Array{Int64,1}:\n",
       " 1\n",
       " 2\n",
       " 3"
      ]
     },
     "execution_count": 113,
     "metadata": {},
     "output_type": "execute_result"
    }
   ],
   "source": [
    "v = [1, 2, 3]"
   ]
  },
  {
   "cell_type": "code",
   "execution_count": 114,
   "metadata": {},
   "outputs": [
    {
     "data": {
      "text/plain": [
       "3-element Array{Int64,1}:\n",
       " 10\n",
       "  2\n",
       "  3"
      ]
     },
     "execution_count": 114,
     "metadata": {},
     "output_type": "execute_result"
    }
   ],
   "source": [
    "u = v\n",
    "u[1] = 10\n",
    "u"
   ]
  },
  {
   "cell_type": "code",
   "execution_count": 115,
   "metadata": {},
   "outputs": [
    {
     "data": {
      "text/plain": [
       "3-element Array{Int64,1}:\n",
       " 10\n",
       "  2\n",
       "  3"
      ]
     },
     "execution_count": 115,
     "metadata": {},
     "output_type": "execute_result"
    }
   ],
   "source": [
    "v"
   ]
  },
  {
   "cell_type": "markdown",
   "metadata": {},
   "source": [
    "##### So, u is not just a copy of v. It is another name for v. To get a copy use:"
   ]
  },
  {
   "cell_type": "code",
   "execution_count": 116,
   "metadata": {},
   "outputs": [
    {
     "data": {
      "text/plain": [
       "3-element Array{Int64,1}:\n",
       " 10\n",
       "  2\n",
       "  3"
      ]
     },
     "execution_count": 116,
     "metadata": {},
     "output_type": "execute_result"
    }
   ],
   "source": [
    "v = [1, 2, 3]\n",
    "u = copy(v)\n",
    "u[1] = 10\n",
    "u"
   ]
  },
  {
   "cell_type": "code",
   "execution_count": 117,
   "metadata": {},
   "outputs": [
    {
     "data": {
      "text/plain": [
       "3-element Array{Int64,1}:\n",
       " 1\n",
       " 2\n",
       " 3"
      ]
     },
     "execution_count": 117,
     "metadata": {},
     "output_type": "execute_result"
    }
   ],
   "source": [
    "v"
   ]
  },
  {
   "cell_type": "markdown",
   "metadata": {},
   "source": [
    "## Control Flow and Loops"
   ]
  },
  {
   "cell_type": "markdown",
   "metadata": {},
   "source": [
    "##### Consider adding the vectors u and v. One way to do this is:"
   ]
  },
  {
   "cell_type": "code",
   "execution_count": 118,
   "metadata": {},
   "outputs": [
    {
     "data": {
      "text/plain": [
       "3×3 Array{Int64,2}:\n",
       " 10  1  11\n",
       "  2  2   4\n",
       "  3  3   6"
      ]
     },
     "execution_count": 118,
     "metadata": {},
     "output_type": "execute_result"
    }
   ],
   "source": [
    "result = zero(u) # gets vector of zeros identical in dimension to that of u\n",
    "result[1] = u[1] + v[1]\n",
    "result[2] = u[2] + v[2]\n",
    "result[3] = u[3] + v[3]\n",
    "[u v result]"
   ]
  },
  {
   "cell_type": "markdown",
   "metadata": {},
   "source": [
    "##### Using loop:"
   ]
  },
  {
   "cell_type": "code",
   "execution_count": 119,
   "metadata": {},
   "outputs": [
    {
     "data": {
      "text/plain": [
       "3×3 Array{Int64,2}:\n",
       " 10  1  11\n",
       "  2  2   4\n",
       "  3  3   6"
      ]
     },
     "execution_count": 119,
     "metadata": {},
     "output_type": "execute_result"
    }
   ],
   "source": [
    "result = zero(u)\n",
    "for i=1:size(u,1)\n",
    "    result[i] = u[i] + v[i]\n",
    "end\n",
    "[u v result]"
   ]
  },
  {
   "cell_type": "markdown",
   "metadata": {},
   "source": [
    "#### Sum of elements in v"
   ]
  },
  {
   "cell_type": "code",
   "execution_count": 120,
   "metadata": {},
   "outputs": [
    {
     "data": {
      "text/plain": [
       "6.0"
      ]
     },
     "execution_count": 120,
     "metadata": {},
     "output_type": "execute_result"
    }
   ],
   "source": [
    "mySum = 0.0\n",
    "for i = v\n",
    "    mySum += i\n",
    "end\n",
    "mySum"
   ]
  },
  {
   "cell_type": "markdown",
   "metadata": {},
   "source": [
    "#### Get vector of squared values in v "
   ]
  },
  {
   "cell_type": "markdown",
   "metadata": {},
   "source": [
    "#### These are called list comprehensions"
   ]
  },
  {
   "cell_type": "code",
   "execution_count": 121,
   "metadata": {},
   "outputs": [
    {
     "data": {
      "text/plain": [
       "3-element Array{Int64,1}:\n",
       " 1\n",
       " 4\n",
       " 9"
      ]
     },
     "execution_count": 121,
     "metadata": {},
     "output_type": "execute_result"
    }
   ],
   "source": [
    "[i^2 for i in v]"
   ]
  },
  {
   "cell_type": "markdown",
   "metadata": {},
   "source": [
    "#### Get vector of square-roots of positive values in x"
   ]
  },
  {
   "cell_type": "code",
   "execution_count": 122,
   "metadata": {},
   "outputs": [
    {
     "data": {
      "text/plain": [
       "3-element Array{Float64,1}:\n",
       " 0.7914384060027571\n",
       " 0.559243119535243 \n",
       " 0.7884608056436087"
      ]
     },
     "execution_count": 122,
     "metadata": {},
     "output_type": "execute_result"
    }
   ],
   "source": [
    "x = randn(10)\n",
    "[sqrt(i) for i in x if i >= 0.0]"
   ]
  },
  {
   "cell_type": "code",
   "execution_count": 123,
   "metadata": {},
   "outputs": [
    {
     "data": {
      "text/plain": [
       "7-element Array{Array{Float64,2},1}:\n",
       " [1.0 1.11143]  \n",
       " [3.0 0.242194] \n",
       " [4.0 0.84311]  \n",
       " [7.0 0.234577] \n",
       " [8.0 0.890843] \n",
       " [9.0 0.350199] \n",
       " [10.0 0.846523]"
      ]
     },
     "execution_count": 123,
     "metadata": {},
     "output_type": "execute_result"
    }
   ],
   "source": [
    "x = randn(10)\n",
    "res = [[i sqrt(value)] for (i,value) in enumerate(x) if value >= 0.0]"
   ]
  },
  {
   "cell_type": "markdown",
   "metadata": {},
   "source": [
    "#### Matrix from res"
   ]
  },
  {
   "cell_type": "code",
   "execution_count": 124,
   "metadata": {},
   "outputs": [
    {
     "data": {
      "text/plain": [
       "7×2 Array{Float64,2}:\n",
       "  1.0  1.11143 \n",
       "  3.0  0.242194\n",
       "  4.0  0.84311 \n",
       "  7.0  0.234577\n",
       "  8.0  0.890843\n",
       "  9.0  0.350199\n",
       " 10.0  0.846523"
      ]
     },
     "execution_count": 124,
     "metadata": {},
     "output_type": "execute_result"
    }
   ],
   "source": [
    "resMat = [row[i] for row in res, i=1:2]"
   ]
  },
  {
   "cell_type": "markdown",
   "metadata": {},
   "source": [
    "#### This list comprehension produces a two-dimensional array (a matrix)"
   ]
  },
  {
   "cell_type": "code",
   "execution_count": 125,
   "metadata": {},
   "outputs": [
    {
     "data": {
      "text/plain": [
       "2×3 Array{Int64,2}:\n",
       " 4  5  6\n",
       " 5  6  7"
      ]
     },
     "execution_count": 125,
     "metadata": {},
     "output_type": "execute_result"
    }
   ],
   "source": [
    "[i+j for i=1:2, j=3:5]"
   ]
  },
  {
   "cell_type": "markdown",
   "metadata": {},
   "source": [
    "### Use of Range"
   ]
  },
  {
   "cell_type": "code",
   "execution_count": 126,
   "metadata": {},
   "outputs": [
    {
     "name": "stdout",
     "output_type": "stream",
     "text": [
      "search: \u001b[0m\u001b[1mr\u001b[22m\u001b[0m\u001b[1ma\u001b[22m\u001b[0m\u001b[1mn\u001b[22m\u001b[0m\u001b[1mg\u001b[22m\u001b[0m\u001b[1me\u001b[22m Lin\u001b[0m\u001b[1mR\u001b[22m\u001b[0m\u001b[1ma\u001b[22m\u001b[0m\u001b[1mn\u001b[22m\u001b[0m\u001b[1mg\u001b[22m\u001b[0m\u001b[1me\u001b[22m Unit\u001b[0m\u001b[1mR\u001b[22m\u001b[0m\u001b[1ma\u001b[22m\u001b[0m\u001b[1mn\u001b[22m\u001b[0m\u001b[1mg\u001b[22m\u001b[0m\u001b[1me\u001b[22m Step\u001b[0m\u001b[1mR\u001b[22m\u001b[0m\u001b[1ma\u001b[22m\u001b[0m\u001b[1mn\u001b[22m\u001b[0m\u001b[1mg\u001b[22m\u001b[0m\u001b[1me\u001b[22m Step\u001b[0m\u001b[1mR\u001b[22m\u001b[0m\u001b[1ma\u001b[22m\u001b[0m\u001b[1mn\u001b[22m\u001b[0m\u001b[1mg\u001b[22m\u001b[0m\u001b[1me\u001b[22mLen Studentized\u001b[0m\u001b[1mR\u001b[22m\u001b[0m\u001b[1ma\u001b[22m\u001b[0m\u001b[1mn\u001b[22m\u001b[0m\u001b[1mg\u001b[22m\u001b[0m\u001b[1me\u001b[22m\n",
      "\n"
     ]
    },
    {
     "data": {
      "text/latex": [
       "\\begin{verbatim}\n",
       "range(start[, stop]; length, stop, step=1)\n",
       "\\end{verbatim}\n",
       "Given a starting value, construct a range either by length or from \\texttt{start} to \\texttt{stop}, optionally with a given step (defaults to 1, a \\href{@ref}{\\texttt{UnitRange}}). One of \\texttt{length} or \\texttt{stop} is required.  If \\texttt{length}, \\texttt{stop}, and \\texttt{step} are all specified, they must agree.\n",
       "\n",
       "If \\texttt{length} and \\texttt{stop} are provided and \\texttt{step} is not, the step size will be computed automatically such that there are \\texttt{length} linearly spaced elements in the range (a \\href{@ref}{\\texttt{LinRange}}).\n",
       "\n",
       "If \\texttt{step} and \\texttt{stop} are provided and \\texttt{length} is not, the overall range length will be computed automatically such that the elements are \\texttt{step} spaced (a \\href{@ref}{\\texttt{StepRange}}).\n",
       "\n",
       "\\texttt{stop} may be specified as either a positional or keyword argument.\n",
       "\n",
       "\\begin{quote}\n",
       "\\textbf{compat}\n",
       "\n",
       "Julia 1.1\n",
       "\n",
       "\\texttt{stop} as a positional argument requires at least Julia 1.1.\n",
       "\n",
       "\\end{quote}\n",
       "\\section{Examples}\n",
       "\\begin{verbatim}\n",
       "julia> range(1, length=100)\n",
       "1:100\n",
       "\n",
       "julia> range(1, stop=100)\n",
       "1:100\n",
       "\n",
       "julia> range(1, step=5, length=100)\n",
       "1:5:496\n",
       "\n",
       "julia> range(1, step=5, stop=100)\n",
       "1:5:96\n",
       "\n",
       "julia> range(1, 10, length=101)\n",
       "1.0:0.09:10.0\n",
       "\n",
       "julia> range(1, 100, step=5)\n",
       "1:5:96\n",
       "\\end{verbatim}\n"
      ],
      "text/markdown": [
       "```\n",
       "range(start[, stop]; length, stop, step=1)\n",
       "```\n",
       "\n",
       "Given a starting value, construct a range either by length or from `start` to `stop`, optionally with a given step (defaults to 1, a [`UnitRange`](@ref)). One of `length` or `stop` is required.  If `length`, `stop`, and `step` are all specified, they must agree.\n",
       "\n",
       "If `length` and `stop` are provided and `step` is not, the step size will be computed automatically such that there are `length` linearly spaced elements in the range (a [`LinRange`](@ref)).\n",
       "\n",
       "If `step` and `stop` are provided and `length` is not, the overall range length will be computed automatically such that the elements are `step` spaced (a [`StepRange`](@ref)).\n",
       "\n",
       "`stop` may be specified as either a positional or keyword argument.\n",
       "\n",
       "!!! compat \"Julia 1.1\"\n",
       "    `stop` as a positional argument requires at least Julia 1.1.\n",
       "\n",
       "\n",
       "# Examples\n",
       "\n",
       "```jldoctest\n",
       "julia> range(1, length=100)\n",
       "1:100\n",
       "\n",
       "julia> range(1, stop=100)\n",
       "1:100\n",
       "\n",
       "julia> range(1, step=5, length=100)\n",
       "1:5:496\n",
       "\n",
       "julia> range(1, step=5, stop=100)\n",
       "1:5:96\n",
       "\n",
       "julia> range(1, 10, length=101)\n",
       "1.0:0.09:10.0\n",
       "\n",
       "julia> range(1, 100, step=5)\n",
       "1:5:96\n",
       "```\n"
      ],
      "text/plain": [
       "\u001b[36m  range(start[, stop]; length, stop, step=1)\u001b[39m\n",
       "\n",
       "  Given a starting value, construct a range either by length or from \u001b[36mstart\u001b[39m to\n",
       "  \u001b[36mstop\u001b[39m, optionally with a given step (defaults to 1, a \u001b[36mUnitRange\u001b[39m). One of\n",
       "  \u001b[36mlength\u001b[39m or \u001b[36mstop\u001b[39m is required. If \u001b[36mlength\u001b[39m, \u001b[36mstop\u001b[39m, and \u001b[36mstep\u001b[39m are all specified,\n",
       "  they must agree.\n",
       "\n",
       "  If \u001b[36mlength\u001b[39m and \u001b[36mstop\u001b[39m are provided and \u001b[36mstep\u001b[39m is not, the step size will be\n",
       "  computed automatically such that there are \u001b[36mlength\u001b[39m linearly spaced elements\n",
       "  in the range (a \u001b[36mLinRange\u001b[39m).\n",
       "\n",
       "  If \u001b[36mstep\u001b[39m and \u001b[36mstop\u001b[39m are provided and \u001b[36mlength\u001b[39m is not, the overall range length\n",
       "  will be computed automatically such that the elements are \u001b[36mstep\u001b[39m spaced (a\n",
       "  \u001b[36mStepRange\u001b[39m).\n",
       "\n",
       "  \u001b[36mstop\u001b[39m may be specified as either a positional or keyword argument.\n",
       "\n",
       "\u001b[39m\u001b[1m  │ \u001b[22m\u001b[39m\u001b[1mJulia 1.1\u001b[22m\n",
       "\u001b[39m\u001b[1m  │\u001b[22m\n",
       "\u001b[39m\u001b[1m  │\u001b[22m  \u001b[36mstop\u001b[39m as a positional argument requires at least Julia 1.1.\n",
       "\n",
       "\u001b[1m  Examples\u001b[22m\n",
       "\u001b[1m  ≡≡≡≡≡≡≡≡≡≡\u001b[22m\n",
       "\n",
       "\u001b[36m  julia> range(1, length=100)\u001b[39m\n",
       "\u001b[36m  1:100\u001b[39m\n",
       "\u001b[36m  \u001b[39m\n",
       "\u001b[36m  julia> range(1, stop=100)\u001b[39m\n",
       "\u001b[36m  1:100\u001b[39m\n",
       "\u001b[36m  \u001b[39m\n",
       "\u001b[36m  julia> range(1, step=5, length=100)\u001b[39m\n",
       "\u001b[36m  1:5:496\u001b[39m\n",
       "\u001b[36m  \u001b[39m\n",
       "\u001b[36m  julia> range(1, step=5, stop=100)\u001b[39m\n",
       "\u001b[36m  1:5:96\u001b[39m\n",
       "\u001b[36m  \u001b[39m\n",
       "\u001b[36m  julia> range(1, 10, length=101)\u001b[39m\n",
       "\u001b[36m  1.0:0.09:10.0\u001b[39m\n",
       "\u001b[36m  \u001b[39m\n",
       "\u001b[36m  julia> range(1, 100, step=5)\u001b[39m\n",
       "\u001b[36m  1:5:96\u001b[39m"
      ]
     },
     "execution_count": 126,
     "metadata": {},
     "output_type": "execute_result"
    }
   ],
   "source": [
    "?range"
   ]
  },
  {
   "cell_type": "code",
   "execution_count": 127,
   "metadata": {},
   "outputs": [
    {
     "data": {
      "text/plain": [
       "0.0:0.1:1.0"
      ]
     },
     "execution_count": 127,
     "metadata": {},
     "output_type": "execute_result"
    }
   ],
   "source": [
    "r = range(0, step=0.1, stop=1)"
   ]
  },
  {
   "cell_type": "code",
   "execution_count": 128,
   "metadata": {},
   "outputs": [
    {
     "data": {
      "text/plain": [
       "0.0:0.1:1.0"
      ]
     },
     "execution_count": 128,
     "metadata": {},
     "output_type": "execute_result"
    }
   ],
   "source": [
    "# This works too\n",
    "\n",
    "r = 0:0.1:1"
   ]
  },
  {
   "cell_type": "markdown",
   "metadata": {},
   "source": [
    "r is not an arryay, but in many contexts behaves like one"
   ]
  },
  {
   "cell_type": "code",
   "execution_count": 129,
   "metadata": {},
   "outputs": [
    {
     "data": {
      "text/plain": [
       "11-element Array{Float64,1}:\n",
       " 0.0                \n",
       " 0.09983341664682815\n",
       " 0.19866933079506122\n",
       " 0.29552020666133955\n",
       " 0.3894183423086505 \n",
       " 0.479425538604203  \n",
       " 0.5646424733950354 \n",
       " 0.644217687237691  \n",
       " 0.7173560908995228 \n",
       " 0.7833269096274834 \n",
       " 0.8414709848078965 "
      ]
     },
     "execution_count": 129,
     "metadata": {},
     "output_type": "execute_result"
    }
   ],
   "source": [
    "sin.(r)"
   ]
  },
  {
   "cell_type": "markdown",
   "metadata": {},
   "source": [
    "### Use of Map to apply a function to elements of array"
   ]
  },
  {
   "cell_type": "code",
   "execution_count": 130,
   "metadata": {},
   "outputs": [
    {
     "data": {
      "text/plain": [
       "11-element Array{Float64,1}:\n",
       " 0.0                \n",
       " 0.09983341664682815\n",
       " 0.19866933079506122\n",
       " 0.29552020666133955\n",
       " 0.3894183423086505 \n",
       " 0.479425538604203  \n",
       " 0.5646424733950354 \n",
       " 0.644217687237691  \n",
       " 0.7173560908995228 \n",
       " 0.7833269096274834 \n",
       " 0.8414709848078965 "
      ]
     },
     "execution_count": 130,
     "metadata": {},
     "output_type": "execute_result"
    }
   ],
   "source": [
    "map(sin,r)"
   ]
  },
  {
   "cell_type": "markdown",
   "metadata": {},
   "source": [
    "### Reduce and Map-Reduce"
   ]
  },
  {
   "cell_type": "code",
   "execution_count": 131,
   "metadata": {},
   "outputs": [
    {
     "data": {
      "text/plain": [
       "15"
      ]
     },
     "execution_count": 131,
     "metadata": {},
     "output_type": "execute_result"
    }
   ],
   "source": [
    "# sum of elements in u\n",
    "reduce(+,u)"
   ]
  },
  {
   "cell_type": "code",
   "execution_count": 132,
   "metadata": {},
   "outputs": [
    {
     "data": {
      "text/plain": [
       "60"
      ]
     },
     "execution_count": 132,
     "metadata": {},
     "output_type": "execute_result"
    }
   ],
   "source": [
    "# product of elements in u\n",
    "reduce(*,u)"
   ]
  },
  {
   "cell_type": "code",
   "execution_count": 133,
   "metadata": {},
   "outputs": [
    {
     "data": {
      "text/plain": [
       "500000500000"
      ]
     },
     "execution_count": 133,
     "metadata": {},
     "output_type": "execute_result"
    }
   ],
   "source": [
    "reduce(+,1:1000000)"
   ]
  },
  {
   "cell_type": "markdown",
   "metadata": {},
   "source": [
    "#### Sum of squares"
   ]
  },
  {
   "cell_type": "code",
   "execution_count": 134,
   "metadata": {},
   "outputs": [
    {
     "data": {
      "text/plain": [
       "333333833333500000"
      ]
     },
     "execution_count": 134,
     "metadata": {},
     "output_type": "execute_result"
    }
   ],
   "source": [
    "n = 1_000_000\n",
    "mapreduce(x -> x^2, +, 1:n)"
   ]
  },
  {
   "cell_type": "markdown",
   "metadata": {},
   "source": [
    "#### Here, a vector of squares is created first, which, as will be demonstrated later, slower because of the time used for memory allocation"
   ]
  },
  {
   "cell_type": "code",
   "execution_count": 135,
   "metadata": {},
   "outputs": [
    {
     "data": {
      "text/plain": [
       "333333833333500000"
      ]
     },
     "execution_count": 135,
     "metadata": {},
     "output_type": "execute_result"
    }
   ],
   "source": [
    "reduce(+,(1:n).^2)"
   ]
  },
  {
   "cell_type": "markdown",
   "metadata": {},
   "source": [
    "## Types"
   ]
  },
  {
   "cell_type": "markdown",
   "metadata": {},
   "source": [
    "### Determine the type of a variable as:"
   ]
  },
  {
   "cell_type": "code",
   "execution_count": 136,
   "metadata": {},
   "outputs": [
    {
     "data": {
      "text/plain": [
       "Array{Int64,2}"
      ]
     },
     "execution_count": 136,
     "metadata": {},
     "output_type": "execute_result"
    }
   ],
   "source": [
    "# type of M\n",
    "typeof(M)"
   ]
  },
  {
   "cell_type": "code",
   "execution_count": 137,
   "metadata": {},
   "outputs": [
    {
     "data": {
      "text/plain": [
       "Array{Int64,1}"
      ]
     },
     "execution_count": 137,
     "metadata": {},
     "output_type": "execute_result"
    }
   ],
   "source": [
    "# type of v\n",
    "typeof(v)"
   ]
  },
  {
   "cell_type": "markdown",
   "metadata": {},
   "source": [
    "### Composite Types"
   ]
  },
  {
   "cell_type": "code",
   "execution_count": 148,
   "metadata": {},
   "outputs": [],
   "source": [
    "# Example\n",
    "mutable struct BankAccount\n",
    "    accountNumber::Int64\n",
    "    firstName::String\n",
    "    lastName::String\n",
    "    balance::Float64\n",
    "end"
   ]
  },
  {
   "cell_type": "markdown",
   "metadata": {},
   "source": [
    "#### Get all the names in a composite type:"
   ]
  },
  {
   "cell_type": "code",
   "execution_count": 152,
   "metadata": {},
   "outputs": [
    {
     "data": {
      "text/plain": [
       "(:accountNumber, :firstName, :lastName, :balance)"
      ]
     },
     "execution_count": 152,
     "metadata": {},
     "output_type": "execute_result"
    }
   ],
   "source": [
    "fieldnames(BankAccount)"
   ]
  },
  {
   "cell_type": "markdown",
   "metadata": {},
   "source": [
    "#### Get the types of all fields:"
   ]
  },
  {
   "cell_type": "code",
   "execution_count": 153,
   "metadata": {},
   "outputs": [
    {
     "data": {
      "text/plain": [
       "svec(Int64, String, String, Float64)"
      ]
     },
     "execution_count": 153,
     "metadata": {},
     "output_type": "execute_result"
    }
   ],
   "source": [
    "BankAccount.types"
   ]
  },
  {
   "cell_type": "markdown",
   "metadata": {},
   "source": [
    "#### Create an instance of `BankAccount`"
   ]
  },
  {
   "cell_type": "code",
   "execution_count": 161,
   "metadata": {},
   "outputs": [
    {
     "data": {
      "text/plain": [
       "BankAccount(9321, \"Scott\", \"Williams\", 500.0)"
      ]
     },
     "execution_count": 161,
     "metadata": {},
     "output_type": "execute_result"
    }
   ],
   "source": [
    "a1 = BankAccount(1234,\"Tom\",\"Smith\",1000.0)\n",
    "a2 = BankAccount(4321,\"Jim\",\"Shanks\",500.0)\n",
    "a3 = BankAccount(9321,\"Scott\",\"Williams\",500.0)"
   ]
  },
  {
   "cell_type": "markdown",
   "metadata": {},
   "source": [
    "#### Access field in composite type:"
   ]
  },
  {
   "cell_type": "code",
   "execution_count": 158,
   "metadata": {},
   "outputs": [
    {
     "data": {
      "text/plain": [
       "1000.0"
      ]
     },
     "execution_count": 158,
     "metadata": {},
     "output_type": "execute_result"
    }
   ],
   "source": [
    "a1.balance"
   ]
  },
  {
   "cell_type": "code",
   "execution_count": 160,
   "metadata": {},
   "outputs": [
    {
     "data": {
      "text/plain": [
       "2000.5"
      ]
     },
     "execution_count": 160,
     "metadata": {},
     "output_type": "execute_result"
    }
   ],
   "source": [
    "# can modify fields of mutable structs\n",
    "a1.balance = 2000.50"
   ]
  },
  {
   "cell_type": "code",
   "execution_count": 162,
   "metadata": {},
   "outputs": [
    {
     "data": {
      "text/plain": [
       "500.0"
      ]
     },
     "execution_count": 162,
     "metadata": {},
     "output_type": "execute_result"
    }
   ],
   "source": [
    "a2.balance"
   ]
  },
  {
   "cell_type": "code",
   "execution_count": 163,
   "metadata": {},
   "outputs": [
    {
     "data": {
      "text/plain": [
       "\"Jim\""
      ]
     },
     "execution_count": 163,
     "metadata": {},
     "output_type": "execute_result"
    }
   ],
   "source": [
    "a2.firstName"
   ]
  },
  {
   "cell_type": "markdown",
   "metadata": {},
   "source": [
    "## Dictionaries (Associative Arrays) \n",
    "A collection of key value pairs"
   ]
  },
  {
   "cell_type": "markdown",
   "metadata": {},
   "source": [
    "### Declaration"
   ]
  },
  {
   "cell_type": "code",
   "execution_count": 169,
   "metadata": {},
   "outputs": [
    {
     "data": {
      "text/plain": [
       "Dict{Int64,BankAccount} with 0 entries"
      ]
     },
     "execution_count": 169,
     "metadata": {},
     "output_type": "execute_result"
    }
   ],
   "source": [
    "# d is an empty dictionary that can store \"BackAccounts\" with an interger key\n",
    "d = Dict{Int64,BankAccount}()"
   ]
  },
  {
   "cell_type": "markdown",
   "metadata": {},
   "source": [
    "### Putting values in dictionary"
   ]
  },
  {
   "cell_type": "code",
   "execution_count": 172,
   "metadata": {},
   "outputs": [
    {
     "data": {
      "text/plain": [
       "Dict{Int64,BankAccount} with 1 entry:\n",
       "  1234 => BankAccount(1234, \"Tom\", \"Smith\", 1000.0)"
      ]
     },
     "execution_count": 172,
     "metadata": {},
     "output_type": "execute_result"
    }
   ],
   "source": [
    "d[a1.accountNumber] = a1\n",
    "d"
   ]
  },
  {
   "cell_type": "code",
   "execution_count": 173,
   "metadata": {},
   "outputs": [
    {
     "data": {
      "text/plain": [
       "Dict{Int64,BankAccount} with 2 entries:\n",
       "  4321 => BankAccount(4321, \"Jim\", \"Shanks\", 500.0)\n",
       "  1234 => BankAccount(1234, \"Tom\", \"Smith\", 1000.0)"
      ]
     },
     "execution_count": 173,
     "metadata": {},
     "output_type": "execute_result"
    }
   ],
   "source": [
    "d[a2.accountNumber] = a2\n",
    "d"
   ]
  },
  {
   "cell_type": "code",
   "execution_count": 174,
   "metadata": {},
   "outputs": [
    {
     "data": {
      "text/plain": [
       "Dict{Int64,BankAccount} with 3 entries:\n",
       "  4321 => BankAccount(4321, \"Jim\", \"Shanks\", 500.0)\n",
       "  9321 => BankAccount(9321, \"Scott\", \"Williams\", 500.0)\n",
       "  1234 => BankAccount(1234, \"Tom\", \"Smith\", 1000.0)"
      ]
     },
     "execution_count": 174,
     "metadata": {},
     "output_type": "execute_result"
    }
   ],
   "source": [
    "d[a3.accountNumber] = a3\n",
    "d"
   ]
  },
  {
   "cell_type": "markdown",
   "metadata": {},
   "source": [
    "#### Get array of keys in d"
   ]
  },
  {
   "cell_type": "code",
   "execution_count": 175,
   "metadata": {},
   "outputs": [
    {
     "data": {
      "text/plain": [
       "Base.KeySet for a Dict{Int64,BankAccount} with 3 entries. Keys:\n",
       "  4321\n",
       "  9321\n",
       "  1234"
      ]
     },
     "execution_count": 175,
     "metadata": {},
     "output_type": "execute_result"
    }
   ],
   "source": [
    "collect(keys(d))"
   ]
  },
  {
   "cell_type": "markdown",
   "metadata": {},
   "source": [
    "#### Get the value associated with `key = 1234`"
   ]
  },
  {
   "cell_type": "code",
   "execution_count": 176,
   "metadata": {},
   "outputs": [
    {
     "data": {
      "text/plain": [
       "BankAccount(1234, \"Tom\", \"Smith\", 1000.0)"
      ]
     },
     "execution_count": 176,
     "metadata": {},
     "output_type": "execute_result"
    }
   ],
   "source": [
    "d[1234]"
   ]
  },
  {
   "cell_type": "markdown",
   "metadata": {},
   "source": [
    "#### Get array of values in d"
   ]
  },
  {
   "cell_type": "code",
   "execution_count": 178,
   "metadata": {},
   "outputs": [
    {
     "data": {
      "text/plain": [
       "3-element Array{BankAccount,1}:\n",
       " BankAccount(4321, \"Jim\", \"Shanks\", 500.0)    \n",
       " BankAccount(9321, \"Scott\", \"Williams\", 500.0)\n",
       " BankAccount(1234, \"Tom\", \"Smith\", 1000.0)    "
      ]
     },
     "execution_count": 178,
     "metadata": {},
     "output_type": "execute_result"
    }
   ],
   "source": [
    "collect(values(d))"
   ]
  },
  {
   "cell_type": "markdown",
   "metadata": {},
   "source": [
    "#### Using list comprehension"
   ]
  },
  {
   "cell_type": "code",
   "execution_count": 182,
   "metadata": {},
   "outputs": [
    {
     "data": {
      "text/plain": [
       "3-element Array{BankAccount,1}:\n",
       " BankAccount(4321, \"Jim\", \"Shanks\", 500.0)    \n",
       " BankAccount(9321, \"Scott\", \"Williams\", 500.0)\n",
       " BankAccount(1234, \"Tom\", \"Smith\", 1000.0)    "
      ]
     },
     "execution_count": 182,
     "metadata": {},
     "output_type": "execute_result"
    }
   ],
   "source": [
    "[d[i] for i in keys(d)] "
   ]
  },
  {
   "cell_type": "markdown",
   "metadata": {},
   "source": [
    "#### Check if Dictionary has a particular key"
   ]
  },
  {
   "cell_type": "code",
   "execution_count": 179,
   "metadata": {},
   "outputs": [
    {
     "data": {
      "text/plain": [
       "true"
      ]
     },
     "execution_count": 179,
     "metadata": {},
     "output_type": "execute_result"
    }
   ],
   "source": [
    "haskey(d,1234)"
   ]
  },
  {
   "cell_type": "code",
   "execution_count": 180,
   "metadata": {},
   "outputs": [
    {
     "data": {
      "text/plain": [
       "false"
      ]
     },
     "execution_count": 180,
     "metadata": {},
     "output_type": "execute_result"
    }
   ],
   "source": [
    "haskey(d,123)"
   ]
  },
  {
   "cell_type": "code",
   "execution_count": 138,
   "metadata": {},
   "outputs": [
    {
     "data": {
      "text/plain": [
       "f1 (generic function with 1 method)"
      ]
     },
     "execution_count": 138,
     "metadata": {},
     "output_type": "execute_result"
    }
   ],
   "source": [
    "function f1(n)\n",
    "    mapreduce(x -> x^2, +, 1:n)\n",
    "end"
   ]
  },
  {
   "cell_type": "code",
   "execution_count": 139,
   "metadata": {},
   "outputs": [
    {
     "data": {
      "text/plain": [
       "f2 (generic function with 1 method)"
      ]
     },
     "execution_count": 139,
     "metadata": {},
     "output_type": "execute_result"
    }
   ],
   "source": [
    "function f2(n)\n",
    "    reduce(+,(1:n).^2)\n",
    "end"
   ]
  },
  {
   "cell_type": "code",
   "execution_count": 140,
   "metadata": {},
   "outputs": [
    {
     "name": "stdout",
     "output_type": "stream",
     "text": [
      "  0.066549 seconds (102.92 k allocations: 5.267 MiB, 18.05% gc time)\n"
     ]
    },
    {
     "data": {
      "text/plain": [
       "333333833333500000"
      ]
     },
     "execution_count": 140,
     "metadata": {},
     "output_type": "execute_result"
    }
   ],
   "source": [
    "@time f1(1_000_000)"
   ]
  },
  {
   "cell_type": "code",
   "execution_count": 141,
   "metadata": {},
   "outputs": [
    {
     "name": "stdout",
     "output_type": "stream",
     "text": [
      "  0.045406 seconds (56.25 k allocations: 10.307 MiB)\n"
     ]
    },
    {
     "data": {
      "text/plain": [
       "333333833333500000"
      ]
     },
     "execution_count": 141,
     "metadata": {},
     "output_type": "execute_result"
    }
   ],
   "source": [
    "@time f2(1_000_000)"
   ]
  },
  {
   "cell_type": "code",
   "execution_count": 142,
   "metadata": {},
   "outputs": [
    {
     "data": {
      "text/plain": [
       "f3 (generic function with 1 method)"
      ]
     },
     "execution_count": 142,
     "metadata": {},
     "output_type": "execute_result"
    }
   ],
   "source": [
    "function f3(n)\n",
    "    sum = 0\n",
    "    for i=1:n\n",
    "        sum += i^2\n",
    "    end\n",
    "    return sum\n",
    "end    "
   ]
  },
  {
   "cell_type": "code",
   "execution_count": 143,
   "metadata": {},
   "outputs": [
    {
     "name": "stdout",
     "output_type": "stream",
     "text": [
      "  0.013707 seconds (13.03 k allocations: 694.286 KiB)\n"
     ]
    },
    {
     "data": {
      "text/plain": [
       "333333833333500000"
      ]
     },
     "execution_count": 143,
     "metadata": {},
     "output_type": "execute_result"
    }
   ],
   "source": [
    "@time f3(1_000_000)"
   ]
  }
 ],
 "metadata": {
  "kernelspec": {
   "display_name": "Julia 1.1.0",
   "language": "julia",
   "name": "julia-1.1"
  },
  "language_info": {
   "file_extension": ".jl",
   "mimetype": "application/julia",
   "name": "julia",
   "version": "1.1.0"
  }
 },
 "nbformat": 4,
 "nbformat_minor": 2
}
