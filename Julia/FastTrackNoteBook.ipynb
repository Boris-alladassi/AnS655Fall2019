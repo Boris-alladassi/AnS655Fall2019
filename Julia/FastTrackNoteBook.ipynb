{
 "cells": [
  {
   "cell_type": "markdown",
   "metadata": {},
   "source": [
    "# Fast Track to Julia NoteBook\n",
    "\n",
    "Expanding on parts of [Fast Track to Julia](https://juliadocs.github.io/Julia-Cheat-Sheet/)"
   ]
  },
  {
   "cell_type": "markdown",
   "metadata": {},
   "source": [
    "## Basics"
   ]
  },
  {
   "cell_type": "code",
   "execution_count": 1,
   "metadata": {},
   "outputs": [
    {
     "data": {
      "text/plain": [
       "12.5"
      ]
     },
     "execution_count": 1,
     "metadata": {},
     "output_type": "execute_result"
    }
   ],
   "source": [
    "a = 2.5\n",
    "5a"
   ]
  },
  {
   "cell_type": "markdown",
   "metadata": {},
   "source": [
    "`ans` has the result from the last calculation:"
   ]
  },
  {
   "cell_type": "code",
   "execution_count": 2,
   "metadata": {},
   "outputs": [
    {
     "data": {
      "text/plain": [
       "12.5"
      ]
     },
     "execution_count": 2,
     "metadata": {},
     "output_type": "execute_result"
    }
   ],
   "source": [
    "ans"
   ]
  },
  {
   "cell_type": "markdown",
   "metadata": {},
   "source": [
    "### Two types of comments \n",
    "\n",
    "#### Frist type:"
   ]
  },
  {
   "cell_type": "code",
   "execution_count": 3,
   "metadata": {},
   "outputs": [
    {
     "data": {
      "text/plain": [
       "22.5"
      ]
     },
     "execution_count": 3,
     "metadata": {},
     "output_type": "execute_result"
    }
   ],
   "source": [
    "# this is a one line comment\n",
    "9a # comment can be at the end of a line too"
   ]
  },
  {
   "cell_type": "markdown",
   "metadata": {},
   "source": [
    "#### Second type:"
   ]
  },
  {
   "cell_type": "code",
   "execution_count": 6,
   "metadata": {},
   "outputs": [],
   "source": [
    "#= This is the first line of a comment block\n",
    "9a # comment can be at the end of a line too\n",
    "This is the last line of the block =# "
   ]
  },
  {
   "cell_type": "markdown",
   "metadata": {},
   "source": [
    "### Julia allows simple way to swap values of variables"
   ]
  },
  {
   "cell_type": "code",
   "execution_count": 16,
   "metadata": {},
   "outputs": [
    {
     "data": {
      "text/plain": [
       "2-element Array{Int64,1}:\n",
       " 1\n",
       " 2"
      ]
     },
     "execution_count": 16,
     "metadata": {},
     "output_type": "execute_result"
    }
   ],
   "source": [
    "a,b = 1,2\n",
    "[a,b]"
   ]
  },
  {
   "cell_type": "code",
   "execution_count": 17,
   "metadata": {},
   "outputs": [
    {
     "data": {
      "text/plain": [
       "2-element Array{Int64,1}:\n",
       " 2\n",
       " 1"
      ]
     },
     "execution_count": 17,
     "metadata": {},
     "output_type": "execute_result"
    }
   ],
   "source": [
    "# easy swapping of values\n",
    "a,b = b,a\n",
    "[a,b]"
   ]
  },
  {
   "cell_type": "code",
   "execution_count": 19,
   "metadata": {},
   "outputs": [
    {
     "data": {
      "text/plain": [
       "2-element Array{Int64,1}:\n",
       " 2\n",
       " 1"
      ]
     },
     "execution_count": 19,
     "metadata": {},
     "output_type": "execute_result"
    }
   ],
   "source": [
    "# in most languages you have to do\n",
    "a = 1\n",
    "b = 2\n",
    "temp = a\n",
    "a = b\n",
    "b = temp\n",
    "[a,b]"
   ]
  },
  {
   "cell_type": "markdown",
   "metadata": {},
   "source": [
    "### Julia allows simple boolean expressions"
   ]
  },
  {
   "cell_type": "code",
   "execution_count": 7,
   "metadata": {},
   "outputs": [
    {
     "data": {
      "text/plain": [
       "true"
      ]
     },
     "execution_count": 7,
     "metadata": {},
     "output_type": "execute_result"
    }
   ],
   "source": [
    "# Example\n",
    "1 < a < 3"
   ]
  },
  {
   "cell_type": "code",
   "execution_count": 11,
   "metadata": {},
   "outputs": [
    {
     "data": {
      "text/plain": [
       "true"
      ]
     },
     "execution_count": 11,
     "metadata": {},
     "output_type": "execute_result"
    }
   ],
   "source": [
    "# In many languages this has to be written as\n",
    "1 < a && a < 3"
   ]
  },
  {
   "cell_type": "markdown",
   "metadata": {},
   "source": [
    "### Ternary Operator"
   ]
  },
  {
   "cell_type": "code",
   "execution_count": 107,
   "metadata": {},
   "outputs": [
    {
     "data": {
      "text/plain": [
       "1"
      ]
     },
     "execution_count": 107,
     "metadata": {},
     "output_type": "execute_result"
    }
   ],
   "source": [
    "a = 1\n",
    "b = 1\n",
    "c = 2\n",
    "\n",
    "a==b ? a : b"
   ]
  },
  {
   "cell_type": "code",
   "execution_count": 108,
   "metadata": {},
   "outputs": [
    {
     "data": {
      "text/plain": [
       "2"
      ]
     },
     "execution_count": 108,
     "metadata": {},
     "output_type": "execute_result"
    }
   ],
   "source": [
    "a==c ? a : c"
   ]
  },
  {
   "cell_type": "code",
   "execution_count": 109,
   "metadata": {},
   "outputs": [
    {
     "data": {
      "text/plain": [
       "10"
      ]
     },
     "execution_count": 109,
     "metadata": {},
     "output_type": "execute_result"
    }
   ],
   "source": [
    "a==c ? 1 : 10"
   ]
  },
  {
   "cell_type": "code",
   "execution_count": 110,
   "metadata": {},
   "outputs": [
    {
     "data": {
      "text/plain": [
       "1"
      ]
     },
     "execution_count": 110,
     "metadata": {},
     "output_type": "execute_result"
    }
   ],
   "source": [
    "a==c-b ? 1 : 10"
   ]
  },
  {
   "cell_type": "markdown",
   "metadata": {},
   "source": [
    "### Remainder"
   ]
  },
  {
   "cell_type": "code",
   "execution_count": 112,
   "metadata": {},
   "outputs": [
    {
     "data": {
      "text/plain": [
       "9"
      ]
     },
     "execution_count": 112,
     "metadata": {},
     "output_type": "execute_result"
    }
   ],
   "source": [
    "99 % 10"
   ]
  },
  {
   "cell_type": "code",
   "execution_count": 113,
   "metadata": {},
   "outputs": [
    {
     "data": {
      "text/plain": [
       "0"
      ]
     },
     "execution_count": 113,
     "metadata": {},
     "output_type": "execute_result"
    }
   ],
   "source": [
    "100 % 10"
   ]
  },
  {
   "cell_type": "code",
   "execution_count": 114,
   "metadata": {},
   "outputs": [
    {
     "data": {
      "text/plain": [
       "0"
      ]
     },
     "execution_count": 114,
     "metadata": {},
     "output_type": "execute_result"
    }
   ],
   "source": [
    "90 % 10"
   ]
  },
  {
   "cell_type": "markdown",
   "metadata": {},
   "source": [
    "## Arrays (Vectors and Matricies)"
   ]
  },
  {
   "cell_type": "markdown",
   "metadata": {},
   "source": [
    "### Declaration and Initialization of arrays"
   ]
  },
  {
   "cell_type": "code",
   "execution_count": 27,
   "metadata": {},
   "outputs": [
    {
     "data": {
      "text/plain": [
       "0-element Array{Float64,1}"
      ]
     },
     "execution_count": 27,
     "metadata": {},
     "output_type": "execute_result"
    }
   ],
   "source": [
    "# empty vector of double precision floats\n",
    "v = Array{Float64,1}()"
   ]
  },
  {
   "cell_type": "code",
   "execution_count": 28,
   "metadata": {},
   "outputs": [
    {
     "data": {
      "text/plain": [
       "5-element Array{Float64,1}:\n",
       " 6.91359504686234e-310\n",
       " 6.9135950468655e-310 \n",
       " 6.91359504686867e-310\n",
       " 6.91360239775363e-310\n",
       " 6.913595046875e-310  "
      ]
     },
     "execution_count": 28,
     "metadata": {},
     "output_type": "execute_result"
    }
   ],
   "source": [
    "# vector of size 5, double precision floats\n",
    "u =  Array{Float64,1}(undef, 5)"
   ]
  },
  {
   "cell_type": "code",
   "execution_count": 38,
   "metadata": {},
   "outputs": [
    {
     "data": {
      "text/plain": [
       "3×5 Array{Float64,2}:\n",
       " NaN             6.9136e-310  6.9136e-310   6.9136e-310  6.9136e-310\n",
       "   0.0           6.9136e-310  2.96439e-323  6.9136e-310  6.9136e-310\n",
       "   1.97626e-323  6.9136e-310  2.47033e-323  0.0          6.9136e-310"
      ]
     },
     "execution_count": 38,
     "metadata": {},
     "output_type": "execute_result"
    }
   ],
   "source": [
    "# matrix of size 3x5, double precision floats\n",
    "U =  Array{Float64,2}(undef, 3,5)"
   ]
  },
  {
   "cell_type": "code",
   "execution_count": 30,
   "metadata": {},
   "outputs": [
    {
     "data": {
      "text/plain": [
       "5-element Array{Float64,1}:\n",
       " 2.2\n",
       " 2.2\n",
       " 2.2\n",
       " 2.2\n",
       " 2.2"
      ]
     },
     "execution_count": 30,
     "metadata": {},
     "output_type": "execute_result"
    }
   ],
   "source": [
    "# vector of size 5, of 2.2\n",
    "u =  fill(2.2,5)"
   ]
  },
  {
   "cell_type": "code",
   "execution_count": 31,
   "metadata": {},
   "outputs": [
    {
     "data": {
      "text/plain": [
       "5-element Array{Float64,1}:\n",
       " 0.0\n",
       " 0.0\n",
       " 0.0\n",
       " 0.0\n",
       " 0.0"
      ]
     },
     "execution_count": 31,
     "metadata": {},
     "output_type": "execute_result"
    }
   ],
   "source": [
    "zeros(5)"
   ]
  },
  {
   "cell_type": "code",
   "execution_count": 39,
   "metadata": {},
   "outputs": [
    {
     "data": {
      "text/plain": [
       "3×5 Array{Float64,2}:\n",
       " 0.0  0.0  0.0  0.0  0.0\n",
       " 0.0  0.0  0.0  0.0  0.0\n",
       " 0.0  0.0  0.0  0.0  0.0"
      ]
     },
     "execution_count": 39,
     "metadata": {},
     "output_type": "execute_result"
    }
   ],
   "source": [
    "zeros(3,5)"
   ]
  },
  {
   "cell_type": "code",
   "execution_count": 44,
   "metadata": {},
   "outputs": [
    {
     "data": {
      "text/plain": [
       "3×5 Array{Float64,2}:\n",
       " 0.0  0.0  0.0  0.0  0.0\n",
       " 0.0  0.0  0.0  0.0  0.0\n",
       " 0.0  0.0  0.0  0.0  0.0"
      ]
     },
     "execution_count": 44,
     "metadata": {},
     "output_type": "execute_result"
    }
   ],
   "source": [
    "zero(U)"
   ]
  },
  {
   "cell_type": "code",
   "execution_count": 43,
   "metadata": {},
   "outputs": [
    {
     "data": {
      "text/plain": [
       "3×5 Array{Float64,2}:\n",
       " 1.0  1.0  1.0  1.0  1.0\n",
       " 1.0  1.0  1.0  1.0  1.0\n",
       " 1.0  1.0  1.0  1.0  1.0"
      ]
     },
     "execution_count": 43,
     "metadata": {},
     "output_type": "execute_result"
    }
   ],
   "source": [
    "ones(3,5)"
   ]
  },
  {
   "cell_type": "code",
   "execution_count": 6,
   "metadata": {},
   "outputs": [],
   "source": [
    "using Random, Statistics"
   ]
  },
  {
   "cell_type": "code",
   "execution_count": 5,
   "metadata": {},
   "outputs": [
    {
     "data": {
      "text/plain": [
       "3×5 Array{Float64,2}:\n",
       " 0.836156   0.0225852  0.811995  0.790841  0.310659\n",
       " 0.0911435  0.26396    0.492453  0.982861  0.757131\n",
       " 0.692959   0.494696   0.306638  0.265908  0.734333"
      ]
     },
     "execution_count": 5,
     "metadata": {},
     "output_type": "execute_result"
    }
   ],
   "source": [
    "rand(3,5) # uniform(0,1)"
   ]
  },
  {
   "cell_type": "code",
   "execution_count": 4,
   "metadata": {},
   "outputs": [
    {
     "data": {
      "text/plain": [
       "3×5 Array{Float64,2}:\n",
       " -0.0511797   3.54554    0.794721  -1.24687   1.39002\n",
       " -0.285867   -0.323765   0.874391  -1.89488  -1.00163\n",
       "  0.261009    1.15933   -0.280448  -1.80887   1.52828"
      ]
     },
     "execution_count": 4,
     "metadata": {},
     "output_type": "execute_result"
    }
   ],
   "source": [
    "randn(3,5) # standard normal"
   ]
  },
  {
   "cell_type": "code",
   "execution_count": 7,
   "metadata": {},
   "outputs": [
    {
     "data": {
      "text/plain": [
       "-0.00033606536110902596"
      ]
     },
     "execution_count": 7,
     "metadata": {},
     "output_type": "execute_result"
    }
   ],
   "source": [
    "mean(randn(1_000_000))"
   ]
  },
  {
   "cell_type": "code",
   "execution_count": 8,
   "metadata": {},
   "outputs": [
    {
     "data": {
      "text/plain": [
       "0.9996567477884062"
      ]
     },
     "execution_count": 8,
     "metadata": {},
     "output_type": "execute_result"
    }
   ],
   "source": [
    "var(randn(1_000_000))"
   ]
  },
  {
   "cell_type": "code",
   "execution_count": 9,
   "metadata": {},
   "outputs": [],
   "source": [
    "using Distributions"
   ]
  },
  {
   "cell_type": "code",
   "execution_count": 11,
   "metadata": {},
   "outputs": [
    {
     "data": {
      "text/plain": [
       "10×20 Array{Int64,2}:\n",
       " 0  0  2  2  0  1  2  0  2  0  1  2  2  0  1  0  1  2  2  2\n",
       " 2  1  1  0  2  2  1  1  2  1  2  1  0  2  1  1  2  0  1  0\n",
       " 0  2  1  1  2  1  2  0  1  0  0  2  1  1  2  1  1  1  1  2\n",
       " 1  1  0  0  1  1  0  1  1  1  0  1  1  0  0  2  1  0  1  2\n",
       " 0  2  2  0  0  1  0  0  0  1  0  1  0  0  2  1  1  1  1  0\n",
       " 2  1  1  1  1  1  1  1  1  1  2  0  1  1  1  1  1  2  2  1\n",
       " 0  1  2  2  2  0  2  1  0  1  0  1  0  2  1  0  0  0  1  1\n",
       " 2  1  2  2  1  2  1  2  0  2  1  1  2  2  0  1  1  0  1  2\n",
       " 2  0  2  1  2  2  0  1  1  1  1  2  0  1  0  1  1  2  1  1\n",
       " 1  1  2  0  0  1  1  2  2  1  0  1  0  0  1  0  0  2  2  1"
      ]
     },
     "execution_count": 11,
     "metadata": {},
     "output_type": "execute_result"
    }
   ],
   "source": [
    "M = rand(Binomial(2,0.5),10,20)"
   ]
  },
  {
   "cell_type": "markdown",
   "metadata": {},
   "source": [
    "#### Get first column as one dimensionsal array"
   ]
  },
  {
   "cell_type": "code",
   "execution_count": 53,
   "metadata": {},
   "outputs": [
    {
     "data": {
      "text/plain": [
       "10-element Array{Int64,1}:\n",
       " 0\n",
       " 2\n",
       " 0\n",
       " 1\n",
       " 0\n",
       " 2\n",
       " 0\n",
       " 2\n",
       " 2\n",
       " 1"
      ]
     },
     "execution_count": 53,
     "metadata": {},
     "output_type": "execute_result"
    }
   ],
   "source": [
    "M[:,1]"
   ]
  },
  {
   "cell_type": "markdown",
   "metadata": {},
   "source": [
    "#### Get first row as one dimensionsal array¶"
   ]
  },
  {
   "cell_type": "code",
   "execution_count": 54,
   "metadata": {},
   "outputs": [
    {
     "data": {
      "text/plain": [
       "20-element Array{Int64,1}:\n",
       " 0\n",
       " 0\n",
       " 2\n",
       " 2\n",
       " 0\n",
       " 1\n",
       " 2\n",
       " 0\n",
       " 2\n",
       " 0\n",
       " 1\n",
       " 2\n",
       " 2\n",
       " 0\n",
       " 1\n",
       " 0\n",
       " 1\n",
       " 2\n",
       " 2\n",
       " 2"
      ]
     },
     "execution_count": 54,
     "metadata": {},
     "output_type": "execute_result"
    }
   ],
   "source": [
    "M[1,:]"
   ]
  },
  {
   "cell_type": "markdown",
   "metadata": {},
   "source": [
    "#### Transposing and array gives a row vector "
   ]
  },
  {
   "cell_type": "code",
   "execution_count": 56,
   "metadata": {},
   "outputs": [
    {
     "data": {
      "text/plain": [
       "1×20 LinearAlgebra.Adjoint{Int64,Array{Int64,1}}:\n",
       " 0  0  2  2  0  1  2  0  2  0  1  2  2  0  1  0  1  2  2  2"
      ]
     },
     "execution_count": 56,
     "metadata": {},
     "output_type": "execute_result"
    }
   ],
   "source": [
    "M[1,:]'"
   ]
  },
  {
   "cell_type": "markdown",
   "metadata": {},
   "source": [
    "#### Sum of squares of elements in first row"
   ]
  },
  {
   "cell_type": "code",
   "execution_count": 57,
   "metadata": {},
   "outputs": [
    {
     "data": {
      "text/plain": [
       "40"
      ]
     },
     "execution_count": 57,
     "metadata": {},
     "output_type": "execute_result"
    }
   ],
   "source": [
    "M[1,:]'M[1,:]"
   ]
  },
  {
   "cell_type": "code",
   "execution_count": 59,
   "metadata": {},
   "outputs": [
    {
     "data": {
      "text/plain": [
       "40"
      ]
     },
     "execution_count": 59,
     "metadata": {},
     "output_type": "execute_result"
    }
   ],
   "source": [
    "M[1,:]'*M[1,:]"
   ]
  },
  {
   "cell_type": "code",
   "execution_count": 61,
   "metadata": {},
   "outputs": [
    {
     "data": {
      "text/plain": [
       "20-element Array{Int64,1}:\n",
       " 0\n",
       " 0\n",
       " 4\n",
       " 4\n",
       " 0\n",
       " 1\n",
       " 4\n",
       " 0\n",
       " 4\n",
       " 0\n",
       " 1\n",
       " 4\n",
       " 4\n",
       " 0\n",
       " 1\n",
       " 0\n",
       " 1\n",
       " 4\n",
       " 4\n",
       " 4"
      ]
     },
     "execution_count": 61,
     "metadata": {},
     "output_type": "execute_result"
    }
   ],
   "source": [
    "M[1,:].^2"
   ]
  },
  {
   "cell_type": "code",
   "execution_count": 60,
   "metadata": {},
   "outputs": [
    {
     "data": {
      "text/plain": [
       "40"
      ]
     },
     "execution_count": 60,
     "metadata": {},
     "output_type": "execute_result"
    }
   ],
   "source": [
    "sum(M[1,:].^2)"
   ]
  },
  {
   "cell_type": "markdown",
   "metadata": {},
   "source": [
    "#### Matrix transpose and product "
   ]
  },
  {
   "cell_type": "code",
   "execution_count": 62,
   "metadata": {},
   "outputs": [
    {
     "data": {
      "text/plain": [
       "true"
      ]
     },
     "execution_count": 62,
     "metadata": {},
     "output_type": "execute_result"
    }
   ],
   "source": [
    "M'M == M'*M"
   ]
  },
  {
   "cell_type": "markdown",
   "metadata": {},
   "source": [
    "### Identity Matrix"
   ]
  },
  {
   "cell_type": "markdown",
   "metadata": {},
   "source": [
    "#### In general"
   ]
  },
  {
   "cell_type": "code",
   "execution_count": 92,
   "metadata": {},
   "outputs": [
    {
     "data": {
      "text/plain": [
       "3×3 Array{Float64,2}:\n",
       " 1.0  0.0  0.0\n",
       " 0.0  1.0  0.0\n",
       " 0.0  0.0  1.0"
      ]
     },
     "execution_count": 92,
     "metadata": {},
     "output_type": "execute_result"
    }
   ],
   "source": [
    "using LinearAlgebra\n",
    "Matrix{Float64}(I,3,3)"
   ]
  },
  {
   "cell_type": "code",
   "execution_count": 93,
   "metadata": {},
   "outputs": [
    {
     "data": {
      "text/plain": [
       "3×4 Array{Float64,2}:\n",
       " 1.0  0.0  0.0  0.0\n",
       " 0.0  1.0  0.0  0.0\n",
       " 0.0  0.0  1.0  0.0"
      ]
     },
     "execution_count": 93,
     "metadata": {},
     "output_type": "execute_result"
    }
   ],
   "source": [
    "Matrix{Float64}(I,3,4)"
   ]
  },
  {
   "cell_type": "code",
   "execution_count": 94,
   "metadata": {},
   "outputs": [
    {
     "data": {
      "text/plain": [
       "4×3 Array{Float64,2}:\n",
       " 1.0  0.0  0.0\n",
       " 0.0  1.0  0.0\n",
       " 0.0  0.0  1.0\n",
       " 0.0  0.0  0.0"
      ]
     },
     "execution_count": 94,
     "metadata": {},
     "output_type": "execute_result"
    }
   ],
   "source": [
    "Matrix{Float64}(I,4,3)"
   ]
  },
  {
   "cell_type": "markdown",
   "metadata": {},
   "source": [
    "#### When dimensions can be inferred"
   ]
  },
  {
   "cell_type": "code",
   "execution_count": 96,
   "metadata": {},
   "outputs": [
    {
     "data": {
      "text/plain": [
       "20×20 Array{Int64,2}:\n",
       " 19   8  14   8  13  16   7  13  11  …  10   7  12   5  10  11  10  13  11\n",
       "  8  15  14   7  11  11  10   8   8     11   6   9  12   9   9   8  12  11\n",
       " 14  14  28  16  15  18  16  14  14     19  10  14  14   9  12  17  20  17\n",
       "  8   7  16  16  11  10  13   8   7     12  10  11   7   5   7   9  12  14\n",
       " 13  11  15  11  20  14  12  10  10     14   6  15   9  10  11   8  12  13\n",
       " 16  11  18  10  14  19  10  12  13  …  15   9  12   9  11  13  12  15  14\n",
       "  7  10  16  13  12  10  17   8  11     13   9  11  11   5   8  10  14  14\n",
       " 13   8  14   8  10  12   8  14   9      9   6  10   5   7   7   8  12  11\n",
       " 11   8  14   7  10  13  11   9  17     13   7   7   9   7  10  13  15  12\n",
       " 12   9  14   8  10  12   7  11   7      9   6  10   6   8   8   7  11  10\n",
       " 12   5  10   7   9  11   7   7   9  …   7   6   9   5   6   9   8  10   7\n",
       " 10  11  19  12  14  15  13   9  13     19   9  10  11   9  11  13  15  16\n",
       "  7   6  10  10   6   9   9   6   7      9  12   6   5   6   7   7  10  13\n",
       " 12   9  14  11  15  12  11  10   7     10   6  16   7   7   9   5  10  10\n",
       "  5  12  14   7   9   9  11   5   9     11   5   7  14   6   8  10  12   9\n",
       " 10   9   9   5  10  11   5   7   7  …   9   6   7   6  11   9   6   9  10\n",
       " 11   9  12   7  11  13   8   7  10     11   7   9   8   9  12   8  11  10\n",
       " 10   8  17   9   8  12  10   8  13     13   7   5  10   6   8  19  16  12\n",
       " 13  12  20  12  12  15  14  12  15     15  10  10  12   9  11  16  20  16\n",
       " 11  11  17  14  13  14  14  11  12     16  13  10   9  10  10  12  16  21"
      ]
     },
     "execution_count": 96,
     "metadata": {},
     "output_type": "execute_result"
    }
   ],
   "source": [
    "A = M'M + I"
   ]
  },
  {
   "cell_type": "markdown",
   "metadata": {},
   "source": [
    "### Subset of Matrix"
   ]
  },
  {
   "cell_type": "code",
   "execution_count": 101,
   "metadata": {},
   "outputs": [
    {
     "data": {
      "text/plain": [
       "2×2 Array{Int64,2}:\n",
       " 14  8\n",
       " 14  7"
      ]
     },
     "execution_count": 101,
     "metadata": {},
     "output_type": "execute_result"
    }
   ],
   "source": [
    "B = A[1:2,3:4]"
   ]
  },
  {
   "cell_type": "code",
   "execution_count": 99,
   "metadata": {},
   "outputs": [
    {
     "data": {
      "text/plain": [
       "2×10 Array{Int64,2}:\n",
       " 12  10  7  12   5  10  11  10  13  11\n",
       "  5  11  6   9  12   9   9   8  12  11"
      ]
     },
     "execution_count": 99,
     "metadata": {},
     "output_type": "execute_result"
    }
   ],
   "source": [
    "C = A[1:2,11:end]"
   ]
  },
  {
   "cell_type": "markdown",
   "metadata": {},
   "source": [
    "### Concatenation\n",
    "#### Horizontal"
   ]
  },
  {
   "cell_type": "code",
   "execution_count": 103,
   "metadata": {},
   "outputs": [
    {
     "data": {
      "text/plain": [
       "2×12 Array{Int64,2}:\n",
       " 14  8  12  10  7  12   5  10  11  10  13  11\n",
       " 14  7   5  11  6   9  12   9   9   8  12  11"
      ]
     },
     "execution_count": 103,
     "metadata": {},
     "output_type": "execute_result"
    }
   ],
   "source": [
    "[B C]"
   ]
  },
  {
   "cell_type": "code",
   "execution_count": 104,
   "metadata": {},
   "outputs": [
    {
     "data": {
      "text/plain": [
       "2×12 Array{Int64,2}:\n",
       " 14  8  12  10  7  12   5  10  11  10  13  11\n",
       " 14  7   5  11  6   9  12   9   9   8  12  11"
      ]
     },
     "execution_count": 104,
     "metadata": {},
     "output_type": "execute_result"
    }
   ],
   "source": [
    "hcat(B,C)"
   ]
  },
  {
   "cell_type": "markdown",
   "metadata": {},
   "source": [
    "#### Vertical"
   ]
  },
  {
   "cell_type": "code",
   "execution_count": 105,
   "metadata": {},
   "outputs": [
    {
     "data": {
      "text/plain": [
       "12×20 Array{Int64,2}:\n",
       " 19   8  14   8  13  16   7  13  11  …  10   7  12   5  10  11  10  13  11\n",
       "  8  15  14   7  11  11  10   8   8     11   6   9  12   9   9   8  12  11\n",
       " 12   5  10   7   9  11   7   7   9      7   6   9   5   6   9   8  10   7\n",
       " 10  11  19  12  14  15  13   9  13     19   9  10  11   9  11  13  15  16\n",
       "  7   6  10  10   6   9   9   6   7      9  12   6   5   6   7   7  10  13\n",
       " 12   9  14  11  15  12  11  10   7  …  10   6  16   7   7   9   5  10  10\n",
       "  5  12  14   7   9   9  11   5   9     11   5   7  14   6   8  10  12   9\n",
       " 10   9   9   5  10  11   5   7   7      9   6   7   6  11   9   6   9  10\n",
       " 11   9  12   7  11  13   8   7  10     11   7   9   8   9  12   8  11  10\n",
       " 10   8  17   9   8  12  10   8  13     13   7   5  10   6   8  19  16  12\n",
       " 13  12  20  12  12  15  14  12  15  …  15  10  10  12   9  11  16  20  16\n",
       " 11  11  17  14  13  14  14  11  12     16  13  10   9  10  10  12  16  21"
      ]
     },
     "execution_count": 105,
     "metadata": {},
     "output_type": "execute_result"
    }
   ],
   "source": [
    "[ \n",
    "A[1:2,:]\n",
    "A[11:end,:]\n",
    "]"
   ]
  },
  {
   "cell_type": "code",
   "execution_count": 106,
   "metadata": {},
   "outputs": [
    {
     "data": {
      "text/plain": [
       "12×20 Array{Int64,2}:\n",
       " 19   8  14   8  13  16   7  13  11  …  10   7  12   5  10  11  10  13  11\n",
       "  8  15  14   7  11  11  10   8   8     11   6   9  12   9   9   8  12  11\n",
       " 12   5  10   7   9  11   7   7   9      7   6   9   5   6   9   8  10   7\n",
       " 10  11  19  12  14  15  13   9  13     19   9  10  11   9  11  13  15  16\n",
       "  7   6  10  10   6   9   9   6   7      9  12   6   5   6   7   7  10  13\n",
       " 12   9  14  11  15  12  11  10   7  …  10   6  16   7   7   9   5  10  10\n",
       "  5  12  14   7   9   9  11   5   9     11   5   7  14   6   8  10  12   9\n",
       " 10   9   9   5  10  11   5   7   7      9   6   7   6  11   9   6   9  10\n",
       " 11   9  12   7  11  13   8   7  10     11   7   9   8   9  12   8  11  10\n",
       " 10   8  17   9   8  12  10   8  13     13   7   5  10   6   8  19  16  12\n",
       " 13  12  20  12  12  15  14  12  15  …  15  10  10  12   9  11  16  20  16\n",
       " 11  11  17  14  13  14  14  11  12     16  13  10   9  10  10  12  16  21"
      ]
     },
     "execution_count": 106,
     "metadata": {},
     "output_type": "execute_result"
    }
   ],
   "source": [
    "vcat(A[1:2,:],A[11:end,:])"
   ]
  },
  {
   "cell_type": "markdown",
   "metadata": {},
   "source": [
    "### Sorting"
   ]
  },
  {
   "cell_type": "code",
   "execution_count": 12,
   "metadata": {},
   "outputs": [
    {
     "data": {
      "text/plain": [
       "10-element Array{Int64,1}:\n",
       " 0\n",
       " 0\n",
       " 0\n",
       " 0\n",
       " 1\n",
       " 1\n",
       " 2\n",
       " 2\n",
       " 2\n",
       " 2"
      ]
     },
     "execution_count": 12,
     "metadata": {},
     "output_type": "execute_result"
    }
   ],
   "source": [
    "sort(M[:,1])"
   ]
  },
  {
   "cell_type": "code",
   "execution_count": 14,
   "metadata": {},
   "outputs": [
    {
     "data": {
      "text/plain": [
       "10-element Array{Int64,1}:\n",
       "  1\n",
       "  3\n",
       "  5\n",
       "  7\n",
       "  4\n",
       " 10\n",
       "  2\n",
       "  6\n",
       "  8\n",
       "  9"
      ]
     },
     "execution_count": 14,
     "metadata": {},
     "output_type": "execute_result"
    }
   ],
   "source": [
    "index = sortperm(M[:,1])"
   ]
  },
  {
   "cell_type": "code",
   "execution_count": 15,
   "metadata": {},
   "outputs": [
    {
     "data": {
      "text/plain": [
       "10-element Array{Int64,1}:\n",
       " 0\n",
       " 0\n",
       " 0\n",
       " 0\n",
       " 1\n",
       " 1\n",
       " 2\n",
       " 2\n",
       " 2\n",
       " 2"
      ]
     },
     "execution_count": 15,
     "metadata": {},
     "output_type": "execute_result"
    }
   ],
   "source": [
    "M[index,1]"
   ]
  },
  {
   "cell_type": "markdown",
   "metadata": {},
   "source": [
    "### Sorting the entire matrix by the first column"
   ]
  },
  {
   "cell_type": "code",
   "execution_count": 87,
   "metadata": {},
   "outputs": [
    {
     "data": {
      "text/plain": [
       "10×20 Array{Int64,2}:\n",
       " 0  0  2  2  0  1  2  0  2  0  1  2  2  0  1  0  1  2  2  2\n",
       " 0  2  1  1  2  1  2  0  1  0  0  2  1  1  2  1  1  1  1  2\n",
       " 0  2  2  0  0  1  0  0  0  1  0  1  0  0  2  1  1  1  1  0\n",
       " 0  1  2  2  2  0  2  1  0  1  0  1  0  2  1  0  0  0  1  1\n",
       " 1  1  0  0  1  1  0  1  1  1  0  1  1  0  0  2  1  0  1  2\n",
       " 1  1  2  0  0  1  1  2  2  1  0  1  0  0  1  0  0  2  2  1\n",
       " 2  1  1  0  2  2  1  1  2  1  2  1  0  2  1  1  2  0  1  0\n",
       " 2  1  1  1  1  1  1  1  1  1  2  0  1  1  1  1  1  2  2  1\n",
       " 2  1  2  2  1  2  1  2  0  2  1  1  2  2  0  1  1  0  1  2\n",
       " 2  0  2  1  2  2  0  1  1  1  1  2  0  1  0  1  1  2  1  1"
      ]
     },
     "execution_count": 87,
     "metadata": {},
     "output_type": "execute_result"
    }
   ],
   "source": [
    "M[index,:]"
   ]
  },
  {
   "cell_type": "markdown",
   "metadata": {},
   "source": [
    "### Sorting matrix by the sum of columns 1 and 2"
   ]
  },
  {
   "cell_type": "code",
   "execution_count": 33,
   "metadata": {},
   "outputs": [
    {
     "data": {
      "text/plain": [
       "10×20 Array{Int64,2}:\n",
       " 0  0  2  2  0  1  2  0  2  0  1  2  2  0  1  0  1  2  2  2\n",
       " 0  1  2  2  2  0  2  1  0  1  0  1  0  2  1  0  0  0  1  1\n",
       " 0  2  1  1  2  1  2  0  1  0  0  2  1  1  2  1  1  1  1  2\n",
       " 1  1  0  0  1  1  0  1  1  1  0  1  1  0  0  2  1  0  1  2\n",
       " 0  2  2  0  0  1  0  0  0  1  0  1  0  0  2  1  1  1  1  0\n",
       " 2  0  2  1  2  2  0  1  1  1  1  2  0  1  0  1  1  2  1  1\n",
       " 1  1  2  0  0  1  1  2  2  1  0  1  0  0  1  0  0  2  2  1\n",
       " 2  1  1  0  2  2  1  1  2  1  2  1  0  2  1  1  2  0  1  0\n",
       " 2  1  1  1  1  1  1  1  1  1  2  0  1  1  1  1  1  2  2  1\n",
       " 2  1  2  2  1  2  1  2  0  2  1  1  2  2  0  1  1  0  1  2"
      ]
     },
     "execution_count": 33,
     "metadata": {},
     "output_type": "execute_result"
    }
   ],
   "source": [
    "M[sortperm( M[:,1]+M[:,2] ),:]"
   ]
  },
  {
   "cell_type": "markdown",
   "metadata": {},
   "source": [
    "### Selecting rows or columns of matrix"
   ]
  },
  {
   "cell_type": "markdown",
   "metadata": {},
   "source": [
    "#### Select rows where row sum is > 19"
   ]
  },
  {
   "cell_type": "code",
   "execution_count": 52,
   "metadata": {},
   "outputs": [
    {
     "data": {
      "text/plain": [
       "10-element BitArray{1}:\n",
       "  true\n",
       "  true\n",
       "  true\n",
       " false\n",
       " false\n",
       "  true\n",
       " false\n",
       "  true\n",
       "  true\n",
       " false"
      ]
     },
     "execution_count": 52,
     "metadata": {},
     "output_type": "execute_result"
    }
   ],
   "source": [
    "vec(sum(M,dims=2) .> 19)"
   ]
  },
  {
   "cell_type": "code",
   "execution_count": 47,
   "metadata": {},
   "outputs": [
    {
     "data": {
      "text/plain": [
       "6×20 Array{Int64,2}:\n",
       " 0  0  2  2  0  1  2  0  2  0  1  2  2  0  1  0  1  2  2  2\n",
       " 2  1  1  0  2  2  1  1  2  1  2  1  0  2  1  1  2  0  1  0\n",
       " 0  2  1  1  2  1  2  0  1  0  0  2  1  1  2  1  1  1  1  2\n",
       " 2  1  1  1  1  1  1  1  1  1  2  0  1  1  1  1  1  2  2  1\n",
       " 2  1  2  2  1  2  1  2  0  2  1  1  2  2  0  1  1  0  1  2\n",
       " 2  0  2  1  2  2  0  1  1  1  1  2  0  1  0  1  1  2  1  1"
      ]
     },
     "execution_count": 47,
     "metadata": {},
     "output_type": "execute_result"
    }
   ],
   "source": [
    "M[vec(sum(M,dims=2) .> 19), :]"
   ]
  },
  {
   "cell_type": "markdown",
   "metadata": {},
   "source": [
    "#### Get random subset of 5 columns from M"
   ]
  },
  {
   "cell_type": "code",
   "execution_count": 64,
   "metadata": {},
   "outputs": [
    {
     "data": {
      "text/plain": [
       "5-element Array{Int64,1}:\n",
       " 10\n",
       "  7\n",
       "  1\n",
       " 13\n",
       "  3"
      ]
     },
     "execution_count": 64,
     "metadata": {},
     "output_type": "execute_result"
    }
   ],
   "source": [
    "sel = sample(1:size(M,2),5,replace=false)"
   ]
  },
  {
   "cell_type": "code",
   "execution_count": 65,
   "metadata": {},
   "outputs": [
    {
     "data": {
      "text/plain": [
       "10×5 Array{Int64,2}:\n",
       " 0  2  0  2  2\n",
       " 1  1  2  0  1\n",
       " 0  2  0  1  1\n",
       " 1  0  1  1  0\n",
       " 1  0  0  0  2\n",
       " 1  1  2  1  1\n",
       " 1  2  0  0  2\n",
       " 2  1  2  2  2\n",
       " 1  0  2  0  2\n",
       " 1  1  1  0  2"
      ]
     },
     "execution_count": 65,
     "metadata": {},
     "output_type": "execute_result"
    }
   ],
   "source": [
    "M[:,sel]"
   ]
  },
  {
   "cell_type": "markdown",
   "metadata": {},
   "source": [
    "#### Get the remaining columns: \n",
    "#### M[:,-sel] does not work in Julia"
   ]
  },
  {
   "cell_type": "code",
   "execution_count": 85,
   "metadata": {},
   "outputs": [
    {
     "data": {
      "text/plain": [
       "15-element Array{Int64,1}:\n",
       "  2\n",
       "  4\n",
       "  5\n",
       "  6\n",
       "  8\n",
       "  9\n",
       " 11\n",
       " 12\n",
       " 14\n",
       " 15\n",
       " 16\n",
       " 17\n",
       " 18\n",
       " 19\n",
       " 20"
      ]
     },
     "execution_count": 85,
     "metadata": {},
     "output_type": "execute_result"
    }
   ],
   "source": [
    "setdiff(1:size(M,2),sel)"
   ]
  },
  {
   "cell_type": "code",
   "execution_count": 86,
   "metadata": {},
   "outputs": [
    {
     "data": {
      "text/plain": [
       "10×15 Array{Int64,2}:\n",
       " 0  2  0  1  0  2  1  2  0  1  0  1  2  2  2\n",
       " 1  0  2  2  1  2  2  1  2  1  1  2  0  1  0\n",
       " 2  1  2  1  0  1  0  2  1  2  1  1  1  1  2\n",
       " 1  0  1  1  1  1  0  1  0  0  2  1  0  1  2\n",
       " 2  0  0  1  0  0  0  1  0  2  1  1  1  1  0\n",
       " 1  1  1  1  1  1  2  0  1  1  1  1  2  2  1\n",
       " 1  2  2  0  1  0  0  1  2  1  0  0  0  1  1\n",
       " 1  2  1  2  2  0  1  1  2  0  1  1  0  1  2\n",
       " 0  1  2  2  1  1  1  2  1  0  1  1  2  1  1\n",
       " 1  0  0  1  2  2  0  1  0  1  0  0  2  2  1"
      ]
     },
     "execution_count": 86,
     "metadata": {},
     "output_type": "execute_result"
    }
   ],
   "source": [
    "M[:,setdiff(1:size(M,2),sel)] # not as nice as M[:,-sel]"
   ]
  },
  {
   "cell_type": "markdown",
   "metadata": {},
   "source": [
    "### Copy of array"
   ]
  },
  {
   "cell_type": "code",
   "execution_count": 121,
   "metadata": {},
   "outputs": [
    {
     "data": {
      "text/plain": [
       "3-element Array{Int64,1}:\n",
       " 1\n",
       " 2\n",
       " 3"
      ]
     },
     "execution_count": 121,
     "metadata": {},
     "output_type": "execute_result"
    }
   ],
   "source": [
    "v = [1, 2, 3]"
   ]
  },
  {
   "cell_type": "code",
   "execution_count": 126,
   "metadata": {},
   "outputs": [
    {
     "data": {
      "text/plain": [
       "3-element Array{Int64,1}:\n",
       " 10\n",
       "  2\n",
       "  3"
      ]
     },
     "execution_count": 126,
     "metadata": {},
     "output_type": "execute_result"
    }
   ],
   "source": [
    "u = v\n",
    "u[1] = 10\n",
    "u"
   ]
  },
  {
   "cell_type": "code",
   "execution_count": 127,
   "metadata": {},
   "outputs": [
    {
     "data": {
      "text/plain": [
       "3-element Array{Int64,1}:\n",
       " 10\n",
       "  2\n",
       "  3"
      ]
     },
     "execution_count": 127,
     "metadata": {},
     "output_type": "execute_result"
    }
   ],
   "source": [
    "v"
   ]
  },
  {
   "cell_type": "markdown",
   "metadata": {},
   "source": [
    "##### So, u is not just a copy of v. It is another name for v. To get a copy use:"
   ]
  },
  {
   "cell_type": "code",
   "execution_count": 128,
   "metadata": {},
   "outputs": [
    {
     "data": {
      "text/plain": [
       "3-element Array{Int64,1}:\n",
       " 10\n",
       "  2\n",
       "  3"
      ]
     },
     "execution_count": 128,
     "metadata": {},
     "output_type": "execute_result"
    }
   ],
   "source": [
    "v = [1, 2, 3]\n",
    "u = copy(v)\n",
    "u[1] = 10\n",
    "u"
   ]
  },
  {
   "cell_type": "code",
   "execution_count": 129,
   "metadata": {},
   "outputs": [
    {
     "data": {
      "text/plain": [
       "3-element Array{Int64,1}:\n",
       " 1\n",
       " 2\n",
       " 3"
      ]
     },
     "execution_count": 129,
     "metadata": {},
     "output_type": "execute_result"
    }
   ],
   "source": [
    "v"
   ]
  },
  {
   "cell_type": "markdown",
   "metadata": {},
   "source": [
    "## Control Flow and Loops"
   ]
  },
  {
   "cell_type": "markdown",
   "metadata": {},
   "source": [
    "##### Consider adding the vectors u and v. One way to do this is:"
   ]
  },
  {
   "cell_type": "code",
   "execution_count": 132,
   "metadata": {},
   "outputs": [
    {
     "data": {
      "text/plain": [
       "3×3 Array{Int64,2}:\n",
       " 10  1  11\n",
       "  2  2   4\n",
       "  3  3   6"
      ]
     },
     "execution_count": 132,
     "metadata": {},
     "output_type": "execute_result"
    }
   ],
   "source": [
    "result = zero(u) # gets vector of zeros identical in dimension to that of u\n",
    "result[1] = u[1] + v[1]\n",
    "result[2] = u[2] + v[2]\n",
    "result[3] = u[3] + v[3]\n",
    "[u v result]"
   ]
  },
  {
   "cell_type": "markdown",
   "metadata": {},
   "source": [
    "##### Using loop:"
   ]
  },
  {
   "cell_type": "code",
   "execution_count": 133,
   "metadata": {},
   "outputs": [
    {
     "data": {
      "text/plain": [
       "3×3 Array{Int64,2}:\n",
       " 10  1  11\n",
       "  2  2   4\n",
       "  3  3   6"
      ]
     },
     "execution_count": 133,
     "metadata": {},
     "output_type": "execute_result"
    }
   ],
   "source": [
    "result = zero(u)\n",
    "for i=1:size(u,1)\n",
    "    result[i] = u[i] + v[i]\n",
    "end\n",
    "[u v result]"
   ]
  },
  {
   "cell_type": "markdown",
   "metadata": {},
   "source": [
    "#### Sum of elements in v"
   ]
  },
  {
   "cell_type": "code",
   "execution_count": 148,
   "metadata": {},
   "outputs": [
    {
     "data": {
      "text/plain": [
       "6.0"
      ]
     },
     "execution_count": 148,
     "metadata": {},
     "output_type": "execute_result"
    }
   ],
   "source": [
    "mySum = 0.0\n",
    "for i = v\n",
    "    mySum += i\n",
    "end\n",
    "mySum"
   ]
  },
  {
   "cell_type": "markdown",
   "metadata": {},
   "source": [
    "#### Get vector of squared values in v "
   ]
  },
  {
   "cell_type": "markdown",
   "metadata": {},
   "source": [
    "#### These are called list comprehensions"
   ]
  },
  {
   "cell_type": "code",
   "execution_count": 135,
   "metadata": {},
   "outputs": [
    {
     "data": {
      "text/plain": [
       "3-element Array{Int64,1}:\n",
       " 1\n",
       " 4\n",
       " 9"
      ]
     },
     "execution_count": 135,
     "metadata": {},
     "output_type": "execute_result"
    }
   ],
   "source": [
    "[i^2 for i in v]"
   ]
  },
  {
   "cell_type": "markdown",
   "metadata": {},
   "source": [
    "#### Get vector of square-roots of positive values in x"
   ]
  },
  {
   "cell_type": "code",
   "execution_count": 143,
   "metadata": {},
   "outputs": [
    {
     "data": {
      "text/plain": [
       "8-element Array{Float64,1}:\n",
       " 0.887039660794614  \n",
       " 1.1736737518757063 \n",
       " 1.0991885314062102 \n",
       " 0.5535707452062117 \n",
       " 0.36075386168935675\n",
       " 0.892039591970934  \n",
       " 1.4243549910796944 \n",
       " 0.814796994281538  "
      ]
     },
     "execution_count": 143,
     "metadata": {},
     "output_type": "execute_result"
    }
   ],
   "source": [
    "x = randn(10)\n",
    "[sqrt(i) for i in x if i > 0.0]"
   ]
  },
  {
   "cell_type": "code",
   "execution_count": 151,
   "metadata": {},
   "outputs": [
    {
     "data": {
      "text/plain": [
       "8-element Array{Array{Float64,2},1}:\n",
       " [1.0 0.413247] \n",
       " [3.0 0.865288] \n",
       " [4.0 0.668961] \n",
       " [5.0 1.13697]  \n",
       " [7.0 1.45655]  \n",
       " [8.0 1.19631]  \n",
       " [9.0 1.26048]  \n",
       " [10.0 0.549283]"
      ]
     },
     "execution_count": 151,
     "metadata": {},
     "output_type": "execute_result"
    }
   ],
   "source": [
    "x = randn(10)\n",
    "res = [[i sqrt(value)] for (i,value) in enumerate(x) if value > 0.0]"
   ]
  },
  {
   "cell_type": "markdown",
   "metadata": {},
   "source": [
    "#### Matrix from res"
   ]
  },
  {
   "cell_type": "code",
   "execution_count": 152,
   "metadata": {},
   "outputs": [
    {
     "data": {
      "text/plain": [
       "8×2 Array{Float64,2}:\n",
       "  1.0  0.413247\n",
       "  3.0  0.865288\n",
       "  4.0  0.668961\n",
       "  5.0  1.13697 \n",
       "  7.0  1.45655 \n",
       "  8.0  1.19631 \n",
       "  9.0  1.26048 \n",
       " 10.0  0.549283"
      ]
     },
     "execution_count": 152,
     "metadata": {},
     "output_type": "execute_result"
    }
   ],
   "source": [
    "resMat = [row[i] for row in res, i=1:2]"
   ]
  },
  {
   "cell_type": "markdown",
   "metadata": {},
   "source": [
    "#### This list comprehension produces a two-dimensional array (a matrix)"
   ]
  },
  {
   "cell_type": "code",
   "execution_count": 164,
   "metadata": {},
   "outputs": [
    {
     "data": {
      "text/plain": [
       "2×3 Array{Int64,2}:\n",
       " 4  5  6\n",
       " 5  6  7"
      ]
     },
     "execution_count": 164,
     "metadata": {},
     "output_type": "execute_result"
    }
   ],
   "source": [
    "[i+j for i=1:2, j=3:5]"
   ]
  },
  {
   "cell_type": "markdown",
   "metadata": {},
   "source": [
    "### Use of Range"
   ]
  },
  {
   "cell_type": "code",
   "execution_count": 165,
   "metadata": {},
   "outputs": [
    {
     "name": "stdout",
     "output_type": "stream",
     "text": [
      "search: \u001b[0m\u001b[1mr\u001b[22m\u001b[0m\u001b[1ma\u001b[22m\u001b[0m\u001b[1mn\u001b[22m\u001b[0m\u001b[1mg\u001b[22m\u001b[0m\u001b[1me\u001b[22m Lin\u001b[0m\u001b[1mR\u001b[22m\u001b[0m\u001b[1ma\u001b[22m\u001b[0m\u001b[1mn\u001b[22m\u001b[0m\u001b[1mg\u001b[22m\u001b[0m\u001b[1me\u001b[22m Unit\u001b[0m\u001b[1mR\u001b[22m\u001b[0m\u001b[1ma\u001b[22m\u001b[0m\u001b[1mn\u001b[22m\u001b[0m\u001b[1mg\u001b[22m\u001b[0m\u001b[1me\u001b[22m Step\u001b[0m\u001b[1mR\u001b[22m\u001b[0m\u001b[1ma\u001b[22m\u001b[0m\u001b[1mn\u001b[22m\u001b[0m\u001b[1mg\u001b[22m\u001b[0m\u001b[1me\u001b[22m Step\u001b[0m\u001b[1mR\u001b[22m\u001b[0m\u001b[1ma\u001b[22m\u001b[0m\u001b[1mn\u001b[22m\u001b[0m\u001b[1mg\u001b[22m\u001b[0m\u001b[1me\u001b[22mLen Studentized\u001b[0m\u001b[1mR\u001b[22m\u001b[0m\u001b[1ma\u001b[22m\u001b[0m\u001b[1mn\u001b[22m\u001b[0m\u001b[1mg\u001b[22m\u001b[0m\u001b[1me\u001b[22m\n",
      "\n"
     ]
    },
    {
     "data": {
      "text/latex": [
       "\\begin{verbatim}\n",
       "range(start[, stop]; length, stop, step=1)\n",
       "\\end{verbatim}\n",
       "Given a starting value, construct a range either by length or from \\texttt{start} to \\texttt{stop}, optionally with a given step (defaults to 1, a \\href{@ref}{\\texttt{UnitRange}}). One of \\texttt{length} or \\texttt{stop} is required.  If \\texttt{length}, \\texttt{stop}, and \\texttt{step} are all specified, they must agree.\n",
       "\n",
       "If \\texttt{length} and \\texttt{stop} are provided and \\texttt{step} is not, the step size will be computed automatically such that there are \\texttt{length} linearly spaced elements in the range (a \\href{@ref}{\\texttt{LinRange}}).\n",
       "\n",
       "If \\texttt{step} and \\texttt{stop} are provided and \\texttt{length} is not, the overall range length will be computed automatically such that the elements are \\texttt{step} spaced (a \\href{@ref}{\\texttt{StepRange}}).\n",
       "\n",
       "\\texttt{stop} may be specified as either a positional or keyword argument.\n",
       "\n",
       "\\begin{quote}\n",
       "\\textbf{compat}\n",
       "\n",
       "Julia 1.1\n",
       "\n",
       "\\texttt{stop} as a positional argument requires at least Julia 1.1.\n",
       "\n",
       "\\end{quote}\n",
       "\\section{Examples}\n",
       "\\begin{verbatim}\n",
       "julia> range(1, length=100)\n",
       "1:100\n",
       "\n",
       "julia> range(1, stop=100)\n",
       "1:100\n",
       "\n",
       "julia> range(1, step=5, length=100)\n",
       "1:5:496\n",
       "\n",
       "julia> range(1, step=5, stop=100)\n",
       "1:5:96\n",
       "\n",
       "julia> range(1, 10, length=101)\n",
       "1.0:0.09:10.0\n",
       "\n",
       "julia> range(1, 100, step=5)\n",
       "1:5:96\n",
       "\\end{verbatim}\n"
      ],
      "text/markdown": [
       "```\n",
       "range(start[, stop]; length, stop, step=1)\n",
       "```\n",
       "\n",
       "Given a starting value, construct a range either by length or from `start` to `stop`, optionally with a given step (defaults to 1, a [`UnitRange`](@ref)). One of `length` or `stop` is required.  If `length`, `stop`, and `step` are all specified, they must agree.\n",
       "\n",
       "If `length` and `stop` are provided and `step` is not, the step size will be computed automatically such that there are `length` linearly spaced elements in the range (a [`LinRange`](@ref)).\n",
       "\n",
       "If `step` and `stop` are provided and `length` is not, the overall range length will be computed automatically such that the elements are `step` spaced (a [`StepRange`](@ref)).\n",
       "\n",
       "`stop` may be specified as either a positional or keyword argument.\n",
       "\n",
       "!!! compat \"Julia 1.1\"\n",
       "    `stop` as a positional argument requires at least Julia 1.1.\n",
       "\n",
       "\n",
       "# Examples\n",
       "\n",
       "```jldoctest\n",
       "julia> range(1, length=100)\n",
       "1:100\n",
       "\n",
       "julia> range(1, stop=100)\n",
       "1:100\n",
       "\n",
       "julia> range(1, step=5, length=100)\n",
       "1:5:496\n",
       "\n",
       "julia> range(1, step=5, stop=100)\n",
       "1:5:96\n",
       "\n",
       "julia> range(1, 10, length=101)\n",
       "1.0:0.09:10.0\n",
       "\n",
       "julia> range(1, 100, step=5)\n",
       "1:5:96\n",
       "```\n"
      ],
      "text/plain": [
       "\u001b[36m  range(start[, stop]; length, stop, step=1)\u001b[39m\n",
       "\n",
       "  Given a starting value, construct a range either by length or from \u001b[36mstart\u001b[39m to\n",
       "  \u001b[36mstop\u001b[39m, optionally with a given step (defaults to 1, a \u001b[36mUnitRange\u001b[39m). One of\n",
       "  \u001b[36mlength\u001b[39m or \u001b[36mstop\u001b[39m is required. If \u001b[36mlength\u001b[39m, \u001b[36mstop\u001b[39m, and \u001b[36mstep\u001b[39m are all specified,\n",
       "  they must agree.\n",
       "\n",
       "  If \u001b[36mlength\u001b[39m and \u001b[36mstop\u001b[39m are provided and \u001b[36mstep\u001b[39m is not, the step size will be\n",
       "  computed automatically such that there are \u001b[36mlength\u001b[39m linearly spaced elements\n",
       "  in the range (a \u001b[36mLinRange\u001b[39m).\n",
       "\n",
       "  If \u001b[36mstep\u001b[39m and \u001b[36mstop\u001b[39m are provided and \u001b[36mlength\u001b[39m is not, the overall range length\n",
       "  will be computed automatically such that the elements are \u001b[36mstep\u001b[39m spaced (a\n",
       "  \u001b[36mStepRange\u001b[39m).\n",
       "\n",
       "  \u001b[36mstop\u001b[39m may be specified as either a positional or keyword argument.\n",
       "\n",
       "\u001b[39m\u001b[1m  │ \u001b[22m\u001b[39m\u001b[1mJulia 1.1\u001b[22m\n",
       "\u001b[39m\u001b[1m  │\u001b[22m\n",
       "\u001b[39m\u001b[1m  │\u001b[22m  \u001b[36mstop\u001b[39m as a positional argument requires at least Julia 1.1.\n",
       "\n",
       "\u001b[1m  Examples\u001b[22m\n",
       "\u001b[1m  ≡≡≡≡≡≡≡≡≡≡\u001b[22m\n",
       "\n",
       "\u001b[36m  julia> range(1, length=100)\u001b[39m\n",
       "\u001b[36m  1:100\u001b[39m\n",
       "\u001b[36m  \u001b[39m\n",
       "\u001b[36m  julia> range(1, stop=100)\u001b[39m\n",
       "\u001b[36m  1:100\u001b[39m\n",
       "\u001b[36m  \u001b[39m\n",
       "\u001b[36m  julia> range(1, step=5, length=100)\u001b[39m\n",
       "\u001b[36m  1:5:496\u001b[39m\n",
       "\u001b[36m  \u001b[39m\n",
       "\u001b[36m  julia> range(1, step=5, stop=100)\u001b[39m\n",
       "\u001b[36m  1:5:96\u001b[39m\n",
       "\u001b[36m  \u001b[39m\n",
       "\u001b[36m  julia> range(1, 10, length=101)\u001b[39m\n",
       "\u001b[36m  1.0:0.09:10.0\u001b[39m\n",
       "\u001b[36m  \u001b[39m\n",
       "\u001b[36m  julia> range(1, 100, step=5)\u001b[39m\n",
       "\u001b[36m  1:5:96\u001b[39m"
      ]
     },
     "execution_count": 165,
     "metadata": {},
     "output_type": "execute_result"
    }
   ],
   "source": [
    "?range"
   ]
  },
  {
   "cell_type": "code",
   "execution_count": 166,
   "metadata": {},
   "outputs": [
    {
     "data": {
      "text/plain": [
       "0.0:0.1:1.0"
      ]
     },
     "execution_count": 166,
     "metadata": {},
     "output_type": "execute_result"
    }
   ],
   "source": [
    "r = range(0, step=0.1, stop=1)"
   ]
  },
  {
   "cell_type": "code",
   "execution_count": 3,
   "metadata": {},
   "outputs": [
    {
     "data": {
      "text/plain": [
       "0.0:0.1:1.0"
      ]
     },
     "execution_count": 3,
     "metadata": {},
     "output_type": "execute_result"
    }
   ],
   "source": [
    "# This works too\n",
    "\n",
    "r = 0:0.1:1"
   ]
  },
  {
   "cell_type": "markdown",
   "metadata": {},
   "source": [
    "r is not an arryay, but in many contexts behaves like one"
   ]
  },
  {
   "cell_type": "code",
   "execution_count": 163,
   "metadata": {},
   "outputs": [
    {
     "data": {
      "text/plain": [
       "11-element Array{Float64,1}:\n",
       " 0.0                \n",
       " 0.09983341664682815\n",
       " 0.19866933079506122\n",
       " 0.29552020666133955\n",
       " 0.3894183423086505 \n",
       " 0.479425538604203  \n",
       " 0.5646424733950354 \n",
       " 0.644217687237691  \n",
       " 0.7173560908995228 \n",
       " 0.7833269096274834 \n",
       " 0.8414709848078965 "
      ]
     },
     "execution_count": 163,
     "metadata": {},
     "output_type": "execute_result"
    }
   ],
   "source": [
    "sin.(r)"
   ]
  },
  {
   "cell_type": "markdown",
   "metadata": {},
   "source": [
    "### Use of Map to apply a function to elements of array"
   ]
  },
  {
   "cell_type": "code",
   "execution_count": 168,
   "metadata": {},
   "outputs": [
    {
     "data": {
      "text/plain": [
       "11-element Array{Float64,1}:\n",
       " 0.0                \n",
       " 0.09983341664682815\n",
       " 0.19866933079506122\n",
       " 0.29552020666133955\n",
       " 0.3894183423086505 \n",
       " 0.479425538604203  \n",
       " 0.5646424733950354 \n",
       " 0.644217687237691  \n",
       " 0.7173560908995228 \n",
       " 0.7833269096274834 \n",
       " 0.8414709848078965 "
      ]
     },
     "execution_count": 168,
     "metadata": {},
     "output_type": "execute_result"
    }
   ],
   "source": [
    "map(sin,r)"
   ]
  },
  {
   "cell_type": "markdown",
   "metadata": {},
   "source": [
    "### Reduce and Map-Reduce"
   ]
  },
  {
   "cell_type": "code",
   "execution_count": 176,
   "metadata": {},
   "outputs": [
    {
     "data": {
      "text/plain": [
       "15"
      ]
     },
     "execution_count": 176,
     "metadata": {},
     "output_type": "execute_result"
    }
   ],
   "source": [
    "# sum of elements in u\n",
    "reduce(+,u)"
   ]
  },
  {
   "cell_type": "code",
   "execution_count": 178,
   "metadata": {},
   "outputs": [
    {
     "data": {
      "text/plain": [
       "60"
      ]
     },
     "execution_count": 178,
     "metadata": {},
     "output_type": "execute_result"
    }
   ],
   "source": [
    "# product of elements in u\n",
    "reduce(*,u)"
   ]
  },
  {
   "cell_type": "code",
   "execution_count": 2,
   "metadata": {},
   "outputs": [
    {
     "data": {
      "text/plain": [
       "500000500000"
      ]
     },
     "execution_count": 2,
     "metadata": {},
     "output_type": "execute_result"
    }
   ],
   "source": [
    "reduce(+,1:1000000)"
   ]
  },
  {
   "cell_type": "code",
   "execution_count": 5,
   "metadata": {},
   "outputs": [
    {
     "data": {
      "text/plain": [
       "333333833333500000"
      ]
     },
     "execution_count": 5,
     "metadata": {},
     "output_type": "execute_result"
    }
   ],
   "source": [
    "mapreduce(x -> x^2, +, 1:1000000)"
   ]
  }
 ],
 "metadata": {
  "kernelspec": {
   "display_name": "Julia 1.1.0",
   "language": "julia",
   "name": "julia-1.1"
  },
  "language_info": {
   "file_extension": ".jl",
   "mimetype": "application/julia",
   "name": "julia",
   "version": "1.1.0"
  }
 },
 "nbformat": 4,
 "nbformat_minor": 2
}
