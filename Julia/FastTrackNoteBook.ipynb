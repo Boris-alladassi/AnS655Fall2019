{
 "cells": [
  {
   "cell_type": "markdown",
   "metadata": {},
   "source": [
    "# Fast Track to Julia NoteBook\n",
    "\n",
    "Expanding on parts of [Fast Track to Julia](https://juliadocs.github.io/Julia-Cheat-Sheet/)"
   ]
  },
  {
   "cell_type": "markdown",
   "metadata": {},
   "source": [
    "## Basics"
   ]
  },
  {
   "cell_type": "code",
   "execution_count": 50,
   "metadata": {},
   "outputs": [
    {
     "data": {
      "text/plain": [
       "12.5"
      ]
     },
     "execution_count": 50,
     "metadata": {},
     "output_type": "execute_result"
    }
   ],
   "source": [
    "a = 2.5\n",
    "5a"
   ]
  },
  {
   "cell_type": "code",
   "execution_count": 51,
   "metadata": {},
   "outputs": [
    {
     "data": {
      "text/plain": [
       "12.5"
      ]
     },
     "execution_count": 51,
     "metadata": {},
     "output_type": "execute_result"
    }
   ],
   "source": [
    "5*a"
   ]
  },
  {
   "cell_type": "markdown",
   "metadata": {},
   "source": [
    "`ans` has the result from the last calculation:"
   ]
  },
  {
   "cell_type": "code",
   "execution_count": 52,
   "metadata": {},
   "outputs": [
    {
     "data": {
      "text/plain": [
       "12.5"
      ]
     },
     "execution_count": 52,
     "metadata": {},
     "output_type": "execute_result"
    }
   ],
   "source": [
    "ans"
   ]
  },
  {
   "cell_type": "markdown",
   "metadata": {},
   "source": [
    "### Two types of comments \n",
    "\n",
    "#### Frist type:"
   ]
  },
  {
   "cell_type": "code",
   "execution_count": 53,
   "metadata": {},
   "outputs": [
    {
     "data": {
      "text/plain": [
       "22.5"
      ]
     },
     "execution_count": 53,
     "metadata": {},
     "output_type": "execute_result"
    }
   ],
   "source": [
    "# this is a one line comment\n",
    "9a # comment can be at the end of a line too"
   ]
  },
  {
   "cell_type": "markdown",
   "metadata": {},
   "source": [
    "#### Second type:"
   ]
  },
  {
   "cell_type": "code",
   "execution_count": 54,
   "metadata": {},
   "outputs": [],
   "source": [
    "#= This is the first line of a comment block\n",
    "9a # comment can be at the end of a line too\n",
    "This is the last line of the block =# "
   ]
  },
  {
   "cell_type": "markdown",
   "metadata": {},
   "source": [
    "### Julia allows simple way to swap values of variables"
   ]
  },
  {
   "cell_type": "code",
   "execution_count": 55,
   "metadata": {},
   "outputs": [
    {
     "data": {
      "text/plain": [
       "2-element Array{Int64,1}:\n",
       " 1\n",
       " 2"
      ]
     },
     "execution_count": 55,
     "metadata": {},
     "output_type": "execute_result"
    }
   ],
   "source": [
    "a,b = 1,2\n",
    "[a,b]"
   ]
  },
  {
   "cell_type": "code",
   "execution_count": 56,
   "metadata": {},
   "outputs": [
    {
     "data": {
      "text/plain": [
       "2-element Array{Int64,1}:\n",
       " 2\n",
       " 1"
      ]
     },
     "execution_count": 56,
     "metadata": {},
     "output_type": "execute_result"
    }
   ],
   "source": [
    "# easy swapping of values\n",
    "a,b = b,a\n",
    "[a,b]"
   ]
  },
  {
   "cell_type": "code",
   "execution_count": 57,
   "metadata": {},
   "outputs": [
    {
     "data": {
      "text/plain": [
       "2-element Array{Int64,1}:\n",
       " 2\n",
       " 1"
      ]
     },
     "execution_count": 57,
     "metadata": {},
     "output_type": "execute_result"
    }
   ],
   "source": [
    "# in most languages you have to do\n",
    "a = 1\n",
    "b = 2\n",
    "temp = a\n",
    "a = b\n",
    "b = temp\n",
    "[a,b]"
   ]
  },
  {
   "cell_type": "markdown",
   "metadata": {},
   "source": [
    "### Julia allows simple boolean expressions"
   ]
  },
  {
   "cell_type": "code",
   "execution_count": 58,
   "metadata": {},
   "outputs": [
    {
     "data": {
      "text/plain": [
       "true"
      ]
     },
     "execution_count": 58,
     "metadata": {},
     "output_type": "execute_result"
    }
   ],
   "source": [
    "# Example\n",
    "1 < a < 3"
   ]
  },
  {
   "cell_type": "code",
   "execution_count": 59,
   "metadata": {},
   "outputs": [
    {
     "data": {
      "text/plain": [
       "true"
      ]
     },
     "execution_count": 59,
     "metadata": {},
     "output_type": "execute_result"
    }
   ],
   "source": [
    "# In many languages this has to be written as\n",
    "1 < a && a < 3"
   ]
  },
  {
   "cell_type": "markdown",
   "metadata": {},
   "source": [
    "### Ternary Operator"
   ]
  },
  {
   "cell_type": "code",
   "execution_count": 60,
   "metadata": {},
   "outputs": [
    {
     "data": {
      "text/plain": [
       "1"
      ]
     },
     "execution_count": 60,
     "metadata": {},
     "output_type": "execute_result"
    }
   ],
   "source": [
    "a = 1\n",
    "b = 1\n",
    "c = 2\n",
    "\n",
    "res = a==b ? a : b"
   ]
  },
  {
   "cell_type": "code",
   "execution_count": 61,
   "metadata": {},
   "outputs": [
    {
     "data": {
      "text/plain": [
       "2"
      ]
     },
     "execution_count": 61,
     "metadata": {},
     "output_type": "execute_result"
    }
   ],
   "source": [
    "a==c ? a : c"
   ]
  },
  {
   "cell_type": "code",
   "execution_count": 62,
   "metadata": {},
   "outputs": [
    {
     "data": {
      "text/plain": [
       "10"
      ]
     },
     "execution_count": 62,
     "metadata": {},
     "output_type": "execute_result"
    }
   ],
   "source": [
    "a==c ? 1 : 10"
   ]
  },
  {
   "cell_type": "code",
   "execution_count": 63,
   "metadata": {},
   "outputs": [
    {
     "data": {
      "text/plain": [
       "1"
      ]
     },
     "execution_count": 63,
     "metadata": {},
     "output_type": "execute_result"
    }
   ],
   "source": [
    "a==c-b ? 1 : 10"
   ]
  },
  {
   "cell_type": "markdown",
   "metadata": {},
   "source": [
    "### Remainder"
   ]
  },
  {
   "cell_type": "code",
   "execution_count": 64,
   "metadata": {},
   "outputs": [
    {
     "data": {
      "text/plain": [
       "9"
      ]
     },
     "execution_count": 64,
     "metadata": {},
     "output_type": "execute_result"
    }
   ],
   "source": [
    "99 % 10"
   ]
  },
  {
   "cell_type": "code",
   "execution_count": 65,
   "metadata": {},
   "outputs": [
    {
     "data": {
      "text/plain": [
       "0"
      ]
     },
     "execution_count": 65,
     "metadata": {},
     "output_type": "execute_result"
    }
   ],
   "source": [
    "100 % 10"
   ]
  },
  {
   "cell_type": "code",
   "execution_count": 66,
   "metadata": {},
   "outputs": [
    {
     "data": {
      "text/plain": [
       "0"
      ]
     },
     "execution_count": 66,
     "metadata": {},
     "output_type": "execute_result"
    }
   ],
   "source": [
    "90 % 10"
   ]
  },
  {
   "cell_type": "markdown",
   "metadata": {},
   "source": [
    "## Arrays (Vectors and Matricies)"
   ]
  },
  {
   "cell_type": "markdown",
   "metadata": {},
   "source": [
    "### Declaration and Initialization of arrays"
   ]
  },
  {
   "cell_type": "code",
   "execution_count": 67,
   "metadata": {},
   "outputs": [
    {
     "data": {
      "text/plain": [
       "0-element Array{Float64,1}"
      ]
     },
     "execution_count": 67,
     "metadata": {},
     "output_type": "execute_result"
    }
   ],
   "source": [
    "# empty vector of double precision floats\n",
    "v = Array{Float64,1}()"
   ]
  },
  {
   "cell_type": "code",
   "execution_count": 68,
   "metadata": {},
   "outputs": [
    {
     "data": {
      "text/plain": [
       "1-element Array{Float64,1}:\n",
       " 2.0"
      ]
     },
     "execution_count": 68,
     "metadata": {},
     "output_type": "execute_result"
    }
   ],
   "source": [
    "push!(v,2.0)\n",
    "v"
   ]
  },
  {
   "cell_type": "code",
   "execution_count": 69,
   "metadata": {},
   "outputs": [
    {
     "data": {
      "text/plain": [
       "5-element Array{Float64,1}:\n",
       " 2.54639494965e-313\n",
       " 2.75859452875e-313\n",
       " 1.27319747527e-313\n",
       " 6.5781869533e-313 \n",
       " 2.1219958073e-314 "
      ]
     },
     "execution_count": 69,
     "metadata": {},
     "output_type": "execute_result"
    }
   ],
   "source": [
    "# vector of size 5, double precision floats\n",
    "u =  Array{Float64,1}(undef, 5)"
   ]
  },
  {
   "cell_type": "code",
   "execution_count": 259,
   "metadata": {},
   "outputs": [
    {
     "data": {
      "text/plain": [
       "3×5 Array{Float64,2}:\n",
       " NaN            6.94962e-310  6.94962e-310  6.94965e-310  6.94962e-310\n",
       "   0.0          6.94962e-310  3.45846e-323  6.94962e-310  6.94962e-310\n",
       "   1.4822e-323  6.94962e-310  2.96439e-323  0.0           6.94962e-310"
      ]
     },
     "execution_count": 259,
     "metadata": {},
     "output_type": "execute_result"
    }
   ],
   "source": [
    "# matrix of size 3x5, double precision floats\n",
    "U =  Array{Float64,2}(undef, 3,5)"
   ]
  },
  {
   "cell_type": "code",
   "execution_count": 71,
   "metadata": {},
   "outputs": [
    {
     "data": {
      "text/plain": [
       "5-element Array{Float64,1}:\n",
       " 2.2\n",
       " 2.2\n",
       " 2.2\n",
       " 2.2\n",
       " 2.2"
      ]
     },
     "execution_count": 71,
     "metadata": {},
     "output_type": "execute_result"
    }
   ],
   "source": [
    "# vector of size 5, of 2.2\n",
    "u =  fill(2.2,5)"
   ]
  },
  {
   "cell_type": "code",
   "execution_count": 72,
   "metadata": {},
   "outputs": [
    {
     "data": {
      "text/plain": [
       "5-element Array{Float64,1}:\n",
       " 0.0\n",
       " 0.0\n",
       " 0.0\n",
       " 0.0\n",
       " 0.0"
      ]
     },
     "execution_count": 72,
     "metadata": {},
     "output_type": "execute_result"
    }
   ],
   "source": [
    "zeros(5)"
   ]
  },
  {
   "cell_type": "code",
   "execution_count": 73,
   "metadata": {},
   "outputs": [
    {
     "data": {
      "text/plain": [
       "3×5 Array{Float64,2}:\n",
       " 0.0  0.0  0.0  0.0  0.0\n",
       " 0.0  0.0  0.0  0.0  0.0\n",
       " 0.0  0.0  0.0  0.0  0.0"
      ]
     },
     "execution_count": 73,
     "metadata": {},
     "output_type": "execute_result"
    }
   ],
   "source": [
    "zeros(3,5)"
   ]
  },
  {
   "cell_type": "code",
   "execution_count": 74,
   "metadata": {},
   "outputs": [
    {
     "data": {
      "text/plain": [
       "3×5 Array{Float64,2}:\n",
       " 0.0  0.0  0.0  0.0  0.0\n",
       " 0.0  0.0  0.0  0.0  0.0\n",
       " 0.0  0.0  0.0  0.0  0.0"
      ]
     },
     "execution_count": 74,
     "metadata": {},
     "output_type": "execute_result"
    }
   ],
   "source": [
    "zero(U)"
   ]
  },
  {
   "cell_type": "code",
   "execution_count": 75,
   "metadata": {},
   "outputs": [
    {
     "data": {
      "text/plain": [
       "3×5 Array{Float64,2}:\n",
       " 1.0  1.0  1.0  1.0  1.0\n",
       " 1.0  1.0  1.0  1.0  1.0\n",
       " 1.0  1.0  1.0  1.0  1.0"
      ]
     },
     "execution_count": 75,
     "metadata": {},
     "output_type": "execute_result"
    }
   ],
   "source": [
    "ones(3,5)"
   ]
  },
  {
   "cell_type": "code",
   "execution_count": 76,
   "metadata": {},
   "outputs": [],
   "source": [
    "using Random, Statistics"
   ]
  },
  {
   "cell_type": "code",
   "execution_count": 77,
   "metadata": {},
   "outputs": [
    {
     "data": {
      "text/plain": [
       "3×5 Array{Float64,2}:\n",
       " 0.166479  0.268334  0.269063  0.605399  0.642119\n",
       " 0.722327  0.67564   0.882251  0.183593  0.70494 \n",
       " 0.810225  0.798755  0.806262  0.593992  0.201726"
      ]
     },
     "execution_count": 77,
     "metadata": {},
     "output_type": "execute_result"
    }
   ],
   "source": [
    "rand(3,5) # uniform(0,1)"
   ]
  },
  {
   "cell_type": "code",
   "execution_count": 78,
   "metadata": {},
   "outputs": [
    {
     "data": {
      "text/plain": [
       "3×5 Array{Float64,2}:\n",
       " 0.788536  -0.309659    0.81292   1.5094     0.717494\n",
       " 0.289554  -0.00780053  1.25038   0.881649  -0.765373\n",
       " 1.15377   -1.83402     0.132648  0.254369  -2.46029 "
      ]
     },
     "execution_count": 78,
     "metadata": {},
     "output_type": "execute_result"
    }
   ],
   "source": [
    "randn(3,5) # standard normal"
   ]
  },
  {
   "cell_type": "code",
   "execution_count": 79,
   "metadata": {},
   "outputs": [
    {
     "data": {
      "text/plain": [
       "-0.0005147259950349833"
      ]
     },
     "execution_count": 79,
     "metadata": {},
     "output_type": "execute_result"
    }
   ],
   "source": [
    "mean(randn(1_000_000))"
   ]
  },
  {
   "cell_type": "code",
   "execution_count": 80,
   "metadata": {},
   "outputs": [
    {
     "data": {
      "text/plain": [
       "0.9986005256080187"
      ]
     },
     "execution_count": 80,
     "metadata": {},
     "output_type": "execute_result"
    }
   ],
   "source": [
    "var(randn(1_000_000))"
   ]
  },
  {
   "cell_type": "code",
   "execution_count": 3,
   "metadata": {},
   "outputs": [],
   "source": [
    "using Distributions, LinearAlgebra"
   ]
  },
  {
   "cell_type": "code",
   "execution_count": 4,
   "metadata": {},
   "outputs": [
    {
     "data": {
      "text/plain": [
       "10×20 Array{Int64,2}:\n",
       " 1  0  0  2  0  0  1  2  1  2  2  2  0  2  1  1  0  2  0  1\n",
       " 1  2  1  1  2  1  1  1  2  1  1  0  2  1  1  2  1  1  1  0\n",
       " 0  1  0  2  1  1  0  2  2  1  2  0  1  0  2  1  1  1  1  1\n",
       " 0  1  1  0  1  2  2  0  2  1  0  0  2  2  1  1  0  0  2  0\n",
       " 0  1  0  1  0  0  0  1  0  1  1  0  2  0  1  1  2  1  1  1\n",
       " 2  1  2  1  0  1  2  2  0  1  2  1  2  2  2  2  1  0  1  0\n",
       " 2  1  1  1  1  1  0  1  1  1  1  0  1  1  1  0  1  0  0  0\n",
       " 1  0  0  1  1  1  2  1  0  1  0  1  0  1  0  1  0  1  1  1\n",
       " 0  2  2  2  0  1  2  0  0  1  1  1  2  1  0  2  1  2  1  0\n",
       " 0  2  2  0  2  1  1  1  0  1  1  1  0  1  0  1  0  1  1  1"
      ]
     },
     "execution_count": 4,
     "metadata": {},
     "output_type": "execute_result"
    }
   ],
   "source": [
    "M = rand(Binomial(2,0.5),10,20)"
   ]
  },
  {
   "cell_type": "markdown",
   "metadata": {},
   "source": [
    "#### Get first column as one dimensionsal array"
   ]
  },
  {
   "cell_type": "code",
   "execution_count": 5,
   "metadata": {},
   "outputs": [
    {
     "data": {
      "text/plain": [
       "10-element Array{Int64,1}:\n",
       " 1\n",
       " 1\n",
       " 0\n",
       " 0\n",
       " 0\n",
       " 2\n",
       " 2\n",
       " 1\n",
       " 0\n",
       " 0"
      ]
     },
     "execution_count": 5,
     "metadata": {},
     "output_type": "execute_result"
    }
   ],
   "source": [
    "M[:,1]"
   ]
  },
  {
   "cell_type": "markdown",
   "metadata": {},
   "source": [
    "#### Get first row as one dimensionsal array¶"
   ]
  },
  {
   "cell_type": "code",
   "execution_count": 6,
   "metadata": {},
   "outputs": [
    {
     "data": {
      "text/plain": [
       "20-element Array{Int64,1}:\n",
       " 1\n",
       " 0\n",
       " 0\n",
       " 2\n",
       " 0\n",
       " 0\n",
       " 1\n",
       " 2\n",
       " 1\n",
       " 2\n",
       " 2\n",
       " 2\n",
       " 0\n",
       " 2\n",
       " 1\n",
       " 1\n",
       " 0\n",
       " 2\n",
       " 0\n",
       " 1"
      ]
     },
     "execution_count": 6,
     "metadata": {},
     "output_type": "execute_result"
    }
   ],
   "source": [
    "M[1,:]"
   ]
  },
  {
   "cell_type": "markdown",
   "metadata": {},
   "source": [
    "#### Transposing and array gives a row vector "
   ]
  },
  {
   "cell_type": "code",
   "execution_count": 7,
   "metadata": {},
   "outputs": [
    {
     "data": {
      "text/plain": [
       "1×20 Adjoint{Int64,Array{Int64,1}}:\n",
       " 1  0  0  2  0  0  1  2  1  2  2  2  0  2  1  1  0  2  0  1"
      ]
     },
     "execution_count": 7,
     "metadata": {},
     "output_type": "execute_result"
    }
   ],
   "source": [
    "M[1,:]'"
   ]
  },
  {
   "cell_type": "markdown",
   "metadata": {},
   "source": [
    "#### Sum of squares of elements in first row"
   ]
  },
  {
   "cell_type": "code",
   "execution_count": 8,
   "metadata": {},
   "outputs": [
    {
     "data": {
      "text/plain": [
       "34"
      ]
     },
     "execution_count": 8,
     "metadata": {},
     "output_type": "execute_result"
    }
   ],
   "source": [
    "M[1,:]'M[1,:]"
   ]
  },
  {
   "cell_type": "code",
   "execution_count": 9,
   "metadata": {},
   "outputs": [
    {
     "data": {
      "text/plain": [
       "34"
      ]
     },
     "execution_count": 9,
     "metadata": {},
     "output_type": "execute_result"
    }
   ],
   "source": [
    "M[1,:]'*M[1,:]"
   ]
  },
  {
   "cell_type": "code",
   "execution_count": 10,
   "metadata": {},
   "outputs": [
    {
     "data": {
      "text/plain": [
       "34"
      ]
     },
     "execution_count": 10,
     "metadata": {},
     "output_type": "execute_result"
    }
   ],
   "source": [
    "dot(M[1,:],M[1,:])"
   ]
  },
  {
   "cell_type": "code",
   "execution_count": 11,
   "metadata": {},
   "outputs": [
    {
     "data": {
      "text/plain": [
       "20-element Array{Int64,1}:\n",
       " 1\n",
       " 0\n",
       " 0\n",
       " 4\n",
       " 0\n",
       " 0\n",
       " 1\n",
       " 4\n",
       " 1\n",
       " 4\n",
       " 4\n",
       " 4\n",
       " 0\n",
       " 4\n",
       " 1\n",
       " 1\n",
       " 0\n",
       " 4\n",
       " 0\n",
       " 1"
      ]
     },
     "execution_count": 11,
     "metadata": {},
     "output_type": "execute_result"
    }
   ],
   "source": [
    "M[1,:].^2"
   ]
  },
  {
   "cell_type": "code",
   "execution_count": 12,
   "metadata": {},
   "outputs": [
    {
     "data": {
      "text/plain": [
       "34"
      ]
     },
     "execution_count": 12,
     "metadata": {},
     "output_type": "execute_result"
    }
   ],
   "source": [
    "sum(M[1,:].^2)"
   ]
  },
  {
   "cell_type": "markdown",
   "metadata": {},
   "source": [
    "#### Matrix transpose and product "
   ]
  },
  {
   "cell_type": "code",
   "execution_count": 13,
   "metadata": {},
   "outputs": [
    {
     "data": {
      "text/plain": [
       "true"
      ]
     },
     "execution_count": 13,
     "metadata": {},
     "output_type": "execute_result"
    }
   ],
   "source": [
    "M'M == M'*M"
   ]
  },
  {
   "cell_type": "markdown",
   "metadata": {},
   "source": [
    "### Identity Matrix"
   ]
  },
  {
   "cell_type": "markdown",
   "metadata": {},
   "source": [
    "#### In general"
   ]
  },
  {
   "cell_type": "code",
   "execution_count": 14,
   "metadata": {},
   "outputs": [
    {
     "data": {
      "text/plain": [
       "3×3 Array{Float64,2}:\n",
       " 1.0  0.0  0.0\n",
       " 0.0  1.0  0.0\n",
       " 0.0  0.0  1.0"
      ]
     },
     "execution_count": 14,
     "metadata": {},
     "output_type": "execute_result"
    }
   ],
   "source": [
    "Matrix{Float64}(I,3,3)"
   ]
  },
  {
   "cell_type": "code",
   "execution_count": 15,
   "metadata": {},
   "outputs": [
    {
     "data": {
      "text/plain": [
       "3×4 Array{Float64,2}:\n",
       " 1.0  0.0  0.0  0.0\n",
       " 0.0  1.0  0.0  0.0\n",
       " 0.0  0.0  1.0  0.0"
      ]
     },
     "execution_count": 15,
     "metadata": {},
     "output_type": "execute_result"
    }
   ],
   "source": [
    "Matrix{Float64}(I,3,4)"
   ]
  },
  {
   "cell_type": "code",
   "execution_count": 16,
   "metadata": {},
   "outputs": [
    {
     "data": {
      "text/plain": [
       "4×3 Array{Float64,2}:\n",
       " 1.0  0.0  0.0\n",
       " 0.0  1.0  0.0\n",
       " 0.0  0.0  1.0\n",
       " 0.0  0.0  0.0"
      ]
     },
     "execution_count": 16,
     "metadata": {},
     "output_type": "execute_result"
    }
   ],
   "source": [
    "Matrix{Float64}(I,4,3)"
   ]
  },
  {
   "cell_type": "markdown",
   "metadata": {},
   "source": [
    "#### When dimensions can be inferred"
   ]
  },
  {
   "cell_type": "code",
   "execution_count": 17,
   "metadata": {},
   "outputs": [
    {
     "data": {
      "text/plain": [
       "20×20 Array{Int64,2}:\n",
       " 12   6   7   8   5   6   8  10   5   8   9  5   8  10   8   8   5   4   4  2\n",
       "  6  18  14  11  11  11  12  10   9  11  12  5  16  11   9  15   9  10  11  4\n",
       "  7  14  16   8   8  10  13   8   5   9  10  6  13  12   7  13   6   7   9  2\n",
       "  8  11   8  18   6   8  11  14   9  13  15  8  13  11  11  14   9  13   8  6\n",
       "  5  11   8   6  13   9   8   8   9   8   7  3   8   8   6   9   4   6   8  4\n",
       "  6  11  10   8   9  12  12   8   9   9   8  4  12  11   8  11   5   6  10  3\n",
       "  8  12  13  11   8  12  20  10   7  12  10  9  14  16   8  16   5  10  12  4\n",
       " 10  10   8  14   8   8  10  18   9  13  16  8  11  12  13  13   8  10   8  7\n",
       "  5   9   5   9   9   9   7   9  15   9   9  2  11   9  10   9   5   6   8  3\n",
       "  8  11   9  13   8   9  12  13   9  14  13  8  12  13  10  13   7  11   9  6\n",
       "  9  12  10  15   7   8  10  16   9  13  18  8  13  12  13  14   9  11   8  6\n",
       "  5   5   6   8   3   4   9   8   2   8   8  9   4   9   4   8   2   8   4  4\n",
       "  8  16  13  13   8  12  14  11  11  12  13  4  23  13  13  17  12   9  13  3\n",
       " 10  11  12  11   8  11  16  12   9  13  12  9  13  18  10  14   5   9  10  4\n",
       "  8   9   7  11   6   8   8  13  10  10  13  4  13  10  14  11   8   6   8  4\n",
       "  8  15  13  14   9  11  16  13   9  13  14  8  17  14  11  19   9  12  12  5\n",
       "  5   9   6   9   4   5   5   8   5   7   9  2  12   5   8   9  10   6   6  3\n",
       "  4  10   7  13   6   6  10  10   6  11  11  8   9   9   6  12   6  14   7  6\n",
       "  4  11   9   8   8  10  12   8   8   9   8  4  13  10   8  12   6   7  12  4\n",
       "  2   4   2   6   4   3   4   7   3   6   6  4   3   4   4   5   3   6   4  6"
      ]
     },
     "execution_count": 17,
     "metadata": {},
     "output_type": "execute_result"
    }
   ],
   "source": [
    "A = M'M + I"
   ]
  },
  {
   "cell_type": "markdown",
   "metadata": {},
   "source": [
    "### Diagonal Matrix from $\\mathbf{A}$"
   ]
  },
  {
   "cell_type": "code",
   "execution_count": 18,
   "metadata": {},
   "outputs": [
    {
     "data": {
      "text/plain": [
       "20×20 Diagonal{Int64,Array{Int64,1}}:\n",
       " 12   ⋅   ⋅   ⋅   ⋅   ⋅   ⋅   ⋅   ⋅   ⋅   ⋅  ⋅   ⋅   ⋅   ⋅   ⋅   ⋅   ⋅   ⋅  ⋅\n",
       "  ⋅  18   ⋅   ⋅   ⋅   ⋅   ⋅   ⋅   ⋅   ⋅   ⋅  ⋅   ⋅   ⋅   ⋅   ⋅   ⋅   ⋅   ⋅  ⋅\n",
       "  ⋅   ⋅  16   ⋅   ⋅   ⋅   ⋅   ⋅   ⋅   ⋅   ⋅  ⋅   ⋅   ⋅   ⋅   ⋅   ⋅   ⋅   ⋅  ⋅\n",
       "  ⋅   ⋅   ⋅  18   ⋅   ⋅   ⋅   ⋅   ⋅   ⋅   ⋅  ⋅   ⋅   ⋅   ⋅   ⋅   ⋅   ⋅   ⋅  ⋅\n",
       "  ⋅   ⋅   ⋅   ⋅  13   ⋅   ⋅   ⋅   ⋅   ⋅   ⋅  ⋅   ⋅   ⋅   ⋅   ⋅   ⋅   ⋅   ⋅  ⋅\n",
       "  ⋅   ⋅   ⋅   ⋅   ⋅  12   ⋅   ⋅   ⋅   ⋅   ⋅  ⋅   ⋅   ⋅   ⋅   ⋅   ⋅   ⋅   ⋅  ⋅\n",
       "  ⋅   ⋅   ⋅   ⋅   ⋅   ⋅  20   ⋅   ⋅   ⋅   ⋅  ⋅   ⋅   ⋅   ⋅   ⋅   ⋅   ⋅   ⋅  ⋅\n",
       "  ⋅   ⋅   ⋅   ⋅   ⋅   ⋅   ⋅  18   ⋅   ⋅   ⋅  ⋅   ⋅   ⋅   ⋅   ⋅   ⋅   ⋅   ⋅  ⋅\n",
       "  ⋅   ⋅   ⋅   ⋅   ⋅   ⋅   ⋅   ⋅  15   ⋅   ⋅  ⋅   ⋅   ⋅   ⋅   ⋅   ⋅   ⋅   ⋅  ⋅\n",
       "  ⋅   ⋅   ⋅   ⋅   ⋅   ⋅   ⋅   ⋅   ⋅  14   ⋅  ⋅   ⋅   ⋅   ⋅   ⋅   ⋅   ⋅   ⋅  ⋅\n",
       "  ⋅   ⋅   ⋅   ⋅   ⋅   ⋅   ⋅   ⋅   ⋅   ⋅  18  ⋅   ⋅   ⋅   ⋅   ⋅   ⋅   ⋅   ⋅  ⋅\n",
       "  ⋅   ⋅   ⋅   ⋅   ⋅   ⋅   ⋅   ⋅   ⋅   ⋅   ⋅  9   ⋅   ⋅   ⋅   ⋅   ⋅   ⋅   ⋅  ⋅\n",
       "  ⋅   ⋅   ⋅   ⋅   ⋅   ⋅   ⋅   ⋅   ⋅   ⋅   ⋅  ⋅  23   ⋅   ⋅   ⋅   ⋅   ⋅   ⋅  ⋅\n",
       "  ⋅   ⋅   ⋅   ⋅   ⋅   ⋅   ⋅   ⋅   ⋅   ⋅   ⋅  ⋅   ⋅  18   ⋅   ⋅   ⋅   ⋅   ⋅  ⋅\n",
       "  ⋅   ⋅   ⋅   ⋅   ⋅   ⋅   ⋅   ⋅   ⋅   ⋅   ⋅  ⋅   ⋅   ⋅  14   ⋅   ⋅   ⋅   ⋅  ⋅\n",
       "  ⋅   ⋅   ⋅   ⋅   ⋅   ⋅   ⋅   ⋅   ⋅   ⋅   ⋅  ⋅   ⋅   ⋅   ⋅  19   ⋅   ⋅   ⋅  ⋅\n",
       "  ⋅   ⋅   ⋅   ⋅   ⋅   ⋅   ⋅   ⋅   ⋅   ⋅   ⋅  ⋅   ⋅   ⋅   ⋅   ⋅  10   ⋅   ⋅  ⋅\n",
       "  ⋅   ⋅   ⋅   ⋅   ⋅   ⋅   ⋅   ⋅   ⋅   ⋅   ⋅  ⋅   ⋅   ⋅   ⋅   ⋅   ⋅  14   ⋅  ⋅\n",
       "  ⋅   ⋅   ⋅   ⋅   ⋅   ⋅   ⋅   ⋅   ⋅   ⋅   ⋅  ⋅   ⋅   ⋅   ⋅   ⋅   ⋅   ⋅  12  ⋅\n",
       "  ⋅   ⋅   ⋅   ⋅   ⋅   ⋅   ⋅   ⋅   ⋅   ⋅   ⋅  ⋅   ⋅   ⋅   ⋅   ⋅   ⋅   ⋅   ⋅  6"
      ]
     },
     "execution_count": 18,
     "metadata": {},
     "output_type": "execute_result"
    }
   ],
   "source": [
    "Diagonal(A)"
   ]
  },
  {
   "cell_type": "markdown",
   "metadata": {},
   "source": [
    "### Subset of Matrix"
   ]
  },
  {
   "cell_type": "code",
   "execution_count": 19,
   "metadata": {},
   "outputs": [
    {
     "data": {
      "text/plain": [
       "2×2 Array{Int64,2}:\n",
       "  7   8\n",
       " 14  11"
      ]
     },
     "execution_count": 19,
     "metadata": {},
     "output_type": "execute_result"
    }
   ],
   "source": [
    "B = A[1:2,3:4]"
   ]
  },
  {
   "cell_type": "code",
   "execution_count": 20,
   "metadata": {},
   "outputs": [
    {
     "data": {
      "text/plain": [
       "2×10 Array{Int64,2}:\n",
       "  9  5   8  10  8   8  5   4   4  2\n",
       " 12  5  16  11  9  15  9  10  11  4"
      ]
     },
     "execution_count": 20,
     "metadata": {},
     "output_type": "execute_result"
    }
   ],
   "source": [
    "C = A[1:2,11:end]"
   ]
  },
  {
   "cell_type": "markdown",
   "metadata": {},
   "source": [
    "### Concatenation\n",
    "#### Horizontal"
   ]
  },
  {
   "cell_type": "code",
   "execution_count": 21,
   "metadata": {},
   "outputs": [
    {
     "data": {
      "text/plain": [
       "2×12 Array{Int64,2}:\n",
       "  7   8   9  5   8  10  8   8  5   4   4  2\n",
       " 14  11  12  5  16  11  9  15  9  10  11  4"
      ]
     },
     "execution_count": 21,
     "metadata": {},
     "output_type": "execute_result"
    }
   ],
   "source": [
    "[B C]"
   ]
  },
  {
   "cell_type": "code",
   "execution_count": 22,
   "metadata": {},
   "outputs": [
    {
     "data": {
      "text/plain": [
       "2×12 Array{Int64,2}:\n",
       "  7   8   9  5   8  10  8   8  5   4   4  2\n",
       " 14  11  12  5  16  11  9  15  9  10  11  4"
      ]
     },
     "execution_count": 22,
     "metadata": {},
     "output_type": "execute_result"
    }
   ],
   "source": [
    "hcat(B,C)"
   ]
  },
  {
   "cell_type": "markdown",
   "metadata": {},
   "source": [
    "#### Vertical"
   ]
  },
  {
   "cell_type": "code",
   "execution_count": 23,
   "metadata": {},
   "outputs": [
    {
     "data": {
      "text/plain": [
       "12×20 Array{Int64,2}:\n",
       " 12   6   7   8   5   6   8  10   5   8   9  5   8  10   8   8   5   4   4  2\n",
       "  6  18  14  11  11  11  12  10   9  11  12  5  16  11   9  15   9  10  11  4\n",
       "  9  12  10  15   7   8  10  16   9  13  18  8  13  12  13  14   9  11   8  6\n",
       "  5   5   6   8   3   4   9   8   2   8   8  9   4   9   4   8   2   8   4  4\n",
       "  8  16  13  13   8  12  14  11  11  12  13  4  23  13  13  17  12   9  13  3\n",
       " 10  11  12  11   8  11  16  12   9  13  12  9  13  18  10  14   5   9  10  4\n",
       "  8   9   7  11   6   8   8  13  10  10  13  4  13  10  14  11   8   6   8  4\n",
       "  8  15  13  14   9  11  16  13   9  13  14  8  17  14  11  19   9  12  12  5\n",
       "  5   9   6   9   4   5   5   8   5   7   9  2  12   5   8   9  10   6   6  3\n",
       "  4  10   7  13   6   6  10  10   6  11  11  8   9   9   6  12   6  14   7  6\n",
       "  4  11   9   8   8  10  12   8   8   9   8  4  13  10   8  12   6   7  12  4\n",
       "  2   4   2   6   4   3   4   7   3   6   6  4   3   4   4   5   3   6   4  6"
      ]
     },
     "execution_count": 23,
     "metadata": {},
     "output_type": "execute_result"
    }
   ],
   "source": [
    "[ \n",
    "A[1:2,:]\n",
    "A[11:end,:]\n",
    "]"
   ]
  },
  {
   "cell_type": "code",
   "execution_count": 24,
   "metadata": {},
   "outputs": [
    {
     "data": {
      "text/plain": [
       "12×20 Array{Int64,2}:\n",
       " 12   6   7   8   5   6   8  10   5   8   9  5   8  10   8   8   5   4   4  2\n",
       "  6  18  14  11  11  11  12  10   9  11  12  5  16  11   9  15   9  10  11  4\n",
       "  9  12  10  15   7   8  10  16   9  13  18  8  13  12  13  14   9  11   8  6\n",
       "  5   5   6   8   3   4   9   8   2   8   8  9   4   9   4   8   2   8   4  4\n",
       "  8  16  13  13   8  12  14  11  11  12  13  4  23  13  13  17  12   9  13  3\n",
       " 10  11  12  11   8  11  16  12   9  13  12  9  13  18  10  14   5   9  10  4\n",
       "  8   9   7  11   6   8   8  13  10  10  13  4  13  10  14  11   8   6   8  4\n",
       "  8  15  13  14   9  11  16  13   9  13  14  8  17  14  11  19   9  12  12  5\n",
       "  5   9   6   9   4   5   5   8   5   7   9  2  12   5   8   9  10   6   6  3\n",
       "  4  10   7  13   6   6  10  10   6  11  11  8   9   9   6  12   6  14   7  6\n",
       "  4  11   9   8   8  10  12   8   8   9   8  4  13  10   8  12   6   7  12  4\n",
       "  2   4   2   6   4   3   4   7   3   6   6  4   3   4   4   5   3   6   4  6"
      ]
     },
     "execution_count": 24,
     "metadata": {},
     "output_type": "execute_result"
    }
   ],
   "source": [
    "vcat(A[1:2,:],A[11:end,:])"
   ]
  },
  {
   "cell_type": "markdown",
   "metadata": {},
   "source": [
    "### Sorting"
   ]
  },
  {
   "cell_type": "code",
   "execution_count": 25,
   "metadata": {},
   "outputs": [
    {
     "data": {
      "text/plain": [
       "10-element Array{Int64,1}:\n",
       " 0\n",
       " 0\n",
       " 0\n",
       " 0\n",
       " 0\n",
       " 1\n",
       " 1\n",
       " 1\n",
       " 2\n",
       " 2"
      ]
     },
     "execution_count": 25,
     "metadata": {},
     "output_type": "execute_result"
    }
   ],
   "source": [
    "sort(M[:,1])"
   ]
  },
  {
   "cell_type": "code",
   "execution_count": 26,
   "metadata": {},
   "outputs": [
    {
     "data": {
      "text/plain": [
       "10-element Array{Int64,1}:\n",
       "  3\n",
       "  4\n",
       "  5\n",
       "  9\n",
       " 10\n",
       "  1\n",
       "  2\n",
       "  8\n",
       "  6\n",
       "  7"
      ]
     },
     "execution_count": 26,
     "metadata": {},
     "output_type": "execute_result"
    }
   ],
   "source": [
    "index = sortperm(M[:,1])"
   ]
  },
  {
   "cell_type": "code",
   "execution_count": 27,
   "metadata": {},
   "outputs": [
    {
     "data": {
      "text/plain": [
       "10-element Array{Int64,1}:\n",
       " 0\n",
       " 0\n",
       " 0\n",
       " 0\n",
       " 0\n",
       " 1\n",
       " 1\n",
       " 1\n",
       " 2\n",
       " 2"
      ]
     },
     "execution_count": 27,
     "metadata": {},
     "output_type": "execute_result"
    }
   ],
   "source": [
    "M[index,1]"
   ]
  },
  {
   "cell_type": "markdown",
   "metadata": {},
   "source": [
    "### Sorting the entire matrix by the first column"
   ]
  },
  {
   "cell_type": "code",
   "execution_count": 28,
   "metadata": {},
   "outputs": [
    {
     "data": {
      "text/plain": [
       "10×20 Array{Int64,2}:\n",
       " 0  1  0  2  1  1  0  2  2  1  2  0  1  0  2  1  1  1  1  1\n",
       " 0  1  1  0  1  2  2  0  2  1  0  0  2  2  1  1  0  0  2  0\n",
       " 0  1  0  1  0  0  0  1  0  1  1  0  2  0  1  1  2  1  1  1\n",
       " 0  2  2  2  0  1  2  0  0  1  1  1  2  1  0  2  1  2  1  0\n",
       " 0  2  2  0  2  1  1  1  0  1  1  1  0  1  0  1  0  1  1  1\n",
       " 1  0  0  2  0  0  1  2  1  2  2  2  0  2  1  1  0  2  0  1\n",
       " 1  2  1  1  2  1  1  1  2  1  1  0  2  1  1  2  1  1  1  0\n",
       " 1  0  0  1  1  1  2  1  0  1  0  1  0  1  0  1  0  1  1  1\n",
       " 2  1  2  1  0  1  2  2  0  1  2  1  2  2  2  2  1  0  1  0\n",
       " 2  1  1  1  1  1  0  1  1  1  1  0  1  1  1  0  1  0  0  0"
      ]
     },
     "execution_count": 28,
     "metadata": {},
     "output_type": "execute_result"
    }
   ],
   "source": [
    "M[index,:]"
   ]
  },
  {
   "cell_type": "markdown",
   "metadata": {},
   "source": [
    "### Sorting matrix by the sum of columns 1 and 2"
   ]
  },
  {
   "cell_type": "code",
   "execution_count": 29,
   "metadata": {},
   "outputs": [
    {
     "data": {
      "text/plain": [
       "10×20 Array{Int64,2}:\n",
       " 1  0  0  2  0  0  1  2  1  2  2  2  0  2  1  1  0  2  0  1\n",
       " 0  1  0  2  1  1  0  2  2  1  2  0  1  0  2  1  1  1  1  1\n",
       " 0  1  1  0  1  2  2  0  2  1  0  0  2  2  1  1  0  0  2  0\n",
       " 0  1  0  1  0  0  0  1  0  1  1  0  2  0  1  1  2  1  1  1\n",
       " 1  0  0  1  1  1  2  1  0  1  0  1  0  1  0  1  0  1  1  1\n",
       " 0  2  2  2  0  1  2  0  0  1  1  1  2  1  0  2  1  2  1  0\n",
       " 0  2  2  0  2  1  1  1  0  1  1  1  0  1  0  1  0  1  1  1\n",
       " 1  2  1  1  2  1  1  1  2  1  1  0  2  1  1  2  1  1  1  0\n",
       " 2  1  2  1  0  1  2  2  0  1  2  1  2  2  2  2  1  0  1  0\n",
       " 2  1  1  1  1  1  0  1  1  1  1  0  1  1  1  0  1  0  0  0"
      ]
     },
     "execution_count": 29,
     "metadata": {},
     "output_type": "execute_result"
    }
   ],
   "source": [
    "M[sortperm( M[:,1]+M[:,2] ),:]"
   ]
  },
  {
   "cell_type": "markdown",
   "metadata": {},
   "source": [
    "### Selecting rows or columns of matrix"
   ]
  },
  {
   "cell_type": "markdown",
   "metadata": {},
   "source": [
    "#### Select rows where row sum is > 19"
   ]
  },
  {
   "cell_type": "code",
   "execution_count": 30,
   "metadata": {},
   "outputs": [
    {
     "data": {
      "text/plain": [
       "10-element BitArray{1}:\n",
       "  true\n",
       "  true\n",
       "  true\n",
       " false\n",
       " false\n",
       "  true\n",
       " false\n",
       " false\n",
       "  true\n",
       " false"
      ]
     },
     "execution_count": 30,
     "metadata": {},
     "output_type": "execute_result"
    }
   ],
   "source": [
    "vec(sum(M,dims=2) .> 19)"
   ]
  },
  {
   "cell_type": "code",
   "execution_count": 31,
   "metadata": {},
   "outputs": [
    {
     "data": {
      "text/plain": [
       "5×20 Array{Int64,2}:\n",
       " 1  0  0  2  0  0  1  2  1  2  2  2  0  2  1  1  0  2  0  1\n",
       " 1  2  1  1  2  1  1  1  2  1  1  0  2  1  1  2  1  1  1  0\n",
       " 0  1  0  2  1  1  0  2  2  1  2  0  1  0  2  1  1  1  1  1\n",
       " 2  1  2  1  0  1  2  2  0  1  2  1  2  2  2  2  1  0  1  0\n",
       " 0  2  2  2  0  1  2  0  0  1  1  1  2  1  0  2  1  2  1  0"
      ]
     },
     "execution_count": 31,
     "metadata": {},
     "output_type": "execute_result"
    }
   ],
   "source": [
    "M[vec(sum(M,dims=2) .> 19), :]"
   ]
  },
  {
   "cell_type": "markdown",
   "metadata": {},
   "source": [
    "#### Get random subset of 5 columns from M"
   ]
  },
  {
   "cell_type": "code",
   "execution_count": 32,
   "metadata": {},
   "outputs": [
    {
     "data": {
      "text/plain": [
       "5-element Array{Int64,1}:\n",
       " 19\n",
       "  3\n",
       " 15\n",
       "  9\n",
       "  8"
      ]
     },
     "execution_count": 32,
     "metadata": {},
     "output_type": "execute_result"
    }
   ],
   "source": [
    "sel = sample(1:size(M,2),5,replace=false)"
   ]
  },
  {
   "cell_type": "code",
   "execution_count": 33,
   "metadata": {},
   "outputs": [
    {
     "data": {
      "text/plain": [
       "10×5 Array{Int64,2}:\n",
       " 0  0  1  1  2\n",
       " 1  1  1  2  1\n",
       " 1  0  2  2  2\n",
       " 2  1  1  2  0\n",
       " 1  0  1  0  1\n",
       " 1  2  2  0  2\n",
       " 0  1  1  1  1\n",
       " 1  0  0  0  1\n",
       " 1  2  0  0  0\n",
       " 1  2  0  0  1"
      ]
     },
     "execution_count": 33,
     "metadata": {},
     "output_type": "execute_result"
    }
   ],
   "source": [
    "M[:,sel]"
   ]
  },
  {
   "cell_type": "markdown",
   "metadata": {},
   "source": [
    "#### Get the remaining columns: \n",
    "#### M[:,-sel] does not work in Julia"
   ]
  },
  {
   "cell_type": "code",
   "execution_count": 34,
   "metadata": {},
   "outputs": [
    {
     "data": {
      "text/plain": [
       "15-element Array{Int64,1}:\n",
       "  1\n",
       "  2\n",
       "  4\n",
       "  5\n",
       "  6\n",
       "  7\n",
       " 10\n",
       " 11\n",
       " 12\n",
       " 13\n",
       " 14\n",
       " 16\n",
       " 17\n",
       " 18\n",
       " 20"
      ]
     },
     "execution_count": 34,
     "metadata": {},
     "output_type": "execute_result"
    }
   ],
   "source": [
    "setdiff(1:size(M,2),sel)"
   ]
  },
  {
   "cell_type": "code",
   "execution_count": 35,
   "metadata": {},
   "outputs": [
    {
     "data": {
      "text/plain": [
       "10×15 Array{Int64,2}:\n",
       " 1  0  2  0  0  1  2  2  2  0  2  1  0  2  1\n",
       " 1  2  1  2  1  1  1  1  0  2  1  2  1  1  0\n",
       " 0  1  2  1  1  0  1  2  0  1  0  1  1  1  1\n",
       " 0  1  0  1  2  2  1  0  0  2  2  1  0  0  0\n",
       " 0  1  1  0  0  0  1  1  0  2  0  1  2  1  1\n",
       " 2  1  1  0  1  2  1  2  1  2  2  2  1  0  0\n",
       " 2  1  1  1  1  0  1  1  0  1  1  0  1  0  0\n",
       " 1  0  1  1  1  2  1  0  1  0  1  1  0  1  1\n",
       " 0  2  2  0  1  2  1  1  1  2  1  2  1  2  0\n",
       " 0  2  0  2  1  1  1  1  1  0  1  1  0  1  1"
      ]
     },
     "execution_count": 35,
     "metadata": {},
     "output_type": "execute_result"
    }
   ],
   "source": [
    "M[:,setdiff(1:size(M,2),sel)] # not as nice as M[:,-sel]"
   ]
  },
  {
   "cell_type": "markdown",
   "metadata": {},
   "source": [
    "### Copy of array"
   ]
  },
  {
   "cell_type": "code",
   "execution_count": 36,
   "metadata": {},
   "outputs": [
    {
     "data": {
      "text/plain": [
       "3-element Array{Int64,1}:\n",
       " 1\n",
       " 2\n",
       " 3"
      ]
     },
     "execution_count": 36,
     "metadata": {},
     "output_type": "execute_result"
    }
   ],
   "source": [
    "v = [1, 2, 3]"
   ]
  },
  {
   "cell_type": "code",
   "execution_count": 37,
   "metadata": {},
   "outputs": [
    {
     "data": {
      "text/plain": [
       "3-element Array{Int64,1}:\n",
       " 10\n",
       "  2\n",
       "  3"
      ]
     },
     "execution_count": 37,
     "metadata": {},
     "output_type": "execute_result"
    }
   ],
   "source": [
    "u = v\n",
    "u[1] = 10\n",
    "u"
   ]
  },
  {
   "cell_type": "code",
   "execution_count": 38,
   "metadata": {},
   "outputs": [
    {
     "data": {
      "text/plain": [
       "3-element Array{Int64,1}:\n",
       " 10\n",
       "  2\n",
       "  3"
      ]
     },
     "execution_count": 38,
     "metadata": {},
     "output_type": "execute_result"
    }
   ],
   "source": [
    "v"
   ]
  },
  {
   "cell_type": "markdown",
   "metadata": {},
   "source": [
    "##### So, u is not just a copy of v. It is another name for v. To get a copy use:"
   ]
  },
  {
   "cell_type": "code",
   "execution_count": 39,
   "metadata": {},
   "outputs": [
    {
     "data": {
      "text/plain": [
       "3-element Array{Int64,1}:\n",
       " 10\n",
       "  2\n",
       "  3"
      ]
     },
     "execution_count": 39,
     "metadata": {},
     "output_type": "execute_result"
    }
   ],
   "source": [
    "v = [1, 2, 3]\n",
    "u = copy(v)\n",
    "u[1] = 10\n",
    "u"
   ]
  },
  {
   "cell_type": "code",
   "execution_count": 40,
   "metadata": {},
   "outputs": [
    {
     "data": {
      "text/plain": [
       "3-element Array{Int64,1}:\n",
       " 1\n",
       " 2\n",
       " 3"
      ]
     },
     "execution_count": 40,
     "metadata": {},
     "output_type": "execute_result"
    }
   ],
   "source": [
    "v"
   ]
  },
  {
   "cell_type": "markdown",
   "metadata": {},
   "source": [
    "## Control Flow and Loops"
   ]
  },
  {
   "cell_type": "markdown",
   "metadata": {},
   "source": [
    "##### Consider adding the vectors u and v. One way to do this is:"
   ]
  },
  {
   "cell_type": "code",
   "execution_count": 41,
   "metadata": {},
   "outputs": [
    {
     "data": {
      "text/plain": [
       "3×3 Array{Int64,2}:\n",
       " 10  1  11\n",
       "  2  2   4\n",
       "  3  3   6"
      ]
     },
     "execution_count": 41,
     "metadata": {},
     "output_type": "execute_result"
    }
   ],
   "source": [
    "result = zero(u) # gets vector of zeros identical in dimension to that of u\n",
    "result[1] = u[1] + v[1]\n",
    "result[2] = u[2] + v[2]\n",
    "result[3] = u[3] + v[3]\n",
    "[u v result]"
   ]
  },
  {
   "cell_type": "markdown",
   "metadata": {},
   "source": [
    "##### Using loop:"
   ]
  },
  {
   "cell_type": "code",
   "execution_count": 42,
   "metadata": {},
   "outputs": [
    {
     "data": {
      "text/plain": [
       "3×3 Array{Int64,2}:\n",
       " 10  1  11\n",
       "  2  2   4\n",
       "  3  3   6"
      ]
     },
     "execution_count": 42,
     "metadata": {},
     "output_type": "execute_result"
    }
   ],
   "source": [
    "result = zero(u)\n",
    "for i=1:size(u,1)\n",
    "    result[i] = u[i] + v[i]\n",
    "end\n",
    "[u v result]"
   ]
  },
  {
   "cell_type": "markdown",
   "metadata": {},
   "source": [
    "#### Sum of elements in v"
   ]
  },
  {
   "cell_type": "code",
   "execution_count": 43,
   "metadata": {},
   "outputs": [
    {
     "data": {
      "text/plain": [
       "6.0"
      ]
     },
     "execution_count": 43,
     "metadata": {},
     "output_type": "execute_result"
    }
   ],
   "source": [
    "mySum = 0.0\n",
    "for i = v\n",
    "    mySum += i\n",
    "end\n",
    "mySum"
   ]
  },
  {
   "cell_type": "markdown",
   "metadata": {},
   "source": [
    "#### Get vector of squared values in v "
   ]
  },
  {
   "cell_type": "markdown",
   "metadata": {},
   "source": [
    "#### These are called list comprehensions"
   ]
  },
  {
   "cell_type": "code",
   "execution_count": 44,
   "metadata": {},
   "outputs": [
    {
     "data": {
      "text/plain": [
       "3-element Array{Int64,1}:\n",
       " 1\n",
       " 4\n",
       " 9"
      ]
     },
     "execution_count": 44,
     "metadata": {},
     "output_type": "execute_result"
    }
   ],
   "source": [
    "[i^2 for i in v]"
   ]
  },
  {
   "cell_type": "markdown",
   "metadata": {},
   "source": [
    "#### Get vector of square-roots of positive values in x"
   ]
  },
  {
   "cell_type": "code",
   "execution_count": 45,
   "metadata": {},
   "outputs": [
    {
     "data": {
      "text/plain": [
       "7-element Array{Float64,1}:\n",
       " 0.6411782516009619\n",
       " 0.6395820245901435\n",
       " 0.7820927830139083\n",
       " 0.6127441976402896\n",
       " 1.461359510606042 \n",
       " 0.7879687702714473\n",
       " 1.2398372474898554"
      ]
     },
     "execution_count": 45,
     "metadata": {},
     "output_type": "execute_result"
    }
   ],
   "source": [
    "x = randn(10)\n",
    "[sqrt(i) for i in x if i >= 0.0]"
   ]
  },
  {
   "cell_type": "code",
   "execution_count": 46,
   "metadata": {},
   "outputs": [
    {
     "data": {
      "text/plain": [
       "6-element Array{Array{Float64,2},1}:\n",
       " [2.0 0.843784] \n",
       " [3.0 1.2851]   \n",
       " [6.0 0.72522]  \n",
       " [7.0 0.676749] \n",
       " [9.0 1.80498]  \n",
       " [10.0 0.632302]"
      ]
     },
     "execution_count": 46,
     "metadata": {},
     "output_type": "execute_result"
    }
   ],
   "source": [
    "x = randn(10)\n",
    "res = [[i sqrt(value)] for (i,value) in enumerate(x) if value >= 0.0]"
   ]
  },
  {
   "cell_type": "markdown",
   "metadata": {},
   "source": [
    "#### Matrix from res"
   ]
  },
  {
   "cell_type": "code",
   "execution_count": 47,
   "metadata": {},
   "outputs": [
    {
     "data": {
      "text/plain": [
       "6×2 Array{Float64,2}:\n",
       "  2.0  0.843784\n",
       "  3.0  1.2851  \n",
       "  6.0  0.72522 \n",
       "  7.0  0.676749\n",
       "  9.0  1.80498 \n",
       " 10.0  0.632302"
      ]
     },
     "execution_count": 47,
     "metadata": {},
     "output_type": "execute_result"
    }
   ],
   "source": [
    "resMat = [row[i] for row in res, i=1:2]"
   ]
  },
  {
   "cell_type": "markdown",
   "metadata": {},
   "source": [
    "#### This list comprehension produces a two-dimensional array (a matrix)"
   ]
  },
  {
   "cell_type": "code",
   "execution_count": 48,
   "metadata": {},
   "outputs": [
    {
     "data": {
      "text/plain": [
       "2×3 Array{Int64,2}:\n",
       " 4  5  6\n",
       " 5  6  7"
      ]
     },
     "execution_count": 48,
     "metadata": {},
     "output_type": "execute_result"
    }
   ],
   "source": [
    "[i+j for i=1:2, j=3:5]"
   ]
  },
  {
   "cell_type": "markdown",
   "metadata": {},
   "source": [
    "### Use of Range"
   ]
  },
  {
   "cell_type": "code",
   "execution_count": 49,
   "metadata": {},
   "outputs": [
    {
     "name": "stdout",
     "output_type": "stream",
     "text": [
      "search: \u001b[0m\u001b[1mr\u001b[22m\u001b[0m\u001b[1ma\u001b[22m\u001b[0m\u001b[1mn\u001b[22m\u001b[0m\u001b[1mg\u001b[22m\u001b[0m\u001b[1me\u001b[22m Lin\u001b[0m\u001b[1mR\u001b[22m\u001b[0m\u001b[1ma\u001b[22m\u001b[0m\u001b[1mn\u001b[22m\u001b[0m\u001b[1mg\u001b[22m\u001b[0m\u001b[1me\u001b[22m Unit\u001b[0m\u001b[1mR\u001b[22m\u001b[0m\u001b[1ma\u001b[22m\u001b[0m\u001b[1mn\u001b[22m\u001b[0m\u001b[1mg\u001b[22m\u001b[0m\u001b[1me\u001b[22m Step\u001b[0m\u001b[1mR\u001b[22m\u001b[0m\u001b[1ma\u001b[22m\u001b[0m\u001b[1mn\u001b[22m\u001b[0m\u001b[1mg\u001b[22m\u001b[0m\u001b[1me\u001b[22m Step\u001b[0m\u001b[1mR\u001b[22m\u001b[0m\u001b[1ma\u001b[22m\u001b[0m\u001b[1mn\u001b[22m\u001b[0m\u001b[1mg\u001b[22m\u001b[0m\u001b[1me\u001b[22mLen Studentized\u001b[0m\u001b[1mR\u001b[22m\u001b[0m\u001b[1ma\u001b[22m\u001b[0m\u001b[1mn\u001b[22m\u001b[0m\u001b[1mg\u001b[22m\u001b[0m\u001b[1me\u001b[22m\n",
      "\n"
     ]
    },
    {
     "data": {
      "text/latex": [
       "\\begin{verbatim}\n",
       "range(start[, stop]; length, stop, step=1)\n",
       "\\end{verbatim}\n",
       "Given a starting value, construct a range either by length or from \\texttt{start} to \\texttt{stop}, optionally with a given step (defaults to 1, a \\href{@ref}{\\texttt{UnitRange}}). One of \\texttt{length} or \\texttt{stop} is required.  If \\texttt{length}, \\texttt{stop}, and \\texttt{step} are all specified, they must agree.\n",
       "\n",
       "If \\texttt{length} and \\texttt{stop} are provided and \\texttt{step} is not, the step size will be computed automatically such that there are \\texttt{length} linearly spaced elements in the range (a \\href{@ref}{\\texttt{LinRange}}).\n",
       "\n",
       "If \\texttt{step} and \\texttt{stop} are provided and \\texttt{length} is not, the overall range length will be computed automatically such that the elements are \\texttt{step} spaced (a \\href{@ref}{\\texttt{StepRange}}).\n",
       "\n",
       "\\texttt{stop} may be specified as either a positional or keyword argument.\n",
       "\n",
       "\\begin{quote}\n",
       "\\textbf{compat}\n",
       "\n",
       "Julia 1.1\n",
       "\n",
       "\\texttt{stop} as a positional argument requires at least Julia 1.1.\n",
       "\n",
       "\\end{quote}\n",
       "\\section{Examples}\n",
       "\\begin{verbatim}\n",
       "julia> range(1, length=100)\n",
       "1:100\n",
       "\n",
       "julia> range(1, stop=100)\n",
       "1:100\n",
       "\n",
       "julia> range(1, step=5, length=100)\n",
       "1:5:496\n",
       "\n",
       "julia> range(1, step=5, stop=100)\n",
       "1:5:96\n",
       "\n",
       "julia> range(1, 10, length=101)\n",
       "1.0:0.09:10.0\n",
       "\n",
       "julia> range(1, 100, step=5)\n",
       "1:5:96\n",
       "\\end{verbatim}\n"
      ],
      "text/markdown": [
       "```\n",
       "range(start[, stop]; length, stop, step=1)\n",
       "```\n",
       "\n",
       "Given a starting value, construct a range either by length or from `start` to `stop`, optionally with a given step (defaults to 1, a [`UnitRange`](@ref)). One of `length` or `stop` is required.  If `length`, `stop`, and `step` are all specified, they must agree.\n",
       "\n",
       "If `length` and `stop` are provided and `step` is not, the step size will be computed automatically such that there are `length` linearly spaced elements in the range (a [`LinRange`](@ref)).\n",
       "\n",
       "If `step` and `stop` are provided and `length` is not, the overall range length will be computed automatically such that the elements are `step` spaced (a [`StepRange`](@ref)).\n",
       "\n",
       "`stop` may be specified as either a positional or keyword argument.\n",
       "\n",
       "!!! compat \"Julia 1.1\"\n",
       "    `stop` as a positional argument requires at least Julia 1.1.\n",
       "\n",
       "\n",
       "# Examples\n",
       "\n",
       "```jldoctest\n",
       "julia> range(1, length=100)\n",
       "1:100\n",
       "\n",
       "julia> range(1, stop=100)\n",
       "1:100\n",
       "\n",
       "julia> range(1, step=5, length=100)\n",
       "1:5:496\n",
       "\n",
       "julia> range(1, step=5, stop=100)\n",
       "1:5:96\n",
       "\n",
       "julia> range(1, 10, length=101)\n",
       "1.0:0.09:10.0\n",
       "\n",
       "julia> range(1, 100, step=5)\n",
       "1:5:96\n",
       "```\n"
      ],
      "text/plain": [
       "\u001b[36m  range(start[, stop]; length, stop, step=1)\u001b[39m\n",
       "\n",
       "  Given a starting value, construct a range either by length or from \u001b[36mstart\u001b[39m to\n",
       "  \u001b[36mstop\u001b[39m, optionally with a given step (defaults to 1, a \u001b[36mUnitRange\u001b[39m). One of\n",
       "  \u001b[36mlength\u001b[39m or \u001b[36mstop\u001b[39m is required. If \u001b[36mlength\u001b[39m, \u001b[36mstop\u001b[39m, and \u001b[36mstep\u001b[39m are all specified,\n",
       "  they must agree.\n",
       "\n",
       "  If \u001b[36mlength\u001b[39m and \u001b[36mstop\u001b[39m are provided and \u001b[36mstep\u001b[39m is not, the step size will be\n",
       "  computed automatically such that there are \u001b[36mlength\u001b[39m linearly spaced elements\n",
       "  in the range (a \u001b[36mLinRange\u001b[39m).\n",
       "\n",
       "  If \u001b[36mstep\u001b[39m and \u001b[36mstop\u001b[39m are provided and \u001b[36mlength\u001b[39m is not, the overall range length\n",
       "  will be computed automatically such that the elements are \u001b[36mstep\u001b[39m spaced (a\n",
       "  \u001b[36mStepRange\u001b[39m).\n",
       "\n",
       "  \u001b[36mstop\u001b[39m may be specified as either a positional or keyword argument.\n",
       "\n",
       "\u001b[39m\u001b[1m  │ \u001b[22m\u001b[39m\u001b[1mJulia 1.1\u001b[22m\n",
       "\u001b[39m\u001b[1m  │\u001b[22m\n",
       "\u001b[39m\u001b[1m  │\u001b[22m  \u001b[36mstop\u001b[39m as a positional argument requires at least Julia 1.1.\n",
       "\n",
       "\u001b[1m  Examples\u001b[22m\n",
       "\u001b[1m  ≡≡≡≡≡≡≡≡≡≡\u001b[22m\n",
       "\n",
       "\u001b[36m  julia> range(1, length=100)\u001b[39m\n",
       "\u001b[36m  1:100\u001b[39m\n",
       "\u001b[36m  \u001b[39m\n",
       "\u001b[36m  julia> range(1, stop=100)\u001b[39m\n",
       "\u001b[36m  1:100\u001b[39m\n",
       "\u001b[36m  \u001b[39m\n",
       "\u001b[36m  julia> range(1, step=5, length=100)\u001b[39m\n",
       "\u001b[36m  1:5:496\u001b[39m\n",
       "\u001b[36m  \u001b[39m\n",
       "\u001b[36m  julia> range(1, step=5, stop=100)\u001b[39m\n",
       "\u001b[36m  1:5:96\u001b[39m\n",
       "\u001b[36m  \u001b[39m\n",
       "\u001b[36m  julia> range(1, 10, length=101)\u001b[39m\n",
       "\u001b[36m  1.0:0.09:10.0\u001b[39m\n",
       "\u001b[36m  \u001b[39m\n",
       "\u001b[36m  julia> range(1, 100, step=5)\u001b[39m\n",
       "\u001b[36m  1:5:96\u001b[39m"
      ]
     },
     "execution_count": 49,
     "metadata": {},
     "output_type": "execute_result"
    }
   ],
   "source": [
    "?range"
   ]
  },
  {
   "cell_type": "code",
   "execution_count": 50,
   "metadata": {},
   "outputs": [
    {
     "data": {
      "text/plain": [
       "0.0:0.1:1.0"
      ]
     },
     "execution_count": 50,
     "metadata": {},
     "output_type": "execute_result"
    }
   ],
   "source": [
    "r = range(0, step=0.1, stop=1)"
   ]
  },
  {
   "cell_type": "code",
   "execution_count": 51,
   "metadata": {},
   "outputs": [
    {
     "data": {
      "text/plain": [
       "0.0:0.1:1.0"
      ]
     },
     "execution_count": 51,
     "metadata": {},
     "output_type": "execute_result"
    }
   ],
   "source": [
    "# This works too\n",
    "\n",
    "r = 0:0.1:1"
   ]
  },
  {
   "cell_type": "markdown",
   "metadata": {},
   "source": [
    "r is not an arryay, but in many contexts behaves like one"
   ]
  },
  {
   "cell_type": "code",
   "execution_count": 52,
   "metadata": {},
   "outputs": [
    {
     "data": {
      "text/plain": [
       "11-element Array{Float64,1}:\n",
       " 0.0                \n",
       " 0.09983341664682815\n",
       " 0.19866933079506122\n",
       " 0.29552020666133955\n",
       " 0.3894183423086505 \n",
       " 0.479425538604203  \n",
       " 0.5646424733950354 \n",
       " 0.644217687237691  \n",
       " 0.7173560908995228 \n",
       " 0.7833269096274834 \n",
       " 0.8414709848078965 "
      ]
     },
     "execution_count": 52,
     "metadata": {},
     "output_type": "execute_result"
    }
   ],
   "source": [
    "sin.(r)"
   ]
  },
  {
   "cell_type": "markdown",
   "metadata": {},
   "source": [
    "### Use of Map to apply a function to elements of array"
   ]
  },
  {
   "cell_type": "code",
   "execution_count": 53,
   "metadata": {},
   "outputs": [
    {
     "data": {
      "text/plain": [
       "11-element Array{Float64,1}:\n",
       " 0.0                \n",
       " 0.09983341664682815\n",
       " 0.19866933079506122\n",
       " 0.29552020666133955\n",
       " 0.3894183423086505 \n",
       " 0.479425538604203  \n",
       " 0.5646424733950354 \n",
       " 0.644217687237691  \n",
       " 0.7173560908995228 \n",
       " 0.7833269096274834 \n",
       " 0.8414709848078965 "
      ]
     },
     "execution_count": 53,
     "metadata": {},
     "output_type": "execute_result"
    }
   ],
   "source": [
    "map(sin,r)"
   ]
  },
  {
   "cell_type": "markdown",
   "metadata": {},
   "source": [
    "### Reduce and Map-Reduce"
   ]
  },
  {
   "cell_type": "code",
   "execution_count": 54,
   "metadata": {},
   "outputs": [
    {
     "data": {
      "text/plain": [
       "15"
      ]
     },
     "execution_count": 54,
     "metadata": {},
     "output_type": "execute_result"
    }
   ],
   "source": [
    "# sum of elements in u\n",
    "reduce(+,u)"
   ]
  },
  {
   "cell_type": "code",
   "execution_count": 55,
   "metadata": {},
   "outputs": [
    {
     "data": {
      "text/plain": [
       "60"
      ]
     },
     "execution_count": 55,
     "metadata": {},
     "output_type": "execute_result"
    }
   ],
   "source": [
    "# product of elements in u\n",
    "reduce(*,u)"
   ]
  },
  {
   "cell_type": "code",
   "execution_count": 56,
   "metadata": {},
   "outputs": [
    {
     "data": {
      "text/plain": [
       "500000500000"
      ]
     },
     "execution_count": 56,
     "metadata": {},
     "output_type": "execute_result"
    }
   ],
   "source": [
    "reduce(+,1:1000000)"
   ]
  },
  {
   "cell_type": "markdown",
   "metadata": {},
   "source": [
    "#### Sum of squares"
   ]
  },
  {
   "cell_type": "code",
   "execution_count": 57,
   "metadata": {},
   "outputs": [
    {
     "data": {
      "text/plain": [
       "333333833333500000"
      ]
     },
     "execution_count": 57,
     "metadata": {},
     "output_type": "execute_result"
    }
   ],
   "source": [
    "n = 1_000_000\n",
    "mapreduce(x -> x^2, +, 1:n)"
   ]
  },
  {
   "cell_type": "markdown",
   "metadata": {},
   "source": [
    "#### Here, a vector of squares is created first, which, as will be demonstrated later, slower because of the time used for memory allocation"
   ]
  },
  {
   "cell_type": "code",
   "execution_count": 58,
   "metadata": {},
   "outputs": [
    {
     "data": {
      "text/plain": [
       "333333833333500000"
      ]
     },
     "execution_count": 58,
     "metadata": {},
     "output_type": "execute_result"
    }
   ],
   "source": [
    "reduce(+,(1:n).^2)"
   ]
  },
  {
   "cell_type": "markdown",
   "metadata": {},
   "source": [
    "## Types"
   ]
  },
  {
   "cell_type": "markdown",
   "metadata": {},
   "source": [
    "### Determine the type of a variable as:"
   ]
  },
  {
   "cell_type": "code",
   "execution_count": 59,
   "metadata": {},
   "outputs": [
    {
     "data": {
      "text/plain": [
       "Array{Int64,2}"
      ]
     },
     "execution_count": 59,
     "metadata": {},
     "output_type": "execute_result"
    }
   ],
   "source": [
    "# type of M\n",
    "typeof(M)"
   ]
  },
  {
   "cell_type": "code",
   "execution_count": 60,
   "metadata": {},
   "outputs": [
    {
     "data": {
      "text/plain": [
       "Array{Int64,1}"
      ]
     },
     "execution_count": 60,
     "metadata": {},
     "output_type": "execute_result"
    }
   ],
   "source": [
    "# type of v\n",
    "typeof(v)"
   ]
  },
  {
   "cell_type": "markdown",
   "metadata": {},
   "source": [
    "### Composite Types"
   ]
  },
  {
   "cell_type": "code",
   "execution_count": 61,
   "metadata": {},
   "outputs": [],
   "source": [
    "# Example\n",
    "mutable struct BankAccount\n",
    "    accountNumber::Int64\n",
    "    firstName::String\n",
    "    lastName::String\n",
    "    balance::Float64\n",
    "end"
   ]
  },
  {
   "cell_type": "markdown",
   "metadata": {},
   "source": [
    "#### Get all the names in a composite type:"
   ]
  },
  {
   "cell_type": "code",
   "execution_count": 62,
   "metadata": {},
   "outputs": [
    {
     "data": {
      "text/plain": [
       "(:accountNumber, :firstName, :lastName, :balance)"
      ]
     },
     "execution_count": 62,
     "metadata": {},
     "output_type": "execute_result"
    }
   ],
   "source": [
    "fieldnames(BankAccount)"
   ]
  },
  {
   "cell_type": "markdown",
   "metadata": {},
   "source": [
    "#### Get the types of all fields:"
   ]
  },
  {
   "cell_type": "code",
   "execution_count": 63,
   "metadata": {},
   "outputs": [
    {
     "data": {
      "text/plain": [
       "svec(Int64, String, String, Float64)"
      ]
     },
     "execution_count": 63,
     "metadata": {},
     "output_type": "execute_result"
    }
   ],
   "source": [
    "BankAccount.types"
   ]
  },
  {
   "cell_type": "markdown",
   "metadata": {},
   "source": [
    "#### Create an instance of `BankAccount`"
   ]
  },
  {
   "cell_type": "code",
   "execution_count": 64,
   "metadata": {},
   "outputs": [
    {
     "data": {
      "text/plain": [
       "BankAccount(9321, \"Scott\", \"Williams\", 500.0)"
      ]
     },
     "execution_count": 64,
     "metadata": {},
     "output_type": "execute_result"
    }
   ],
   "source": [
    "a1 = BankAccount(1234,\"Tom\",\"Smith\",1000.0)\n",
    "a2 = BankAccount(4321,\"Jim\",\"Shanks\",500.0)\n",
    "a3 = BankAccount(9321,\"Scott\",\"Williams\",500.0)"
   ]
  },
  {
   "cell_type": "markdown",
   "metadata": {},
   "source": [
    "#### Access field in composite type:"
   ]
  },
  {
   "cell_type": "code",
   "execution_count": 65,
   "metadata": {},
   "outputs": [
    {
     "data": {
      "text/plain": [
       "1000.0"
      ]
     },
     "execution_count": 65,
     "metadata": {},
     "output_type": "execute_result"
    }
   ],
   "source": [
    "a1.balance"
   ]
  },
  {
   "cell_type": "code",
   "execution_count": 66,
   "metadata": {},
   "outputs": [
    {
     "data": {
      "text/plain": [
       "2000.5"
      ]
     },
     "execution_count": 66,
     "metadata": {},
     "output_type": "execute_result"
    }
   ],
   "source": [
    "# can modify fields of mutable structs\n",
    "a1.balance = 2000.50"
   ]
  },
  {
   "cell_type": "code",
   "execution_count": 67,
   "metadata": {},
   "outputs": [
    {
     "data": {
      "text/plain": [
       "500.0"
      ]
     },
     "execution_count": 67,
     "metadata": {},
     "output_type": "execute_result"
    }
   ],
   "source": [
    "a2.balance"
   ]
  },
  {
   "cell_type": "code",
   "execution_count": 68,
   "metadata": {},
   "outputs": [
    {
     "data": {
      "text/plain": [
       "\"Jim\""
      ]
     },
     "execution_count": 68,
     "metadata": {},
     "output_type": "execute_result"
    }
   ],
   "source": [
    "a2.firstName"
   ]
  },
  {
   "cell_type": "markdown",
   "metadata": {},
   "source": [
    "## Dictionaries (Associative Arrays) \n",
    "A collection of key value pairs"
   ]
  },
  {
   "cell_type": "markdown",
   "metadata": {},
   "source": [
    "### Declaration"
   ]
  },
  {
   "cell_type": "code",
   "execution_count": 69,
   "metadata": {},
   "outputs": [
    {
     "data": {
      "text/plain": [
       "Dict{Int64,BankAccount} with 0 entries"
      ]
     },
     "execution_count": 69,
     "metadata": {},
     "output_type": "execute_result"
    }
   ],
   "source": [
    "# d is an empty dictionary that can store \"BackAccounts\" with an interger key (i.e., with the account number as the key)\n",
    "d = Dict{Int64,BankAccount}()"
   ]
  },
  {
   "cell_type": "markdown",
   "metadata": {},
   "source": [
    "### Putting values in dictionary"
   ]
  },
  {
   "cell_type": "code",
   "execution_count": 70,
   "metadata": {},
   "outputs": [
    {
     "data": {
      "text/plain": [
       "Dict{Int64,BankAccount} with 1 entry:\n",
       "  1234 => BankAccount(1234, \"Tom\", \"Smith\", 2000.5)"
      ]
     },
     "execution_count": 70,
     "metadata": {},
     "output_type": "execute_result"
    }
   ],
   "source": [
    "d[a1.accountNumber] = a1\n",
    "d"
   ]
  },
  {
   "cell_type": "code",
   "execution_count": 71,
   "metadata": {},
   "outputs": [
    {
     "data": {
      "text/plain": [
       "Dict{Int64,BankAccount} with 2 entries:\n",
       "  4321 => BankAccount(4321, \"Jim\", \"Shanks\", 500.0)\n",
       "  1234 => BankAccount(1234, \"Tom\", \"Smith\", 2000.5)"
      ]
     },
     "execution_count": 71,
     "metadata": {},
     "output_type": "execute_result"
    }
   ],
   "source": [
    "d[a2.accountNumber] = a2\n",
    "d"
   ]
  },
  {
   "cell_type": "code",
   "execution_count": 72,
   "metadata": {},
   "outputs": [
    {
     "data": {
      "text/plain": [
       "Dict{Int64,BankAccount} with 3 entries:\n",
       "  4321 => BankAccount(4321, \"Jim\", \"Shanks\", 500.0)\n",
       "  9321 => BankAccount(9321, \"Scott\", \"Williams\", 500.0)\n",
       "  1234 => BankAccount(1234, \"Tom\", \"Smith\", 2000.5)"
      ]
     },
     "execution_count": 72,
     "metadata": {},
     "output_type": "execute_result"
    }
   ],
   "source": [
    "d[a3.accountNumber] = a3\n",
    "d"
   ]
  },
  {
   "cell_type": "markdown",
   "metadata": {},
   "source": [
    "#### Get array of keys in d"
   ]
  },
  {
   "cell_type": "code",
   "execution_count": 73,
   "metadata": {},
   "outputs": [
    {
     "data": {
      "text/plain": [
       "3-element Array{Int64,1}:\n",
       " 4321\n",
       " 9321\n",
       " 1234"
      ]
     },
     "execution_count": 73,
     "metadata": {},
     "output_type": "execute_result"
    }
   ],
   "source": [
    "collect(keys(d))"
   ]
  },
  {
   "cell_type": "markdown",
   "metadata": {},
   "source": [
    "#### Get the value associated with `key = 1234`"
   ]
  },
  {
   "cell_type": "code",
   "execution_count": 74,
   "metadata": {},
   "outputs": [
    {
     "data": {
      "text/plain": [
       "BankAccount(1234, \"Tom\", \"Smith\", 2000.5)"
      ]
     },
     "execution_count": 74,
     "metadata": {},
     "output_type": "execute_result"
    }
   ],
   "source": [
    "d[1234]"
   ]
  },
  {
   "cell_type": "markdown",
   "metadata": {},
   "source": [
    "#### Get array of values in d"
   ]
  },
  {
   "cell_type": "code",
   "execution_count": 75,
   "metadata": {},
   "outputs": [
    {
     "data": {
      "text/plain": [
       "Base.ValueIterator for a Dict{Int64,BankAccount} with 3 entries. Values:\n",
       "  BankAccount(4321, \"Jim\", \"Shanks\", 500.0)\n",
       "  BankAccount(9321, \"Scott\", \"Williams\", 500.0)\n",
       "  BankAccount(1234, \"Tom\", \"Smith\", 2000.5)"
      ]
     },
     "execution_count": 75,
     "metadata": {},
     "output_type": "execute_result"
    }
   ],
   "source": [
    "values(d)"
   ]
  },
  {
   "cell_type": "code",
   "execution_count": 76,
   "metadata": {},
   "outputs": [
    {
     "data": {
      "text/plain": [
       "3-element Array{BankAccount,1}:\n",
       " BankAccount(4321, \"Jim\", \"Shanks\", 500.0)    \n",
       " BankAccount(9321, \"Scott\", \"Williams\", 500.0)\n",
       " BankAccount(1234, \"Tom\", \"Smith\", 2000.5)    "
      ]
     },
     "execution_count": 76,
     "metadata": {},
     "output_type": "execute_result"
    }
   ],
   "source": [
    "collect(values(d))"
   ]
  },
  {
   "cell_type": "markdown",
   "metadata": {},
   "source": [
    "#### Using list comprehension"
   ]
  },
  {
   "cell_type": "code",
   "execution_count": 77,
   "metadata": {},
   "outputs": [
    {
     "data": {
      "text/plain": [
       "3-element Array{BankAccount,1}:\n",
       " BankAccount(4321, \"Jim\", \"Shanks\", 500.0)    \n",
       " BankAccount(9321, \"Scott\", \"Williams\", 500.0)\n",
       " BankAccount(1234, \"Tom\", \"Smith\", 2000.5)    "
      ]
     },
     "execution_count": 77,
     "metadata": {},
     "output_type": "execute_result"
    }
   ],
   "source": [
    "[i for i in values(d)]"
   ]
  },
  {
   "cell_type": "code",
   "execution_count": 78,
   "metadata": {},
   "outputs": [
    {
     "data": {
      "text/plain": [
       "Base.KeySet for a Dict{Int64,BankAccount} with 3 entries. Keys:\n",
       "  4321\n",
       "  9321\n",
       "  1234"
      ]
     },
     "execution_count": 78,
     "metadata": {},
     "output_type": "execute_result"
    }
   ],
   "source": [
    "keys(d)"
   ]
  },
  {
   "cell_type": "code",
   "execution_count": 79,
   "metadata": {},
   "outputs": [
    {
     "data": {
      "text/plain": [
       "3-element Array{BankAccount,1}:\n",
       " BankAccount(4321, \"Jim\", \"Shanks\", 500.0)    \n",
       " BankAccount(9321, \"Scott\", \"Williams\", 500.0)\n",
       " BankAccount(1234, \"Tom\", \"Smith\", 2000.5)    "
      ]
     },
     "execution_count": 79,
     "metadata": {},
     "output_type": "execute_result"
    }
   ],
   "source": [
    "[d[i] for i in keys(d)] "
   ]
  },
  {
   "cell_type": "markdown",
   "metadata": {},
   "source": [
    "#### Check if Dictionary has a particular key"
   ]
  },
  {
   "cell_type": "code",
   "execution_count": 80,
   "metadata": {},
   "outputs": [
    {
     "data": {
      "text/plain": [
       "true"
      ]
     },
     "execution_count": 80,
     "metadata": {},
     "output_type": "execute_result"
    }
   ],
   "source": [
    "haskey(d,1234)"
   ]
  },
  {
   "cell_type": "code",
   "execution_count": 81,
   "metadata": {},
   "outputs": [
    {
     "data": {
      "text/plain": [
       "false"
      ]
     },
     "execution_count": 81,
     "metadata": {},
     "output_type": "execute_result"
    }
   ],
   "source": [
    "haskey(d,123)"
   ]
  },
  {
   "cell_type": "markdown",
   "metadata": {},
   "source": [
    "## Functions and Scope of Variables"
   ]
  },
  {
   "cell_type": "markdown",
   "metadata": {},
   "source": [
    "Functions allow code to be reused. We have seen how a loop can be used to add two vectors:"
   ]
  },
  {
   "cell_type": "code",
   "execution_count": 82,
   "metadata": {},
   "outputs": [
    {
     "data": {
      "text/plain": [
       "2×3 Array{Int64,2}:\n",
       " 1  3  4\n",
       " 2  4  6"
      ]
     },
     "execution_count": 82,
     "metadata": {},
     "output_type": "execute_result"
    }
   ],
   "source": [
    "u = [1,2]\n",
    "v = [3,4]\n",
    "result = zero(u)\n",
    "for i=1:size(u,1)\n",
    "    result[i] = u[i] + v[i]\n",
    "end\n",
    "[u v result]"
   ]
  },
  {
   "cell_type": "markdown",
   "metadata": {},
   "source": [
    "Suppose we now want to add vector `x` to vector `y`:"
   ]
  },
  {
   "cell_type": "code",
   "execution_count": 83,
   "metadata": {},
   "outputs": [],
   "source": [
    "x = [9,7,6,5]\n",
    "y = [2,2,2,1];"
   ]
  },
  {
   "cell_type": "markdown",
   "metadata": {},
   "source": [
    "We can do by copying the code from above as:"
   ]
  },
  {
   "cell_type": "code",
   "execution_count": 84,
   "metadata": {},
   "outputs": [
    {
     "data": {
      "text/plain": [
       "4×3 Array{Int64,2}:\n",
       " 9  2  11\n",
       " 7  2   9\n",
       " 6  2   8\n",
       " 5  1   6"
      ]
     },
     "execution_count": 84,
     "metadata": {},
     "output_type": "execute_result"
    }
   ],
   "source": [
    "u = x\n",
    "v = y\n",
    "result = zero(u)\n",
    "for i=1:size(u,1)\n",
    "    result[i] = u[i] + v[i]\n",
    "end\n",
    "[u v result]"
   ]
  },
  {
   "cell_type": "markdown",
   "metadata": {},
   "source": [
    "This can and should be avoided by using a function with the code that was repeated. "
   ]
  },
  {
   "cell_type": "code",
   "execution_count": 85,
   "metadata": {},
   "outputs": [
    {
     "data": {
      "text/plain": [
       "addVectors (generic function with 1 method)"
      ]
     },
     "execution_count": 85,
     "metadata": {},
     "output_type": "execute_result"
    }
   ],
   "source": [
    "function addVectors(u,v)\n",
    "    if size(u,1) != size(v,1)\n",
    "        println(\"The size of u (= $(size(u,1))) is not equal to the size of v (= $(size(v,1))) \")\n",
    "        return []\n",
    "    end\n",
    "    result = zero(u)\n",
    "    for i=1:size(u,1)\n",
    "        result[i] = u[i] + v[i]\n",
    "    end\n",
    "    return result\n",
    "end"
   ]
  },
  {
   "cell_type": "code",
   "execution_count": 86,
   "metadata": {},
   "outputs": [
    {
     "data": {
      "text/plain": [
       "4×3 Array{Int64,2}:\n",
       " 9  2  11\n",
       " 7  2   9\n",
       " 6  2   8\n",
       " 5  1   6"
      ]
     },
     "execution_count": 86,
     "metadata": {},
     "output_type": "execute_result"
    }
   ],
   "source": [
    "[u v addVectors(u,v)]"
   ]
  },
  {
   "cell_type": "code",
   "execution_count": 87,
   "metadata": {},
   "outputs": [
    {
     "data": {
      "text/plain": [
       "4×3 Array{Int64,2}:\n",
       " 9  2  11\n",
       " 7  2   9\n",
       " 6  2   8\n",
       " 5  1   6"
      ]
     },
     "execution_count": 87,
     "metadata": {},
     "output_type": "execute_result"
    }
   ],
   "source": [
    "[x y addVectors(x,y)]"
   ]
  },
  {
   "cell_type": "code",
   "execution_count": 88,
   "metadata": {},
   "outputs": [
    {
     "data": {
      "text/plain": [
       "4-element Array{Int64,1}:\n",
       " 9\n",
       " 7\n",
       " 6\n",
       " 5"
      ]
     },
     "execution_count": 88,
     "metadata": {},
     "output_type": "execute_result"
    }
   ],
   "source": [
    "u"
   ]
  },
  {
   "cell_type": "code",
   "execution_count": 89,
   "metadata": {},
   "outputs": [
    {
     "data": {
      "text/plain": [
       "4-element Array{Int64,1}:\n",
       " 18\n",
       " 14\n",
       " 12\n",
       " 10"
      ]
     },
     "execution_count": 89,
     "metadata": {},
     "output_type": "execute_result"
    }
   ],
   "source": [
    "addVectors(x,u)"
   ]
  },
  {
   "cell_type": "markdown",
   "metadata": {},
   "source": [
    "### Scope of Variables"
   ]
  },
  {
   "cell_type": "markdown",
   "metadata": {},
   "source": [
    "Note that within the function `addVectors`, the output is the sum of the vectors`u` and `v`, but calling it with the vectors `x` and `y` results their sum. The variables `u` and `v` within the function refer to those given when the function was called. Thus, the same function can be used to add any two vectors of the same length. The behavior of the variables `u` and `v` with the function has to do with what is called the scope of variables and how variables are passed to functions. In Julia variables are passed \"by reference\" rather than \"by value\". This makes passing large structures to functions very efficient compared to passing arguments to the function \"by value\", which requies making a copy of the argument.  \n",
    "\n",
    "However, at first, the way functions behave can be confusing as shown below. "
   ]
  },
  {
   "cell_type": "code",
   "execution_count": 90,
   "metadata": {},
   "outputs": [
    {
     "data": {
      "text/plain": [
       "addOne (generic function with 1 method)"
      ]
     },
     "execution_count": 90,
     "metadata": {},
     "output_type": "execute_result"
    }
   ],
   "source": [
    "function addOne(x) # x is a local variable pointing to the value of the argument of the function \n",
    "    @show(x) \n",
    "    x = x + 1     # x is now redirected to point the the value of (x+1)\n",
    "    @show(x)\n",
    "    return x\n",
    "end"
   ]
  },
  {
   "cell_type": "code",
   "execution_count": 91,
   "metadata": {},
   "outputs": [
    {
     "name": "stdout",
     "output_type": "stream",
     "text": [
      "y = 2\n",
      "x = 2\n",
      "x = 3\n",
      "addOne(y) = 3\n",
      "y = 2\n"
     ]
    }
   ],
   "source": [
    "y = 2\n",
    "@show(y)\n",
    "@show(addOne(y))\n",
    "@show(y);             # y is still pointing to 2"
   ]
  },
  {
   "cell_type": "code",
   "execution_count": 92,
   "metadata": {},
   "outputs": [
    {
     "data": {
      "text/plain": [
       "addOneToVec (generic function with 1 method)"
      ]
     },
     "execution_count": 92,
     "metadata": {},
     "output_type": "execute_result"
    }
   ],
   "source": [
    "function addOneToVec(x) # x is a local variable pointing to the vector argument of the function \n",
    "    @show(x) \n",
    "    x = x .+ 1          # x is now redirected to point a new vector with the values of (x+1)\n",
    "    @show(x)\n",
    "    return x\n",
    "end    "
   ]
  },
  {
   "cell_type": "code",
   "execution_count": 93,
   "metadata": {},
   "outputs": [
    {
     "name": "stdout",
     "output_type": "stream",
     "text": [
      "u = [1, 2]\n",
      "x = [1, 2]\n",
      "x = [2, 3]\n",
      "addOneToVec(u) = [2, 3]\n",
      "u = [1, 2]\n"
     ]
    },
    {
     "data": {
      "text/plain": [
       "2-element Array{Int64,1}:\n",
       " 1\n",
       " 2"
      ]
     },
     "execution_count": 93,
     "metadata": {},
     "output_type": "execute_result"
    }
   ],
   "source": [
    "u = [1,2]\n",
    "@show(u)\n",
    "@show(addOneToVec(u))\n",
    "@show(u)"
   ]
  },
  {
   "cell_type": "markdown",
   "metadata": {},
   "source": [
    "Compare the behavior of the following funtion with that above:"
   ]
  },
  {
   "cell_type": "code",
   "execution_count": 94,
   "metadata": {},
   "outputs": [
    {
     "data": {
      "text/plain": [
       "addOneToVec! (generic function with 1 method)"
      ]
     },
     "execution_count": 94,
     "metadata": {},
     "output_type": "execute_result"
    }
   ],
   "source": [
    "function addOneToVec!(x) # x is a local variable pointing to the vector argument of the function \n",
    "    @show(x) \n",
    "    x  .= x .+ 1          # x still points to the same vector, but the elemets in the vector are modified\n",
    "    @show(x)\n",
    "    return x\n",
    "end    "
   ]
  },
  {
   "cell_type": "code",
   "execution_count": 95,
   "metadata": {},
   "outputs": [
    {
     "name": "stdout",
     "output_type": "stream",
     "text": [
      "u = [1, 2]\n",
      "x = [1, 2]\n",
      "x = [2, 3]\n",
      "addOneToVec!(u) = [2, 3]\n",
      "u = [2, 3]\n"
     ]
    },
    {
     "data": {
      "text/plain": [
       "2-element Array{Int64,1}:\n",
       " 2\n",
       " 3"
      ]
     },
     "execution_count": 95,
     "metadata": {},
     "output_type": "execute_result"
    }
   ],
   "source": [
    "u = [1,2]\n",
    "@show(u)\n",
    "@show(addOneToVec!(u))\n",
    "@show(u)"
   ]
  },
  {
   "cell_type": "code",
   "execution_count": 96,
   "metadata": {},
   "outputs": [
    {
     "data": {
      "text/plain": [
       "addOneToVecLoop! (generic function with 1 method)"
      ]
     },
     "execution_count": 96,
     "metadata": {},
     "output_type": "execute_result"
    }
   ],
   "source": [
    "function addOneToVecLoop!(x) # x is a local variable pointing to the vector argument of the function \n",
    "    @show(x)\n",
    "    for i in 1:size(x,1)\n",
    "        x[i] += 1 # x still points to the same vector, but the elemets in the vector x are are modified here\n",
    "    end\n",
    "    @show(x)\n",
    "    return x\n",
    "end    "
   ]
  },
  {
   "cell_type": "code",
   "execution_count": 97,
   "metadata": {},
   "outputs": [
    {
     "name": "stdout",
     "output_type": "stream",
     "text": [
      "u = [1, 2]\n",
      "x = [1, 2]\n",
      "x = [2, 3]\n",
      "addOneToVecLoop!(u) = [2, 3]\n",
      "u = [2, 3]\n"
     ]
    },
    {
     "data": {
      "text/plain": [
       "2-element Array{Int64,1}:\n",
       " 2\n",
       " 3"
      ]
     },
     "execution_count": 97,
     "metadata": {},
     "output_type": "execute_result"
    }
   ],
   "source": [
    "u = [1,2]\n",
    "@show(u)\n",
    "@show(addOneToVecLoop!(u))\n",
    "@show(u)"
   ]
  },
  {
   "cell_type": "markdown",
   "metadata": {},
   "source": [
    "Nice explanation of the difference in bahavior of these functions is given here: [The Map is Not the Territory!](http://www.johnmyleswhite.com/notebook/2014/09/06/values-vs-bindings-the-map-is-not-the-territory/)"
   ]
  },
  {
   "cell_type": "markdown",
   "metadata": {},
   "source": [
    "#### Functions can have arguments with default values"
   ]
  },
  {
   "cell_type": "code",
   "execution_count": 98,
   "metadata": {},
   "outputs": [
    {
     "data": {
      "text/plain": [
       "addYToVec! (generic function with 2 methods)"
      ]
     },
     "execution_count": 98,
     "metadata": {},
     "output_type": "execute_result"
    }
   ],
   "source": [
    "function addYToVec!(x,y=1) # x is a local variable pointing to the vector argument of the function \n",
    "    @show(x) \n",
    "    x .= x .+ y          # x still points to the same vector, but the elemets in the vector are modified\n",
    "    @show(x)\n",
    "    return x\n",
    "end    "
   ]
  },
  {
   "cell_type": "code",
   "execution_count": 99,
   "metadata": {},
   "outputs": [
    {
     "name": "stdout",
     "output_type": "stream",
     "text": [
      "u = [1, 2]\n",
      "x = [1, 2]\n",
      "x = [2, 3]\n",
      "addYToVec!(u) = [2, 3]\n",
      "u = [2, 3]\n"
     ]
    },
    {
     "data": {
      "text/plain": [
       "2-element Array{Int64,1}:\n",
       " 2\n",
       " 3"
      ]
     },
     "execution_count": 99,
     "metadata": {},
     "output_type": "execute_result"
    }
   ],
   "source": [
    "u = [1,2]\n",
    "@show(u)\n",
    "@show(addYToVec!(u))\n",
    "@show(u)"
   ]
  },
  {
   "cell_type": "code",
   "execution_count": 100,
   "metadata": {},
   "outputs": [
    {
     "name": "stdout",
     "output_type": "stream",
     "text": [
      "u = [1, 2]\n",
      "x = [1, 2]\n",
      "x = [3, 4]\n",
      "addYToVec!(u, 2) = [3, 4]\n",
      "u = [3, 4]\n"
     ]
    },
    {
     "data": {
      "text/plain": [
       "2-element Array{Int64,1}:\n",
       " 3\n",
       " 4"
      ]
     },
     "execution_count": 100,
     "metadata": {},
     "output_type": "execute_result"
    }
   ],
   "source": [
    "u = [1,2]\n",
    "@show(u)\n",
    "@show(addYToVec!(u,2))\n",
    "@show(u)"
   ]
  },
  {
   "cell_type": "code",
   "execution_count": 101,
   "metadata": {},
   "outputs": [
    {
     "data": {
      "text/plain": [
       "addkTimesYToVec! (generic function with 3 methods)"
      ]
     },
     "execution_count": 101,
     "metadata": {},
     "output_type": "execute_result"
    }
   ],
   "source": [
    "function addkTimesYToVec!(x,k=1,y=2) # x is a local variable pointing to the vector argument of the function \n",
    "    @show(x) \n",
    "    x .= x .+ y*k          # x still points to the same vector, but the elemets in the vector are modified\n",
    "    @show(x)\n",
    "    return x\n",
    "end    "
   ]
  },
  {
   "cell_type": "code",
   "execution_count": 102,
   "metadata": {},
   "outputs": [
    {
     "name": "stdout",
     "output_type": "stream",
     "text": [
      "u = [1, 2]\n",
      "x = [1, 2]\n",
      "x = [3, 4]\n",
      "addkTimesYToVec!(u) = [3, 4]\n",
      "u = [3, 4]\n"
     ]
    },
    {
     "data": {
      "text/plain": [
       "2-element Array{Int64,1}:\n",
       " 3\n",
       " 4"
      ]
     },
     "execution_count": 102,
     "metadata": {},
     "output_type": "execute_result"
    }
   ],
   "source": [
    "u = [1,2]\n",
    "@show(u)\n",
    "@show(addkTimesYToVec!(u))\n",
    "@show(u)"
   ]
  },
  {
   "cell_type": "code",
   "execution_count": 103,
   "metadata": {},
   "outputs": [
    {
     "name": "stdout",
     "output_type": "stream",
     "text": [
      "x = [3, 4]\n",
      "x = [7, 8]\n"
     ]
    },
    {
     "data": {
      "text/plain": [
       "2-element Array{Int64,1}:\n",
       " 7\n",
       " 8"
      ]
     },
     "execution_count": 103,
     "metadata": {},
     "output_type": "execute_result"
    }
   ],
   "source": [
    "addkTimesYToVec!(u,2,2)"
   ]
  },
  {
   "cell_type": "markdown",
   "metadata": {},
   "source": [
    "###  Functions with key value pairs"
   ]
  },
  {
   "cell_type": "code",
   "execution_count": 104,
   "metadata": {},
   "outputs": [
    {
     "data": {
      "text/plain": [
       "addcxToV! (generic function with 1 method)"
      ]
     },
     "execution_count": 104,
     "metadata": {},
     "output_type": "execute_result"
    }
   ],
   "source": [
    "function addcxToV!(v;c=1,x=2)\n",
    "    v .= c*x .+ v\n",
    "end"
   ]
  },
  {
   "cell_type": "code",
   "execution_count": 105,
   "metadata": {},
   "outputs": [
    {
     "name": "stdout",
     "output_type": "stream",
     "text": [
      "addcxToV!(v) = [4, 7]\n"
     ]
    },
    {
     "data": {
      "text/plain": [
       "2-element Array{Int64,1}:\n",
       " 4\n",
       " 7"
      ]
     },
     "execution_count": 105,
     "metadata": {},
     "output_type": "execute_result"
    }
   ],
   "source": [
    "v = [2,5]\n",
    "@show(addcxToV!(v))"
   ]
  },
  {
   "cell_type": "code",
   "execution_count": 106,
   "metadata": {},
   "outputs": [
    {
     "name": "stdout",
     "output_type": "stream",
     "text": [
      "addcxToV!(v, x=1) = [3, 6]\n"
     ]
    },
    {
     "data": {
      "text/plain": [
       "2-element Array{Int64,1}:\n",
       " 3\n",
       " 6"
      ]
     },
     "execution_count": 106,
     "metadata": {},
     "output_type": "execute_result"
    }
   ],
   "source": [
    "v = [2,5]\n",
    "@show(addcxToV!(v,x=1))"
   ]
  },
  {
   "cell_type": "markdown",
   "metadata": {},
   "source": [
    "### Multiple Dispatch of \"+\" Operator (Overloading Operators)\n",
    "\n",
    "What the \"+\" operator does depends on the arguments. The function defined below will be called when it is used with two BankAccount arguments. Other operators can be similarly \"overloaded\" to work with user-defined types."
   ]
  },
  {
   "cell_type": "code",
   "execution_count": 107,
   "metadata": {},
   "outputs": [
    {
     "data": {
      "text/plain": [
       "+ (generic function with 188 methods)"
      ]
     },
     "execution_count": 107,
     "metadata": {},
     "output_type": "execute_result"
    }
   ],
   "source": [
    "import Base.+\n",
    "function +(a1::BankAccount,a2::BankAccount)\n",
    "    a1.balance += a2.balance\n",
    "    a2.balance = 0\n",
    "end"
   ]
  },
  {
   "cell_type": "code",
   "execution_count": 108,
   "metadata": {},
   "outputs": [
    {
     "name": "stdout",
     "output_type": "stream",
     "text": [
      "a1 = BankAccount(1234, \"Tom\", \"Smith\", 2000.5)\n",
      "a2 = BankAccount(4321, \"Jim\", \"Shanks\", 500.0)\n",
      "a1 = BankAccount(1234, \"Tom\", \"Smith\", 2500.5)\n",
      "a2 = BankAccount(4321, \"Jim\", \"Shanks\", 0.0)\n"
     ]
    },
    {
     "data": {
      "text/plain": [
       "BankAccount(4321, \"Jim\", \"Shanks\", 0.0)"
      ]
     },
     "execution_count": 108,
     "metadata": {},
     "output_type": "execute_result"
    }
   ],
   "source": [
    "@show(a1,a2)\n",
    "a1 + a2\n",
    "@show(a1,a2)"
   ]
  },
  {
   "cell_type": "code",
   "execution_count": 109,
   "metadata": {},
   "outputs": [
    {
     "name": "stdout",
     "output_type": "stream",
     "text": [
      "a1 = BankAccount(1234, \"Tom\", \"Smith\", 2500.5)\n",
      "a2 = BankAccount(4321, \"Jim\", \"Shanks\", 0.0)\n",
      "a1 = BankAccount(1234, \"Tom\", \"Smith\", 2500.5)\n",
      "a2 = BankAccount(4321, \"Jim\", \"Shanks\", 0.0)\n"
     ]
    },
    {
     "data": {
      "text/plain": [
       "BankAccount(4321, \"Jim\", \"Shanks\", 0.0)"
      ]
     },
     "execution_count": 109,
     "metadata": {},
     "output_type": "execute_result"
    }
   ],
   "source": [
    "@show(a1,a2)\n",
    "+(a1,a2)\n",
    "@show(a1,a2)"
   ]
  },
  {
   "cell_type": "markdown",
   "metadata": {},
   "source": [
    "### Often loops faster than vectorizng!"
   ]
  },
  {
   "cell_type": "code",
   "execution_count": 110,
   "metadata": {},
   "outputs": [
    {
     "data": {
      "text/plain": [
       "f1 (generic function with 1 method)"
      ]
     },
     "execution_count": 110,
     "metadata": {},
     "output_type": "execute_result"
    }
   ],
   "source": [
    "function f1(n)\n",
    "    mapreduce(x -> x^2, +, 1:n)\n",
    "end"
   ]
  },
  {
   "cell_type": "code",
   "execution_count": 111,
   "metadata": {},
   "outputs": [
    {
     "data": {
      "text/plain": [
       "f2 (generic function with 1 method)"
      ]
     },
     "execution_count": 111,
     "metadata": {},
     "output_type": "execute_result"
    }
   ],
   "source": [
    "function f2(n)\n",
    "    reduce(+,(1:n).^2)\n",
    "end"
   ]
  },
  {
   "cell_type": "code",
   "execution_count": 112,
   "metadata": {},
   "outputs": [
    {
     "name": "stdout",
     "output_type": "stream",
     "text": [
      "  0.046002 seconds (102.91 k allocations: 5.266 MiB)\n"
     ]
    },
    {
     "data": {
      "text/plain": [
       "333333833333500000"
      ]
     },
     "execution_count": 112,
     "metadata": {},
     "output_type": "execute_result"
    }
   ],
   "source": [
    "@time f1(1_000_000)"
   ]
  },
  {
   "cell_type": "code",
   "execution_count": 113,
   "metadata": {},
   "outputs": [
    {
     "name": "stdout",
     "output_type": "stream",
     "text": [
      "  0.036653 seconds (56.22 k allocations: 10.305 MiB)\n"
     ]
    },
    {
     "data": {
      "text/plain": [
       "333333833333500000"
      ]
     },
     "execution_count": 113,
     "metadata": {},
     "output_type": "execute_result"
    }
   ],
   "source": [
    "@time f2(1_000_000)"
   ]
  },
  {
   "cell_type": "code",
   "execution_count": 114,
   "metadata": {},
   "outputs": [
    {
     "data": {
      "text/plain": [
       "f3 (generic function with 1 method)"
      ]
     },
     "execution_count": 114,
     "metadata": {},
     "output_type": "execute_result"
    }
   ],
   "source": [
    "function f3(n)\n",
    "    sum = 0\n",
    "    for i=1:n\n",
    "        sum += i^2\n",
    "    end\n",
    "    return sum\n",
    "end    "
   ]
  },
  {
   "cell_type": "code",
   "execution_count": 115,
   "metadata": {},
   "outputs": [
    {
     "name": "stdout",
     "output_type": "stream",
     "text": [
      "  0.010452 seconds (13.03 k allocations: 694.286 KiB)\n"
     ]
    },
    {
     "data": {
      "text/plain": [
       "333333833333500000"
      ]
     },
     "execution_count": 115,
     "metadata": {},
     "output_type": "execute_result"
    }
   ],
   "source": [
    "@time f3(1_000_000)"
   ]
  },
  {
   "cell_type": "markdown",
   "metadata": {},
   "source": [
    "## Exercise 1"
   ]
  },
  {
   "cell_type": "markdown",
   "metadata": {},
   "source": [
    "* Write a function that uses loops to get the sum of two matrices.\n",
    "\n",
    "* Write a function with two matrix arguments that adds the second matrix to the first. \n",
    "\n",
    "* Write a function that uses loops to get the product of two matrices."
   ]
  },
  {
   "cell_type": "markdown",
   "metadata": {},
   "source": [
    "## Reading and Writing from Files"
   ]
  },
  {
   "cell_type": "markdown",
   "metadata": {},
   "source": [
    "### Text Files"
   ]
  },
  {
   "cell_type": "code",
   "execution_count": 9,
   "metadata": {},
   "outputs": [],
   "source": [
    "using Printf # needed for formatted print commands"
   ]
  },
  {
   "cell_type": "code",
   "execution_count": 4,
   "metadata": {},
   "outputs": [
    {
     "data": {
      "text/plain": [
       "5×3 Array{Float64,2}:\n",
       "  0.29337    -1.25023    0.65265  \n",
       "  0.929887   -0.693108   0.760531 \n",
       "  0.788622    0.167753  -0.311804 \n",
       "  0.162461    2.20369    0.0749647\n",
       " -0.0680599  -0.581849   0.391977 "
      ]
     },
     "execution_count": 4,
     "metadata": {},
     "output_type": "execute_result"
    }
   ],
   "source": [
    "A = randn(5,3)"
   ]
  },
  {
   "cell_type": "code",
   "execution_count": 21,
   "metadata": {},
   "outputs": [],
   "source": [
    "out = open(\"outFile\",\"w\")\n",
    "n,p = size(A)\n",
    "for j=1:p\n",
    "    for i=1:n\n",
    "        @printf(out,\"%10.5f \", A[i,j])\n",
    "    end\n",
    "    @printf(out,\"\\n\")\n",
    "end\n",
    "close(out)"
   ]
  },
  {
   "cell_type": "code",
   "execution_count": 22,
   "metadata": {},
   "outputs": [
    {
     "name": "stdout",
     "output_type": "stream",
     "text": [
      "   0.29337    0.92989    0.78862    0.16246   -0.06806 \n",
      "  -1.25023   -0.69311    0.16775    2.20369   -0.58185 \n",
      "   0.65265    0.76053   -0.31180    0.07496    0.39198 \n"
     ]
    }
   ],
   "source": [
    ";cat outFile"
   ]
  },
  {
   "cell_type": "code",
   "execution_count": 17,
   "metadata": {},
   "outputs": [],
   "source": [
    "out = open(\"outFile\",\"w\")\n",
    "n,p = size(A)\n",
    "for j=1:p\n",
    "    for i=1:n\n",
    "        print(out,A[i,j],\" \")\n",
    "    end\n",
    "    print(out,\"\\n\")\n",
    "end\n",
    "close(out)"
   ]
  },
  {
   "cell_type": "code",
   "execution_count": 18,
   "metadata": {},
   "outputs": [
    {
     "name": "stdout",
     "output_type": "stream",
     "text": [
      "0.2933700787469783 0.9298873913607176 0.7886216037485655 0.1624609928026136 -0.0680598897436531 \n",
      "-1.2502337848998206 -0.6931075657665067 0.1677533850736536 2.203692985257342 -0.581849029125006 \n",
      "0.6526500166213716 0.7605311270115546 -0.3118040438680883 0.07496469891310827 0.3919771872340053 \n"
     ]
    }
   ],
   "source": [
    ";cat outFile"
   ]
  },
  {
   "cell_type": "code",
   "execution_count": 23,
   "metadata": {},
   "outputs": [],
   "source": [
    "out = open(\"outFile\",\"w\")\n",
    "n,p = size(A)\n",
    "for j=1:p\n",
    "    for i=1:n\n",
    "        @printf(out,\"%10.5e \", A[i,j])\n",
    "    end\n",
    "    @printf(out,\"\\n\")\n",
    "end\n",
    "close(out)"
   ]
  },
  {
   "cell_type": "code",
   "execution_count": 24,
   "metadata": {},
   "outputs": [
    {
     "name": "stdout",
     "output_type": "stream",
     "text": [
      "2.93370e-01 9.29887e-01 7.88622e-01 1.62461e-01 -6.80599e-02 \n",
      "-1.25023e+00 -6.93108e-01 1.67753e-01 2.20369e+00 -5.81849e-01 \n",
      "6.52650e-01 7.60531e-01 -3.11804e-01 7.49647e-02 3.91977e-01 \n"
     ]
    }
   ],
   "source": [
    ";cat outFile"
   ]
  },
  {
   "cell_type": "code",
   "execution_count": 42,
   "metadata": {},
   "outputs": [
    {
     "data": {
      "text/plain": [
       "IOStream(<file outFile>)"
      ]
     },
     "execution_count": 42,
     "metadata": {},
     "output_type": "execute_result"
    }
   ],
   "source": [
    "inStream = open(\"outFile\",\"r\")"
   ]
  },
  {
   "cell_type": "code",
   "execution_count": 45,
   "metadata": {},
   "outputs": [
    {
     "name": "stdout",
     "output_type": "stream",
     "text": [
      "2.93370e-01 9.29887e-01 7.88622e-01 1.62461e-01 -6.80599e-02 \n",
      "-1.25023e+00 -6.93108e-01 1.67753e-01 2.20369e+00 -5.81849e-01 \n",
      "6.52650e-01 7.60531e-01 -3.11804e-01 7.49647e-02 3.91977e-01 \n"
     ]
    }
   ],
   "source": [
    "inStream = open(\"outFile\",\"r\")\n",
    "for line = eachline(inStream)\n",
    "    println(line)\n",
    "end\n",
    "close(inStream)"
   ]
  },
  {
   "cell_type": "code",
   "execution_count": 48,
   "metadata": {},
   "outputs": [
    {
     "data": {
      "text/plain": [
       "5×3 Array{Float64,2}:\n",
       " NaN            6.9296e-310   6.9296e-310\n",
       "   0.0          6.9296e-310   0.0        \n",
       "   1.4822e-323  5.92879e-323  6.9296e-310\n",
       "   6.9296e-310  5.43472e-323  6.9296e-310\n",
       "   6.9296e-310  6.9296e-310   6.9296e-310"
      ]
     },
     "execution_count": 48,
     "metadata": {},
     "output_type": "execute_result"
    }
   ],
   "source": [
    "B = Array{Float64,2}(undef,5,3)"
   ]
  },
  {
   "cell_type": "code",
   "execution_count": 52,
   "metadata": {},
   "outputs": [
    {
     "data": {
      "text/plain": [
       "5×3 Array{Float64,2}:\n",
       " 0.0  0.0  0.0\n",
       " 0.0  0.0  0.0\n",
       " 0.0  0.0  0.0\n",
       " 0.0  0.0  0.0\n",
       " 0.0  0.0  0.0"
      ]
     },
     "execution_count": 52,
     "metadata": {},
     "output_type": "execute_result"
    }
   ],
   "source": [
    "B = zeros(5,3)"
   ]
  },
  {
   "cell_type": "code",
   "execution_count": 53,
   "metadata": {},
   "outputs": [],
   "source": [
    "inStream = open(\"outFile\",\"r\")\n",
    "j = 1\n",
    "for line = eachline(inStream)\n",
    "    B[:,j] = parse.(Float64,split(line))\n",
    "    j += 1\n",
    "end\n",
    "close(inStream)"
   ]
  },
  {
   "cell_type": "code",
   "execution_count": 54,
   "metadata": {},
   "outputs": [
    {
     "data": {
      "text/plain": [
       "5×3 Array{Float64,2}:\n",
       "  0.29337    -1.25023    0.65265  \n",
       "  0.929887   -0.693108   0.760531 \n",
       "  0.788622    0.167753  -0.311804 \n",
       "  0.162461    2.20369    0.0749647\n",
       " -0.0680599  -0.581849   0.391977 "
      ]
     },
     "execution_count": 54,
     "metadata": {},
     "output_type": "execute_result"
    }
   ],
   "source": [
    "B"
   ]
  },
  {
   "cell_type": "code",
   "execution_count": 55,
   "metadata": {},
   "outputs": [
    {
     "name": "stdout",
     "output_type": "stream",
     "text": [
      "2.93370e-01 9.29887e-01 7.88622e-01 1.62461e-01 -6.80599e-02 \n",
      "-1.25023e+00 -6.93108e-01 1.67753e-01 2.20369e+00 -5.81849e-01 \n",
      "6.52650e-01 7.60531e-01 -3.11804e-01 7.49647e-02 3.91977e-01 \n"
     ]
    }
   ],
   "source": [
    ";cat outFile"
   ]
  },
  {
   "cell_type": "markdown",
   "metadata": {},
   "source": [
    "### Binary Files\n",
    "\n",
    "Write matrix A. In Julia matrices are stored by column (column-major). So should writing should be done by column."
   ]
  },
  {
   "cell_type": "code",
   "execution_count": 75,
   "metadata": {},
   "outputs": [],
   "source": [
    "binOut = open(\"out.bin\",\"w\")\n",
    "n,p = size(A)\n",
    "write(binOut,n,p)\n",
    "for j=1:p, i=1:n\n",
    "    write(binOut,A[i,j])\n",
    "end\n",
    "close(binOut)"
   ]
  },
  {
   "cell_type": "code",
   "execution_count": 76,
   "metadata": {},
   "outputs": [
    {
     "data": {
      "text/plain": [
       "IOStream(<file out.bin>)"
      ]
     },
     "execution_count": 76,
     "metadata": {},
     "output_type": "execute_result"
    }
   ],
   "source": [
    "binIn = open(\"out.bin\",\"r\")"
   ]
  },
  {
   "cell_type": "markdown",
   "metadata": {},
   "source": [
    "#### Reading from a binary file is easy."
   ]
  },
  {
   "cell_type": "code",
   "execution_count": 77,
   "metadata": {},
   "outputs": [],
   "source": [
    "mySize = zeros(Int64,2)\n",
    "read!(binIn,mySize)\n",
    "C = zeros(n,p)\n",
    "read!(binIn,C)\n",
    "close(binIn)"
   ]
  },
  {
   "cell_type": "code",
   "execution_count": 81,
   "metadata": {},
   "outputs": [
    {
     "data": {
      "text/plain": [
       "5×3 Array{Float64,2}:\n",
       "  0.29337    -1.25023    0.65265  \n",
       "  0.929887   -0.693108   0.760531 \n",
       "  0.788622    0.167753  -0.311804 \n",
       "  0.162461    2.20369    0.0749647\n",
       " -0.0680599  -0.581849   0.391977 "
      ]
     },
     "execution_count": 81,
     "metadata": {},
     "output_type": "execute_result"
    }
   ],
   "source": [
    "C"
   ]
  }
 ],
 "metadata": {
  "kernelspec": {
   "display_name": "Julia 1.1.0",
   "language": "julia",
   "name": "julia-1.1"
  },
  "language_info": {
   "file_extension": ".jl",
   "mimetype": "application/julia",
   "name": "julia",
   "version": "1.1.0"
  }
 },
 "nbformat": 4,
 "nbformat_minor": 2
}
