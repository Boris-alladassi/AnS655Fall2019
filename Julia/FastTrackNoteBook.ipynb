{
 "cells": [
  {
   "cell_type": "markdown",
   "metadata": {},
   "source": [
    "# Fast Track to Julia NoteBook\n",
    "\n",
    "Expanding on parts of [Fast Track to Julia](https://juliadocs.github.io/Julia-Cheat-Sheet/)"
   ]
  },
  {
   "cell_type": "markdown",
   "metadata": {},
   "source": [
    "## Basics"
   ]
  },
  {
   "cell_type": "code",
   "execution_count": 1,
   "metadata": {},
   "outputs": [
    {
     "data": {
      "text/plain": [
       "12.5"
      ]
     },
     "execution_count": 1,
     "metadata": {},
     "output_type": "execute_result"
    }
   ],
   "source": [
    "a = 2.5\n",
    "5a"
   ]
  },
  {
   "cell_type": "code",
   "execution_count": 2,
   "metadata": {},
   "outputs": [
    {
     "data": {
      "text/plain": [
       "12.5"
      ]
     },
     "execution_count": 2,
     "metadata": {},
     "output_type": "execute_result"
    }
   ],
   "source": [
    "5*a"
   ]
  },
  {
   "cell_type": "markdown",
   "metadata": {},
   "source": [
    "`ans` has the result from the last calculation:"
   ]
  },
  {
   "cell_type": "code",
   "execution_count": 3,
   "metadata": {},
   "outputs": [
    {
     "data": {
      "text/plain": [
       "12.5"
      ]
     },
     "execution_count": 3,
     "metadata": {},
     "output_type": "execute_result"
    }
   ],
   "source": [
    "ans"
   ]
  },
  {
   "cell_type": "markdown",
   "metadata": {},
   "source": [
    "### Two types of comments \n",
    "\n",
    "#### Frist type:"
   ]
  },
  {
   "cell_type": "code",
   "execution_count": 4,
   "metadata": {},
   "outputs": [
    {
     "data": {
      "text/plain": [
       "22.5"
      ]
     },
     "execution_count": 4,
     "metadata": {},
     "output_type": "execute_result"
    }
   ],
   "source": [
    "# this is a one line comment\n",
    "9a # comment can be at the end of a line too"
   ]
  },
  {
   "cell_type": "markdown",
   "metadata": {},
   "source": [
    "#### Second type:"
   ]
  },
  {
   "cell_type": "code",
   "execution_count": 5,
   "metadata": {},
   "outputs": [],
   "source": [
    "#= This is the first line of a comment block\n",
    "9a # comment can be at the end of a line too\n",
    "This is the last line of the block =# "
   ]
  },
  {
   "cell_type": "markdown",
   "metadata": {},
   "source": [
    "### Julia allows simple way to swap values of variables"
   ]
  },
  {
   "cell_type": "code",
   "execution_count": 6,
   "metadata": {},
   "outputs": [
    {
     "data": {
      "text/plain": [
       "2-element Array{Int64,1}:\n",
       " 1\n",
       " 2"
      ]
     },
     "execution_count": 6,
     "metadata": {},
     "output_type": "execute_result"
    }
   ],
   "source": [
    "a,b = 1,2\n",
    "[a,b]"
   ]
  },
  {
   "cell_type": "code",
   "execution_count": 7,
   "metadata": {},
   "outputs": [
    {
     "data": {
      "text/plain": [
       "2-element Array{Int64,1}:\n",
       " 2\n",
       " 1"
      ]
     },
     "execution_count": 7,
     "metadata": {},
     "output_type": "execute_result"
    }
   ],
   "source": [
    "# easy swapping of values\n",
    "a,b = b,a\n",
    "[a,b]"
   ]
  },
  {
   "cell_type": "code",
   "execution_count": 8,
   "metadata": {},
   "outputs": [
    {
     "data": {
      "text/plain": [
       "2-element Array{Int64,1}:\n",
       " 2\n",
       " 1"
      ]
     },
     "execution_count": 8,
     "metadata": {},
     "output_type": "execute_result"
    }
   ],
   "source": [
    "# in most languages you have to do\n",
    "a = 1\n",
    "b = 2\n",
    "temp = a\n",
    "a = b\n",
    "b = temp\n",
    "[a,b]"
   ]
  },
  {
   "cell_type": "markdown",
   "metadata": {},
   "source": [
    "### Julia allows simple boolean expressions"
   ]
  },
  {
   "cell_type": "code",
   "execution_count": 9,
   "metadata": {},
   "outputs": [
    {
     "data": {
      "text/plain": [
       "true"
      ]
     },
     "execution_count": 9,
     "metadata": {},
     "output_type": "execute_result"
    }
   ],
   "source": [
    "# Example\n",
    "1 < a < 3"
   ]
  },
  {
   "cell_type": "code",
   "execution_count": 10,
   "metadata": {},
   "outputs": [
    {
     "data": {
      "text/plain": [
       "true"
      ]
     },
     "execution_count": 10,
     "metadata": {},
     "output_type": "execute_result"
    }
   ],
   "source": [
    "# In many languages this has to be written as\n",
    "1 < a && a < 3"
   ]
  },
  {
   "cell_type": "markdown",
   "metadata": {},
   "source": [
    "### Ternary Operator"
   ]
  },
  {
   "cell_type": "code",
   "execution_count": 11,
   "metadata": {},
   "outputs": [
    {
     "data": {
      "text/plain": [
       "1"
      ]
     },
     "execution_count": 11,
     "metadata": {},
     "output_type": "execute_result"
    }
   ],
   "source": [
    "a = 1\n",
    "b = 1\n",
    "c = 2\n",
    "\n",
    "res = a==b ? a : b"
   ]
  },
  {
   "cell_type": "code",
   "execution_count": 12,
   "metadata": {},
   "outputs": [
    {
     "data": {
      "text/plain": [
       "2"
      ]
     },
     "execution_count": 12,
     "metadata": {},
     "output_type": "execute_result"
    }
   ],
   "source": [
    "a==c ? a : c"
   ]
  },
  {
   "cell_type": "code",
   "execution_count": 13,
   "metadata": {},
   "outputs": [
    {
     "data": {
      "text/plain": [
       "10"
      ]
     },
     "execution_count": 13,
     "metadata": {},
     "output_type": "execute_result"
    }
   ],
   "source": [
    "a==c ? 1 : 10"
   ]
  },
  {
   "cell_type": "code",
   "execution_count": 14,
   "metadata": {},
   "outputs": [
    {
     "data": {
      "text/plain": [
       "1"
      ]
     },
     "execution_count": 14,
     "metadata": {},
     "output_type": "execute_result"
    }
   ],
   "source": [
    "a==c-b ? 1 : 10"
   ]
  },
  {
   "cell_type": "markdown",
   "metadata": {},
   "source": [
    "### Remainder"
   ]
  },
  {
   "cell_type": "code",
   "execution_count": 15,
   "metadata": {},
   "outputs": [
    {
     "data": {
      "text/plain": [
       "9"
      ]
     },
     "execution_count": 15,
     "metadata": {},
     "output_type": "execute_result"
    }
   ],
   "source": [
    "99 % 10"
   ]
  },
  {
   "cell_type": "code",
   "execution_count": 16,
   "metadata": {},
   "outputs": [
    {
     "data": {
      "text/plain": [
       "0"
      ]
     },
     "execution_count": 16,
     "metadata": {},
     "output_type": "execute_result"
    }
   ],
   "source": [
    "100 % 10"
   ]
  },
  {
   "cell_type": "code",
   "execution_count": 17,
   "metadata": {},
   "outputs": [
    {
     "data": {
      "text/plain": [
       "0"
      ]
     },
     "execution_count": 17,
     "metadata": {},
     "output_type": "execute_result"
    }
   ],
   "source": [
    "90 % 10"
   ]
  },
  {
   "cell_type": "markdown",
   "metadata": {},
   "source": [
    "## Arrays (Vectors and Matricies)"
   ]
  },
  {
   "cell_type": "markdown",
   "metadata": {},
   "source": [
    "### Declaration and Initialization of arrays"
   ]
  },
  {
   "cell_type": "code",
   "execution_count": 18,
   "metadata": {},
   "outputs": [
    {
     "data": {
      "text/plain": [
       "0-element Array{Float64,1}"
      ]
     },
     "execution_count": 18,
     "metadata": {},
     "output_type": "execute_result"
    }
   ],
   "source": [
    "# empty vector of double precision floats\n",
    "v = Array{Float64,1}()"
   ]
  },
  {
   "cell_type": "code",
   "execution_count": 19,
   "metadata": {},
   "outputs": [
    {
     "data": {
      "text/plain": [
       "1-element Array{Float64,1}:\n",
       " 2.0"
      ]
     },
     "execution_count": 19,
     "metadata": {},
     "output_type": "execute_result"
    }
   ],
   "source": [
    "push!(v,2.0)\n",
    "v"
   ]
  },
  {
   "cell_type": "code",
   "execution_count": 20,
   "metadata": {},
   "outputs": [
    {
     "data": {
      "text/plain": [
       "5-element Array{Float64,1}:\n",
       " 0.0\n",
       " 0.0\n",
       " 0.0\n",
       " 0.0\n",
       " 0.0"
      ]
     },
     "execution_count": 20,
     "metadata": {},
     "output_type": "execute_result"
    }
   ],
   "source": [
    "# vector of size 5, double precision floats\n",
    "u =  Array{Float64,1}(undef, 5)"
   ]
  },
  {
   "cell_type": "code",
   "execution_count": 21,
   "metadata": {},
   "outputs": [
    {
     "data": {
      "text/plain": [
       "3×5 Array{Float64,2}:\n",
       " NaN            6.9485e-310  6.9485e-310   6.9485e-310  6.9485e-310\n",
       "   0.0          6.9485e-310  1.08694e-322  6.9485e-310  6.9485e-310\n",
       "   1.4822e-323  6.9485e-310  1.03754e-322  0.0          6.9485e-310"
      ]
     },
     "execution_count": 21,
     "metadata": {},
     "output_type": "execute_result"
    }
   ],
   "source": [
    "# matrix of size 3x5, double precision floats\n",
    "U =  Array{Float64,2}(undef, 3,5)"
   ]
  },
  {
   "cell_type": "code",
   "execution_count": 22,
   "metadata": {},
   "outputs": [
    {
     "data": {
      "text/plain": [
       "5-element Array{Float64,1}:\n",
       " 2.2\n",
       " 2.2\n",
       " 2.2\n",
       " 2.2\n",
       " 2.2"
      ]
     },
     "execution_count": 22,
     "metadata": {},
     "output_type": "execute_result"
    }
   ],
   "source": [
    "# vector of size 5, of 2.2\n",
    "u =  fill(2.2,5)"
   ]
  },
  {
   "cell_type": "code",
   "execution_count": 23,
   "metadata": {},
   "outputs": [
    {
     "data": {
      "text/plain": [
       "5-element Array{Float64,1}:\n",
       " 0.0\n",
       " 0.0\n",
       " 0.0\n",
       " 0.0\n",
       " 0.0"
      ]
     },
     "execution_count": 23,
     "metadata": {},
     "output_type": "execute_result"
    }
   ],
   "source": [
    "zeros(5)"
   ]
  },
  {
   "cell_type": "code",
   "execution_count": 24,
   "metadata": {},
   "outputs": [
    {
     "data": {
      "text/plain": [
       "3×5 Array{Float64,2}:\n",
       " 0.0  0.0  0.0  0.0  0.0\n",
       " 0.0  0.0  0.0  0.0  0.0\n",
       " 0.0  0.0  0.0  0.0  0.0"
      ]
     },
     "execution_count": 24,
     "metadata": {},
     "output_type": "execute_result"
    }
   ],
   "source": [
    "zeros(3,5)"
   ]
  },
  {
   "cell_type": "code",
   "execution_count": 25,
   "metadata": {},
   "outputs": [
    {
     "data": {
      "text/plain": [
       "3×5 Array{Float64,2}:\n",
       " 0.0  0.0  0.0  0.0  0.0\n",
       " 0.0  0.0  0.0  0.0  0.0\n",
       " 0.0  0.0  0.0  0.0  0.0"
      ]
     },
     "execution_count": 25,
     "metadata": {},
     "output_type": "execute_result"
    }
   ],
   "source": [
    "zero(U)"
   ]
  },
  {
   "cell_type": "code",
   "execution_count": 26,
   "metadata": {},
   "outputs": [
    {
     "data": {
      "text/plain": [
       "3×5 Array{Float64,2}:\n",
       " 1.0  1.0  1.0  1.0  1.0\n",
       " 1.0  1.0  1.0  1.0  1.0\n",
       " 1.0  1.0  1.0  1.0  1.0"
      ]
     },
     "execution_count": 26,
     "metadata": {},
     "output_type": "execute_result"
    }
   ],
   "source": [
    "ones(3,5)"
   ]
  },
  {
   "cell_type": "code",
   "execution_count": 27,
   "metadata": {},
   "outputs": [],
   "source": [
    "using Random, Statistics"
   ]
  },
  {
   "cell_type": "code",
   "execution_count": 28,
   "metadata": {},
   "outputs": [
    {
     "data": {
      "text/plain": [
       "3×5 Array{Float64,2}:\n",
       " 0.891587  0.0401357  0.91547   0.531265  0.207342\n",
       " 0.693194  0.15078    0.316357  0.121536  0.89916 \n",
       " 0.765814  0.203055   0.152499  0.15561   0.007035"
      ]
     },
     "execution_count": 28,
     "metadata": {},
     "output_type": "execute_result"
    }
   ],
   "source": [
    "rand(3,5) # uniform(0,1)"
   ]
  },
  {
   "cell_type": "code",
   "execution_count": 29,
   "metadata": {},
   "outputs": [
    {
     "data": {
      "text/plain": [
       "3×5 Array{Float64,2}:\n",
       " 0.179615    1.64913    1.34856    -1.0603     -2.41706 \n",
       " 0.439123    0.186215   0.0274714  -0.0233425  -0.329273\n",
       " 0.0392877  -2.3129    -0.39877    -1.02568     1.47139 "
      ]
     },
     "execution_count": 29,
     "metadata": {},
     "output_type": "execute_result"
    }
   ],
   "source": [
    "randn(3,5) # standard normal"
   ]
  },
  {
   "cell_type": "code",
   "execution_count": 30,
   "metadata": {},
   "outputs": [
    {
     "data": {
      "text/plain": [
       "-0.0013217296880590175"
      ]
     },
     "execution_count": 30,
     "metadata": {},
     "output_type": "execute_result"
    }
   ],
   "source": [
    "mean(randn(1_000_000))"
   ]
  },
  {
   "cell_type": "code",
   "execution_count": 31,
   "metadata": {},
   "outputs": [
    {
     "data": {
      "text/plain": [
       "1.0003505854524457"
      ]
     },
     "execution_count": 31,
     "metadata": {},
     "output_type": "execute_result"
    }
   ],
   "source": [
    "var(randn(1_000_000))"
   ]
  },
  {
   "cell_type": "code",
   "execution_count": 32,
   "metadata": {},
   "outputs": [],
   "source": [
    "using Distributions, LinearAlgebra"
   ]
  },
  {
   "cell_type": "code",
   "execution_count": 33,
   "metadata": {},
   "outputs": [
    {
     "data": {
      "text/plain": [
       "10×20 Array{Int64,2}:\n",
       " 2  0  2  0  1  1  2  1  0  0  2  1  2  2  1  0  2  1  0  0\n",
       " 1  0  0  2  1  1  1  1  1  1  1  2  0  2  1  2  2  1  1  2\n",
       " 0  2  0  1  1  1  1  0  1  2  2  2  1  0  1  1  1  0  1  2\n",
       " 1  1  2  0  1  1  2  0  2  1  1  2  1  0  2  1  2  1  0  2\n",
       " 2  1  1  0  1  1  1  0  1  2  2  1  0  1  2  1  1  0  1  1\n",
       " 0  2  1  1  1  1  1  1  1  0  0  2  1  2  2  1  1  1  2  1\n",
       " 1  0  2  1  2  1  1  1  2  2  1  1  0  1  2  0  1  2  0  1\n",
       " 1  2  1  0  1  1  1  0  1  2  1  2  2  1  1  2  0  1  0  1\n",
       " 0  2  2  1  1  1  1  2  0  2  1  2  1  1  1  1  0  2  1  2\n",
       " 1  1  1  0  2  1  0  0  0  2  2  1  0  1  1  0  1  2  1  2"
      ]
     },
     "execution_count": 33,
     "metadata": {},
     "output_type": "execute_result"
    }
   ],
   "source": [
    "M = rand(Binomial(2,0.5),10,20)"
   ]
  },
  {
   "cell_type": "markdown",
   "metadata": {},
   "source": [
    "#### Get first column as one dimensionsal array"
   ]
  },
  {
   "cell_type": "code",
   "execution_count": 34,
   "metadata": {},
   "outputs": [
    {
     "data": {
      "text/plain": [
       "10-element Array{Int64,1}:\n",
       " 2\n",
       " 1\n",
       " 0\n",
       " 1\n",
       " 2\n",
       " 0\n",
       " 1\n",
       " 1\n",
       " 0\n",
       " 1"
      ]
     },
     "execution_count": 34,
     "metadata": {},
     "output_type": "execute_result"
    }
   ],
   "source": [
    "M[:,1]"
   ]
  },
  {
   "cell_type": "markdown",
   "metadata": {},
   "source": [
    "#### Get first row as one dimensionsal array¶"
   ]
  },
  {
   "cell_type": "code",
   "execution_count": 35,
   "metadata": {},
   "outputs": [
    {
     "data": {
      "text/plain": [
       "20-element Array{Int64,1}:\n",
       " 2\n",
       " 0\n",
       " 2\n",
       " 0\n",
       " 1\n",
       " 1\n",
       " 2\n",
       " 1\n",
       " 0\n",
       " 0\n",
       " 2\n",
       " 1\n",
       " 2\n",
       " 2\n",
       " 1\n",
       " 0\n",
       " 2\n",
       " 1\n",
       " 0\n",
       " 0"
      ]
     },
     "execution_count": 35,
     "metadata": {},
     "output_type": "execute_result"
    }
   ],
   "source": [
    "M[1,:]"
   ]
  },
  {
   "cell_type": "markdown",
   "metadata": {},
   "source": [
    "#### Transposing and array gives a row vector "
   ]
  },
  {
   "cell_type": "code",
   "execution_count": 36,
   "metadata": {},
   "outputs": [
    {
     "data": {
      "text/plain": [
       "1×20 Adjoint{Int64,Array{Int64,1}}:\n",
       " 2  0  2  0  1  1  2  1  0  0  2  1  2  2  1  0  2  1  0  0"
      ]
     },
     "execution_count": 36,
     "metadata": {},
     "output_type": "execute_result"
    }
   ],
   "source": [
    "M[1,:]'"
   ]
  },
  {
   "cell_type": "markdown",
   "metadata": {},
   "source": [
    "#### Sum of squares of elements in first row"
   ]
  },
  {
   "cell_type": "code",
   "execution_count": 37,
   "metadata": {},
   "outputs": [
    {
     "data": {
      "text/plain": [
       "34"
      ]
     },
     "execution_count": 37,
     "metadata": {},
     "output_type": "execute_result"
    }
   ],
   "source": [
    "M[1,:]'M[1,:]"
   ]
  },
  {
   "cell_type": "code",
   "execution_count": 38,
   "metadata": {},
   "outputs": [
    {
     "data": {
      "text/plain": [
       "34"
      ]
     },
     "execution_count": 38,
     "metadata": {},
     "output_type": "execute_result"
    }
   ],
   "source": [
    "M[1,:]'*M[1,:]"
   ]
  },
  {
   "cell_type": "code",
   "execution_count": 39,
   "metadata": {},
   "outputs": [
    {
     "data": {
      "text/plain": [
       "34"
      ]
     },
     "execution_count": 39,
     "metadata": {},
     "output_type": "execute_result"
    }
   ],
   "source": [
    "dot(M[1,:],M[1,:])"
   ]
  },
  {
   "cell_type": "code",
   "execution_count": 40,
   "metadata": {},
   "outputs": [
    {
     "data": {
      "text/plain": [
       "20-element Array{Int64,1}:\n",
       " 4\n",
       " 0\n",
       " 4\n",
       " 0\n",
       " 1\n",
       " 1\n",
       " 4\n",
       " 1\n",
       " 0\n",
       " 0\n",
       " 4\n",
       " 1\n",
       " 4\n",
       " 4\n",
       " 1\n",
       " 0\n",
       " 4\n",
       " 1\n",
       " 0\n",
       " 0"
      ]
     },
     "execution_count": 40,
     "metadata": {},
     "output_type": "execute_result"
    }
   ],
   "source": [
    "M[1,:].^2"
   ]
  },
  {
   "cell_type": "code",
   "execution_count": 41,
   "metadata": {},
   "outputs": [
    {
     "data": {
      "text/plain": [
       "34"
      ]
     },
     "execution_count": 41,
     "metadata": {},
     "output_type": "execute_result"
    }
   ],
   "source": [
    "sum(M[1,:].^2)"
   ]
  },
  {
   "cell_type": "markdown",
   "metadata": {},
   "source": [
    "#### Matrix transpose and product "
   ]
  },
  {
   "cell_type": "code",
   "execution_count": 42,
   "metadata": {},
   "outputs": [
    {
     "data": {
      "text/plain": [
       "true"
      ]
     },
     "execution_count": 42,
     "metadata": {},
     "output_type": "execute_result"
    }
   ],
   "source": [
    "M'M == M'*M"
   ]
  },
  {
   "cell_type": "markdown",
   "metadata": {},
   "source": [
    "### Identity Matrix"
   ]
  },
  {
   "cell_type": "markdown",
   "metadata": {},
   "source": [
    "#### In general"
   ]
  },
  {
   "cell_type": "code",
   "execution_count": 43,
   "metadata": {},
   "outputs": [
    {
     "data": {
      "text/plain": [
       "3×3 Array{Float64,2}:\n",
       " 1.0  0.0  0.0\n",
       " 0.0  1.0  0.0\n",
       " 0.0  0.0  1.0"
      ]
     },
     "execution_count": 43,
     "metadata": {},
     "output_type": "execute_result"
    }
   ],
   "source": [
    "Matrix{Float64}(I,3,3)"
   ]
  },
  {
   "cell_type": "code",
   "execution_count": 44,
   "metadata": {},
   "outputs": [
    {
     "data": {
      "text/plain": [
       "3×4 Array{Float64,2}:\n",
       " 1.0  0.0  0.0  0.0\n",
       " 0.0  1.0  0.0  0.0\n",
       " 0.0  0.0  1.0  0.0"
      ]
     },
     "execution_count": 44,
     "metadata": {},
     "output_type": "execute_result"
    }
   ],
   "source": [
    "Matrix{Float64}(I,3,4)"
   ]
  },
  {
   "cell_type": "code",
   "execution_count": 45,
   "metadata": {},
   "outputs": [
    {
     "data": {
      "text/plain": [
       "4×3 Array{Float64,2}:\n",
       " 1.0  0.0  0.0\n",
       " 0.0  1.0  0.0\n",
       " 0.0  0.0  1.0\n",
       " 0.0  0.0  0.0"
      ]
     },
     "execution_count": 45,
     "metadata": {},
     "output_type": "execute_result"
    }
   ],
   "source": [
    "Matrix{Float64}(I,4,3)"
   ]
  },
  {
   "cell_type": "markdown",
   "metadata": {},
   "source": [
    "#### When dimensions can be inferred"
   ]
  },
  {
   "cell_type": "code",
   "execution_count": 46,
   "metadata": {},
   "outputs": [
    {
     "data": {
      "text/plain": [
       "20×20 Array{Int64,2}:\n",
       " 14   6  12   3  11   9  11   4   8  …  12   7  11  13   7  12   9   4  10\n",
       "  6  20  12   6  12  11  11   6   9     20  11  10  15  12   8  11  10  17\n",
       " 12  12  21   5  15  12  15   9  11     18  11  13  18   8  13  16   6  15\n",
       "  3   6   5   9   7   6   6   6   6     11   3   8   8   7   7   7   6  10\n",
       " 11  12  15   7  17  12  12   7  11     18   8  13  17   9  13  15   8  17\n",
       "  9  11  12   6  12  11  11   6   9  …  16   8  11  14   9  11  11   7  14\n",
       " 11  11  15   6  12  11  16   7  11     18  11  12  16  10  14  11   6  14\n",
       "  4   6   9   6   7   6   7   9   4     10   5   9   8   5   6   9   5   8\n",
       "  8   9  11   6  11   9  11   4  14     15   6   8  15   9  11   9   5  13\n",
       " 12  17  16   8  18  14  13   7  13     22   9  12  19  13  12  16   9  22\n",
       " 14  13  15   6  16  13  14   6  10  …  19  10  13  17  10  15  13   8  18\n",
       " 12  20  18  11  18  16  18  10  15     29  14  17  22  17  17  17  12  24\n",
       "  7  11  11   3   8   8  11   5   6     14  13   9  10   8   8   8   4   9\n",
       " 11  10  13   8  13  11  12   9   8     17   9  18  15  10  13  13   9  13\n",
       " 13  15  18   8  17  14  16   8  15     22  10  15  23  12  16  15  10  19\n",
       "  7  12   8   7   9   9  10   5   9  …  17   8  10  12  14   9   8   7  14\n",
       " 12   8  13   7  13  11  14   6  11     17   8  13  16   9  18  11   7  15\n",
       "  9  11  16   7  15  11  11   9   9     17   8  13  15   8  11  18   7  16\n",
       "  4  10   6   6   8   7   6   5   5     12   4   9  10   7   7   7  10  11\n",
       " 10  17  15  10  17  14  14   8  13     24   9  13  19  14  15  16  11  25"
      ]
     },
     "execution_count": 46,
     "metadata": {},
     "output_type": "execute_result"
    }
   ],
   "source": [
    "A = M'M + I"
   ]
  },
  {
   "cell_type": "markdown",
   "metadata": {},
   "source": [
    "### Diagonal Matrix from $\\mathbf{A}$"
   ]
  },
  {
   "cell_type": "code",
   "execution_count": 47,
   "metadata": {},
   "outputs": [
    {
     "data": {
      "text/plain": [
       "20×20 Diagonal{Int64,Array{Int64,1}}:\n",
       " 14   ⋅   ⋅  ⋅   ⋅   ⋅   ⋅  ⋅   ⋅   ⋅   ⋅   ⋅   ⋅   ⋅   ⋅   ⋅   ⋅   ⋅   ⋅   ⋅\n",
       "  ⋅  20   ⋅  ⋅   ⋅   ⋅   ⋅  ⋅   ⋅   ⋅   ⋅   ⋅   ⋅   ⋅   ⋅   ⋅   ⋅   ⋅   ⋅   ⋅\n",
       "  ⋅   ⋅  21  ⋅   ⋅   ⋅   ⋅  ⋅   ⋅   ⋅   ⋅   ⋅   ⋅   ⋅   ⋅   ⋅   ⋅   ⋅   ⋅   ⋅\n",
       "  ⋅   ⋅   ⋅  9   ⋅   ⋅   ⋅  ⋅   ⋅   ⋅   ⋅   ⋅   ⋅   ⋅   ⋅   ⋅   ⋅   ⋅   ⋅   ⋅\n",
       "  ⋅   ⋅   ⋅  ⋅  17   ⋅   ⋅  ⋅   ⋅   ⋅   ⋅   ⋅   ⋅   ⋅   ⋅   ⋅   ⋅   ⋅   ⋅   ⋅\n",
       "  ⋅   ⋅   ⋅  ⋅   ⋅  11   ⋅  ⋅   ⋅   ⋅   ⋅   ⋅   ⋅   ⋅   ⋅   ⋅   ⋅   ⋅   ⋅   ⋅\n",
       "  ⋅   ⋅   ⋅  ⋅   ⋅   ⋅  16  ⋅   ⋅   ⋅   ⋅   ⋅   ⋅   ⋅   ⋅   ⋅   ⋅   ⋅   ⋅   ⋅\n",
       "  ⋅   ⋅   ⋅  ⋅   ⋅   ⋅   ⋅  9   ⋅   ⋅   ⋅   ⋅   ⋅   ⋅   ⋅   ⋅   ⋅   ⋅   ⋅   ⋅\n",
       "  ⋅   ⋅   ⋅  ⋅   ⋅   ⋅   ⋅  ⋅  14   ⋅   ⋅   ⋅   ⋅   ⋅   ⋅   ⋅   ⋅   ⋅   ⋅   ⋅\n",
       "  ⋅   ⋅   ⋅  ⋅   ⋅   ⋅   ⋅  ⋅   ⋅  27   ⋅   ⋅   ⋅   ⋅   ⋅   ⋅   ⋅   ⋅   ⋅   ⋅\n",
       "  ⋅   ⋅   ⋅  ⋅   ⋅   ⋅   ⋅  ⋅   ⋅   ⋅  22   ⋅   ⋅   ⋅   ⋅   ⋅   ⋅   ⋅   ⋅   ⋅\n",
       "  ⋅   ⋅   ⋅  ⋅   ⋅   ⋅   ⋅  ⋅   ⋅   ⋅   ⋅  29   ⋅   ⋅   ⋅   ⋅   ⋅   ⋅   ⋅   ⋅\n",
       "  ⋅   ⋅   ⋅  ⋅   ⋅   ⋅   ⋅  ⋅   ⋅   ⋅   ⋅   ⋅  13   ⋅   ⋅   ⋅   ⋅   ⋅   ⋅   ⋅\n",
       "  ⋅   ⋅   ⋅  ⋅   ⋅   ⋅   ⋅  ⋅   ⋅   ⋅   ⋅   ⋅   ⋅  18   ⋅   ⋅   ⋅   ⋅   ⋅   ⋅\n",
       "  ⋅   ⋅   ⋅  ⋅   ⋅   ⋅   ⋅  ⋅   ⋅   ⋅   ⋅   ⋅   ⋅   ⋅  23   ⋅   ⋅   ⋅   ⋅   ⋅\n",
       "  ⋅   ⋅   ⋅  ⋅   ⋅   ⋅   ⋅  ⋅   ⋅   ⋅   ⋅   ⋅   ⋅   ⋅   ⋅  14   ⋅   ⋅   ⋅   ⋅\n",
       "  ⋅   ⋅   ⋅  ⋅   ⋅   ⋅   ⋅  ⋅   ⋅   ⋅   ⋅   ⋅   ⋅   ⋅   ⋅   ⋅  18   ⋅   ⋅   ⋅\n",
       "  ⋅   ⋅   ⋅  ⋅   ⋅   ⋅   ⋅  ⋅   ⋅   ⋅   ⋅   ⋅   ⋅   ⋅   ⋅   ⋅   ⋅  18   ⋅   ⋅\n",
       "  ⋅   ⋅   ⋅  ⋅   ⋅   ⋅   ⋅  ⋅   ⋅   ⋅   ⋅   ⋅   ⋅   ⋅   ⋅   ⋅   ⋅   ⋅  10   ⋅\n",
       "  ⋅   ⋅   ⋅  ⋅   ⋅   ⋅   ⋅  ⋅   ⋅   ⋅   ⋅   ⋅   ⋅   ⋅   ⋅   ⋅   ⋅   ⋅   ⋅  25"
      ]
     },
     "execution_count": 47,
     "metadata": {},
     "output_type": "execute_result"
    }
   ],
   "source": [
    "Diagonal(A)"
   ]
  },
  {
   "cell_type": "markdown",
   "metadata": {},
   "source": [
    "### Subset of Matrix"
   ]
  },
  {
   "cell_type": "code",
   "execution_count": 48,
   "metadata": {},
   "outputs": [
    {
     "data": {
      "text/plain": [
       "2×2 Array{Int64,2}:\n",
       " 12  3\n",
       " 12  6"
      ]
     },
     "execution_count": 48,
     "metadata": {},
     "output_type": "execute_result"
    }
   ],
   "source": [
    "B = A[1:2,3:4]"
   ]
  },
  {
   "cell_type": "code",
   "execution_count": 49,
   "metadata": {},
   "outputs": [
    {
     "data": {
      "text/plain": [
       "2×10 Array{Int64,2}:\n",
       " 14  12   7  11  13   7  12   9   4  10\n",
       " 13  20  11  10  15  12   8  11  10  17"
      ]
     },
     "execution_count": 49,
     "metadata": {},
     "output_type": "execute_result"
    }
   ],
   "source": [
    "C = A[1:2,11:end]"
   ]
  },
  {
   "cell_type": "markdown",
   "metadata": {},
   "source": [
    "### Concatenation\n",
    "#### Horizontal"
   ]
  },
  {
   "cell_type": "code",
   "execution_count": 50,
   "metadata": {},
   "outputs": [
    {
     "data": {
      "text/plain": [
       "2×12 Array{Int64,2}:\n",
       " 12  3  14  12   7  11  13   7  12   9   4  10\n",
       " 12  6  13  20  11  10  15  12   8  11  10  17"
      ]
     },
     "execution_count": 50,
     "metadata": {},
     "output_type": "execute_result"
    }
   ],
   "source": [
    "[B C]"
   ]
  },
  {
   "cell_type": "code",
   "execution_count": 51,
   "metadata": {},
   "outputs": [
    {
     "data": {
      "text/plain": [
       "2×12 Array{Int64,2}:\n",
       " 12  3  14  12   7  11  13   7  12   9   4  10\n",
       " 12  6  13  20  11  10  15  12   8  11  10  17"
      ]
     },
     "execution_count": 51,
     "metadata": {},
     "output_type": "execute_result"
    }
   ],
   "source": [
    "hcat(B,C)"
   ]
  },
  {
   "cell_type": "markdown",
   "metadata": {},
   "source": [
    "#### Vertical"
   ]
  },
  {
   "cell_type": "code",
   "execution_count": 52,
   "metadata": {},
   "outputs": [
    {
     "data": {
      "text/plain": [
       "12×20 Array{Int64,2}:\n",
       " 14   6  12   3  11   9  11   4   8  …  12   7  11  13   7  12   9   4  10\n",
       "  6  20  12   6  12  11  11   6   9     20  11  10  15  12   8  11  10  17\n",
       " 14  13  15   6  16  13  14   6  10     19  10  13  17  10  15  13   8  18\n",
       " 12  20  18  11  18  16  18  10  15     29  14  17  22  17  17  17  12  24\n",
       "  7  11  11   3   8   8  11   5   6     14  13   9  10   8   8   8   4   9\n",
       " 11  10  13   8  13  11  12   9   8  …  17   9  18  15  10  13  13   9  13\n",
       " 13  15  18   8  17  14  16   8  15     22  10  15  23  12  16  15  10  19\n",
       "  7  12   8   7   9   9  10   5   9     17   8  10  12  14   9   8   7  14\n",
       " 12   8  13   7  13  11  14   6  11     17   8  13  16   9  18  11   7  15\n",
       "  9  11  16   7  15  11  11   9   9     17   8  13  15   8  11  18   7  16\n",
       "  4  10   6   6   8   7   6   5   5  …  12   4   9  10   7   7   7  10  11\n",
       " 10  17  15  10  17  14  14   8  13     24   9  13  19  14  15  16  11  25"
      ]
     },
     "execution_count": 52,
     "metadata": {},
     "output_type": "execute_result"
    }
   ],
   "source": [
    "[ \n",
    "A[1:2,:]\n",
    "A[11:end,:]\n",
    "]"
   ]
  },
  {
   "cell_type": "code",
   "execution_count": 53,
   "metadata": {},
   "outputs": [
    {
     "data": {
      "text/plain": [
       "12×20 Array{Int64,2}:\n",
       " 14   6  12   3  11   9  11   4   8  …  12   7  11  13   7  12   9   4  10\n",
       "  6  20  12   6  12  11  11   6   9     20  11  10  15  12   8  11  10  17\n",
       " 14  13  15   6  16  13  14   6  10     19  10  13  17  10  15  13   8  18\n",
       " 12  20  18  11  18  16  18  10  15     29  14  17  22  17  17  17  12  24\n",
       "  7  11  11   3   8   8  11   5   6     14  13   9  10   8   8   8   4   9\n",
       " 11  10  13   8  13  11  12   9   8  …  17   9  18  15  10  13  13   9  13\n",
       " 13  15  18   8  17  14  16   8  15     22  10  15  23  12  16  15  10  19\n",
       "  7  12   8   7   9   9  10   5   9     17   8  10  12  14   9   8   7  14\n",
       " 12   8  13   7  13  11  14   6  11     17   8  13  16   9  18  11   7  15\n",
       "  9  11  16   7  15  11  11   9   9     17   8  13  15   8  11  18   7  16\n",
       "  4  10   6   6   8   7   6   5   5  …  12   4   9  10   7   7   7  10  11\n",
       " 10  17  15  10  17  14  14   8  13     24   9  13  19  14  15  16  11  25"
      ]
     },
     "execution_count": 53,
     "metadata": {},
     "output_type": "execute_result"
    }
   ],
   "source": [
    "vcat(A[1:2,:],A[11:end,:])"
   ]
  },
  {
   "cell_type": "markdown",
   "metadata": {},
   "source": [
    "### Sorting"
   ]
  },
  {
   "cell_type": "code",
   "execution_count": 54,
   "metadata": {},
   "outputs": [
    {
     "data": {
      "text/plain": [
       "10-element Array{Int64,1}:\n",
       " 0\n",
       " 0\n",
       " 0\n",
       " 1\n",
       " 1\n",
       " 1\n",
       " 1\n",
       " 1\n",
       " 2\n",
       " 2"
      ]
     },
     "execution_count": 54,
     "metadata": {},
     "output_type": "execute_result"
    }
   ],
   "source": [
    "sort(M[:,1])"
   ]
  },
  {
   "cell_type": "code",
   "execution_count": 55,
   "metadata": {},
   "outputs": [
    {
     "data": {
      "text/plain": [
       "10-element Array{Int64,1}:\n",
       "  3\n",
       "  6\n",
       "  9\n",
       "  2\n",
       "  4\n",
       "  7\n",
       "  8\n",
       " 10\n",
       "  1\n",
       "  5"
      ]
     },
     "execution_count": 55,
     "metadata": {},
     "output_type": "execute_result"
    }
   ],
   "source": [
    "index = sortperm(M[:,1])"
   ]
  },
  {
   "cell_type": "code",
   "execution_count": 56,
   "metadata": {},
   "outputs": [
    {
     "data": {
      "text/plain": [
       "10-element Array{Int64,1}:\n",
       " 0\n",
       " 0\n",
       " 0\n",
       " 1\n",
       " 1\n",
       " 1\n",
       " 1\n",
       " 1\n",
       " 2\n",
       " 2"
      ]
     },
     "execution_count": 56,
     "metadata": {},
     "output_type": "execute_result"
    }
   ],
   "source": [
    "M[index,1]"
   ]
  },
  {
   "cell_type": "markdown",
   "metadata": {},
   "source": [
    "### Sorting the entire matrix by the first column"
   ]
  },
  {
   "cell_type": "code",
   "execution_count": 57,
   "metadata": {},
   "outputs": [
    {
     "data": {
      "text/plain": [
       "10×20 Array{Int64,2}:\n",
       " 0  2  0  1  1  1  1  0  1  2  2  2  1  0  1  1  1  0  1  2\n",
       " 0  2  1  1  1  1  1  1  1  0  0  2  1  2  2  1  1  1  2  1\n",
       " 0  2  2  1  1  1  1  2  0  2  1  2  1  1  1  1  0  2  1  2\n",
       " 1  0  0  2  1  1  1  1  1  1  1  2  0  2  1  2  2  1  1  2\n",
       " 1  1  2  0  1  1  2  0  2  1  1  2  1  0  2  1  2  1  0  2\n",
       " 1  0  2  1  2  1  1  1  2  2  1  1  0  1  2  0  1  2  0  1\n",
       " 1  2  1  0  1  1  1  0  1  2  1  2  2  1  1  2  0  1  0  1\n",
       " 1  1  1  0  2  1  0  0  0  2  2  1  0  1  1  0  1  2  1  2\n",
       " 2  0  2  0  1  1  2  1  0  0  2  1  2  2  1  0  2  1  0  0\n",
       " 2  1  1  0  1  1  1  0  1  2  2  1  0  1  2  1  1  0  1  1"
      ]
     },
     "execution_count": 57,
     "metadata": {},
     "output_type": "execute_result"
    }
   ],
   "source": [
    "M[index,:]"
   ]
  },
  {
   "cell_type": "markdown",
   "metadata": {},
   "source": [
    "### Sorting matrix by the sum of columns 1 and 2"
   ]
  },
  {
   "cell_type": "code",
   "execution_count": 58,
   "metadata": {},
   "outputs": [
    {
     "data": {
      "text/plain": [
       "10×20 Array{Int64,2}:\n",
       " 1  0  0  2  1  1  1  1  1  1  1  2  0  2  1  2  2  1  1  2\n",
       " 1  0  2  1  2  1  1  1  2  2  1  1  0  1  2  0  1  2  0  1\n",
       " 2  0  2  0  1  1  2  1  0  0  2  1  2  2  1  0  2  1  0  0\n",
       " 0  2  0  1  1  1  1  0  1  2  2  2  1  0  1  1  1  0  1  2\n",
       " 1  1  2  0  1  1  2  0  2  1  1  2  1  0  2  1  2  1  0  2\n",
       " 0  2  1  1  1  1  1  1  1  0  0  2  1  2  2  1  1  1  2  1\n",
       " 0  2  2  1  1  1  1  2  0  2  1  2  1  1  1  1  0  2  1  2\n",
       " 1  1  1  0  2  1  0  0  0  2  2  1  0  1  1  0  1  2  1  2\n",
       " 2  1  1  0  1  1  1  0  1  2  2  1  0  1  2  1  1  0  1  1\n",
       " 1  2  1  0  1  1  1  0  1  2  1  2  2  1  1  2  0  1  0  1"
      ]
     },
     "execution_count": 58,
     "metadata": {},
     "output_type": "execute_result"
    }
   ],
   "source": [
    "M[sortperm( M[:,1]+M[:,2] ),:]"
   ]
  },
  {
   "cell_type": "markdown",
   "metadata": {},
   "source": [
    "### Selecting rows or columns of matrix"
   ]
  },
  {
   "cell_type": "markdown",
   "metadata": {},
   "source": [
    "#### Select rows where row sum is > 19"
   ]
  },
  {
   "cell_type": "code",
   "execution_count": 59,
   "metadata": {},
   "outputs": [
    {
     "data": {
      "text/plain": [
       "10-element BitArray{1}:\n",
       "  true\n",
       "  true\n",
       "  true\n",
       "  true\n",
       "  true\n",
       "  true\n",
       "  true\n",
       "  true\n",
       "  true\n",
       " false"
      ]
     },
     "execution_count": 59,
     "metadata": {},
     "output_type": "execute_result"
    }
   ],
   "source": [
    "vec(sum(M,dims=2) .> 19)"
   ]
  },
  {
   "cell_type": "code",
   "execution_count": 60,
   "metadata": {},
   "outputs": [
    {
     "data": {
      "text/plain": [
       "9×20 Array{Int64,2}:\n",
       " 2  0  2  0  1  1  2  1  0  0  2  1  2  2  1  0  2  1  0  0\n",
       " 1  0  0  2  1  1  1  1  1  1  1  2  0  2  1  2  2  1  1  2\n",
       " 0  2  0  1  1  1  1  0  1  2  2  2  1  0  1  1  1  0  1  2\n",
       " 1  1  2  0  1  1  2  0  2  1  1  2  1  0  2  1  2  1  0  2\n",
       " 2  1  1  0  1  1  1  0  1  2  2  1  0  1  2  1  1  0  1  1\n",
       " 0  2  1  1  1  1  1  1  1  0  0  2  1  2  2  1  1  1  2  1\n",
       " 1  0  2  1  2  1  1  1  2  2  1  1  0  1  2  0  1  2  0  1\n",
       " 1  2  1  0  1  1  1  0  1  2  1  2  2  1  1  2  0  1  0  1\n",
       " 0  2  2  1  1  1  1  2  0  2  1  2  1  1  1  1  0  2  1  2"
      ]
     },
     "execution_count": 60,
     "metadata": {},
     "output_type": "execute_result"
    }
   ],
   "source": [
    "M[vec(sum(M,dims=2) .> 19), :]"
   ]
  },
  {
   "cell_type": "markdown",
   "metadata": {},
   "source": [
    "#### Get random subset of 5 columns from M"
   ]
  },
  {
   "cell_type": "code",
   "execution_count": 61,
   "metadata": {},
   "outputs": [
    {
     "data": {
      "text/plain": [
       "5-element Array{Int64,1}:\n",
       " 20\n",
       " 10\n",
       " 11\n",
       "  4\n",
       "  7"
      ]
     },
     "execution_count": 61,
     "metadata": {},
     "output_type": "execute_result"
    }
   ],
   "source": [
    "sel = sample(1:size(M,2),5,replace=false)"
   ]
  },
  {
   "cell_type": "code",
   "execution_count": 62,
   "metadata": {},
   "outputs": [
    {
     "data": {
      "text/plain": [
       "10×5 Array{Int64,2}:\n",
       " 0  0  2  0  2\n",
       " 2  1  1  2  1\n",
       " 2  2  2  1  1\n",
       " 2  1  1  0  2\n",
       " 1  2  2  0  1\n",
       " 1  0  0  1  1\n",
       " 1  2  1  1  1\n",
       " 1  2  1  0  1\n",
       " 2  2  1  1  1\n",
       " 2  2  2  0  0"
      ]
     },
     "execution_count": 62,
     "metadata": {},
     "output_type": "execute_result"
    }
   ],
   "source": [
    "M[:,sel]"
   ]
  },
  {
   "cell_type": "markdown",
   "metadata": {},
   "source": [
    "#### Get the remaining columns: \n",
    "#### M[:,-sel] does not work in Julia"
   ]
  },
  {
   "cell_type": "code",
   "execution_count": 63,
   "metadata": {},
   "outputs": [
    {
     "data": {
      "text/plain": [
       "15-element Array{Int64,1}:\n",
       "  1\n",
       "  2\n",
       "  3\n",
       "  5\n",
       "  6\n",
       "  8\n",
       "  9\n",
       " 12\n",
       " 13\n",
       " 14\n",
       " 15\n",
       " 16\n",
       " 17\n",
       " 18\n",
       " 19"
      ]
     },
     "execution_count": 63,
     "metadata": {},
     "output_type": "execute_result"
    }
   ],
   "source": [
    "setdiff(1:size(M,2),sel)"
   ]
  },
  {
   "cell_type": "code",
   "execution_count": 64,
   "metadata": {},
   "outputs": [
    {
     "data": {
      "text/plain": [
       "10×15 Array{Int64,2}:\n",
       " 2  0  2  1  1  1  0  1  2  2  1  0  2  1  0\n",
       " 1  0  0  1  1  1  1  2  0  2  1  2  2  1  1\n",
       " 0  2  0  1  1  0  1  2  1  0  1  1  1  0  1\n",
       " 1  1  2  1  1  0  2  2  1  0  2  1  2  1  0\n",
       " 2  1  1  1  1  0  1  1  0  1  2  1  1  0  1\n",
       " 0  2  1  1  1  1  1  2  1  2  2  1  1  1  2\n",
       " 1  0  2  2  1  1  2  1  0  1  2  0  1  2  0\n",
       " 1  2  1  1  1  0  1  2  2  1  1  2  0  1  0\n",
       " 0  2  2  1  1  2  0  2  1  1  1  1  0  2  1\n",
       " 1  1  1  2  1  0  0  1  0  1  1  0  1  2  1"
      ]
     },
     "execution_count": 64,
     "metadata": {},
     "output_type": "execute_result"
    }
   ],
   "source": [
    "M[:,setdiff(1:size(M,2),sel)] # not as nice as M[:,-sel]"
   ]
  },
  {
   "cell_type": "markdown",
   "metadata": {},
   "source": [
    "### View of array"
   ]
  },
  {
   "cell_type": "code",
   "execution_count": 65,
   "metadata": {},
   "outputs": [
    {
     "data": {
      "text/plain": [
       "10-element view(::Array{Int64,2}, :, 2) with eltype Int64:\n",
       " 0\n",
       " 0\n",
       " 2\n",
       " 1\n",
       " 1\n",
       " 2\n",
       " 0\n",
       " 2\n",
       " 2\n",
       " 1"
      ]
     },
     "execution_count": 65,
     "metadata": {},
     "output_type": "execute_result"
    }
   ],
   "source": [
    "m2 = @view M[:,2] # does not make a copy of the second column of M"
   ]
  },
  {
   "cell_type": "code",
   "execution_count": 66,
   "metadata": {},
   "outputs": [
    {
     "data": {
      "text/plain": [
       "10×20 Array{Int64,2}:\n",
       " 2  0  2  0  1  1  2  1  0  0  2  1  2  2  1  0  2  1  0  0\n",
       " 1  3  0  2  1  1  1  1  1  1  1  2  0  2  1  2  2  1  1  2\n",
       " 0  2  0  1  1  1  1  0  1  2  2  2  1  0  1  1  1  0  1  2\n",
       " 1  1  2  0  1  1  2  0  2  1  1  2  1  0  2  1  2  1  0  2\n",
       " 2  1  1  0  1  1  1  0  1  2  2  1  0  1  2  1  1  0  1  1\n",
       " 0  2  1  1  1  1  1  1  1  0  0  2  1  2  2  1  1  1  2  1\n",
       " 1  0  2  1  2  1  1  1  2  2  1  1  0  1  2  0  1  2  0  1\n",
       " 1  2  1  0  1  1  1  0  1  2  1  2  2  1  1  2  0  1  0  1\n",
       " 0  2  2  1  1  1  1  2  0  2  1  2  1  1  1  1  0  2  1  2\n",
       " 1  1  1  0  2  1  0  0  0  2  2  1  0  1  1  0  1  2  1  2"
      ]
     },
     "execution_count": 66,
     "metadata": {},
     "output_type": "execute_result"
    }
   ],
   "source": [
    "m2[2] = 3\n",
    "M"
   ]
  },
  {
   "cell_type": "markdown",
   "metadata": {},
   "source": [
    "Note that changing the value of m2[2] results in changing the second column of M. "
   ]
  },
  {
   "cell_type": "markdown",
   "metadata": {},
   "source": [
    "### Copy of array"
   ]
  },
  {
   "cell_type": "code",
   "execution_count": 67,
   "metadata": {},
   "outputs": [
    {
     "data": {
      "text/plain": [
       "3-element Array{Int64,1}:\n",
       " 1\n",
       " 2\n",
       " 3"
      ]
     },
     "execution_count": 67,
     "metadata": {},
     "output_type": "execute_result"
    }
   ],
   "source": [
    "v = [1, 2, 3]"
   ]
  },
  {
   "cell_type": "code",
   "execution_count": 68,
   "metadata": {},
   "outputs": [
    {
     "data": {
      "text/plain": [
       "3-element Array{Int64,1}:\n",
       " 10\n",
       "  2\n",
       "  3"
      ]
     },
     "execution_count": 68,
     "metadata": {},
     "output_type": "execute_result"
    }
   ],
   "source": [
    "u = v\n",
    "u[1] = 10\n",
    "u"
   ]
  },
  {
   "cell_type": "code",
   "execution_count": 69,
   "metadata": {},
   "outputs": [
    {
     "data": {
      "text/plain": [
       "3-element Array{Int64,1}:\n",
       " 10\n",
       "  2\n",
       "  3"
      ]
     },
     "execution_count": 69,
     "metadata": {},
     "output_type": "execute_result"
    }
   ],
   "source": [
    "v"
   ]
  },
  {
   "cell_type": "markdown",
   "metadata": {},
   "source": [
    "##### So, u is not just a copy of v. It is another name for v. To get a copy use:"
   ]
  },
  {
   "cell_type": "code",
   "execution_count": 70,
   "metadata": {},
   "outputs": [
    {
     "data": {
      "text/plain": [
       "3-element Array{Int64,1}:\n",
       " 10\n",
       "  2\n",
       "  3"
      ]
     },
     "execution_count": 70,
     "metadata": {},
     "output_type": "execute_result"
    }
   ],
   "source": [
    "v = [1, 2, 3]\n",
    "u = copy(v)\n",
    "u[1] = 10\n",
    "u"
   ]
  },
  {
   "cell_type": "code",
   "execution_count": 71,
   "metadata": {},
   "outputs": [
    {
     "data": {
      "text/plain": [
       "3-element Array{Int64,1}:\n",
       " 1\n",
       " 2\n",
       " 3"
      ]
     },
     "execution_count": 71,
     "metadata": {},
     "output_type": "execute_result"
    }
   ],
   "source": [
    "v"
   ]
  },
  {
   "cell_type": "markdown",
   "metadata": {},
   "source": [
    "## Control Flow and Loops"
   ]
  },
  {
   "cell_type": "markdown",
   "metadata": {},
   "source": [
    "##### Consider adding the vectors u and v. One way to do this is:"
   ]
  },
  {
   "cell_type": "code",
   "execution_count": 72,
   "metadata": {},
   "outputs": [
    {
     "data": {
      "text/plain": [
       "3×3 Array{Int64,2}:\n",
       " 10  1  11\n",
       "  2  2   4\n",
       "  3  3   6"
      ]
     },
     "execution_count": 72,
     "metadata": {},
     "output_type": "execute_result"
    }
   ],
   "source": [
    "result = zero(u) # gets vector of zeros identical in dimension to that of u\n",
    "result[1] = u[1] + v[1]\n",
    "result[2] = u[2] + v[2]\n",
    "result[3] = u[3] + v[3]\n",
    "[u v result]"
   ]
  },
  {
   "cell_type": "markdown",
   "metadata": {},
   "source": [
    "##### Using loop:"
   ]
  },
  {
   "cell_type": "code",
   "execution_count": 73,
   "metadata": {},
   "outputs": [
    {
     "data": {
      "text/plain": [
       "3×3 Array{Int64,2}:\n",
       " 10  1  11\n",
       "  2  2   4\n",
       "  3  3   6"
      ]
     },
     "execution_count": 73,
     "metadata": {},
     "output_type": "execute_result"
    }
   ],
   "source": [
    "result = zero(u)\n",
    "for i=1:size(u,1)\n",
    "    result[i] = u[i] + v[i]\n",
    "end\n",
    "[u v result]"
   ]
  },
  {
   "cell_type": "markdown",
   "metadata": {},
   "source": [
    "#### Sum of elements in v"
   ]
  },
  {
   "cell_type": "code",
   "execution_count": 74,
   "metadata": {},
   "outputs": [
    {
     "data": {
      "text/plain": [
       "6.0"
      ]
     },
     "execution_count": 74,
     "metadata": {},
     "output_type": "execute_result"
    }
   ],
   "source": [
    "mySum = 0.0\n",
    "for i = v\n",
    "    mySum += i\n",
    "end\n",
    "mySum"
   ]
  },
  {
   "cell_type": "markdown",
   "metadata": {},
   "source": [
    "#### Get vector of squared values in v "
   ]
  },
  {
   "cell_type": "markdown",
   "metadata": {},
   "source": [
    "#### These are called list comprehensions"
   ]
  },
  {
   "cell_type": "code",
   "execution_count": 75,
   "metadata": {},
   "outputs": [
    {
     "data": {
      "text/plain": [
       "3-element Array{Int64,1}:\n",
       " 1\n",
       " 4\n",
       " 9"
      ]
     },
     "execution_count": 75,
     "metadata": {},
     "output_type": "execute_result"
    }
   ],
   "source": [
    "[i^2 for i in v]"
   ]
  },
  {
   "cell_type": "markdown",
   "metadata": {},
   "source": [
    "#### Get vector of square-roots of positive values in x"
   ]
  },
  {
   "cell_type": "code",
   "execution_count": 76,
   "metadata": {},
   "outputs": [
    {
     "data": {
      "text/plain": [
       "5-element Array{Float64,1}:\n",
       " 0.9510900693664935\n",
       " 0.9783503071684033\n",
       " 1.324402835181463 \n",
       " 1.207718063742418 \n",
       " 0.6685225808046908"
      ]
     },
     "execution_count": 76,
     "metadata": {},
     "output_type": "execute_result"
    }
   ],
   "source": [
    "x = randn(10)\n",
    "[sqrt(i) for i in x if i >= 0.0]"
   ]
  },
  {
   "cell_type": "code",
   "execution_count": 77,
   "metadata": {},
   "outputs": [
    {
     "data": {
      "text/plain": [
       "4-element Array{Array{Float64,2},1}:\n",
       " [2.0 0.0214465]\n",
       " [5.0 0.543579] \n",
       " [7.0 1.19101]  \n",
       " [8.0 0.528575] "
      ]
     },
     "execution_count": 77,
     "metadata": {},
     "output_type": "execute_result"
    }
   ],
   "source": [
    "x = randn(10)\n",
    "res = [[i sqrt(value)] for (i,value) in enumerate(x) if value >= 0.0]"
   ]
  },
  {
   "cell_type": "markdown",
   "metadata": {},
   "source": [
    "#### Matrix from res"
   ]
  },
  {
   "cell_type": "code",
   "execution_count": 78,
   "metadata": {},
   "outputs": [
    {
     "data": {
      "text/plain": [
       "4×2 Array{Float64,2}:\n",
       " 2.0  0.0214465\n",
       " 5.0  0.543579 \n",
       " 7.0  1.19101  \n",
       " 8.0  0.528575 "
      ]
     },
     "execution_count": 78,
     "metadata": {},
     "output_type": "execute_result"
    }
   ],
   "source": [
    "resMat = [row[i] for row in res, i=1:2]"
   ]
  },
  {
   "cell_type": "markdown",
   "metadata": {},
   "source": [
    "#### This list comprehension produces a two-dimensional array (a matrix)"
   ]
  },
  {
   "cell_type": "code",
   "execution_count": 79,
   "metadata": {},
   "outputs": [
    {
     "data": {
      "text/plain": [
       "2×3 Array{Int64,2}:\n",
       " 4  5  6\n",
       " 5  6  7"
      ]
     },
     "execution_count": 79,
     "metadata": {},
     "output_type": "execute_result"
    }
   ],
   "source": [
    "[i+j for i=1:2, j=3:5]"
   ]
  },
  {
   "cell_type": "markdown",
   "metadata": {},
   "source": [
    "### Use of Range"
   ]
  },
  {
   "cell_type": "code",
   "execution_count": 80,
   "metadata": {},
   "outputs": [
    {
     "data": {
      "text/plain": [
       "0.0:0.1:1.0"
      ]
     },
     "execution_count": 80,
     "metadata": {},
     "output_type": "execute_result"
    }
   ],
   "source": [
    "r = range(0, step=0.1, stop=1)"
   ]
  },
  {
   "cell_type": "code",
   "execution_count": 81,
   "metadata": {},
   "outputs": [
    {
     "data": {
      "text/plain": [
       "0.0:0.1:1.0"
      ]
     },
     "execution_count": 81,
     "metadata": {},
     "output_type": "execute_result"
    }
   ],
   "source": [
    "# This works too\n",
    "\n",
    "r = 0:0.1:1"
   ]
  },
  {
   "cell_type": "markdown",
   "metadata": {},
   "source": [
    "r is not an arryay, but in many contexts behaves like one"
   ]
  },
  {
   "cell_type": "code",
   "execution_count": 82,
   "metadata": {},
   "outputs": [
    {
     "data": {
      "text/plain": [
       "11-element Array{Float64,1}:\n",
       " 0.0                \n",
       " 0.09983341664682815\n",
       " 0.19866933079506122\n",
       " 0.29552020666133955\n",
       " 0.3894183423086505 \n",
       " 0.479425538604203  \n",
       " 0.5646424733950354 \n",
       " 0.644217687237691  \n",
       " 0.7173560908995228 \n",
       " 0.7833269096274834 \n",
       " 0.8414709848078965 "
      ]
     },
     "execution_count": 82,
     "metadata": {},
     "output_type": "execute_result"
    }
   ],
   "source": [
    "sin.(r)"
   ]
  },
  {
   "cell_type": "markdown",
   "metadata": {},
   "source": [
    "### Use of Map to apply a function to elements of array"
   ]
  },
  {
   "cell_type": "code",
   "execution_count": 83,
   "metadata": {},
   "outputs": [
    {
     "data": {
      "text/plain": [
       "11-element Array{Float64,1}:\n",
       " 0.0                \n",
       " 0.09983341664682815\n",
       " 0.19866933079506122\n",
       " 0.29552020666133955\n",
       " 0.3894183423086505 \n",
       " 0.479425538604203  \n",
       " 0.5646424733950354 \n",
       " 0.644217687237691  \n",
       " 0.7173560908995228 \n",
       " 0.7833269096274834 \n",
       " 0.8414709848078965 "
      ]
     },
     "execution_count": 83,
     "metadata": {},
     "output_type": "execute_result"
    }
   ],
   "source": [
    "map(sin,r)"
   ]
  },
  {
   "cell_type": "markdown",
   "metadata": {},
   "source": [
    "### Reduce and Map-Reduce"
   ]
  },
  {
   "cell_type": "code",
   "execution_count": 84,
   "metadata": {},
   "outputs": [
    {
     "data": {
      "text/plain": [
       "15"
      ]
     },
     "execution_count": 84,
     "metadata": {},
     "output_type": "execute_result"
    }
   ],
   "source": [
    "# sum of elements in u\n",
    "reduce(+,u)"
   ]
  },
  {
   "cell_type": "code",
   "execution_count": 85,
   "metadata": {},
   "outputs": [
    {
     "data": {
      "text/plain": [
       "60"
      ]
     },
     "execution_count": 85,
     "metadata": {},
     "output_type": "execute_result"
    }
   ],
   "source": [
    "# product of elements in u\n",
    "reduce(*,u)"
   ]
  },
  {
   "cell_type": "code",
   "execution_count": 86,
   "metadata": {},
   "outputs": [
    {
     "data": {
      "text/plain": [
       "500000500000"
      ]
     },
     "execution_count": 86,
     "metadata": {},
     "output_type": "execute_result"
    }
   ],
   "source": [
    "reduce(+,1:1000000)"
   ]
  },
  {
   "cell_type": "markdown",
   "metadata": {},
   "source": [
    "#### Sum of squares"
   ]
  },
  {
   "cell_type": "code",
   "execution_count": 87,
   "metadata": {},
   "outputs": [
    {
     "data": {
      "text/plain": [
       "333333833333500000"
      ]
     },
     "execution_count": 87,
     "metadata": {},
     "output_type": "execute_result"
    }
   ],
   "source": [
    "n = 1_000_000\n",
    "mapreduce(x -> x^2, +, 1:n)"
   ]
  },
  {
   "cell_type": "markdown",
   "metadata": {},
   "source": [
    "Here, a vector of squares is created first, which, as will be demonstrated later, slower because of the time used for memory allocation"
   ]
  },
  {
   "cell_type": "code",
   "execution_count": 88,
   "metadata": {},
   "outputs": [
    {
     "data": {
      "text/plain": [
       "333333833333500000"
      ]
     },
     "execution_count": 88,
     "metadata": {},
     "output_type": "execute_result"
    }
   ],
   "source": [
    "reduce(+,(1:n).^2)"
   ]
  },
  {
   "cell_type": "markdown",
   "metadata": {},
   "source": [
    "## Types"
   ]
  },
  {
   "cell_type": "markdown",
   "metadata": {},
   "source": [
    "### Determine the type of a variable as:"
   ]
  },
  {
   "cell_type": "code",
   "execution_count": 89,
   "metadata": {},
   "outputs": [
    {
     "data": {
      "text/plain": [
       "Array{Int64,2}"
      ]
     },
     "execution_count": 89,
     "metadata": {},
     "output_type": "execute_result"
    }
   ],
   "source": [
    "# type of M\n",
    "typeof(M)"
   ]
  },
  {
   "cell_type": "code",
   "execution_count": 90,
   "metadata": {},
   "outputs": [
    {
     "data": {
      "text/plain": [
       "Array{Int64,1}"
      ]
     },
     "execution_count": 90,
     "metadata": {},
     "output_type": "execute_result"
    }
   ],
   "source": [
    "# type of v\n",
    "typeof(v)"
   ]
  },
  {
   "cell_type": "markdown",
   "metadata": {},
   "source": [
    "### Composite Types"
   ]
  },
  {
   "cell_type": "code",
   "execution_count": 91,
   "metadata": {},
   "outputs": [],
   "source": [
    "# Example\n",
    "mutable struct BankAccount\n",
    "    accountNumber::Int64\n",
    "    firstName::String\n",
    "    lastName::String\n",
    "    balance::Float64\n",
    "end"
   ]
  },
  {
   "cell_type": "markdown",
   "metadata": {},
   "source": [
    "#### Get all the names in a composite type:"
   ]
  },
  {
   "cell_type": "code",
   "execution_count": 92,
   "metadata": {},
   "outputs": [
    {
     "data": {
      "text/plain": [
       "(:accountNumber, :firstName, :lastName, :balance)"
      ]
     },
     "execution_count": 92,
     "metadata": {},
     "output_type": "execute_result"
    }
   ],
   "source": [
    "fieldnames(BankAccount)"
   ]
  },
  {
   "cell_type": "markdown",
   "metadata": {},
   "source": [
    "#### Get the types of all fields:"
   ]
  },
  {
   "cell_type": "code",
   "execution_count": 93,
   "metadata": {},
   "outputs": [
    {
     "data": {
      "text/plain": [
       "svec(Int64, String, String, Float64)"
      ]
     },
     "execution_count": 93,
     "metadata": {},
     "output_type": "execute_result"
    }
   ],
   "source": [
    "BankAccount.types"
   ]
  },
  {
   "cell_type": "markdown",
   "metadata": {},
   "source": [
    "#### Create an instance of `BankAccount`"
   ]
  },
  {
   "cell_type": "code",
   "execution_count": 94,
   "metadata": {},
   "outputs": [
    {
     "data": {
      "text/plain": [
       "BankAccount(9321, \"Scott\", \"Williams\", 500.0)"
      ]
     },
     "execution_count": 94,
     "metadata": {},
     "output_type": "execute_result"
    }
   ],
   "source": [
    "a1 = BankAccount(1234,\"Tom\",\"Smith\",1000.0)\n",
    "a2 = BankAccount(4321,\"Jim\",\"Shanks\",500.0)\n",
    "a3 = BankAccount(9321,\"Scott\",\"Williams\",500.0)"
   ]
  },
  {
   "cell_type": "markdown",
   "metadata": {},
   "source": [
    "#### Access field in composite type:"
   ]
  },
  {
   "cell_type": "code",
   "execution_count": 95,
   "metadata": {},
   "outputs": [
    {
     "data": {
      "text/plain": [
       "1000.0"
      ]
     },
     "execution_count": 95,
     "metadata": {},
     "output_type": "execute_result"
    }
   ],
   "source": [
    "a1.balance"
   ]
  },
  {
   "cell_type": "code",
   "execution_count": 96,
   "metadata": {},
   "outputs": [
    {
     "data": {
      "text/plain": [
       "2000.5"
      ]
     },
     "execution_count": 96,
     "metadata": {},
     "output_type": "execute_result"
    }
   ],
   "source": [
    "# can modify fields of mutable structs\n",
    "a1.balance = 2000.50"
   ]
  },
  {
   "cell_type": "code",
   "execution_count": 97,
   "metadata": {},
   "outputs": [
    {
     "data": {
      "text/plain": [
       "500.0"
      ]
     },
     "execution_count": 97,
     "metadata": {},
     "output_type": "execute_result"
    }
   ],
   "source": [
    "a2.balance"
   ]
  },
  {
   "cell_type": "code",
   "execution_count": 98,
   "metadata": {},
   "outputs": [
    {
     "data": {
      "text/plain": [
       "\"Jim\""
      ]
     },
     "execution_count": 98,
     "metadata": {},
     "output_type": "execute_result"
    }
   ],
   "source": [
    "a2.firstName"
   ]
  },
  {
   "cell_type": "markdown",
   "metadata": {},
   "source": [
    "## Dictionaries (Associative Arrays) \n",
    "A collection of key value pairs"
   ]
  },
  {
   "cell_type": "markdown",
   "metadata": {},
   "source": [
    "### Declaration"
   ]
  },
  {
   "cell_type": "code",
   "execution_count": 99,
   "metadata": {},
   "outputs": [
    {
     "data": {
      "text/plain": [
       "Dict{Int64,BankAccount} with 0 entries"
      ]
     },
     "execution_count": 99,
     "metadata": {},
     "output_type": "execute_result"
    }
   ],
   "source": [
    "# d is an empty dictionary that can store \"BackAccounts\" with an interger key (i.e., with the account number as the key)\n",
    "d = Dict{Int64,BankAccount}()"
   ]
  },
  {
   "cell_type": "markdown",
   "metadata": {},
   "source": [
    "### Putting values in dictionary"
   ]
  },
  {
   "cell_type": "code",
   "execution_count": 100,
   "metadata": {},
   "outputs": [
    {
     "data": {
      "text/plain": [
       "Dict{Int64,BankAccount} with 1 entry:\n",
       "  1234 => BankAccount(1234, \"Tom\", \"Smith\", 2000.5)"
      ]
     },
     "execution_count": 100,
     "metadata": {},
     "output_type": "execute_result"
    }
   ],
   "source": [
    "d[a1.accountNumber] = a1\n",
    "d"
   ]
  },
  {
   "cell_type": "code",
   "execution_count": 101,
   "metadata": {},
   "outputs": [
    {
     "data": {
      "text/plain": [
       "Dict{Int64,BankAccount} with 2 entries:\n",
       "  4321 => BankAccount(4321, \"Jim\", \"Shanks\", 500.0)\n",
       "  1234 => BankAccount(1234, \"Tom\", \"Smith\", 2000.5)"
      ]
     },
     "execution_count": 101,
     "metadata": {},
     "output_type": "execute_result"
    }
   ],
   "source": [
    "d[a2.accountNumber] = a2\n",
    "d"
   ]
  },
  {
   "cell_type": "code",
   "execution_count": 102,
   "metadata": {},
   "outputs": [
    {
     "data": {
      "text/plain": [
       "Dict{Int64,BankAccount} with 3 entries:\n",
       "  4321 => BankAccount(4321, \"Jim\", \"Shanks\", 500.0)\n",
       "  9321 => BankAccount(9321, \"Scott\", \"Williams\", 500.0)\n",
       "  1234 => BankAccount(1234, \"Tom\", \"Smith\", 2000.5)"
      ]
     },
     "execution_count": 102,
     "metadata": {},
     "output_type": "execute_result"
    }
   ],
   "source": [
    "d[a3.accountNumber] = a3\n",
    "d"
   ]
  },
  {
   "cell_type": "markdown",
   "metadata": {},
   "source": [
    "#### Get array of keys in d"
   ]
  },
  {
   "cell_type": "code",
   "execution_count": 103,
   "metadata": {},
   "outputs": [
    {
     "data": {
      "text/plain": [
       "3-element Array{Int64,1}:\n",
       " 4321\n",
       " 9321\n",
       " 1234"
      ]
     },
     "execution_count": 103,
     "metadata": {},
     "output_type": "execute_result"
    }
   ],
   "source": [
    "collect(keys(d))"
   ]
  },
  {
   "cell_type": "markdown",
   "metadata": {},
   "source": [
    "#### Get the value associated with `key = 1234`"
   ]
  },
  {
   "cell_type": "code",
   "execution_count": 104,
   "metadata": {},
   "outputs": [
    {
     "data": {
      "text/plain": [
       "BankAccount(1234, \"Tom\", \"Smith\", 2000.5)"
      ]
     },
     "execution_count": 104,
     "metadata": {},
     "output_type": "execute_result"
    }
   ],
   "source": [
    "d[1234]"
   ]
  },
  {
   "cell_type": "markdown",
   "metadata": {},
   "source": [
    "#### Get array of values in d"
   ]
  },
  {
   "cell_type": "code",
   "execution_count": 105,
   "metadata": {},
   "outputs": [
    {
     "data": {
      "text/plain": [
       "Base.ValueIterator for a Dict{Int64,BankAccount} with 3 entries. Values:\n",
       "  BankAccount(4321, \"Jim\", \"Shanks\", 500.0)\n",
       "  BankAccount(9321, \"Scott\", \"Williams\", 500.0)\n",
       "  BankAccount(1234, \"Tom\", \"Smith\", 2000.5)"
      ]
     },
     "execution_count": 105,
     "metadata": {},
     "output_type": "execute_result"
    }
   ],
   "source": [
    "values(d)"
   ]
  },
  {
   "cell_type": "code",
   "execution_count": 106,
   "metadata": {},
   "outputs": [
    {
     "data": {
      "text/plain": [
       "3-element Array{BankAccount,1}:\n",
       " BankAccount(4321, \"Jim\", \"Shanks\", 500.0)    \n",
       " BankAccount(9321, \"Scott\", \"Williams\", 500.0)\n",
       " BankAccount(1234, \"Tom\", \"Smith\", 2000.5)    "
      ]
     },
     "execution_count": 106,
     "metadata": {},
     "output_type": "execute_result"
    }
   ],
   "source": [
    "collect(values(d))"
   ]
  },
  {
   "cell_type": "markdown",
   "metadata": {},
   "source": [
    "#### Using list comprehension"
   ]
  },
  {
   "cell_type": "code",
   "execution_count": 107,
   "metadata": {},
   "outputs": [
    {
     "data": {
      "text/plain": [
       "3-element Array{BankAccount,1}:\n",
       " BankAccount(4321, \"Jim\", \"Shanks\", 500.0)    \n",
       " BankAccount(9321, \"Scott\", \"Williams\", 500.0)\n",
       " BankAccount(1234, \"Tom\", \"Smith\", 2000.5)    "
      ]
     },
     "execution_count": 107,
     "metadata": {},
     "output_type": "execute_result"
    }
   ],
   "source": [
    "[i for i in values(d)]"
   ]
  },
  {
   "cell_type": "code",
   "execution_count": 108,
   "metadata": {},
   "outputs": [
    {
     "data": {
      "text/plain": [
       "Base.KeySet for a Dict{Int64,BankAccount} with 3 entries. Keys:\n",
       "  4321\n",
       "  9321\n",
       "  1234"
      ]
     },
     "execution_count": 108,
     "metadata": {},
     "output_type": "execute_result"
    }
   ],
   "source": [
    "keys(d)"
   ]
  },
  {
   "cell_type": "code",
   "execution_count": 109,
   "metadata": {},
   "outputs": [
    {
     "data": {
      "text/plain": [
       "3-element Array{BankAccount,1}:\n",
       " BankAccount(4321, \"Jim\", \"Shanks\", 500.0)    \n",
       " BankAccount(9321, \"Scott\", \"Williams\", 500.0)\n",
       " BankAccount(1234, \"Tom\", \"Smith\", 2000.5)    "
      ]
     },
     "execution_count": 109,
     "metadata": {},
     "output_type": "execute_result"
    }
   ],
   "source": [
    "[d[i] for i in keys(d)] "
   ]
  },
  {
   "cell_type": "markdown",
   "metadata": {},
   "source": [
    "#### Check if Dictionary has a particular key"
   ]
  },
  {
   "cell_type": "code",
   "execution_count": 110,
   "metadata": {},
   "outputs": [
    {
     "data": {
      "text/plain": [
       "true"
      ]
     },
     "execution_count": 110,
     "metadata": {},
     "output_type": "execute_result"
    }
   ],
   "source": [
    "haskey(d,1234)"
   ]
  },
  {
   "cell_type": "code",
   "execution_count": 111,
   "metadata": {},
   "outputs": [
    {
     "data": {
      "text/plain": [
       "false"
      ]
     },
     "execution_count": 111,
     "metadata": {},
     "output_type": "execute_result"
    }
   ],
   "source": [
    "haskey(d,123)"
   ]
  },
  {
   "cell_type": "markdown",
   "metadata": {},
   "source": [
    "## Functions and Scope of Variables"
   ]
  },
  {
   "cell_type": "markdown",
   "metadata": {},
   "source": [
    "Functions allow code to be reused. We have seen how a loop can be used to add two vectors:"
   ]
  },
  {
   "cell_type": "code",
   "execution_count": 112,
   "metadata": {},
   "outputs": [
    {
     "data": {
      "text/plain": [
       "2×3 Array{Int64,2}:\n",
       " 1  3  4\n",
       " 2  4  6"
      ]
     },
     "execution_count": 112,
     "metadata": {},
     "output_type": "execute_result"
    }
   ],
   "source": [
    "u = [1,2]\n",
    "v = [3,4]\n",
    "result = zero(u)\n",
    "for i=1:size(u,1)\n",
    "    result[i] = u[i] + v[i]\n",
    "end\n",
    "[u v result]"
   ]
  },
  {
   "cell_type": "markdown",
   "metadata": {},
   "source": [
    "Suppose we now want to add vector `x` to vector `y`:"
   ]
  },
  {
   "cell_type": "code",
   "execution_count": 113,
   "metadata": {},
   "outputs": [],
   "source": [
    "x = [9,7,6,5]\n",
    "y = [2,2,2,1];"
   ]
  },
  {
   "cell_type": "markdown",
   "metadata": {},
   "source": [
    "We can do by copying the code from above as:"
   ]
  },
  {
   "cell_type": "code",
   "execution_count": 114,
   "metadata": {},
   "outputs": [
    {
     "data": {
      "text/plain": [
       "4×3 Array{Int64,2}:\n",
       " 9  2  11\n",
       " 7  2   9\n",
       " 6  2   8\n",
       " 5  1   6"
      ]
     },
     "execution_count": 114,
     "metadata": {},
     "output_type": "execute_result"
    }
   ],
   "source": [
    "u = x\n",
    "v = y\n",
    "result = zero(u)\n",
    "for i=1:size(u,1)\n",
    "    result[i] = u[i] + v[i]\n",
    "end\n",
    "[u v result]"
   ]
  },
  {
   "cell_type": "markdown",
   "metadata": {},
   "source": [
    "This can and should be avoided by using a function with the code that was repeated. "
   ]
  },
  {
   "cell_type": "code",
   "execution_count": 115,
   "metadata": {},
   "outputs": [
    {
     "data": {
      "text/plain": [
       "addVectors (generic function with 1 method)"
      ]
     },
     "execution_count": 115,
     "metadata": {},
     "output_type": "execute_result"
    }
   ],
   "source": [
    "function addVectors(u,v)\n",
    "    if size(u,1) != size(v,1)\n",
    "        println(\"The size of u (= $(size(u,1))) is not equal to the size of v (= $(size(v,1))) \")\n",
    "        return []\n",
    "    end\n",
    "    result = zero(u)\n",
    "    for i=1:size(u,1)\n",
    "        result[i] = u[i] + v[i]\n",
    "    end\n",
    "    return result\n",
    "end"
   ]
  },
  {
   "cell_type": "code",
   "execution_count": 116,
   "metadata": {},
   "outputs": [
    {
     "data": {
      "text/plain": [
       "4×3 Array{Int64,2}:\n",
       " 9  2  11\n",
       " 7  2   9\n",
       " 6  2   8\n",
       " 5  1   6"
      ]
     },
     "execution_count": 116,
     "metadata": {},
     "output_type": "execute_result"
    }
   ],
   "source": [
    "[u v addVectors(u,v)]"
   ]
  },
  {
   "cell_type": "code",
   "execution_count": 117,
   "metadata": {},
   "outputs": [
    {
     "data": {
      "text/plain": [
       "4×3 Array{Int64,2}:\n",
       " 9  2  11\n",
       " 7  2   9\n",
       " 6  2   8\n",
       " 5  1   6"
      ]
     },
     "execution_count": 117,
     "metadata": {},
     "output_type": "execute_result"
    }
   ],
   "source": [
    "[x y addVectors(x,y)]"
   ]
  },
  {
   "cell_type": "code",
   "execution_count": 118,
   "metadata": {},
   "outputs": [
    {
     "data": {
      "text/plain": [
       "4-element Array{Int64,1}:\n",
       " 9\n",
       " 7\n",
       " 6\n",
       " 5"
      ]
     },
     "execution_count": 118,
     "metadata": {},
     "output_type": "execute_result"
    }
   ],
   "source": [
    "u"
   ]
  },
  {
   "cell_type": "code",
   "execution_count": 119,
   "metadata": {},
   "outputs": [
    {
     "data": {
      "text/plain": [
       "4-element Array{Int64,1}:\n",
       " 18\n",
       " 14\n",
       " 12\n",
       " 10"
      ]
     },
     "execution_count": 119,
     "metadata": {},
     "output_type": "execute_result"
    }
   ],
   "source": [
    "addVectors(x,u)"
   ]
  },
  {
   "cell_type": "markdown",
   "metadata": {},
   "source": [
    "### Scope of Variables"
   ]
  },
  {
   "cell_type": "markdown",
   "metadata": {},
   "source": [
    "Note that within the function `addVectors`, the output is the sum of the vectors`u` and `v`, but calling it with the vectors `x` and `y` results their sum. The variables `u` and `v` within the function refer to those given when the function was called. Thus, the same function can be used to add any two vectors of the same length. The behavior of the variables `u` and `v` with the function has to do with what is called the scope of variables and how variables are passed to functions. In Julia variables are passed \"by reference\" rather than \"by value\". This makes passing large structures to functions very efficient compared to passing arguments to the function \"by value\", which requies making a copy of the argument.  \n",
    "\n",
    "However, at first, the way functions behave can be confusing as shown below. "
   ]
  },
  {
   "cell_type": "code",
   "execution_count": 120,
   "metadata": {},
   "outputs": [
    {
     "data": {
      "text/plain": [
       "addOne (generic function with 1 method)"
      ]
     },
     "execution_count": 120,
     "metadata": {},
     "output_type": "execute_result"
    }
   ],
   "source": [
    "function addOne(x) # x is a local variable pointing to the value of the argument of the function \n",
    "    @show(x) \n",
    "    x = x + 1     # x is now redirected to point the the value of (x+1)\n",
    "    @show(x)\n",
    "    return x\n",
    "end"
   ]
  },
  {
   "cell_type": "code",
   "execution_count": 121,
   "metadata": {},
   "outputs": [
    {
     "name": "stdout",
     "output_type": "stream",
     "text": [
      "y = 2\n",
      "x = 2\n",
      "x = 3\n",
      "addOne(y) = 3\n",
      "y = 2\n"
     ]
    }
   ],
   "source": [
    "y = 2\n",
    "@show(y)\n",
    "@show(addOne(y))\n",
    "@show(y);             # y is still pointing to 2"
   ]
  },
  {
   "cell_type": "code",
   "execution_count": 122,
   "metadata": {},
   "outputs": [
    {
     "data": {
      "text/plain": [
       "addOneToVec (generic function with 1 method)"
      ]
     },
     "execution_count": 122,
     "metadata": {},
     "output_type": "execute_result"
    }
   ],
   "source": [
    "function addOneToVec(x) # x is a local variable pointing to the vector argument of the function \n",
    "    @show(x) \n",
    "    x = x .+ 1          # x is now redirected to point a new vector with the values of (x+1)\n",
    "    @show(x)\n",
    "    return x\n",
    "end    "
   ]
  },
  {
   "cell_type": "code",
   "execution_count": 123,
   "metadata": {},
   "outputs": [
    {
     "name": "stdout",
     "output_type": "stream",
     "text": [
      "u = [1, 2]\n",
      "x = [1, 2]\n",
      "x = [2, 3]\n",
      "addOneToVec(u) = [2, 3]\n",
      "u = [1, 2]\n"
     ]
    },
    {
     "data": {
      "text/plain": [
       "2-element Array{Int64,1}:\n",
       " 1\n",
       " 2"
      ]
     },
     "execution_count": 123,
     "metadata": {},
     "output_type": "execute_result"
    }
   ],
   "source": [
    "u = [1,2]\n",
    "@show(u)\n",
    "@show(addOneToVec(u))\n",
    "@show(u)"
   ]
  },
  {
   "cell_type": "markdown",
   "metadata": {},
   "source": [
    "Compare the behavior of the following funtion with that above:"
   ]
  },
  {
   "cell_type": "code",
   "execution_count": 124,
   "metadata": {},
   "outputs": [
    {
     "data": {
      "text/plain": [
       "addOneToVec! (generic function with 1 method)"
      ]
     },
     "execution_count": 124,
     "metadata": {},
     "output_type": "execute_result"
    }
   ],
   "source": [
    "function addOneToVec!(x) # x is a local variable pointing to the vector argument of the function \n",
    "    @show(x) \n",
    "    x  .= x .+ 1          # x still points to the same vector, but the elemets in the vector are modified\n",
    "    @show(x)\n",
    "    return x\n",
    "end    "
   ]
  },
  {
   "cell_type": "code",
   "execution_count": 125,
   "metadata": {},
   "outputs": [
    {
     "name": "stdout",
     "output_type": "stream",
     "text": [
      "u = [1, 2]\n",
      "x = [1, 2]\n",
      "x = [2, 3]\n",
      "addOneToVec!(u) = [2, 3]\n",
      "u = [2, 3]\n"
     ]
    },
    {
     "data": {
      "text/plain": [
       "2-element Array{Int64,1}:\n",
       " 2\n",
       " 3"
      ]
     },
     "execution_count": 125,
     "metadata": {},
     "output_type": "execute_result"
    }
   ],
   "source": [
    "u = [1,2]\n",
    "@show(u)\n",
    "@show(addOneToVec!(u))\n",
    "@show(u)"
   ]
  },
  {
   "cell_type": "code",
   "execution_count": 126,
   "metadata": {},
   "outputs": [
    {
     "data": {
      "text/plain": [
       "addOneToVecLoop! (generic function with 1 method)"
      ]
     },
     "execution_count": 126,
     "metadata": {},
     "output_type": "execute_result"
    }
   ],
   "source": [
    "function addOneToVecLoop!(x) # x is a local variable pointing to the vector argument of the function \n",
    "    @show(x)\n",
    "    for i in 1:size(x,1)\n",
    "        x[i] += 1 # x still points to the same vector, but the elemets in the vector x are are modified here\n",
    "    end\n",
    "    @show(x)\n",
    "    return x\n",
    "end    "
   ]
  },
  {
   "cell_type": "code",
   "execution_count": 127,
   "metadata": {},
   "outputs": [
    {
     "name": "stdout",
     "output_type": "stream",
     "text": [
      "u = [1, 2]\n",
      "x = [1, 2]\n",
      "x = [2, 3]\n",
      "addOneToVecLoop!(u) = [2, 3]\n",
      "u = [2, 3]\n"
     ]
    },
    {
     "data": {
      "text/plain": [
       "2-element Array{Int64,1}:\n",
       " 2\n",
       " 3"
      ]
     },
     "execution_count": 127,
     "metadata": {},
     "output_type": "execute_result"
    }
   ],
   "source": [
    "u = [1,2]\n",
    "@show(u)\n",
    "@show(addOneToVecLoop!(u))\n",
    "@show(u)"
   ]
  },
  {
   "cell_type": "markdown",
   "metadata": {},
   "source": [
    "Nice explanation of the difference in bahavior of these functions is given here: [The Map is Not the Territory!](http://www.johnmyleswhite.com/notebook/2014/09/06/values-vs-bindings-the-map-is-not-the-territory/)"
   ]
  },
  {
   "cell_type": "markdown",
   "metadata": {},
   "source": [
    "#### Functions can have arguments with default values"
   ]
  },
  {
   "cell_type": "code",
   "execution_count": 128,
   "metadata": {},
   "outputs": [
    {
     "data": {
      "text/plain": [
       "addYToVec! (generic function with 2 methods)"
      ]
     },
     "execution_count": 128,
     "metadata": {},
     "output_type": "execute_result"
    }
   ],
   "source": [
    "function addYToVec!(x,y=1) # x is a local variable pointing to the vector argument of the function \n",
    "    @show(x) \n",
    "    x .= x .+ y          # x still points to the same vector, but the elemets in the vector are modified\n",
    "    @show(x)\n",
    "    return x\n",
    "end    "
   ]
  },
  {
   "cell_type": "code",
   "execution_count": 129,
   "metadata": {},
   "outputs": [
    {
     "name": "stdout",
     "output_type": "stream",
     "text": [
      "u = [1, 2]\n",
      "x = [1, 2]\n",
      "x = [2, 3]\n",
      "addYToVec!(u) = [2, 3]\n",
      "u = [2, 3]\n"
     ]
    },
    {
     "data": {
      "text/plain": [
       "2-element Array{Int64,1}:\n",
       " 2\n",
       " 3"
      ]
     },
     "execution_count": 129,
     "metadata": {},
     "output_type": "execute_result"
    }
   ],
   "source": [
    "u = [1,2]\n",
    "@show(u)\n",
    "@show(addYToVec!(u))\n",
    "@show(u)"
   ]
  },
  {
   "cell_type": "code",
   "execution_count": 130,
   "metadata": {},
   "outputs": [
    {
     "name": "stdout",
     "output_type": "stream",
     "text": [
      "u = [1, 2]\n",
      "x = [1, 2]\n",
      "x = [3, 4]\n",
      "addYToVec!(u, 2) = [3, 4]\n",
      "u = [3, 4]\n"
     ]
    },
    {
     "data": {
      "text/plain": [
       "2-element Array{Int64,1}:\n",
       " 3\n",
       " 4"
      ]
     },
     "execution_count": 130,
     "metadata": {},
     "output_type": "execute_result"
    }
   ],
   "source": [
    "u = [1,2]\n",
    "@show(u)\n",
    "@show(addYToVec!(u,2))\n",
    "@show(u)"
   ]
  },
  {
   "cell_type": "code",
   "execution_count": 131,
   "metadata": {},
   "outputs": [
    {
     "data": {
      "text/plain": [
       "addkTimesYToVec! (generic function with 3 methods)"
      ]
     },
     "execution_count": 131,
     "metadata": {},
     "output_type": "execute_result"
    }
   ],
   "source": [
    "function addkTimesYToVec!(x,k=1,y=2) # x is a local variable pointing to the vector argument of the function \n",
    "    @show(x) \n",
    "    x .= x .+ y*k          # x still points to the same vector, but the elemets in the vector are modified\n",
    "    @show(x)\n",
    "    return x\n",
    "end    "
   ]
  },
  {
   "cell_type": "code",
   "execution_count": 132,
   "metadata": {},
   "outputs": [
    {
     "name": "stdout",
     "output_type": "stream",
     "text": [
      "u = [1, 2]\n",
      "x = [1, 2]\n",
      "x = [3, 4]\n",
      "addkTimesYToVec!(u) = [3, 4]\n",
      "u = [3, 4]\n"
     ]
    },
    {
     "data": {
      "text/plain": [
       "2-element Array{Int64,1}:\n",
       " 3\n",
       " 4"
      ]
     },
     "execution_count": 132,
     "metadata": {},
     "output_type": "execute_result"
    }
   ],
   "source": [
    "u = [1,2]\n",
    "@show(u)\n",
    "@show(addkTimesYToVec!(u))\n",
    "@show(u)"
   ]
  },
  {
   "cell_type": "code",
   "execution_count": 133,
   "metadata": {},
   "outputs": [
    {
     "name": "stdout",
     "output_type": "stream",
     "text": [
      "x = [3, 4]\n",
      "x = [7, 8]\n"
     ]
    },
    {
     "data": {
      "text/plain": [
       "2-element Array{Int64,1}:\n",
       " 7\n",
       " 8"
      ]
     },
     "execution_count": 133,
     "metadata": {},
     "output_type": "execute_result"
    }
   ],
   "source": [
    "addkTimesYToVec!(u,2,2)"
   ]
  },
  {
   "cell_type": "markdown",
   "metadata": {},
   "source": [
    "###  Functions with key value pairs"
   ]
  },
  {
   "cell_type": "code",
   "execution_count": 134,
   "metadata": {},
   "outputs": [
    {
     "data": {
      "text/plain": [
       "addcxToV! (generic function with 1 method)"
      ]
     },
     "execution_count": 134,
     "metadata": {},
     "output_type": "execute_result"
    }
   ],
   "source": [
    "function addcxToV!(v;c=1,x=2)\n",
    "    v .= c*x .+ v\n",
    "end"
   ]
  },
  {
   "cell_type": "code",
   "execution_count": 135,
   "metadata": {},
   "outputs": [
    {
     "name": "stdout",
     "output_type": "stream",
     "text": [
      "addcxToV!(v) = [4, 7]\n"
     ]
    },
    {
     "data": {
      "text/plain": [
       "2-element Array{Int64,1}:\n",
       " 4\n",
       " 7"
      ]
     },
     "execution_count": 135,
     "metadata": {},
     "output_type": "execute_result"
    }
   ],
   "source": [
    "v = [2,5]\n",
    "@show(addcxToV!(v))"
   ]
  },
  {
   "cell_type": "code",
   "execution_count": 136,
   "metadata": {},
   "outputs": [
    {
     "name": "stdout",
     "output_type": "stream",
     "text": [
      "addcxToV!(v, x=1) = [3, 6]\n"
     ]
    },
    {
     "data": {
      "text/plain": [
       "2-element Array{Int64,1}:\n",
       " 3\n",
       " 6"
      ]
     },
     "execution_count": 136,
     "metadata": {},
     "output_type": "execute_result"
    }
   ],
   "source": [
    "v = [2,5]\n",
    "@show(addcxToV!(v,x=1))"
   ]
  },
  {
   "cell_type": "markdown",
   "metadata": {},
   "source": [
    "### Multiple Dispatch of \"+\" Operator (Overloading Operators)\n",
    "\n",
    "What the \"+\" operator does depends on the arguments. The function defined below will be called when it is used with two BankAccount arguments. Other operators can be similarly \"overloaded\" to work with user-defined types."
   ]
  },
  {
   "cell_type": "code",
   "execution_count": 137,
   "metadata": {},
   "outputs": [
    {
     "data": {
      "text/plain": [
       "+ (generic function with 188 methods)"
      ]
     },
     "execution_count": 137,
     "metadata": {},
     "output_type": "execute_result"
    }
   ],
   "source": [
    "import Base.+\n",
    "function +(a1::BankAccount,a2::BankAccount)\n",
    "    a1.balance += a2.balance\n",
    "    a2.balance = 0\n",
    "end"
   ]
  },
  {
   "cell_type": "code",
   "execution_count": 138,
   "metadata": {},
   "outputs": [
    {
     "name": "stdout",
     "output_type": "stream",
     "text": [
      "a1 = BankAccount(1234, \"Tom\", \"Smith\", 2000.5)\n",
      "a2 = BankAccount(4321, \"Jim\", \"Shanks\", 500.0)\n",
      "a1 = BankAccount(1234, \"Tom\", \"Smith\", 2500.5)\n",
      "a2 = BankAccount(4321, \"Jim\", \"Shanks\", 0.0)\n"
     ]
    },
    {
     "data": {
      "text/plain": [
       "BankAccount(4321, \"Jim\", \"Shanks\", 0.0)"
      ]
     },
     "execution_count": 138,
     "metadata": {},
     "output_type": "execute_result"
    }
   ],
   "source": [
    "@show(a1,a2)\n",
    "a1 + a2\n",
    "@show(a1,a2)"
   ]
  },
  {
   "cell_type": "code",
   "execution_count": 139,
   "metadata": {},
   "outputs": [
    {
     "name": "stdout",
     "output_type": "stream",
     "text": [
      "a1 = BankAccount(1234, \"Tom\", \"Smith\", 2500.5)\n",
      "a2 = BankAccount(4321, \"Jim\", \"Shanks\", 0.0)\n",
      "a1 = BankAccount(1234, \"Tom\", \"Smith\", 2500.5)\n",
      "a2 = BankAccount(4321, \"Jim\", \"Shanks\", 0.0)\n"
     ]
    },
    {
     "data": {
      "text/plain": [
       "BankAccount(4321, \"Jim\", \"Shanks\", 0.0)"
      ]
     },
     "execution_count": 139,
     "metadata": {},
     "output_type": "execute_result"
    }
   ],
   "source": [
    "@show(a1,a2)\n",
    "+(a1,a2)\n",
    "@show(a1,a2)"
   ]
  },
  {
   "cell_type": "markdown",
   "metadata": {},
   "source": [
    "### Keyword arguments cannot be used for multiple dispatch \n",
    "\n",
    "See example below."
   ]
  },
  {
   "cell_type": "code",
   "execution_count": 2,
   "metadata": {},
   "outputs": [],
   "source": [
    "struct T1\n",
    "    a\n",
    "end\n",
    "struct T2\n",
    "    a\n",
    "end\n",
    "struct T3\n",
    "    a\n",
    "end"
   ]
  },
  {
   "cell_type": "code",
   "execution_count": 2,
   "metadata": {},
   "outputs": [
    {
     "data": {
      "text/plain": [
       "f1 (generic function with 1 method)"
      ]
     },
     "execution_count": 2,
     "metadata": {},
     "output_type": "execute_result"
    }
   ],
   "source": [
    "function f1(;a::T1=T1(1),b::T2=T2(2))\n",
    "    println(\"called f1.1\")\n",
    "end\n",
    "function f1(;a::T1=T1(1),b::T3=T2(2))\n",
    "    println(\"called f1.2\")\n",
    "end"
   ]
  },
  {
   "cell_type": "code",
   "execution_count": 3,
   "metadata": {},
   "outputs": [
    {
     "data": {
      "text/plain": [
       "f1 (generic function with 2 methods)"
      ]
     },
     "execution_count": 3,
     "metadata": {},
     "output_type": "execute_result"
    }
   ],
   "source": [
    "function f1(a::T1,b::T2)\n",
    "    println(\"called f1.1\")\n",
    "end\n",
    "function f1(a::T1,b::T3)\n",
    "    println(\"called f1.2\")\n",
    "end"
   ]
  },
  {
   "cell_type": "markdown",
   "metadata": {},
   "source": [
    "Observe that there is only once version of the function `f1`. The error message below indicates that this is the second version of `f1`."
   ]
  },
  {
   "cell_type": "code",
   "execution_count": 5,
   "metadata": {},
   "outputs": [
    {
     "name": "stdout",
     "output_type": "stream",
     "text": [
      "called f1.1\n"
     ]
    }
   ],
   "source": [
    "t1 = T1(1)\n",
    "t2 = T2(2)\n",
    "f1(t1,t2)"
   ]
  },
  {
   "cell_type": "code",
   "execution_count": 6,
   "metadata": {},
   "outputs": [
    {
     "name": "stdout",
     "output_type": "stream",
     "text": [
      "called f1.2\n"
     ]
    }
   ],
   "source": [
    "t1 = T1(1)\n",
    "t3 = T3(2)\n",
    "f1(t1,t3)"
   ]
  },
  {
   "cell_type": "markdown",
   "metadata": {},
   "source": [
    "### Often loops faster than vectorizng!"
   ]
  },
  {
   "cell_type": "code",
   "execution_count": 140,
   "metadata": {},
   "outputs": [
    {
     "data": {
      "text/plain": [
       "f1 (generic function with 1 method)"
      ]
     },
     "execution_count": 140,
     "metadata": {},
     "output_type": "execute_result"
    }
   ],
   "source": [
    "function f1(n)\n",
    "    mapreduce(x -> x^2, +, 1:n)\n",
    "end"
   ]
  },
  {
   "cell_type": "code",
   "execution_count": 141,
   "metadata": {},
   "outputs": [
    {
     "data": {
      "text/plain": [
       "f2 (generic function with 1 method)"
      ]
     },
     "execution_count": 141,
     "metadata": {},
     "output_type": "execute_result"
    }
   ],
   "source": [
    "function f2(n)\n",
    "    reduce(+,(1:n).^2)\n",
    "end"
   ]
  },
  {
   "cell_type": "code",
   "execution_count": 142,
   "metadata": {},
   "outputs": [
    {
     "name": "stdout",
     "output_type": "stream",
     "text": [
      "  0.048004 seconds (102.91 k allocations: 5.265 MiB)\n"
     ]
    },
    {
     "data": {
      "text/plain": [
       "333333833333500000"
      ]
     },
     "execution_count": 142,
     "metadata": {},
     "output_type": "execute_result"
    }
   ],
   "source": [
    "@time f1(1_000_000)"
   ]
  },
  {
   "cell_type": "code",
   "execution_count": 143,
   "metadata": {},
   "outputs": [
    {
     "name": "stdout",
     "output_type": "stream",
     "text": [
      "  0.047766 seconds (56.24 k allocations: 10.307 MiB, 14.64% gc time)\n"
     ]
    },
    {
     "data": {
      "text/plain": [
       "333333833333500000"
      ]
     },
     "execution_count": 143,
     "metadata": {},
     "output_type": "execute_result"
    }
   ],
   "source": [
    "@time f2(1_000_000)"
   ]
  },
  {
   "cell_type": "code",
   "execution_count": 144,
   "metadata": {},
   "outputs": [
    {
     "data": {
      "text/plain": [
       "f3 (generic function with 1 method)"
      ]
     },
     "execution_count": 144,
     "metadata": {},
     "output_type": "execute_result"
    }
   ],
   "source": [
    "function f3(n)\n",
    "    sum = 0\n",
    "    for i=1:n\n",
    "        sum += i^2\n",
    "    end\n",
    "    return sum\n",
    "end    "
   ]
  },
  {
   "cell_type": "code",
   "execution_count": 145,
   "metadata": {},
   "outputs": [
    {
     "name": "stdout",
     "output_type": "stream",
     "text": [
      "  0.010154 seconds (13.03 k allocations: 694.286 KiB)\n"
     ]
    },
    {
     "data": {
      "text/plain": [
       "333333833333500000"
      ]
     },
     "execution_count": 145,
     "metadata": {},
     "output_type": "execute_result"
    }
   ],
   "source": [
    "@time f3(1_000_000)"
   ]
  },
  {
   "cell_type": "markdown",
   "metadata": {},
   "source": [
    "## Exercise 1"
   ]
  },
  {
   "cell_type": "markdown",
   "metadata": {},
   "source": [
    "* Write a function that uses loops to get the sum of two matrices.\n",
    "\n",
    "* Write a function with two matrix arguments that adds the second matrix to the first. \n",
    "\n",
    "* Write a function that uses loops to get the product of two matrices."
   ]
  },
  {
   "cell_type": "markdown",
   "metadata": {},
   "source": [
    "## Reading and Writing from Files"
   ]
  },
  {
   "cell_type": "markdown",
   "metadata": {},
   "source": [
    "### Text Files"
   ]
  },
  {
   "cell_type": "code",
   "execution_count": 146,
   "metadata": {},
   "outputs": [],
   "source": [
    "using Printf # needed for formatted print commands"
   ]
  },
  {
   "cell_type": "code",
   "execution_count": 147,
   "metadata": {},
   "outputs": [
    {
     "data": {
      "text/plain": [
       "5×3 Array{Float64,2}:\n",
       " -1.36454   -0.730215   0.511909\n",
       " -0.16217    0.361452   0.853585\n",
       "  0.648205  -1.3285    -1.98213 \n",
       "  0.989491  -0.218195  -1.21799 \n",
       " -0.558793   1.63361   -1.03241 "
      ]
     },
     "execution_count": 147,
     "metadata": {},
     "output_type": "execute_result"
    }
   ],
   "source": [
    "A = randn(5,3)"
   ]
  },
  {
   "cell_type": "code",
   "execution_count": 148,
   "metadata": {},
   "outputs": [],
   "source": [
    "out = open(\"outFile\",\"w\")\n",
    "n,p = size(A)\n",
    "for j=1:p\n",
    "    for i=1:n\n",
    "        @printf(out,\"%10.5f \", A[i,j])\n",
    "    end\n",
    "    @printf(out,\"\\n\")\n",
    "end\n",
    "close(out)"
   ]
  },
  {
   "cell_type": "code",
   "execution_count": 149,
   "metadata": {},
   "outputs": [
    {
     "name": "stdout",
     "output_type": "stream",
     "text": [
      "  -1.36454   -0.16217    0.64821    0.98949   -0.55879 \n",
      "  -0.73021    0.36145   -1.32850   -0.21819    1.63361 \n",
      "   0.51191    0.85358   -1.98213   -1.21799   -1.03241 \n"
     ]
    }
   ],
   "source": [
    ";cat outFile"
   ]
  },
  {
   "cell_type": "code",
   "execution_count": 150,
   "metadata": {},
   "outputs": [],
   "source": [
    "out = open(\"outFile\",\"w\")\n",
    "n,p = size(A)\n",
    "for j=1:p\n",
    "    for i=1:n\n",
    "        print(out,A[i,j],\" \")\n",
    "    end\n",
    "    print(out,\"\\n\")\n",
    "end\n",
    "close(out)"
   ]
  },
  {
   "cell_type": "code",
   "execution_count": 151,
   "metadata": {},
   "outputs": [
    {
     "name": "stdout",
     "output_type": "stream",
     "text": [
      "-1.3645413827449269 -0.1621697402526574 0.6482052661456125 0.9894907970324124 -0.5587933170234471 \n",
      "-0.730214890198126 0.36145201399366594 -1.328499325904311 -0.21819484198405467 1.6336114932974686 \n",
      "0.5119092095009403 0.8535847953855537 -1.9821267669081155 -1.217993246893501 -1.0324095323862894 \n"
     ]
    }
   ],
   "source": [
    ";cat outFile"
   ]
  },
  {
   "cell_type": "code",
   "execution_count": 152,
   "metadata": {},
   "outputs": [],
   "source": [
    "out = open(\"outFile\",\"w\")\n",
    "n,p = size(A)\n",
    "for j=1:p\n",
    "    for i=1:n\n",
    "        @printf(out,\"%10.5e \", A[i,j])\n",
    "    end\n",
    "    @printf(out,\"\\n\")\n",
    "end\n",
    "close(out)"
   ]
  },
  {
   "cell_type": "code",
   "execution_count": 153,
   "metadata": {},
   "outputs": [
    {
     "name": "stdout",
     "output_type": "stream",
     "text": [
      "-1.36454e+00 -1.62170e-01 6.48205e-01 9.89491e-01 -5.58793e-01 \n",
      "-7.30215e-01 3.61452e-01 -1.32850e+00 -2.18195e-01 1.63361e+00 \n",
      "5.11909e-01 8.53585e-01 -1.98213e+00 -1.21799e+00 -1.03241e+00 \n"
     ]
    }
   ],
   "source": [
    ";cat outFile"
   ]
  },
  {
   "cell_type": "code",
   "execution_count": 154,
   "metadata": {},
   "outputs": [
    {
     "name": "stdout",
     "output_type": "stream",
     "text": [
      "-1.36454e+00 -1.62170e-01 6.48205e-01 9.89491e-01 -5.58793e-01 \n",
      "-7.30215e-01 3.61452e-01 -1.32850e+00 -2.18195e-01 1.63361e+00 \n",
      "5.11909e-01 8.53585e-01 -1.98213e+00 -1.21799e+00 -1.03241e+00 \n"
     ]
    }
   ],
   "source": [
    "inStream = open(\"outFile\",\"r\")\n",
    "for line = eachline(inStream)\n",
    "    println(line)\n",
    "end\n",
    "close(inStream)"
   ]
  },
  {
   "cell_type": "code",
   "execution_count": 155,
   "metadata": {},
   "outputs": [
    {
     "data": {
      "text/plain": [
       "5×3 Array{Float64,2}:\n",
       "   6.5691e-320  6.9485e-310   6.9485e-310\n",
       " NaN            6.9485e-310   0.0        \n",
       "   1.4822e-323  1.58101e-322  6.9485e-310\n",
       "   6.9485e-310  1.5316e-322   6.9485e-310\n",
       "   6.9485e-310  6.9485e-310   6.9485e-310"
      ]
     },
     "execution_count": 155,
     "metadata": {},
     "output_type": "execute_result"
    }
   ],
   "source": [
    "B = Array{Float64,2}(undef,5,3)"
   ]
  },
  {
   "cell_type": "code",
   "execution_count": 156,
   "metadata": {},
   "outputs": [
    {
     "data": {
      "text/plain": [
       "5×3 Array{Float64,2}:\n",
       " 0.0  0.0  0.0\n",
       " 0.0  0.0  0.0\n",
       " 0.0  0.0  0.0\n",
       " 0.0  0.0  0.0\n",
       " 0.0  0.0  0.0"
      ]
     },
     "execution_count": 156,
     "metadata": {},
     "output_type": "execute_result"
    }
   ],
   "source": [
    "B = zeros(5,3)"
   ]
  },
  {
   "cell_type": "code",
   "execution_count": 157,
   "metadata": {},
   "outputs": [],
   "source": [
    "inStream = open(\"outFile\",\"r\")\n",
    "j = 1\n",
    "for line = eachline(inStream)\n",
    "    B[:,j] = parse.(Float64,split(line))\n",
    "    j += 1\n",
    "end\n",
    "close(inStream)"
   ]
  },
  {
   "cell_type": "code",
   "execution_count": 158,
   "metadata": {},
   "outputs": [
    {
     "data": {
      "text/plain": [
       "5×3 Array{Float64,2}:\n",
       " -1.36454   -0.730215   0.511909\n",
       " -0.16217    0.361452   0.853585\n",
       "  0.648205  -1.3285    -1.98213 \n",
       "  0.989491  -0.218195  -1.21799 \n",
       " -0.558793   1.63361   -1.03241 "
      ]
     },
     "execution_count": 158,
     "metadata": {},
     "output_type": "execute_result"
    }
   ],
   "source": [
    "B"
   ]
  },
  {
   "cell_type": "code",
   "execution_count": 159,
   "metadata": {},
   "outputs": [
    {
     "name": "stdout",
     "output_type": "stream",
     "text": [
      "-1.36454e+00 -1.62170e-01 6.48205e-01 9.89491e-01 -5.58793e-01 \n",
      "-7.30215e-01 3.61452e-01 -1.32850e+00 -2.18195e-01 1.63361e+00 \n",
      "5.11909e-01 8.53585e-01 -1.98213e+00 -1.21799e+00 -1.03241e+00 \n"
     ]
    }
   ],
   "source": [
    ";cat outFile"
   ]
  },
  {
   "cell_type": "markdown",
   "metadata": {},
   "source": [
    "### Binary Files\n",
    "\n",
    "Write matrix A. In Julia matrices are stored by column (column-major). So should writing should be done by column."
   ]
  },
  {
   "cell_type": "code",
   "execution_count": 160,
   "metadata": {},
   "outputs": [],
   "source": [
    "binOut = open(\"out.bin\",\"w\")\n",
    "n,p = size(A)\n",
    "write(binOut,n,p)\n",
    "for j=1:p, i=1:n\n",
    "    write(binOut,A[i,j])\n",
    "end\n",
    "close(binOut)"
   ]
  },
  {
   "cell_type": "code",
   "execution_count": 161,
   "metadata": {},
   "outputs": [
    {
     "data": {
      "text/plain": [
       "IOStream(<file out.bin>)"
      ]
     },
     "execution_count": 161,
     "metadata": {},
     "output_type": "execute_result"
    }
   ],
   "source": [
    "binIn = open(\"out.bin\",\"r\")"
   ]
  },
  {
   "cell_type": "markdown",
   "metadata": {},
   "source": [
    "#### Reading from a binary file is easy."
   ]
  },
  {
   "cell_type": "code",
   "execution_count": 162,
   "metadata": {},
   "outputs": [],
   "source": [
    "mySize = zeros(Int64,2)\n",
    "read!(binIn,mySize)\n",
    "C = zeros(n,p)\n",
    "read!(binIn,C)\n",
    "close(binIn)"
   ]
  },
  {
   "cell_type": "code",
   "execution_count": 163,
   "metadata": {},
   "outputs": [
    {
     "data": {
      "text/plain": [
       "5×3 Array{Float64,2}:\n",
       " -1.36454   -0.730215   0.511909\n",
       " -0.16217    0.361452   0.853585\n",
       "  0.648205  -1.3285    -1.98213 \n",
       "  0.989491  -0.218195  -1.21799 \n",
       " -0.558793   1.63361   -1.03241 "
      ]
     },
     "execution_count": 163,
     "metadata": {},
     "output_type": "execute_result"
    }
   ],
   "source": [
    "C"
   ]
  }
 ],
 "metadata": {
  "kernelspec": {
   "display_name": "Julia 1.1.0",
   "language": "julia",
   "name": "julia-1.1"
  },
  "language_info": {
   "file_extension": ".jl",
   "mimetype": "application/julia",
   "name": "julia",
   "version": "1.1.0"
  }
 },
 "nbformat": 4,
 "nbformat_minor": 2
}
