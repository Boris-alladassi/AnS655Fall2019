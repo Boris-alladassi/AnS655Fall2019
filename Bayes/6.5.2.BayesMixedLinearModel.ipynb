{
 "cells": [
  {
   "cell_type": "markdown",
   "metadata": {},
   "source": [
    "Latex Macros:\n",
    "$$\n",
    "\\newcommand{\\E}{\\text{E}}\n",
    "\\newcommand{\\mbf}{\\mathbf}\n",
    "\\newcommand{\\bs}{\\boldsymbol}\n",
    "\\newcommand{\\Cov}{\\text{Cov}}\n",
    "\\newcommand{\\Var}{\\text{Var}}\n",
    "\\newcommand{\\Cov}{\\text{Cov}}\n",
    "\\newcommand{\\A}[1]{\\mathbf{A}_{#1}}\n",
    "\\newcommand{\\Ai}[1]{\\mathbf{A}^{#1}}\n",
    "$$"
   ]
  },
  {
   "cell_type": "code",
   "execution_count": 1,
   "metadata": {},
   "outputs": [
    {
     "data": {
      "application/javascript": [
       "    MathJax.Hub.Config({\n",
       "      TeX: { equationNumbers: { autoNumber: \"AMS\" } }\n",
       "    });\n",
       "    MathJax.Hub.Queue( \n",
       "        [\"resetEquationNumbers\",MathJax.InputJax.TeX], \n",
       "        [\"PreProcess\",MathJax.Hub], \n",
       "        [\"Reprocess\",MathJax.Hub] \n",
       "    );\n"
      ]
     },
     "metadata": {},
     "output_type": "display_data"
    }
   ],
   "source": [
    "macro javascript_str(s) display(\"text/javascript\", s); end\n",
    "javascript\"\"\"\n",
    "    MathJax.Hub.Config({\n",
    "      TeX: { equationNumbers: { autoNumber: \"AMS\" } }\n",
    "    });\n",
    "    MathJax.Hub.Queue( \n",
    "        [\"resetEquationNumbers\",MathJax.InputJax.TeX], \n",
    "        [\"PreProcess\",MathJax.Hub], \n",
    "        [\"Reprocess\",MathJax.Hub] \n",
    "    );\n",
    "\"\"\""
   ]
  },
  {
   "cell_type": "markdown",
   "metadata": {},
   "source": [
    "Mixed Linear Model\n",
    "======================================="
   ]
  },
  {
   "cell_type": "markdown",
   "metadata": {},
   "source": [
    "Consider the mixed linear model\n",
    "\n",
    "\\begin{equation}\n",
    "\\mathbf{y} = \\mathbf{X}\\boldsymbol{\\beta} + \\mathbf{Zu} + \\mathbf{e}, \n",
    "\\label{eq.mixedModel}\n",
    "\\end{equation}"
   ]
  },
  {
   "cell_type": "markdown",
   "metadata": {},
   "source": [
    "where $\\boldsymbol{\\beta}$ is a vector of fixed effects, $\\mathbf{X}$ is an observed matrix that relates $\\boldsymbol{\\beta}$ to $\\mathbf{y}$, $\\mathbf{u}$ is a vector of multivariate normal random effects with null means and covariance matrix $\\mathbf{G}\\sigma^2_u$, and $\\mathbf{e}$ is a vector of multivariate normal residuals with null means and covariance matrix $\\mathbf{R}\\sigma^2_e$. The fixed effects are usually assigned a flat prior distribution, and the matrices $\\mathbf{G}$ and $\\mathbf{R}$ are assumed to be known. The variance components $\\sigma^2_u$ and $\\sigma^2_e$ will be assigned scaled inverted chi-square prior distributions with scale parameter $S_{u}^{2}$ and degrees of freedom $\\nu_{u}$ for $\\sigma^2_u$ and parameters $S_{e}^{2}$ and $\\nu_{e}$ for $\\sigma^2_e$. "
   ]
  },
  {
   "cell_type": "markdown",
   "metadata": {},
   "source": [
    "Then, the joint\n",
    "posterior for all the unknowns, denoted by $\\boldsymbol{\\theta}$, is"
   ]
  },
  {
   "cell_type": "markdown",
   "metadata": {},
   "source": [
    "\\begin{equation}\n",
    "\\begin{aligned}\n",
    "f(\\boldsymbol{\\theta}|\\mathbf{y}) \n",
    "& \\propto f(\\mathbf{y}|\\boldsymbol{\\theta})f(\\boldsymbol{\\theta})\\\\\n",
    "& \\propto \\left(\\sigma_{e}^{2}\\right)^{-n/2}\n",
    "\\exp\\left\\{ \n",
    "-\\frac{(\\mathbf{y} - \\mathbf{X}\\boldsymbol{\\beta} - \\mathbf{Zu})'\\mathbf{R}^{-1} \n",
    "       (\\mathbf{y} - \\mathbf{X}\\boldsymbol{\\beta} - \\mathbf{Zu})}{2\\sigma_{e}^{2}}\n",
    "\\right\\} \\\\\n",
    "& \\times \\left(\\sigma_{u}^{2}\\right)^{-k/2}\n",
    "\\exp \\left\\{ \n",
    "-\\frac{\\mathbf{u}'\\mathbf{G}^{-1}\\mathbf{u}}\n",
    "      {2\\sigma_{u}^{2}}\n",
    "\\right\\} \\\\\n",
    "& \\times (\\sigma_{u}^{2})^{-(2+\\nu_{u})/2}\\exp\\left\\{ -\\frac{\\nu_{u}S_{u}^{2}}{2\\sigma_{u}^{2}}\\right\\} \\\\\n",
    "& \\times (\\sigma_{e}^{2})^{-(2+\\nu_{e})/2}\\exp\\left\\{ -\\frac{\\nu_{e}S_{e}^{2}}{2\\sigma_{e}^{2}}\\right\\} .\\\\\n",
    "\\\\\n",
    "\\end{aligned}\n",
    "\\end{equation}"
   ]
  },
  {
   "cell_type": "markdown",
   "metadata": {},
   "source": [
    "We show below that the full-conditional distribution for the location parameters in the model, $\\boldsymbol{\\theta}_1' = [\\boldsymbol{\\beta}', \\mathbf{u}']$, is normal with mean given by the solution to:\n",
    "\n",
    "\\begin{equation}\n",
    "\\begin{bmatrix}\n",
    "\\mathbf{X}'\\mathbf{R}^{-1}\\mathbf{X} & \\mathbf{X}'\\mathbf{R}^{-1}\\mathbf{Z} \\\\\n",
    "\\mathbf{Z}'\\mathbf{R}^{-1}\\mathbf{X} & \\mathbf{Z}'\\mathbf{R}^{-1}\\mathbf{Z} + \\frac{\\sigma_{e}^{2}}{\\sigma_u^2}\\mathbf{G}^{-1}\n",
    "\\end{bmatrix}\n",
    "\\begin{bmatrix}\n",
    "\\hat{\\bs{\\beta}}\\\\\n",
    "\\hat{\\mbf{u}}\n",
    "\\end{bmatrix}\n",
    "=\n",
    "\\begin{bmatrix}\n",
    "\\mathbf{X}'\\mathbf{R}^{-1}\\mathbf{y}\\\\\n",
    "\\mathbf{Z}'\\mathbf{R}^{-1}\\mathbf{y}\n",
    "\\end{bmatrix},\n",
    "\\label{eq.MME}\n",
    "\\end{equation}\n",
    "\n",
    "and variance-covariance matrix given by the inverse of the coefficient matrix of (\\ref{eq.MME}).\n",
    "\n",
    "For convenience, we will write the above equation as:\n",
    "$$\n",
    "(\\mathbf{W}'\\mathbf{R}^{-1}\\mathbf{W} + \\frac{\\sigma_{e}^{2}}{\\sigma_u^2}\\mathbf{D})\\hat{\\bs{\\theta}}_1=\\mathbf{W}'\\mathbf{R}^{-1}\\mathbf{y},\n",
    "$$"
   ]
  },
  {
   "cell_type": "markdown",
   "metadata": {},
   "source": [
    "where $\\mathbf{W} = \\begin{bmatrix}\\mathbf{X} & \\mathbf{Z}\\end{bmatrix}$ and $\\mathbf{D}$ is a block diagonal matrix that adds zero to the diagonals of $\\mathbf{X}'\\mathbf{R}^{-1}\\mathbf{X}$ \n",
    "and $\\mathbf{G}^{-1}$ to $\\mathbf{Z}'\\mathbf{R}^{-1}\\mathbf{Z}$. "
   ]
  },
  {
   "cell_type": "markdown",
   "metadata": {},
   "source": [
    "The full-conditional posterior for $\\bs{\\theta}_1$ is "
   ]
  },
  {
   "cell_type": "markdown",
   "metadata": {},
   "source": [
    "$$\\begin{aligned}\n",
    "f(\\boldsymbol{\\theta}_1|\\mathbf{y},\\sigma_{u}^{2},\\sigma_{e}^{2})\n",
    "&  =\\frac{f(\\mathbf{y}|\\boldsymbol{\\theta}_1,\\sigma_{u}^{2},\\sigma_{e}^{2})f(\\mathbf{u}|\\sigma_{u}^{2})f(\\sigma_{u}^{2})f(\\sigma_{e}^{2})}{f(\\mathbf{y},\\sigma_{u}^{2},\\sigma_{e}^{2})}\\\\ \n",
    "& \\propto f(\\mathbf{y}|\\boldsymbol{\\theta}_1,\\sigma_{u}^{2},\\sigma_{e}^{2})f(\\mathbf{u}|\\sigma_{u}^{2})\\\\\n",
    "& \\propto \\left(\\sigma_{e}^{2}\\right)^{-n/2}\n",
    "\\exp\\left\\{ \n",
    "-\\frac{(\\mathbf{y}-\\mathbf{\\mathbf{W}}\\boldsymbol{\\theta}_1)'\\mathbf{R}^{-1}(\\mathbf{y}-\\mathbf{W}\\boldsymbol{\\theta}_1)}\n",
    "      {2\\sigma_{e}^{2}}\\right\\} \\\\\n",
    "& \\times \\left(\\sigma_u^2\\right)^{-k/2}\n",
    "\\exp\\left\\{ \n",
    "-\\frac{\\mathbf{u}'\\mathbf{G}^{-1}\\mathbf{u}}\n",
    "      {2\\sigma_{u}^{2}}\n",
    "\\right\\} \\\\\n",
    "& \\propto \\exp\\left\\{ -\\frac{(\\mathbf{y}-\\mathbf{\\mathbf{W}}\\boldsymbol{\\theta}_1)'\\mathbf{R}^{-1}(\\mathbf{y}-\\mathbf{W}\\boldsymbol{\\theta}_1)+\n",
    "\\frac{\\sigma_e^2}{\\sigma_u^2}\\mathbf{u}'\\mathbf{G}^{-1}\\mathbf{u}}{2\\sigma_{e}^{2}}\\right\\} \\\\\n",
    "& \\propto \\exp\\left\\{ -\\frac{\\mathbf{y}'\\mathbf{R}^{-1}\\mathbf{y}-2\\mathbf{y}'\\mathbf{R}^{-1}\\mathbf{W}\\boldsymbol{\\theta}_1\n",
    "+\\bs{\\theta}_1'(\\mathbf{W}'\\mathbf{R}^{-1}\\mathbf{W}+\\frac{\\sigma_{e}^{2}}{\\sigma_u^2}\\mathbf{D})\\boldsymbol{\\theta}_1}{2\\sigma_{e}^{2}}\\right\\} \\\\\n",
    "& \\propto  \n",
    "\\exp\\left\\{ -\\frac{\\mathbf{y}'\\mathbf{R}^{-1}\\mathbf{y} -\n",
    "(\\bs{\\theta}_1 - \\hat{\\bs{\\theta}}_1)'(\\mathbf{W}'\\mathbf{R}^{-1}\\mathbf{W} \n",
    "+ \\frac{\\sigma_e^2}{\\sigma_u^2}\\mathbf{D})(\\bs{\\theta}_1 - \\hat{\\bs{\\theta}}_1) - \\hat{\\bs{\\theta}}_1'(\\mathbf{W}'\\mathbf{R}^{-1}\\mathbf{W} + \\frac{\\sigma_e^2}{\\sigma^2_u}\\mathbf{D})\\hat{\\bs{\\theta}}_1}{2\\sigma^2_e}\\right\\} \\\\\n",
    "& \\propto  \\exp\\left\\{ -\\frac{(\\bs{\\theta}_1 - \\hat{\\bs{\\theta}}_1)'(\\mathbf{W}'\\mathbf{R}^{-1}\\mathbf{W} \n",
    "+ \\frac{\\sigma_e^2}{\\sigma_u^2}\\mathbf{D})(\\bs{\\theta}_1 - \\hat{\\bs{\\theta}}_1)}{2\\sigma_{e}^{2}}\\right\\} ,\n",
    "\\end{aligned}$$"
   ]
  },
  {
   "cell_type": "markdown",
   "metadata": {},
   "source": [
    "which can be recognized as a nromal distribution with mean $\\hat{\\bs{\\theta}}_1$ and covariance matrix $(\\mathbf{W}'\\mathbf{R}^{-1}\\mathbf{W} + \\frac{\\sigma_{e}^{2}}{\\sigma_u^2}\\mathbf{D})^{-1}\\sigma^2_e$"
   ]
  },
  {
   "cell_type": "markdown",
   "metadata": {},
   "source": [
    "## Breeding value model (pedigree based)"
   ]
  },
  {
   "cell_type": "markdown",
   "metadata": {},
   "source": [
    "Suppose that $\\mbf{u}$ in (\\ref{eq.mixedModel}) is a vector of breeding values. Then, given a pedigree $\\mbf{P}$ for the individuals, the covariance matrix of $\\mbf{u}$ is"
   ]
  },
  {
   "cell_type": "markdown",
   "metadata": {},
   "source": [
    "$$\n",
    "\\Var(\\mbf{u}|\\mbf{P}) = \\mbf{A}\\sigma^2_a,\n",
    "$$\n",
    "\n",
    "where $\\mbf{A}$ is the additive genetic relationship matrix and $\\sigma^2_a$ is the additive genetic variance."
   ]
  },
  {
   "cell_type": "markdown",
   "metadata": {},
   "source": [
    "## Genomic Models"
   ]
  },
  {
   "cell_type": "markdown",
   "metadata": {},
   "source": [
    "Suppose SNP genotypes are available on each of the $n$ individuals at $k$ loci. Let $\\mbf{M}$ denote the $n\\times k$ matrix of SNP genotype covariates and $\\bs{\\alpha}$ denote their effects. Although from a frequentist point of view $\\bs{\\alpha}$ is a fixed effect, for Bayesian analyses, $\\bs{\\alpha}$ is often assigned a normal prior with null mean and covariance matrix: $\\Var(\\bs{\\alpha}) = \\mbf{I}\\sigma^2_{\\alpha}$. Then, the breeding values can be modeled as: "
   ]
  },
  {
   "cell_type": "markdown",
   "metadata": {},
   "source": [
    "\\begin{equation*}\n",
    "\\mbf{u} = \\mbf{M}\\bs{\\alpha}.\n",
    "\\end{equation*}"
   ]
  },
  {
   "cell_type": "markdown",
   "metadata": {},
   "source": [
    "Assuming that the $\\mbf{Z}$ matrix in (\\ref{eq.mixedModel}) is an identity matrix, the model for the phenotypes can be wrtten as either:"
   ]
  },
  {
   "cell_type": "markdown",
   "metadata": {},
   "source": [
    "\\begin{equation}\n",
    "\\mathbf{y} = \\mathbf{X}\\boldsymbol{\\beta} + \\mathbf{M}\\bs{\\alpha} + \\mathbf{e},\n",
    "\\label{eq.MEM}\n",
    "\\end{equation}"
   ]
  },
  {
   "cell_type": "markdown",
   "metadata": {},
   "source": [
    "or as "
   ]
  },
  {
   "cell_type": "markdown",
   "metadata": {},
   "source": [
    "\\begin{equation}\n",
    "\\mathbf{y} = \\mathbf{X}\\boldsymbol{\\beta} + \\mbf{u} + \\mathbf{e}.\n",
    "\\label{eq.BVM}\n",
    "\\end{equation}"
   ]
  },
  {
   "cell_type": "markdown",
   "metadata": {},
   "source": [
    "In (\\ref{eq.BVM}), conditional on the SNP genotypes, the covariance matrix of $\\mbf{u}$ is: "
   ]
  },
  {
   "cell_type": "markdown",
   "metadata": {},
   "source": [
    "$$\n",
    "\\begin{align}\n",
    "\\Var(\\mbf{u}|\\mbf{M}) &= \\mbf{MM}'\\sigma^2_{\\alpha}\\\\\n",
    "                      &= \\frac{\\mbf{MM}'}{k\\overline{2pq}}k\\overline{2pq}\\sigma^2_{\\alpha}\\\\\n",
    "                      &= \\mbf{G}\\sigma^2_u,\n",
    "\\end{align}\n",
    "$$\n",
    "\n",
    "where $\\mbf{G} = \\frac{\\mbf{MM}'}{k\\overline{2pq}}$ and $\\sigma^2_u = k\\overline{2pq}\\sigma^2_{\\alpha}$. The model given by (\\ref{eq.BVM}) is a genomic breeding value model. "
   ]
  },
  {
   "cell_type": "markdown",
   "metadata": {},
   "source": [
    "Assuming, for simplicity that $\\mbf{R} = \\mbf{I}$, mixed model equations (MME) that correspend to model (\\ref{eq.MEM}) is:"
   ]
  },
  {
   "cell_type": "markdown",
   "metadata": {},
   "source": [
    "\\begin{equation}\n",
    "\\begin{bmatrix}\n",
    "\\mathbf{X}'\\mathbf{X} & \\mathbf{X}'\\mathbf{M} \\\\\n",
    "\\mathbf{M}'\\mathbf{X} & \\mathbf{M}'\\mathbf{M} + \\frac{\\sigma_{e}^{2}}{\\sigma_{\\alpha}^2}\\mathbf{I}\n",
    "\\end{bmatrix}\n",
    "\\begin{bmatrix}\n",
    "\\hat{\\bs{\\beta}}\\\\\n",
    "\\hat{\\bs{\\alpha}}\n",
    "\\end{bmatrix}\n",
    "=\n",
    "\\begin{bmatrix}\n",
    "\\mathbf{X}'\\mathbf{y}\\\\\n",
    "\\mathbf{M}'\\mathbf{y}\n",
    "\\end{bmatrix},\n",
    "\\label{eq.MMEMEM}\n",
    "\\end{equation}"
   ]
  },
  {
   "cell_type": "markdown",
   "metadata": {},
   "source": [
    "and the MME corresponding to (\\ref{eq.BVM}) is:"
   ]
  },
  {
   "cell_type": "markdown",
   "metadata": {},
   "source": [
    "\\begin{equation}\n",
    "\\begin{bmatrix}\n",
    "\\mathbf{X}'\\mathbf{X} & \\mathbf{X}' \\\\\n",
    "\\mathbf{X} & \\mathbf{I} + \\frac{\\sigma_{e}^{2}}{\\sigma_u^2}\\mathbf{G}^{-1}\n",
    "\\end{bmatrix}\n",
    "\\begin{bmatrix}\n",
    "\\hat{\\bs{\\beta}}\\\\\n",
    "\\hat{\\mbf{u}}\n",
    "\\end{bmatrix}\n",
    "=\n",
    "\\begin{bmatrix}\n",
    "\\mathbf{X}'\\mathbf{y}\\\\\n",
    "\\mathbf{y}\n",
    "\\end{bmatrix},\n",
    "\\label{MMEBVM}\n",
    "\\end{equation}"
   ]
  },
  {
   "cell_type": "markdown",
   "metadata": {},
   "source": [
    "where $\\mbf{G} = \\frac{\\mbf{MM}'}{k\\overline{2pq}}$ and $\\sigma^2_u = k\\overline{2pq}\\sigma^2_{\\alpha}$."
   ]
  }
 ],
 "metadata": {
  "kernelspec": {
   "display_name": "Julia 1.1.0",
   "language": "julia",
   "name": "julia-1.1"
  },
  "language": "Julia",
  "language_info": {
   "file_extension": ".jl",
   "mimetype": "application/julia",
   "name": "julia",
   "version": "1.1.0"
  }
 },
 "nbformat": 4,
 "nbformat_minor": 2
}
