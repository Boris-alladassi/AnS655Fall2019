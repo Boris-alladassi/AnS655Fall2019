{
 "cells": [
  {
   "cell_type": "markdown",
   "metadata": {},
   "source": [
    "# AN S 655  \n",
    "## Computational Strategies for Statistical Genetics"
   ]
  },
  {
   "cell_type": "markdown",
   "metadata": {},
   "source": [
    "### Instructor: \n",
    "\n",
    "* Rohan Fernando (rohan@iastate.edu)\n"
   ]
  },
  {
   "cell_type": "markdown",
   "metadata": {},
   "source": [
    "\n",
    "\n",
    " ### Contents\n",
    " \n",
    " \n",
    "* **[Introduction](1.1.Intro.ipynb)**\n",
    "\n",
    "    *  [JWAS](JWAS/JWASIntro.ipynb) \n",
    "\n",
    "    * [Fast Track to Julia](https://juliadocs.github.io/Julia-Cheat-Sheet/)\n",
    "\n",
    "    * [Good Introduction to Julia](https://lectures.quantecon.org/jl/getting_started_julia/index.html)\n",
    "    \n",
    "    * [Some Julia Examples](Julia/FastTrackNoteBook.ipynb)\n",
    "    \n",
    "* **[Algorithm to Invert Additive Relationship Matrix](Ainverse/2.1.Ainverse.ipynb)**   \n",
    "\n",
    "    * [Exercise 1](AInverse/2.Ex1.ipynb)\n",
    "    \n",
    "    * [Exercise 2](AInverse/2.Ex2.ipynb)\n",
    "    \n",
    "    * [Pedigree Module of JWAS](AInverse/2.Ex3.ipynb)\n",
    "    \n",
    "* **[Algorithms to Construct and Solve Henderson's Mixed Model Equations**    \n",
    "\n",
    "   * [Normal Equations](MME/3.1.NormalEquations.ipynb)\n",
    "   \n",
    "   * [Iterative Methods](MME/3.3.IterativeMethods.ipynb)\n",
    "    \n"
   ]
  }
 ],
 "metadata": {
  "kernelspec": {
   "display_name": "Julia 1.1.0",
   "language": "julia",
   "name": "julia-1.1"
  },
  "language": "Julia",
  "language_info": {
   "file_extension": ".jl",
   "mimetype": "application/julia",
   "name": "julia",
   "version": "1.1.0"
  }
 },
 "nbformat": 4,
 "nbformat_minor": 2
}
