{
 "cells": [
  {
   "cell_type": "markdown",
   "metadata": {},
   "source": [
    "# AN S 655  \n",
    "## Computational Strategies for Statistical Genetics"
   ]
  },
  {
   "cell_type": "markdown",
   "metadata": {},
   "source": [
    "### Instructor: \n",
    "\n",
    "* Rohan Fernando (rohan@iastate.edu)\n"
   ]
  },
  {
   "cell_type": "markdown",
   "metadata": {},
   "source": [
    "\n",
    "\n",
    " ### Contents\n",
    " \n",
    " \n",
    "* **[Introduction](1.1.Intro.ipynb)**\n",
    "\n",
    "*  [JWAS](JWAS/JWASIntro.ipynb) \n",
    "\n",
    "* [Julia Cheat-Sheet](https://juliadocs.github.io/Julia-Cheat-Sheet/)\n"
   ]
  }
 ],
 "metadata": {
  "kernelspec": {
   "display_name": "Python 3",
   "language": "python",
   "name": "python3"
  },
  "language": "Julia",
  "language_info": {
   "codemirror_mode": {
    "name": "ipython",
    "version": 3
   },
   "file_extension": ".py",
   "mimetype": "text/x-python",
   "name": "python",
   "nbconvert_exporter": "python",
   "pygments_lexer": "ipython3",
   "version": "3.7.1"
  }
 },
 "nbformat": 4,
 "nbformat_minor": 2
}
