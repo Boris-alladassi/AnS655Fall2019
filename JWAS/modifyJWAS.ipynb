{
 "cells": [
  {
   "cell_type": "markdown",
   "metadata": {},
   "source": [
    "# Strategy for Modifying a Package on Github"
   ]
  },
  {
   "cell_type": "markdown",
   "metadata": {},
   "source": [
    "There are several ways to modify a package of github. What is presented here is the approach I use for modifying JWAS. The contents of the package can be examined on GitHub itself, where its search feature is very useful. "
   ]
  },
  {
   "cell_type": "markdown",
   "metadata": {},
   "source": [
    "[JWAS on Github](https://github.com/reworkhow/JWAS.jl)"
   ]
  },
  {
   "cell_type": "markdown",
   "metadata": {},
   "source": [
    "After studying the package on GitHub, the package should be cloned on to you local machine as:"
   ]
  },
  {
   "cell_type": "code",
   "execution_count": 2,
   "metadata": {},
   "outputs": [
    {
     "name": "stderr",
     "output_type": "stream",
     "text": [
      "Cloning into 'JWAS.jl'...\n",
      "Checking out files: 100% (134/134), done.\n"
     ]
    }
   ],
   "source": [
    ";git clone https://github.com/reworkhow/JWAS.jl.git"
   ]
  },
  {
   "cell_type": "code",
   "execution_count": 7,
   "metadata": {},
   "outputs": [
    {
     "name": "stdout",
     "output_type": "stream",
     "text": [
      "/home/jovyan/rohan/Box Sync/GitHub/AnS655Fall2019/JWAS\n"
     ]
    }
   ],
   "source": [
    ";pwd"
   ]
  },
  {
   "cell_type": "markdown",
   "metadata": {},
   "source": [
    "#### Switch to the cloned package for development"
   ]
  },
  {
   "cell_type": "code",
   "execution_count": 8,
   "metadata": {},
   "outputs": [
    {
     "name": "stdout",
     "output_type": "stream",
     "text": [
      "\u001b[32m\u001b[1m Resolving\u001b[22m\u001b[39m package versions...\n",
      "\u001b[32m\u001b[1m  Updating\u001b[22m\u001b[39m `/opt/julia/environments/v1.1/Project.toml`\n",
      " \u001b[90m [c9a035f4]\u001b[39m\u001b[93m ~ JWAS v0.7.0 #master (https://github.com/reworkhow/JWAS.jl.git) ⇒ v0.7.0 [`~/rohan/Box Sync/GitHub/AnS655Fall2019/JWAS/JWAS.jl`]\u001b[39m\n",
      "\u001b[32m\u001b[1m  Updating\u001b[22m\u001b[39m `/opt/julia/environments/v1.1/Manifest.toml`\n",
      " \u001b[90m [c9a035f4]\u001b[39m\u001b[93m ~ JWAS v0.7.0 #master (https://github.com/reworkhow/JWAS.jl.git) ⇒ v0.7.0 [`~/rohan/Box Sync/GitHub/AnS655Fall2019/JWAS/JWAS.jl`]\u001b[39m\n"
     ]
    }
   ],
   "source": [
    "using Pkg\n",
    "Pkg.develop(PackageSpec(path=\"/home/jovyan/rohan/Box Sync/GitHub/AnS655Fall2019/JWAS/JWAS.jl\"))"
   ]
  },
  {
   "cell_type": "code",
   "execution_count": 9,
   "metadata": {},
   "outputs": [
    {
     "name": "stdout",
     "output_type": "stream",
     "text": [
      "\u001b[32m\u001b[1m    Status\u001b[22m\u001b[39m `/opt/julia/environments/v1.1/Project.toml`\n",
      " \u001b[90m [c9a035f4]\u001b[39m\u001b[37m JWAS v0.7.0 [`~/rohan/Box Sync/GitHub/AnS655Fall2019/JWAS/JWAS.jl`]\u001b[39m\n"
     ]
    }
   ],
   "source": [
    "Pkg.status(\"JWAS\")"
   ]
  },
  {
   "cell_type": "markdown",
   "metadata": {},
   "source": [
    "#### Revise makes in unnecessary to restart kernel after changing JWAS"
   ]
  },
  {
   "cell_type": "code",
   "execution_count": 10,
   "metadata": {},
   "outputs": [
    {
     "name": "stderr",
     "output_type": "stream",
     "text": [
      "┌ Info: Recompiling stale cache file /opt/julia/compiled/v1.1/Revise/M1Qoh.ji for Revise [295af30f-e4ad-537b-8983-00126c2a3abe]\n",
      "└ @ Base loading.jl:1184\n"
     ]
    }
   ],
   "source": [
    "#Pkg.add(\"Revise\")\n",
    "using Revise"
   ]
  }
 ],
 "metadata": {
  "kernelspec": {
   "display_name": "Julia 1.1.0",
   "language": "julia",
   "name": "julia-1.1"
  },
  "language_info": {
   "file_extension": ".jl",
   "mimetype": "application/julia",
   "name": "julia",
   "version": "1.1.0"
  }
 },
 "nbformat": 4,
 "nbformat_minor": 2
}
